{
 "cells": [
  {
   "cell_type": "code",
   "execution_count": 4,
   "id": "19d06b4d",
   "metadata": {},
   "outputs": [],
   "source": [
    "import pandas as pd\n",
    "import numpy as np\n",
    "import streamlit as st\n",
    "import plotly.express as px\n",
    "import matplotlib.pyplot as plt"
   ]
  },
  {
   "cell_type": "code",
   "execution_count": 5,
   "id": "445f696f",
   "metadata": {},
   "outputs": [
    {
     "data": {
      "text/html": [
       "<div>\n",
       "<style scoped>\n",
       "    .dataframe tbody tr th:only-of-type {\n",
       "        vertical-align: middle;\n",
       "    }\n",
       "\n",
       "    .dataframe tbody tr th {\n",
       "        vertical-align: top;\n",
       "    }\n",
       "\n",
       "    .dataframe thead th {\n",
       "        text-align: right;\n",
       "    }\n",
       "</style>\n",
       "<table border=\"1\" class=\"dataframe\">\n",
       "  <thead>\n",
       "    <tr style=\"text-align: right;\">\n",
       "      <th></th>\n",
       "      <th>Invoice ID</th>\n",
       "      <th>Branch</th>\n",
       "      <th>City</th>\n",
       "      <th>Customer type</th>\n",
       "      <th>Gender</th>\n",
       "      <th>Product line</th>\n",
       "      <th>Unit price</th>\n",
       "      <th>Quantity</th>\n",
       "      <th>Tax 5%</th>\n",
       "      <th>Total</th>\n",
       "      <th>Date</th>\n",
       "      <th>Time</th>\n",
       "      <th>Payment</th>\n",
       "      <th>cogs</th>\n",
       "      <th>gross margin percentage</th>\n",
       "      <th>gross income</th>\n",
       "      <th>Rating</th>\n",
       "    </tr>\n",
       "  </thead>\n",
       "  <tbody>\n",
       "    <tr>\n",
       "      <th>0</th>\n",
       "      <td>750-67-8428</td>\n",
       "      <td>A</td>\n",
       "      <td>Yangon</td>\n",
       "      <td>Member</td>\n",
       "      <td>Female</td>\n",
       "      <td>Health and beauty</td>\n",
       "      <td>74.69</td>\n",
       "      <td>7</td>\n",
       "      <td>26.1415</td>\n",
       "      <td>548.9715</td>\n",
       "      <td>1/5/2019</td>\n",
       "      <td>13:08</td>\n",
       "      <td>Ewallet</td>\n",
       "      <td>522.83</td>\n",
       "      <td>4.761905</td>\n",
       "      <td>26.1415</td>\n",
       "      <td>9.1</td>\n",
       "    </tr>\n",
       "    <tr>\n",
       "      <th>1</th>\n",
       "      <td>226-31-3081</td>\n",
       "      <td>C</td>\n",
       "      <td>Naypyitaw</td>\n",
       "      <td>Normal</td>\n",
       "      <td>Female</td>\n",
       "      <td>Electronic accessories</td>\n",
       "      <td>15.28</td>\n",
       "      <td>5</td>\n",
       "      <td>3.8200</td>\n",
       "      <td>80.2200</td>\n",
       "      <td>3/8/2019</td>\n",
       "      <td>10:29</td>\n",
       "      <td>Cash</td>\n",
       "      <td>76.40</td>\n",
       "      <td>4.761905</td>\n",
       "      <td>3.8200</td>\n",
       "      <td>9.6</td>\n",
       "    </tr>\n",
       "    <tr>\n",
       "      <th>2</th>\n",
       "      <td>631-41-3108</td>\n",
       "      <td>A</td>\n",
       "      <td>Yangon</td>\n",
       "      <td>Normal</td>\n",
       "      <td>Male</td>\n",
       "      <td>Home and lifestyle</td>\n",
       "      <td>46.33</td>\n",
       "      <td>7</td>\n",
       "      <td>16.2155</td>\n",
       "      <td>340.5255</td>\n",
       "      <td>3/3/2019</td>\n",
       "      <td>13:23</td>\n",
       "      <td>Credit card</td>\n",
       "      <td>324.31</td>\n",
       "      <td>4.761905</td>\n",
       "      <td>16.2155</td>\n",
       "      <td>7.4</td>\n",
       "    </tr>\n",
       "    <tr>\n",
       "      <th>3</th>\n",
       "      <td>123-19-1176</td>\n",
       "      <td>A</td>\n",
       "      <td>Yangon</td>\n",
       "      <td>Member</td>\n",
       "      <td>Male</td>\n",
       "      <td>Health and beauty</td>\n",
       "      <td>58.22</td>\n",
       "      <td>8</td>\n",
       "      <td>23.2880</td>\n",
       "      <td>489.0480</td>\n",
       "      <td>1/27/2019</td>\n",
       "      <td>20:33</td>\n",
       "      <td>Ewallet</td>\n",
       "      <td>465.76</td>\n",
       "      <td>4.761905</td>\n",
       "      <td>23.2880</td>\n",
       "      <td>8.4</td>\n",
       "    </tr>\n",
       "    <tr>\n",
       "      <th>4</th>\n",
       "      <td>373-73-7910</td>\n",
       "      <td>A</td>\n",
       "      <td>Yangon</td>\n",
       "      <td>Normal</td>\n",
       "      <td>Male</td>\n",
       "      <td>Sports and travel</td>\n",
       "      <td>86.31</td>\n",
       "      <td>7</td>\n",
       "      <td>30.2085</td>\n",
       "      <td>634.3785</td>\n",
       "      <td>2/8/2019</td>\n",
       "      <td>10:37</td>\n",
       "      <td>Ewallet</td>\n",
       "      <td>604.17</td>\n",
       "      <td>4.761905</td>\n",
       "      <td>30.2085</td>\n",
       "      <td>5.3</td>\n",
       "    </tr>\n",
       "  </tbody>\n",
       "</table>\n",
       "</div>"
      ],
      "text/plain": [
       "    Invoice ID Branch       City Customer type  Gender  \\\n",
       "0  750-67-8428      A     Yangon        Member  Female   \n",
       "1  226-31-3081      C  Naypyitaw        Normal  Female   \n",
       "2  631-41-3108      A     Yangon        Normal    Male   \n",
       "3  123-19-1176      A     Yangon        Member    Male   \n",
       "4  373-73-7910      A     Yangon        Normal    Male   \n",
       "\n",
       "             Product line  Unit price  Quantity   Tax 5%     Total       Date  \\\n",
       "0       Health and beauty       74.69         7  26.1415  548.9715   1/5/2019   \n",
       "1  Electronic accessories       15.28         5   3.8200   80.2200   3/8/2019   \n",
       "2      Home and lifestyle       46.33         7  16.2155  340.5255   3/3/2019   \n",
       "3       Health and beauty       58.22         8  23.2880  489.0480  1/27/2019   \n",
       "4       Sports and travel       86.31         7  30.2085  634.3785   2/8/2019   \n",
       "\n",
       "    Time      Payment    cogs  gross margin percentage  gross income  Rating  \n",
       "0  13:08      Ewallet  522.83                 4.761905       26.1415     9.1  \n",
       "1  10:29         Cash   76.40                 4.761905        3.8200     9.6  \n",
       "2  13:23  Credit card  324.31                 4.761905       16.2155     7.4  \n",
       "3  20:33      Ewallet  465.76                 4.761905       23.2880     8.4  \n",
       "4  10:37      Ewallet  604.17                 4.761905       30.2085     5.3  "
      ]
     },
     "execution_count": 5,
     "metadata": {},
     "output_type": "execute_result"
    }
   ],
   "source": [
    "df=pd.read_csv('supermarket_sales - Sheet1.csv')\n",
    "df.head()"
   ]
  },
  {
   "cell_type": "code",
   "execution_count": 6,
   "id": "680e4d91",
   "metadata": {},
   "outputs": [],
   "source": [
    "df.drop(columns=['gross margin percentage','Invoice ID'],inplace= True,axis=1)"
   ]
  },
  {
   "cell_type": "code",
   "execution_count": 7,
   "id": "b3f258c9",
   "metadata": {},
   "outputs": [
    {
     "name": "stdout",
     "output_type": "stream",
     "text": [
      "<class 'pandas.core.frame.DataFrame'>\n",
      "RangeIndex: 1000 entries, 0 to 999\n",
      "Data columns (total 15 columns):\n",
      " #   Column         Non-Null Count  Dtype  \n",
      "---  ------         --------------  -----  \n",
      " 0   Branch         1000 non-null   object \n",
      " 1   City           1000 non-null   object \n",
      " 2   Customer type  1000 non-null   object \n",
      " 3   Gender         1000 non-null   object \n",
      " 4   Product line   1000 non-null   object \n",
      " 5   Unit price     1000 non-null   float64\n",
      " 6   Quantity       1000 non-null   int64  \n",
      " 7   Tax 5%         1000 non-null   float64\n",
      " 8   Total          1000 non-null   float64\n",
      " 9   Date           1000 non-null   object \n",
      " 10  Time           1000 non-null   object \n",
      " 11  Payment        1000 non-null   object \n",
      " 12  cogs           1000 non-null   float64\n",
      " 13  gross income   1000 non-null   float64\n",
      " 14  Rating         1000 non-null   float64\n",
      "dtypes: float64(6), int64(1), object(8)\n",
      "memory usage: 117.3+ KB\n"
     ]
    }
   ],
   "source": [
    "df.info()"
   ]
  },
  {
   "cell_type": "code",
   "execution_count": 8,
   "id": "0dcbb52a",
   "metadata": {},
   "outputs": [],
   "source": [
    "df.Date=pd.to_datetime(df.Date)"
   ]
  },
  {
   "cell_type": "code",
   "execution_count": 9,
   "id": "1f66ddba",
   "metadata": {},
   "outputs": [
    {
     "data": {
      "text/html": [
       "<div>\n",
       "<style scoped>\n",
       "    .dataframe tbody tr th:only-of-type {\n",
       "        vertical-align: middle;\n",
       "    }\n",
       "\n",
       "    .dataframe tbody tr th {\n",
       "        vertical-align: top;\n",
       "    }\n",
       "\n",
       "    .dataframe thead th {\n",
       "        text-align: right;\n",
       "    }\n",
       "</style>\n",
       "<table border=\"1\" class=\"dataframe\">\n",
       "  <thead>\n",
       "    <tr style=\"text-align: right;\">\n",
       "      <th></th>\n",
       "      <th>Unit price</th>\n",
       "      <th>Quantity</th>\n",
       "      <th>Tax 5%</th>\n",
       "      <th>Total</th>\n",
       "      <th>Date</th>\n",
       "      <th>cogs</th>\n",
       "      <th>gross income</th>\n",
       "      <th>Rating</th>\n",
       "    </tr>\n",
       "  </thead>\n",
       "  <tbody>\n",
       "    <tr>\n",
       "      <th>count</th>\n",
       "      <td>1000.00</td>\n",
       "      <td>1000.00</td>\n",
       "      <td>1000.00</td>\n",
       "      <td>1000.00</td>\n",
       "      <td>1000</td>\n",
       "      <td>1000.00</td>\n",
       "      <td>1000.00</td>\n",
       "      <td>1000.00</td>\n",
       "    </tr>\n",
       "    <tr>\n",
       "      <th>mean</th>\n",
       "      <td>55.67</td>\n",
       "      <td>5.51</td>\n",
       "      <td>15.38</td>\n",
       "      <td>322.97</td>\n",
       "      <td>2019-02-14 00:05:45.600000</td>\n",
       "      <td>307.59</td>\n",
       "      <td>15.38</td>\n",
       "      <td>6.97</td>\n",
       "    </tr>\n",
       "    <tr>\n",
       "      <th>min</th>\n",
       "      <td>10.08</td>\n",
       "      <td>1.00</td>\n",
       "      <td>0.51</td>\n",
       "      <td>10.68</td>\n",
       "      <td>2019-01-01 00:00:00</td>\n",
       "      <td>10.17</td>\n",
       "      <td>0.51</td>\n",
       "      <td>4.00</td>\n",
       "    </tr>\n",
       "    <tr>\n",
       "      <th>25%</th>\n",
       "      <td>32.88</td>\n",
       "      <td>3.00</td>\n",
       "      <td>5.92</td>\n",
       "      <td>124.42</td>\n",
       "      <td>2019-01-24 00:00:00</td>\n",
       "      <td>118.50</td>\n",
       "      <td>5.92</td>\n",
       "      <td>5.50</td>\n",
       "    </tr>\n",
       "    <tr>\n",
       "      <th>50%</th>\n",
       "      <td>55.23</td>\n",
       "      <td>5.00</td>\n",
       "      <td>12.09</td>\n",
       "      <td>253.85</td>\n",
       "      <td>2019-02-13 00:00:00</td>\n",
       "      <td>241.76</td>\n",
       "      <td>12.09</td>\n",
       "      <td>7.00</td>\n",
       "    </tr>\n",
       "    <tr>\n",
       "      <th>75%</th>\n",
       "      <td>77.94</td>\n",
       "      <td>8.00</td>\n",
       "      <td>22.45</td>\n",
       "      <td>471.35</td>\n",
       "      <td>2019-03-08 00:00:00</td>\n",
       "      <td>448.90</td>\n",
       "      <td>22.45</td>\n",
       "      <td>8.50</td>\n",
       "    </tr>\n",
       "    <tr>\n",
       "      <th>max</th>\n",
       "      <td>99.96</td>\n",
       "      <td>10.00</td>\n",
       "      <td>49.65</td>\n",
       "      <td>1042.65</td>\n",
       "      <td>2019-03-30 00:00:00</td>\n",
       "      <td>993.00</td>\n",
       "      <td>49.65</td>\n",
       "      <td>10.00</td>\n",
       "    </tr>\n",
       "    <tr>\n",
       "      <th>std</th>\n",
       "      <td>26.49</td>\n",
       "      <td>2.92</td>\n",
       "      <td>11.71</td>\n",
       "      <td>245.89</td>\n",
       "      <td>NaN</td>\n",
       "      <td>234.18</td>\n",
       "      <td>11.71</td>\n",
       "      <td>1.72</td>\n",
       "    </tr>\n",
       "  </tbody>\n",
       "</table>\n",
       "</div>"
      ],
      "text/plain": [
       "       Unit price  Quantity   Tax 5%    Total                        Date  \\\n",
       "count     1000.00   1000.00  1000.00  1000.00                        1000   \n",
       "mean        55.67      5.51    15.38   322.97  2019-02-14 00:05:45.600000   \n",
       "min         10.08      1.00     0.51    10.68         2019-01-01 00:00:00   \n",
       "25%         32.88      3.00     5.92   124.42         2019-01-24 00:00:00   \n",
       "50%         55.23      5.00    12.09   253.85         2019-02-13 00:00:00   \n",
       "75%         77.94      8.00    22.45   471.35         2019-03-08 00:00:00   \n",
       "max         99.96     10.00    49.65  1042.65         2019-03-30 00:00:00   \n",
       "std         26.49      2.92    11.71   245.89                         NaN   \n",
       "\n",
       "          cogs  gross income   Rating  \n",
       "count  1000.00       1000.00  1000.00  \n",
       "mean    307.59         15.38     6.97  \n",
       "min      10.17          0.51     4.00  \n",
       "25%     118.50          5.92     5.50  \n",
       "50%     241.76         12.09     7.00  \n",
       "75%     448.90         22.45     8.50  \n",
       "max     993.00         49.65    10.00  \n",
       "std     234.18         11.71     1.72  "
      ]
     },
     "execution_count": 9,
     "metadata": {},
     "output_type": "execute_result"
    }
   ],
   "source": [
    "df.describe().__round__(2)"
   ]
  },
  {
   "cell_type": "code",
   "execution_count": 10,
   "id": "2a0efaa6",
   "metadata": {},
   "outputs": [],
   "source": [
    "px.defaults.template = \"plotly_white\"\n"
   ]
  },
  {
   "cell_type": "code",
   "execution_count": 11,
   "id": "3e68e350",
   "metadata": {},
   "outputs": [
    {
     "data": {
      "text/html": [
       "<div>\n",
       "<style scoped>\n",
       "    .dataframe tbody tr th:only-of-type {\n",
       "        vertical-align: middle;\n",
       "    }\n",
       "\n",
       "    .dataframe tbody tr th {\n",
       "        vertical-align: top;\n",
       "    }\n",
       "\n",
       "    .dataframe thead th {\n",
       "        text-align: right;\n",
       "    }\n",
       "</style>\n",
       "<table border=\"1\" class=\"dataframe\">\n",
       "  <thead>\n",
       "    <tr style=\"text-align: right;\">\n",
       "      <th></th>\n",
       "      <th>Unit price</th>\n",
       "      <th>Quantity</th>\n",
       "      <th>Tax 5%</th>\n",
       "      <th>Total</th>\n",
       "      <th>cogs</th>\n",
       "      <th>gross income</th>\n",
       "      <th>Rating</th>\n",
       "    </tr>\n",
       "  </thead>\n",
       "  <tbody>\n",
       "    <tr>\n",
       "      <th>0</th>\n",
       "      <td>74.69</td>\n",
       "      <td>7</td>\n",
       "      <td>26.1415</td>\n",
       "      <td>548.9715</td>\n",
       "      <td>522.83</td>\n",
       "      <td>26.1415</td>\n",
       "      <td>9.1</td>\n",
       "    </tr>\n",
       "    <tr>\n",
       "      <th>1</th>\n",
       "      <td>15.28</td>\n",
       "      <td>5</td>\n",
       "      <td>3.8200</td>\n",
       "      <td>80.2200</td>\n",
       "      <td>76.40</td>\n",
       "      <td>3.8200</td>\n",
       "      <td>9.6</td>\n",
       "    </tr>\n",
       "    <tr>\n",
       "      <th>2</th>\n",
       "      <td>46.33</td>\n",
       "      <td>7</td>\n",
       "      <td>16.2155</td>\n",
       "      <td>340.5255</td>\n",
       "      <td>324.31</td>\n",
       "      <td>16.2155</td>\n",
       "      <td>7.4</td>\n",
       "    </tr>\n",
       "    <tr>\n",
       "      <th>3</th>\n",
       "      <td>58.22</td>\n",
       "      <td>8</td>\n",
       "      <td>23.2880</td>\n",
       "      <td>489.0480</td>\n",
       "      <td>465.76</td>\n",
       "      <td>23.2880</td>\n",
       "      <td>8.4</td>\n",
       "    </tr>\n",
       "    <tr>\n",
       "      <th>4</th>\n",
       "      <td>86.31</td>\n",
       "      <td>7</td>\n",
       "      <td>30.2085</td>\n",
       "      <td>634.3785</td>\n",
       "      <td>604.17</td>\n",
       "      <td>30.2085</td>\n",
       "      <td>5.3</td>\n",
       "    </tr>\n",
       "    <tr>\n",
       "      <th>...</th>\n",
       "      <td>...</td>\n",
       "      <td>...</td>\n",
       "      <td>...</td>\n",
       "      <td>...</td>\n",
       "      <td>...</td>\n",
       "      <td>...</td>\n",
       "      <td>...</td>\n",
       "    </tr>\n",
       "    <tr>\n",
       "      <th>995</th>\n",
       "      <td>40.35</td>\n",
       "      <td>1</td>\n",
       "      <td>2.0175</td>\n",
       "      <td>42.3675</td>\n",
       "      <td>40.35</td>\n",
       "      <td>2.0175</td>\n",
       "      <td>6.2</td>\n",
       "    </tr>\n",
       "    <tr>\n",
       "      <th>996</th>\n",
       "      <td>97.38</td>\n",
       "      <td>10</td>\n",
       "      <td>48.6900</td>\n",
       "      <td>1022.4900</td>\n",
       "      <td>973.80</td>\n",
       "      <td>48.6900</td>\n",
       "      <td>4.4</td>\n",
       "    </tr>\n",
       "    <tr>\n",
       "      <th>997</th>\n",
       "      <td>31.84</td>\n",
       "      <td>1</td>\n",
       "      <td>1.5920</td>\n",
       "      <td>33.4320</td>\n",
       "      <td>31.84</td>\n",
       "      <td>1.5920</td>\n",
       "      <td>7.7</td>\n",
       "    </tr>\n",
       "    <tr>\n",
       "      <th>998</th>\n",
       "      <td>65.82</td>\n",
       "      <td>1</td>\n",
       "      <td>3.2910</td>\n",
       "      <td>69.1110</td>\n",
       "      <td>65.82</td>\n",
       "      <td>3.2910</td>\n",
       "      <td>4.1</td>\n",
       "    </tr>\n",
       "    <tr>\n",
       "      <th>999</th>\n",
       "      <td>88.34</td>\n",
       "      <td>7</td>\n",
       "      <td>30.9190</td>\n",
       "      <td>649.2990</td>\n",
       "      <td>618.38</td>\n",
       "      <td>30.9190</td>\n",
       "      <td>6.6</td>\n",
       "    </tr>\n",
       "  </tbody>\n",
       "</table>\n",
       "<p>1000 rows × 7 columns</p>\n",
       "</div>"
      ],
      "text/plain": [
       "     Unit price  Quantity   Tax 5%      Total    cogs  gross income  Rating\n",
       "0         74.69         7  26.1415   548.9715  522.83       26.1415     9.1\n",
       "1         15.28         5   3.8200    80.2200   76.40        3.8200     9.6\n",
       "2         46.33         7  16.2155   340.5255  324.31       16.2155     7.4\n",
       "3         58.22         8  23.2880   489.0480  465.76       23.2880     8.4\n",
       "4         86.31         7  30.2085   634.3785  604.17       30.2085     5.3\n",
       "..          ...       ...      ...        ...     ...           ...     ...\n",
       "995       40.35         1   2.0175    42.3675   40.35        2.0175     6.2\n",
       "996       97.38        10  48.6900  1022.4900  973.80       48.6900     4.4\n",
       "997       31.84         1   1.5920    33.4320   31.84        1.5920     7.7\n",
       "998       65.82         1   3.2910    69.1110   65.82        3.2910     4.1\n",
       "999       88.34         7  30.9190   649.2990  618.38       30.9190     6.6\n",
       "\n",
       "[1000 rows x 7 columns]"
      ]
     },
     "execution_count": 11,
     "metadata": {},
     "output_type": "execute_result"
    }
   ],
   "source": [
    "num_col=df.select_dtypes(include='number')\n",
    "num_col"
   ]
  },
  {
   "cell_type": "code",
   "execution_count": 12,
   "id": "aa010748",
   "metadata": {},
   "outputs": [
    {
     "data": {
      "application/vnd.plotly.v1+json": {
       "config": {
        "plotlyServerURL": "https://plot.ly"
       },
       "data": [
        {
         "bingroup": "x",
         "hovertemplate": "Unit price=%{x}<br>count=%{y}<extra></extra>",
         "legendgroup": "",
         "marker": {
          "color": "#636efa",
          "pattern": {
           "shape": ""
          }
         },
         "name": "",
         "orientation": "v",
         "showlegend": false,
         "type": "histogram",
         "x": {
          "bdata": "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",
          "dtype": "f8"
         },
         "xaxis": "x",
         "yaxis": "y"
        }
       ],
       "layout": {
        "barmode": "relative",
        "legend": {
         "tracegroupgap": 0
        },
        "margin": {
         "t": 60
        },
        "template": {
         "data": {
          "bar": [
           {
            "error_x": {
             "color": "#2a3f5f"
            },
            "error_y": {
             "color": "#2a3f5f"
            },
            "marker": {
             "line": {
              "color": "white",
              "width": 0.5
             },
             "pattern": {
              "fillmode": "overlay",
              "size": 10,
              "solidity": 0.2
             }
            },
            "type": "bar"
           }
          ],
          "barpolar": [
           {
            "marker": {
             "line": {
              "color": "white",
              "width": 0.5
             },
             "pattern": {
              "fillmode": "overlay",
              "size": 10,
              "solidity": 0.2
             }
            },
            "type": "barpolar"
           }
          ],
          "carpet": [
           {
            "aaxis": {
             "endlinecolor": "#2a3f5f",
             "gridcolor": "#C8D4E3",
             "linecolor": "#C8D4E3",
             "minorgridcolor": "#C8D4E3",
             "startlinecolor": "#2a3f5f"
            },
            "baxis": {
             "endlinecolor": "#2a3f5f",
             "gridcolor": "#C8D4E3",
             "linecolor": "#C8D4E3",
             "minorgridcolor": "#C8D4E3",
             "startlinecolor": "#2a3f5f"
            },
            "type": "carpet"
           }
          ],
          "choropleth": [
           {
            "colorbar": {
             "outlinewidth": 0,
             "ticks": ""
            },
            "type": "choropleth"
           }
          ],
          "contour": [
           {
            "colorbar": {
             "outlinewidth": 0,
             "ticks": ""
            },
            "colorscale": [
             [
              0,
              "#0d0887"
             ],
             [
              0.1111111111111111,
              "#46039f"
             ],
             [
              0.2222222222222222,
              "#7201a8"
             ],
             [
              0.3333333333333333,
              "#9c179e"
             ],
             [
              0.4444444444444444,
              "#bd3786"
             ],
             [
              0.5555555555555556,
              "#d8576b"
             ],
             [
              0.6666666666666666,
              "#ed7953"
             ],
             [
              0.7777777777777778,
              "#fb9f3a"
             ],
             [
              0.8888888888888888,
              "#fdca26"
             ],
             [
              1,
              "#f0f921"
             ]
            ],
            "type": "contour"
           }
          ],
          "contourcarpet": [
           {
            "colorbar": {
             "outlinewidth": 0,
             "ticks": ""
            },
            "type": "contourcarpet"
           }
          ],
          "heatmap": [
           {
            "colorbar": {
             "outlinewidth": 0,
             "ticks": ""
            },
            "colorscale": [
             [
              0,
              "#0d0887"
             ],
             [
              0.1111111111111111,
              "#46039f"
             ],
             [
              0.2222222222222222,
              "#7201a8"
             ],
             [
              0.3333333333333333,
              "#9c179e"
             ],
             [
              0.4444444444444444,
              "#bd3786"
             ],
             [
              0.5555555555555556,
              "#d8576b"
             ],
             [
              0.6666666666666666,
              "#ed7953"
             ],
             [
              0.7777777777777778,
              "#fb9f3a"
             ],
             [
              0.8888888888888888,
              "#fdca26"
             ],
             [
              1,
              "#f0f921"
             ]
            ],
            "type": "heatmap"
           }
          ],
          "histogram": [
           {
            "marker": {
             "pattern": {
              "fillmode": "overlay",
              "size": 10,
              "solidity": 0.2
             }
            },
            "type": "histogram"
           }
          ],
          "histogram2d": [
           {
            "colorbar": {
             "outlinewidth": 0,
             "ticks": ""
            },
            "colorscale": [
             [
              0,
              "#0d0887"
             ],
             [
              0.1111111111111111,
              "#46039f"
             ],
             [
              0.2222222222222222,
              "#7201a8"
             ],
             [
              0.3333333333333333,
              "#9c179e"
             ],
             [
              0.4444444444444444,
              "#bd3786"
             ],
             [
              0.5555555555555556,
              "#d8576b"
             ],
             [
              0.6666666666666666,
              "#ed7953"
             ],
             [
              0.7777777777777778,
              "#fb9f3a"
             ],
             [
              0.8888888888888888,
              "#fdca26"
             ],
             [
              1,
              "#f0f921"
             ]
            ],
            "type": "histogram2d"
           }
          ],
          "histogram2dcontour": [
           {
            "colorbar": {
             "outlinewidth": 0,
             "ticks": ""
            },
            "colorscale": [
             [
              0,
              "#0d0887"
             ],
             [
              0.1111111111111111,
              "#46039f"
             ],
             [
              0.2222222222222222,
              "#7201a8"
             ],
             [
              0.3333333333333333,
              "#9c179e"
             ],
             [
              0.4444444444444444,
              "#bd3786"
             ],
             [
              0.5555555555555556,
              "#d8576b"
             ],
             [
              0.6666666666666666,
              "#ed7953"
             ],
             [
              0.7777777777777778,
              "#fb9f3a"
             ],
             [
              0.8888888888888888,
              "#fdca26"
             ],
             [
              1,
              "#f0f921"
             ]
            ],
            "type": "histogram2dcontour"
           }
          ],
          "mesh3d": [
           {
            "colorbar": {
             "outlinewidth": 0,
             "ticks": ""
            },
            "type": "mesh3d"
           }
          ],
          "parcoords": [
           {
            "line": {
             "colorbar": {
              "outlinewidth": 0,
              "ticks": ""
             }
            },
            "type": "parcoords"
           }
          ],
          "pie": [
           {
            "automargin": true,
            "type": "pie"
           }
          ],
          "scatter": [
           {
            "fillpattern": {
             "fillmode": "overlay",
             "size": 10,
             "solidity": 0.2
            },
            "type": "scatter"
           }
          ],
          "scatter3d": [
           {
            "line": {
             "colorbar": {
              "outlinewidth": 0,
              "ticks": ""
             }
            },
            "marker": {
             "colorbar": {
              "outlinewidth": 0,
              "ticks": ""
             }
            },
            "type": "scatter3d"
           }
          ],
          "scattercarpet": [
           {
            "marker": {
             "colorbar": {
              "outlinewidth": 0,
              "ticks": ""
             }
            },
            "type": "scattercarpet"
           }
          ],
          "scattergeo": [
           {
            "marker": {
             "colorbar": {
              "outlinewidth": 0,
              "ticks": ""
             }
            },
            "type": "scattergeo"
           }
          ],
          "scattergl": [
           {
            "marker": {
             "colorbar": {
              "outlinewidth": 0,
              "ticks": ""
             }
            },
            "type": "scattergl"
           }
          ],
          "scattermap": [
           {
            "marker": {
             "colorbar": {
              "outlinewidth": 0,
              "ticks": ""
             }
            },
            "type": "scattermap"
           }
          ],
          "scattermapbox": [
           {
            "marker": {
             "colorbar": {
              "outlinewidth": 0,
              "ticks": ""
             }
            },
            "type": "scattermapbox"
           }
          ],
          "scatterpolar": [
           {
            "marker": {
             "colorbar": {
              "outlinewidth": 0,
              "ticks": ""
             }
            },
            "type": "scatterpolar"
           }
          ],
          "scatterpolargl": [
           {
            "marker": {
             "colorbar": {
              "outlinewidth": 0,
              "ticks": ""
             }
            },
            "type": "scatterpolargl"
           }
          ],
          "scatterternary": [
           {
            "marker": {
             "colorbar": {
              "outlinewidth": 0,
              "ticks": ""
             }
            },
            "type": "scatterternary"
           }
          ],
          "surface": [
           {
            "colorbar": {
             "outlinewidth": 0,
             "ticks": ""
            },
            "colorscale": [
             [
              0,
              "#0d0887"
             ],
             [
              0.1111111111111111,
              "#46039f"
             ],
             [
              0.2222222222222222,
              "#7201a8"
             ],
             [
              0.3333333333333333,
              "#9c179e"
             ],
             [
              0.4444444444444444,
              "#bd3786"
             ],
             [
              0.5555555555555556,
              "#d8576b"
             ],
             [
              0.6666666666666666,
              "#ed7953"
             ],
             [
              0.7777777777777778,
              "#fb9f3a"
             ],
             [
              0.8888888888888888,
              "#fdca26"
             ],
             [
              1,
              "#f0f921"
             ]
            ],
            "type": "surface"
           }
          ],
          "table": [
           {
            "cells": {
             "fill": {
              "color": "#EBF0F8"
             },
             "line": {
              "color": "white"
             }
            },
            "header": {
             "fill": {
              "color": "#C8D4E3"
             },
             "line": {
              "color": "white"
             }
            },
            "type": "table"
           }
          ]
         },
         "layout": {
          "annotationdefaults": {
           "arrowcolor": "#2a3f5f",
           "arrowhead": 0,
           "arrowwidth": 1
          },
          "autotypenumbers": "strict",
          "coloraxis": {
           "colorbar": {
            "outlinewidth": 0,
            "ticks": ""
           }
          },
          "colorscale": {
           "diverging": [
            [
             0,
             "#8e0152"
            ],
            [
             0.1,
             "#c51b7d"
            ],
            [
             0.2,
             "#de77ae"
            ],
            [
             0.3,
             "#f1b6da"
            ],
            [
             0.4,
             "#fde0ef"
            ],
            [
             0.5,
             "#f7f7f7"
            ],
            [
             0.6,
             "#e6f5d0"
            ],
            [
             0.7,
             "#b8e186"
            ],
            [
             0.8,
             "#7fbc41"
            ],
            [
             0.9,
             "#4d9221"
            ],
            [
             1,
             "#276419"
            ]
           ],
           "sequential": [
            [
             0,
             "#0d0887"
            ],
            [
             0.1111111111111111,
             "#46039f"
            ],
            [
             0.2222222222222222,
             "#7201a8"
            ],
            [
             0.3333333333333333,
             "#9c179e"
            ],
            [
             0.4444444444444444,
             "#bd3786"
            ],
            [
             0.5555555555555556,
             "#d8576b"
            ],
            [
             0.6666666666666666,
             "#ed7953"
            ],
            [
             0.7777777777777778,
             "#fb9f3a"
            ],
            [
             0.8888888888888888,
             "#fdca26"
            ],
            [
             1,
             "#f0f921"
            ]
           ],
           "sequentialminus": [
            [
             0,
             "#0d0887"
            ],
            [
             0.1111111111111111,
             "#46039f"
            ],
            [
             0.2222222222222222,
             "#7201a8"
            ],
            [
             0.3333333333333333,
             "#9c179e"
            ],
            [
             0.4444444444444444,
             "#bd3786"
            ],
            [
             0.5555555555555556,
             "#d8576b"
            ],
            [
             0.6666666666666666,
             "#ed7953"
            ],
            [
             0.7777777777777778,
             "#fb9f3a"
            ],
            [
             0.8888888888888888,
             "#fdca26"
            ],
            [
             1,
             "#f0f921"
            ]
           ]
          },
          "colorway": [
           "#636efa",
           "#EF553B",
           "#00cc96",
           "#ab63fa",
           "#FFA15A",
           "#19d3f3",
           "#FF6692",
           "#B6E880",
           "#FF97FF",
           "#FECB52"
          ],
          "font": {
           "color": "#2a3f5f"
          },
          "geo": {
           "bgcolor": "white",
           "lakecolor": "white",
           "landcolor": "white",
           "showlakes": true,
           "showland": true,
           "subunitcolor": "#C8D4E3"
          },
          "hoverlabel": {
           "align": "left"
          },
          "hovermode": "closest",
          "mapbox": {
           "style": "light"
          },
          "paper_bgcolor": "white",
          "plot_bgcolor": "white",
          "polar": {
           "angularaxis": {
            "gridcolor": "#EBF0F8",
            "linecolor": "#EBF0F8",
            "ticks": ""
           },
           "bgcolor": "white",
           "radialaxis": {
            "gridcolor": "#EBF0F8",
            "linecolor": "#EBF0F8",
            "ticks": ""
           }
          },
          "scene": {
           "xaxis": {
            "backgroundcolor": "white",
            "gridcolor": "#DFE8F3",
            "gridwidth": 2,
            "linecolor": "#EBF0F8",
            "showbackground": true,
            "ticks": "",
            "zerolinecolor": "#EBF0F8"
           },
           "yaxis": {
            "backgroundcolor": "white",
            "gridcolor": "#DFE8F3",
            "gridwidth": 2,
            "linecolor": "#EBF0F8",
            "showbackground": true,
            "ticks": "",
            "zerolinecolor": "#EBF0F8"
           },
           "zaxis": {
            "backgroundcolor": "white",
            "gridcolor": "#DFE8F3",
            "gridwidth": 2,
            "linecolor": "#EBF0F8",
            "showbackground": true,
            "ticks": "",
            "zerolinecolor": "#EBF0F8"
           }
          },
          "shapedefaults": {
           "line": {
            "color": "#2a3f5f"
           }
          },
          "ternary": {
           "aaxis": {
            "gridcolor": "#DFE8F3",
            "linecolor": "#A2B1C6",
            "ticks": ""
           },
           "baxis": {
            "gridcolor": "#DFE8F3",
            "linecolor": "#A2B1C6",
            "ticks": ""
           },
           "bgcolor": "white",
           "caxis": {
            "gridcolor": "#DFE8F3",
            "linecolor": "#A2B1C6",
            "ticks": ""
           }
          },
          "title": {
           "x": 0.05
          },
          "xaxis": {
           "automargin": true,
           "gridcolor": "#EBF0F8",
           "linecolor": "#EBF0F8",
           "ticks": "",
           "title": {
            "standoff": 15
           },
           "zerolinecolor": "#EBF0F8",
           "zerolinewidth": 2
          },
          "yaxis": {
           "automargin": true,
           "gridcolor": "#EBF0F8",
           "linecolor": "#EBF0F8",
           "ticks": "",
           "title": {
            "standoff": 15
           },
           "zerolinecolor": "#EBF0F8",
           "zerolinewidth": 2
          }
         }
        },
        "xaxis": {
         "anchor": "y",
         "domain": [
          0,
          1
         ],
         "title": {
          "text": "Unit price"
         }
        },
        "yaxis": {
         "anchor": "x",
         "domain": [
          0,
          1
         ],
         "title": {
          "text": "count"
         }
        }
       }
      }
     },
     "metadata": {},
     "output_type": "display_data"
    },
    {
     "data": {
      "application/vnd.plotly.v1+json": {
       "config": {
        "plotlyServerURL": "https://plot.ly"
       },
       "data": [
        {
         "bingroup": "x",
         "hovertemplate": "Quantity=%{x}<br>count=%{y}<extra></extra>",
         "legendgroup": "",
         "marker": {
          "color": "#636efa",
          "pattern": {
           "shape": ""
          }
         },
         "name": "",
         "orientation": "v",
         "showlegend": false,
         "type": "histogram",
         "x": {
          "bdata": "BwUHCAcHBgoCAwQEBQoKBgcGAwIFAwIFAwgBAgUJBQkIAgQBBQkICAECBggCBAkJBgoHBQQBAggCCAoGAwYJCgQKAgYKAQoKAwYJCgkJCgUGAwgEBQcFBwEGBAoHCQEBCgYDBgEJCQYHCgYGCQoCAwcJCQMFAQoCCAcJCAgHBQkICQcGBAYGAwUGCggKCgoBBgYKBAgIBAcJBggFAQUJBggBBwIKCAoKBgcFBQgGCAkIBwYDBwgKCAcDCAQBBAMCCQQFAQIBBAUGBAcKBQkJCgMJCQkFAwcBBQMIAwYHBQECAgkEBggCAwkECgIFBQUBCQICBAgIAwUEBwkKAgQIBAEGBAQJBAQKAQcECgQKBQIJAgYHCgQKCggBAQYEBQEJBwcKBwECCgUEBgQBAgEBBAgHBwgDAgYCBQkKAgMFBwQJAQYFBgQFBAQECQMFAgUFCQYDCQMHBwUDCQEIBwoKBwcJAQQKCgMBCAgCBgQECQQKCQcCBgYFBQkHBAQEAgUEBQEGCgkHAwoBCgEFBQkGCQYEAQUHBAUEBAUKAgUDCAEEAQIHAwMKCAEJBwMFCgICBgcBCQQGBAgFCAkBBwEKAwEBBgYFAQQFCQoKAQUKBAEFCgcGAQEGBAoIBQMFBAoBCAoFCgoECgQBCQIKCAoCCAIGAQgBAQICAQgDBgUGBwUHBwcBBQUCBQMGBgIGBQQCCgkGCAoJBQcBAQQGAwEEBgEECgkFBgMJCQYHAwIKBgMJCggGAgoKCQcHBQoHAgUHBAQEAgMEAgQDBAMFCgUGBwEDAwMDCQUCAQEKBgcEBwQBAgEJAwEKCQYFBgYDAQcKAQICCgMBCgMCAwMKBwEFAwMIAggFCQYBAgoFBgoJBAMBAwUBAwcGCgIEAwQGAgoCAwgKAgcECgYBAQYCBgICCgIDCQcKBwkFBAQJCggDCgkJBwQBCAMGBAkJCAUHAwMGBwkDBwQIAwoEBwQDAQcBCgcKCAkHAQICCAEKBQkHBAUKBQMICAYKBAoKCAUECAMGBAYEBwcBAgUHAQUJCAQBCAUHCAUDBwEECgcCAgEKAQUGCAcJCQQCBAEKCAoFAQgIBwgEBQQCAQMHBAkDCgoIBAgBBwEFBgoGAwECAgEDAQEJBgECBwoFCQgEBgkBAgkHAwMIAgMEBwEKBgQIAQEICAoICgYCBwEKCAoFCAUFBggHBgcJCQQFBwIECgUCCgMECAgDBgEEAwMJBgIHBgQBCQkCBgIKBwYDBwUDBgQJCgUHBwIBBQgDAwQEBgcJBgoJAQIBAwICCQMDBQoHBwMCAgQGAQEEBAkHBwUCCAoIBQoCCgEBCgEBBw==",
          "dtype": "i1"
         },
         "xaxis": "x",
         "yaxis": "y"
        }
       ],
       "layout": {
        "barmode": "relative",
        "legend": {
         "tracegroupgap": 0
        },
        "margin": {
         "t": 60
        },
        "template": {
         "data": {
          "bar": [
           {
            "error_x": {
             "color": "#2a3f5f"
            },
            "error_y": {
             "color": "#2a3f5f"
            },
            "marker": {
             "line": {
              "color": "white",
              "width": 0.5
             },
             "pattern": {
              "fillmode": "overlay",
              "size": 10,
              "solidity": 0.2
             }
            },
            "type": "bar"
           }
          ],
          "barpolar": [
           {
            "marker": {
             "line": {
              "color": "white",
              "width": 0.5
             },
             "pattern": {
              "fillmode": "overlay",
              "size": 10,
              "solidity": 0.2
             }
            },
            "type": "barpolar"
           }
          ],
          "carpet": [
           {
            "aaxis": {
             "endlinecolor": "#2a3f5f",
             "gridcolor": "#C8D4E3",
             "linecolor": "#C8D4E3",
             "minorgridcolor": "#C8D4E3",
             "startlinecolor": "#2a3f5f"
            },
            "baxis": {
             "endlinecolor": "#2a3f5f",
             "gridcolor": "#C8D4E3",
             "linecolor": "#C8D4E3",
             "minorgridcolor": "#C8D4E3",
             "startlinecolor": "#2a3f5f"
            },
            "type": "carpet"
           }
          ],
          "choropleth": [
           {
            "colorbar": {
             "outlinewidth": 0,
             "ticks": ""
            },
            "type": "choropleth"
           }
          ],
          "contour": [
           {
            "colorbar": {
             "outlinewidth": 0,
             "ticks": ""
            },
            "colorscale": [
             [
              0,
              "#0d0887"
             ],
             [
              0.1111111111111111,
              "#46039f"
             ],
             [
              0.2222222222222222,
              "#7201a8"
             ],
             [
              0.3333333333333333,
              "#9c179e"
             ],
             [
              0.4444444444444444,
              "#bd3786"
             ],
             [
              0.5555555555555556,
              "#d8576b"
             ],
             [
              0.6666666666666666,
              "#ed7953"
             ],
             [
              0.7777777777777778,
              "#fb9f3a"
             ],
             [
              0.8888888888888888,
              "#fdca26"
             ],
             [
              1,
              "#f0f921"
             ]
            ],
            "type": "contour"
           }
          ],
          "contourcarpet": [
           {
            "colorbar": {
             "outlinewidth": 0,
             "ticks": ""
            },
            "type": "contourcarpet"
           }
          ],
          "heatmap": [
           {
            "colorbar": {
             "outlinewidth": 0,
             "ticks": ""
            },
            "colorscale": [
             [
              0,
              "#0d0887"
             ],
             [
              0.1111111111111111,
              "#46039f"
             ],
             [
              0.2222222222222222,
              "#7201a8"
             ],
             [
              0.3333333333333333,
              "#9c179e"
             ],
             [
              0.4444444444444444,
              "#bd3786"
             ],
             [
              0.5555555555555556,
              "#d8576b"
             ],
             [
              0.6666666666666666,
              "#ed7953"
             ],
             [
              0.7777777777777778,
              "#fb9f3a"
             ],
             [
              0.8888888888888888,
              "#fdca26"
             ],
             [
              1,
              "#f0f921"
             ]
            ],
            "type": "heatmap"
           }
          ],
          "histogram": [
           {
            "marker": {
             "pattern": {
              "fillmode": "overlay",
              "size": 10,
              "solidity": 0.2
             }
            },
            "type": "histogram"
           }
          ],
          "histogram2d": [
           {
            "colorbar": {
             "outlinewidth": 0,
             "ticks": ""
            },
            "colorscale": [
             [
              0,
              "#0d0887"
             ],
             [
              0.1111111111111111,
              "#46039f"
             ],
             [
              0.2222222222222222,
              "#7201a8"
             ],
             [
              0.3333333333333333,
              "#9c179e"
             ],
             [
              0.4444444444444444,
              "#bd3786"
             ],
             [
              0.5555555555555556,
              "#d8576b"
             ],
             [
              0.6666666666666666,
              "#ed7953"
             ],
             [
              0.7777777777777778,
              "#fb9f3a"
             ],
             [
              0.8888888888888888,
              "#fdca26"
             ],
             [
              1,
              "#f0f921"
             ]
            ],
            "type": "histogram2d"
           }
          ],
          "histogram2dcontour": [
           {
            "colorbar": {
             "outlinewidth": 0,
             "ticks": ""
            },
            "colorscale": [
             [
              0,
              "#0d0887"
             ],
             [
              0.1111111111111111,
              "#46039f"
             ],
             [
              0.2222222222222222,
              "#7201a8"
             ],
             [
              0.3333333333333333,
              "#9c179e"
             ],
             [
              0.4444444444444444,
              "#bd3786"
             ],
             [
              0.5555555555555556,
              "#d8576b"
             ],
             [
              0.6666666666666666,
              "#ed7953"
             ],
             [
              0.7777777777777778,
              "#fb9f3a"
             ],
             [
              0.8888888888888888,
              "#fdca26"
             ],
             [
              1,
              "#f0f921"
             ]
            ],
            "type": "histogram2dcontour"
           }
          ],
          "mesh3d": [
           {
            "colorbar": {
             "outlinewidth": 0,
             "ticks": ""
            },
            "type": "mesh3d"
           }
          ],
          "parcoords": [
           {
            "line": {
             "colorbar": {
              "outlinewidth": 0,
              "ticks": ""
             }
            },
            "type": "parcoords"
           }
          ],
          "pie": [
           {
            "automargin": true,
            "type": "pie"
           }
          ],
          "scatter": [
           {
            "fillpattern": {
             "fillmode": "overlay",
             "size": 10,
             "solidity": 0.2
            },
            "type": "scatter"
           }
          ],
          "scatter3d": [
           {
            "line": {
             "colorbar": {
              "outlinewidth": 0,
              "ticks": ""
             }
            },
            "marker": {
             "colorbar": {
              "outlinewidth": 0,
              "ticks": ""
             }
            },
            "type": "scatter3d"
           }
          ],
          "scattercarpet": [
           {
            "marker": {
             "colorbar": {
              "outlinewidth": 0,
              "ticks": ""
             }
            },
            "type": "scattercarpet"
           }
          ],
          "scattergeo": [
           {
            "marker": {
             "colorbar": {
              "outlinewidth": 0,
              "ticks": ""
             }
            },
            "type": "scattergeo"
           }
          ],
          "scattergl": [
           {
            "marker": {
             "colorbar": {
              "outlinewidth": 0,
              "ticks": ""
             }
            },
            "type": "scattergl"
           }
          ],
          "scattermap": [
           {
            "marker": {
             "colorbar": {
              "outlinewidth": 0,
              "ticks": ""
             }
            },
            "type": "scattermap"
           }
          ],
          "scattermapbox": [
           {
            "marker": {
             "colorbar": {
              "outlinewidth": 0,
              "ticks": ""
             }
            },
            "type": "scattermapbox"
           }
          ],
          "scatterpolar": [
           {
            "marker": {
             "colorbar": {
              "outlinewidth": 0,
              "ticks": ""
             }
            },
            "type": "scatterpolar"
           }
          ],
          "scatterpolargl": [
           {
            "marker": {
             "colorbar": {
              "outlinewidth": 0,
              "ticks": ""
             }
            },
            "type": "scatterpolargl"
           }
          ],
          "scatterternary": [
           {
            "marker": {
             "colorbar": {
              "outlinewidth": 0,
              "ticks": ""
             }
            },
            "type": "scatterternary"
           }
          ],
          "surface": [
           {
            "colorbar": {
             "outlinewidth": 0,
             "ticks": ""
            },
            "colorscale": [
             [
              0,
              "#0d0887"
             ],
             [
              0.1111111111111111,
              "#46039f"
             ],
             [
              0.2222222222222222,
              "#7201a8"
             ],
             [
              0.3333333333333333,
              "#9c179e"
             ],
             [
              0.4444444444444444,
              "#bd3786"
             ],
             [
              0.5555555555555556,
              "#d8576b"
             ],
             [
              0.6666666666666666,
              "#ed7953"
             ],
             [
              0.7777777777777778,
              "#fb9f3a"
             ],
             [
              0.8888888888888888,
              "#fdca26"
             ],
             [
              1,
              "#f0f921"
             ]
            ],
            "type": "surface"
           }
          ],
          "table": [
           {
            "cells": {
             "fill": {
              "color": "#EBF0F8"
             },
             "line": {
              "color": "white"
             }
            },
            "header": {
             "fill": {
              "color": "#C8D4E3"
             },
             "line": {
              "color": "white"
             }
            },
            "type": "table"
           }
          ]
         },
         "layout": {
          "annotationdefaults": {
           "arrowcolor": "#2a3f5f",
           "arrowhead": 0,
           "arrowwidth": 1
          },
          "autotypenumbers": "strict",
          "coloraxis": {
           "colorbar": {
            "outlinewidth": 0,
            "ticks": ""
           }
          },
          "colorscale": {
           "diverging": [
            [
             0,
             "#8e0152"
            ],
            [
             0.1,
             "#c51b7d"
            ],
            [
             0.2,
             "#de77ae"
            ],
            [
             0.3,
             "#f1b6da"
            ],
            [
             0.4,
             "#fde0ef"
            ],
            [
             0.5,
             "#f7f7f7"
            ],
            [
             0.6,
             "#e6f5d0"
            ],
            [
             0.7,
             "#b8e186"
            ],
            [
             0.8,
             "#7fbc41"
            ],
            [
             0.9,
             "#4d9221"
            ],
            [
             1,
             "#276419"
            ]
           ],
           "sequential": [
            [
             0,
             "#0d0887"
            ],
            [
             0.1111111111111111,
             "#46039f"
            ],
            [
             0.2222222222222222,
             "#7201a8"
            ],
            [
             0.3333333333333333,
             "#9c179e"
            ],
            [
             0.4444444444444444,
             "#bd3786"
            ],
            [
             0.5555555555555556,
             "#d8576b"
            ],
            [
             0.6666666666666666,
             "#ed7953"
            ],
            [
             0.7777777777777778,
             "#fb9f3a"
            ],
            [
             0.8888888888888888,
             "#fdca26"
            ],
            [
             1,
             "#f0f921"
            ]
           ],
           "sequentialminus": [
            [
             0,
             "#0d0887"
            ],
            [
             0.1111111111111111,
             "#46039f"
            ],
            [
             0.2222222222222222,
             "#7201a8"
            ],
            [
             0.3333333333333333,
             "#9c179e"
            ],
            [
             0.4444444444444444,
             "#bd3786"
            ],
            [
             0.5555555555555556,
             "#d8576b"
            ],
            [
             0.6666666666666666,
             "#ed7953"
            ],
            [
             0.7777777777777778,
             "#fb9f3a"
            ],
            [
             0.8888888888888888,
             "#fdca26"
            ],
            [
             1,
             "#f0f921"
            ]
           ]
          },
          "colorway": [
           "#636efa",
           "#EF553B",
           "#00cc96",
           "#ab63fa",
           "#FFA15A",
           "#19d3f3",
           "#FF6692",
           "#B6E880",
           "#FF97FF",
           "#FECB52"
          ],
          "font": {
           "color": "#2a3f5f"
          },
          "geo": {
           "bgcolor": "white",
           "lakecolor": "white",
           "landcolor": "white",
           "showlakes": true,
           "showland": true,
           "subunitcolor": "#C8D4E3"
          },
          "hoverlabel": {
           "align": "left"
          },
          "hovermode": "closest",
          "mapbox": {
           "style": "light"
          },
          "paper_bgcolor": "white",
          "plot_bgcolor": "white",
          "polar": {
           "angularaxis": {
            "gridcolor": "#EBF0F8",
            "linecolor": "#EBF0F8",
            "ticks": ""
           },
           "bgcolor": "white",
           "radialaxis": {
            "gridcolor": "#EBF0F8",
            "linecolor": "#EBF0F8",
            "ticks": ""
           }
          },
          "scene": {
           "xaxis": {
            "backgroundcolor": "white",
            "gridcolor": "#DFE8F3",
            "gridwidth": 2,
            "linecolor": "#EBF0F8",
            "showbackground": true,
            "ticks": "",
            "zerolinecolor": "#EBF0F8"
           },
           "yaxis": {
            "backgroundcolor": "white",
            "gridcolor": "#DFE8F3",
            "gridwidth": 2,
            "linecolor": "#EBF0F8",
            "showbackground": true,
            "ticks": "",
            "zerolinecolor": "#EBF0F8"
           },
           "zaxis": {
            "backgroundcolor": "white",
            "gridcolor": "#DFE8F3",
            "gridwidth": 2,
            "linecolor": "#EBF0F8",
            "showbackground": true,
            "ticks": "",
            "zerolinecolor": "#EBF0F8"
           }
          },
          "shapedefaults": {
           "line": {
            "color": "#2a3f5f"
           }
          },
          "ternary": {
           "aaxis": {
            "gridcolor": "#DFE8F3",
            "linecolor": "#A2B1C6",
            "ticks": ""
           },
           "baxis": {
            "gridcolor": "#DFE8F3",
            "linecolor": "#A2B1C6",
            "ticks": ""
           },
           "bgcolor": "white",
           "caxis": {
            "gridcolor": "#DFE8F3",
            "linecolor": "#A2B1C6",
            "ticks": ""
           }
          },
          "title": {
           "x": 0.05
          },
          "xaxis": {
           "automargin": true,
           "gridcolor": "#EBF0F8",
           "linecolor": "#EBF0F8",
           "ticks": "",
           "title": {
            "standoff": 15
           },
           "zerolinecolor": "#EBF0F8",
           "zerolinewidth": 2
          },
          "yaxis": {
           "automargin": true,
           "gridcolor": "#EBF0F8",
           "linecolor": "#EBF0F8",
           "ticks": "",
           "title": {
            "standoff": 15
           },
           "zerolinecolor": "#EBF0F8",
           "zerolinewidth": 2
          }
         }
        },
        "xaxis": {
         "anchor": "y",
         "domain": [
          0,
          1
         ],
         "title": {
          "text": "Quantity"
         }
        },
        "yaxis": {
         "anchor": "x",
         "domain": [
          0,
          1
         ],
         "title": {
          "text": "count"
         }
        }
       }
      }
     },
     "metadata": {},
     "output_type": "display_data"
    },
    {
     "data": {
      "application/vnd.plotly.v1+json": {
       "config": {
        "plotlyServerURL": "https://plot.ly"
       },
       "data": [
        {
         "bingroup": "x",
         "hovertemplate": "Tax 5%=%{x}<br>count=%{y}<extra></extra>",
         "legendgroup": "",
         "marker": {
          "color": "#636efa",
          "pattern": {
           "shape": ""
          }
         },
         "name": "",
         "orientation": "v",
         "showlegend": false,
         "type": "histogram",
         "x": {
          "bdata": "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",
          "dtype": "f8"
         },
         "xaxis": "x",
         "yaxis": "y"
        }
       ],
       "layout": {
        "barmode": "relative",
        "legend": {
         "tracegroupgap": 0
        },
        "margin": {
         "t": 60
        },
        "template": {
         "data": {
          "bar": [
           {
            "error_x": {
             "color": "#2a3f5f"
            },
            "error_y": {
             "color": "#2a3f5f"
            },
            "marker": {
             "line": {
              "color": "white",
              "width": 0.5
             },
             "pattern": {
              "fillmode": "overlay",
              "size": 10,
              "solidity": 0.2
             }
            },
            "type": "bar"
           }
          ],
          "barpolar": [
           {
            "marker": {
             "line": {
              "color": "white",
              "width": 0.5
             },
             "pattern": {
              "fillmode": "overlay",
              "size": 10,
              "solidity": 0.2
             }
            },
            "type": "barpolar"
           }
          ],
          "carpet": [
           {
            "aaxis": {
             "endlinecolor": "#2a3f5f",
             "gridcolor": "#C8D4E3",
             "linecolor": "#C8D4E3",
             "minorgridcolor": "#C8D4E3",
             "startlinecolor": "#2a3f5f"
            },
            "baxis": {
             "endlinecolor": "#2a3f5f",
             "gridcolor": "#C8D4E3",
             "linecolor": "#C8D4E3",
             "minorgridcolor": "#C8D4E3",
             "startlinecolor": "#2a3f5f"
            },
            "type": "carpet"
           }
          ],
          "choropleth": [
           {
            "colorbar": {
             "outlinewidth": 0,
             "ticks": ""
            },
            "type": "choropleth"
           }
          ],
          "contour": [
           {
            "colorbar": {
             "outlinewidth": 0,
             "ticks": ""
            },
            "colorscale": [
             [
              0,
              "#0d0887"
             ],
             [
              0.1111111111111111,
              "#46039f"
             ],
             [
              0.2222222222222222,
              "#7201a8"
             ],
             [
              0.3333333333333333,
              "#9c179e"
             ],
             [
              0.4444444444444444,
              "#bd3786"
             ],
             [
              0.5555555555555556,
              "#d8576b"
             ],
             [
              0.6666666666666666,
              "#ed7953"
             ],
             [
              0.7777777777777778,
              "#fb9f3a"
             ],
             [
              0.8888888888888888,
              "#fdca26"
             ],
             [
              1,
              "#f0f921"
             ]
            ],
            "type": "contour"
           }
          ],
          "contourcarpet": [
           {
            "colorbar": {
             "outlinewidth": 0,
             "ticks": ""
            },
            "type": "contourcarpet"
           }
          ],
          "heatmap": [
           {
            "colorbar": {
             "outlinewidth": 0,
             "ticks": ""
            },
            "colorscale": [
             [
              0,
              "#0d0887"
             ],
             [
              0.1111111111111111,
              "#46039f"
             ],
             [
              0.2222222222222222,
              "#7201a8"
             ],
             [
              0.3333333333333333,
              "#9c179e"
             ],
             [
              0.4444444444444444,
              "#bd3786"
             ],
             [
              0.5555555555555556,
              "#d8576b"
             ],
             [
              0.6666666666666666,
              "#ed7953"
             ],
             [
              0.7777777777777778,
              "#fb9f3a"
             ],
             [
              0.8888888888888888,
              "#fdca26"
             ],
             [
              1,
              "#f0f921"
             ]
            ],
            "type": "heatmap"
           }
          ],
          "histogram": [
           {
            "marker": {
             "pattern": {
              "fillmode": "overlay",
              "size": 10,
              "solidity": 0.2
             }
            },
            "type": "histogram"
           }
          ],
          "histogram2d": [
           {
            "colorbar": {
             "outlinewidth": 0,
             "ticks": ""
            },
            "colorscale": [
             [
              0,
              "#0d0887"
             ],
             [
              0.1111111111111111,
              "#46039f"
             ],
             [
              0.2222222222222222,
              "#7201a8"
             ],
             [
              0.3333333333333333,
              "#9c179e"
             ],
             [
              0.4444444444444444,
              "#bd3786"
             ],
             [
              0.5555555555555556,
              "#d8576b"
             ],
             [
              0.6666666666666666,
              "#ed7953"
             ],
             [
              0.7777777777777778,
              "#fb9f3a"
             ],
             [
              0.8888888888888888,
              "#fdca26"
             ],
             [
              1,
              "#f0f921"
             ]
            ],
            "type": "histogram2d"
           }
          ],
          "histogram2dcontour": [
           {
            "colorbar": {
             "outlinewidth": 0,
             "ticks": ""
            },
            "colorscale": [
             [
              0,
              "#0d0887"
             ],
             [
              0.1111111111111111,
              "#46039f"
             ],
             [
              0.2222222222222222,
              "#7201a8"
             ],
             [
              0.3333333333333333,
              "#9c179e"
             ],
             [
              0.4444444444444444,
              "#bd3786"
             ],
             [
              0.5555555555555556,
              "#d8576b"
             ],
             [
              0.6666666666666666,
              "#ed7953"
             ],
             [
              0.7777777777777778,
              "#fb9f3a"
             ],
             [
              0.8888888888888888,
              "#fdca26"
             ],
             [
              1,
              "#f0f921"
             ]
            ],
            "type": "histogram2dcontour"
           }
          ],
          "mesh3d": [
           {
            "colorbar": {
             "outlinewidth": 0,
             "ticks": ""
            },
            "type": "mesh3d"
           }
          ],
          "parcoords": [
           {
            "line": {
             "colorbar": {
              "outlinewidth": 0,
              "ticks": ""
             }
            },
            "type": "parcoords"
           }
          ],
          "pie": [
           {
            "automargin": true,
            "type": "pie"
           }
          ],
          "scatter": [
           {
            "fillpattern": {
             "fillmode": "overlay",
             "size": 10,
             "solidity": 0.2
            },
            "type": "scatter"
           }
          ],
          "scatter3d": [
           {
            "line": {
             "colorbar": {
              "outlinewidth": 0,
              "ticks": ""
             }
            },
            "marker": {
             "colorbar": {
              "outlinewidth": 0,
              "ticks": ""
             }
            },
            "type": "scatter3d"
           }
          ],
          "scattercarpet": [
           {
            "marker": {
             "colorbar": {
              "outlinewidth": 0,
              "ticks": ""
             }
            },
            "type": "scattercarpet"
           }
          ],
          "scattergeo": [
           {
            "marker": {
             "colorbar": {
              "outlinewidth": 0,
              "ticks": ""
             }
            },
            "type": "scattergeo"
           }
          ],
          "scattergl": [
           {
            "marker": {
             "colorbar": {
              "outlinewidth": 0,
              "ticks": ""
             }
            },
            "type": "scattergl"
           }
          ],
          "scattermap": [
           {
            "marker": {
             "colorbar": {
              "outlinewidth": 0,
              "ticks": ""
             }
            },
            "type": "scattermap"
           }
          ],
          "scattermapbox": [
           {
            "marker": {
             "colorbar": {
              "outlinewidth": 0,
              "ticks": ""
             }
            },
            "type": "scattermapbox"
           }
          ],
          "scatterpolar": [
           {
            "marker": {
             "colorbar": {
              "outlinewidth": 0,
              "ticks": ""
             }
            },
            "type": "scatterpolar"
           }
          ],
          "scatterpolargl": [
           {
            "marker": {
             "colorbar": {
              "outlinewidth": 0,
              "ticks": ""
             }
            },
            "type": "scatterpolargl"
           }
          ],
          "scatterternary": [
           {
            "marker": {
             "colorbar": {
              "outlinewidth": 0,
              "ticks": ""
             }
            },
            "type": "scatterternary"
           }
          ],
          "surface": [
           {
            "colorbar": {
             "outlinewidth": 0,
             "ticks": ""
            },
            "colorscale": [
             [
              0,
              "#0d0887"
             ],
             [
              0.1111111111111111,
              "#46039f"
             ],
             [
              0.2222222222222222,
              "#7201a8"
             ],
             [
              0.3333333333333333,
              "#9c179e"
             ],
             [
              0.4444444444444444,
              "#bd3786"
             ],
             [
              0.5555555555555556,
              "#d8576b"
             ],
             [
              0.6666666666666666,
              "#ed7953"
             ],
             [
              0.7777777777777778,
              "#fb9f3a"
             ],
             [
              0.8888888888888888,
              "#fdca26"
             ],
             [
              1,
              "#f0f921"
             ]
            ],
            "type": "surface"
           }
          ],
          "table": [
           {
            "cells": {
             "fill": {
              "color": "#EBF0F8"
             },
             "line": {
              "color": "white"
             }
            },
            "header": {
             "fill": {
              "color": "#C8D4E3"
             },
             "line": {
              "color": "white"
             }
            },
            "type": "table"
           }
          ]
         },
         "layout": {
          "annotationdefaults": {
           "arrowcolor": "#2a3f5f",
           "arrowhead": 0,
           "arrowwidth": 1
          },
          "autotypenumbers": "strict",
          "coloraxis": {
           "colorbar": {
            "outlinewidth": 0,
            "ticks": ""
           }
          },
          "colorscale": {
           "diverging": [
            [
             0,
             "#8e0152"
            ],
            [
             0.1,
             "#c51b7d"
            ],
            [
             0.2,
             "#de77ae"
            ],
            [
             0.3,
             "#f1b6da"
            ],
            [
             0.4,
             "#fde0ef"
            ],
            [
             0.5,
             "#f7f7f7"
            ],
            [
             0.6,
             "#e6f5d0"
            ],
            [
             0.7,
             "#b8e186"
            ],
            [
             0.8,
             "#7fbc41"
            ],
            [
             0.9,
             "#4d9221"
            ],
            [
             1,
             "#276419"
            ]
           ],
           "sequential": [
            [
             0,
             "#0d0887"
            ],
            [
             0.1111111111111111,
             "#46039f"
            ],
            [
             0.2222222222222222,
             "#7201a8"
            ],
            [
             0.3333333333333333,
             "#9c179e"
            ],
            [
             0.4444444444444444,
             "#bd3786"
            ],
            [
             0.5555555555555556,
             "#d8576b"
            ],
            [
             0.6666666666666666,
             "#ed7953"
            ],
            [
             0.7777777777777778,
             "#fb9f3a"
            ],
            [
             0.8888888888888888,
             "#fdca26"
            ],
            [
             1,
             "#f0f921"
            ]
           ],
           "sequentialminus": [
            [
             0,
             "#0d0887"
            ],
            [
             0.1111111111111111,
             "#46039f"
            ],
            [
             0.2222222222222222,
             "#7201a8"
            ],
            [
             0.3333333333333333,
             "#9c179e"
            ],
            [
             0.4444444444444444,
             "#bd3786"
            ],
            [
             0.5555555555555556,
             "#d8576b"
            ],
            [
             0.6666666666666666,
             "#ed7953"
            ],
            [
             0.7777777777777778,
             "#fb9f3a"
            ],
            [
             0.8888888888888888,
             "#fdca26"
            ],
            [
             1,
             "#f0f921"
            ]
           ]
          },
          "colorway": [
           "#636efa",
           "#EF553B",
           "#00cc96",
           "#ab63fa",
           "#FFA15A",
           "#19d3f3",
           "#FF6692",
           "#B6E880",
           "#FF97FF",
           "#FECB52"
          ],
          "font": {
           "color": "#2a3f5f"
          },
          "geo": {
           "bgcolor": "white",
           "lakecolor": "white",
           "landcolor": "white",
           "showlakes": true,
           "showland": true,
           "subunitcolor": "#C8D4E3"
          },
          "hoverlabel": {
           "align": "left"
          },
          "hovermode": "closest",
          "mapbox": {
           "style": "light"
          },
          "paper_bgcolor": "white",
          "plot_bgcolor": "white",
          "polar": {
           "angularaxis": {
            "gridcolor": "#EBF0F8",
            "linecolor": "#EBF0F8",
            "ticks": ""
           },
           "bgcolor": "white",
           "radialaxis": {
            "gridcolor": "#EBF0F8",
            "linecolor": "#EBF0F8",
            "ticks": ""
           }
          },
          "scene": {
           "xaxis": {
            "backgroundcolor": "white",
            "gridcolor": "#DFE8F3",
            "gridwidth": 2,
            "linecolor": "#EBF0F8",
            "showbackground": true,
            "ticks": "",
            "zerolinecolor": "#EBF0F8"
           },
           "yaxis": {
            "backgroundcolor": "white",
            "gridcolor": "#DFE8F3",
            "gridwidth": 2,
            "linecolor": "#EBF0F8",
            "showbackground": true,
            "ticks": "",
            "zerolinecolor": "#EBF0F8"
           },
           "zaxis": {
            "backgroundcolor": "white",
            "gridcolor": "#DFE8F3",
            "gridwidth": 2,
            "linecolor": "#EBF0F8",
            "showbackground": true,
            "ticks": "",
            "zerolinecolor": "#EBF0F8"
           }
          },
          "shapedefaults": {
           "line": {
            "color": "#2a3f5f"
           }
          },
          "ternary": {
           "aaxis": {
            "gridcolor": "#DFE8F3",
            "linecolor": "#A2B1C6",
            "ticks": ""
           },
           "baxis": {
            "gridcolor": "#DFE8F3",
            "linecolor": "#A2B1C6",
            "ticks": ""
           },
           "bgcolor": "white",
           "caxis": {
            "gridcolor": "#DFE8F3",
            "linecolor": "#A2B1C6",
            "ticks": ""
           }
          },
          "title": {
           "x": 0.05
          },
          "xaxis": {
           "automargin": true,
           "gridcolor": "#EBF0F8",
           "linecolor": "#EBF0F8",
           "ticks": "",
           "title": {
            "standoff": 15
           },
           "zerolinecolor": "#EBF0F8",
           "zerolinewidth": 2
          },
          "yaxis": {
           "automargin": true,
           "gridcolor": "#EBF0F8",
           "linecolor": "#EBF0F8",
           "ticks": "",
           "title": {
            "standoff": 15
           },
           "zerolinecolor": "#EBF0F8",
           "zerolinewidth": 2
          }
         }
        },
        "xaxis": {
         "anchor": "y",
         "domain": [
          0,
          1
         ],
         "title": {
          "text": "Tax 5%"
         }
        },
        "yaxis": {
         "anchor": "x",
         "domain": [
          0,
          1
         ],
         "title": {
          "text": "count"
         }
        }
       }
      }
     },
     "metadata": {},
     "output_type": "display_data"
    },
    {
     "data": {
      "application/vnd.plotly.v1+json": {
       "config": {
        "plotlyServerURL": "https://plot.ly"
       },
       "data": [
        {
         "bingroup": "x",
         "hovertemplate": "Total=%{x}<br>count=%{y}<extra></extra>",
         "legendgroup": "",
         "marker": {
          "color": "#636efa",
          "pattern": {
           "shape": ""
          }
         },
         "name": "",
         "orientation": "v",
         "showlegend": false,
         "type": "histogram",
         "x": {
          "bdata": "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",
          "dtype": "f8"
         },
         "xaxis": "x",
         "yaxis": "y"
        }
       ],
       "layout": {
        "barmode": "relative",
        "legend": {
         "tracegroupgap": 0
        },
        "margin": {
         "t": 60
        },
        "template": {
         "data": {
          "bar": [
           {
            "error_x": {
             "color": "#2a3f5f"
            },
            "error_y": {
             "color": "#2a3f5f"
            },
            "marker": {
             "line": {
              "color": "white",
              "width": 0.5
             },
             "pattern": {
              "fillmode": "overlay",
              "size": 10,
              "solidity": 0.2
             }
            },
            "type": "bar"
           }
          ],
          "barpolar": [
           {
            "marker": {
             "line": {
              "color": "white",
              "width": 0.5
             },
             "pattern": {
              "fillmode": "overlay",
              "size": 10,
              "solidity": 0.2
             }
            },
            "type": "barpolar"
           }
          ],
          "carpet": [
           {
            "aaxis": {
             "endlinecolor": "#2a3f5f",
             "gridcolor": "#C8D4E3",
             "linecolor": "#C8D4E3",
             "minorgridcolor": "#C8D4E3",
             "startlinecolor": "#2a3f5f"
            },
            "baxis": {
             "endlinecolor": "#2a3f5f",
             "gridcolor": "#C8D4E3",
             "linecolor": "#C8D4E3",
             "minorgridcolor": "#C8D4E3",
             "startlinecolor": "#2a3f5f"
            },
            "type": "carpet"
           }
          ],
          "choropleth": [
           {
            "colorbar": {
             "outlinewidth": 0,
             "ticks": ""
            },
            "type": "choropleth"
           }
          ],
          "contour": [
           {
            "colorbar": {
             "outlinewidth": 0,
             "ticks": ""
            },
            "colorscale": [
             [
              0,
              "#0d0887"
             ],
             [
              0.1111111111111111,
              "#46039f"
             ],
             [
              0.2222222222222222,
              "#7201a8"
             ],
             [
              0.3333333333333333,
              "#9c179e"
             ],
             [
              0.4444444444444444,
              "#bd3786"
             ],
             [
              0.5555555555555556,
              "#d8576b"
             ],
             [
              0.6666666666666666,
              "#ed7953"
             ],
             [
              0.7777777777777778,
              "#fb9f3a"
             ],
             [
              0.8888888888888888,
              "#fdca26"
             ],
             [
              1,
              "#f0f921"
             ]
            ],
            "type": "contour"
           }
          ],
          "contourcarpet": [
           {
            "colorbar": {
             "outlinewidth": 0,
             "ticks": ""
            },
            "type": "contourcarpet"
           }
          ],
          "heatmap": [
           {
            "colorbar": {
             "outlinewidth": 0,
             "ticks": ""
            },
            "colorscale": [
             [
              0,
              "#0d0887"
             ],
             [
              0.1111111111111111,
              "#46039f"
             ],
             [
              0.2222222222222222,
              "#7201a8"
             ],
             [
              0.3333333333333333,
              "#9c179e"
             ],
             [
              0.4444444444444444,
              "#bd3786"
             ],
             [
              0.5555555555555556,
              "#d8576b"
             ],
             [
              0.6666666666666666,
              "#ed7953"
             ],
             [
              0.7777777777777778,
              "#fb9f3a"
             ],
             [
              0.8888888888888888,
              "#fdca26"
             ],
             [
              1,
              "#f0f921"
             ]
            ],
            "type": "heatmap"
           }
          ],
          "histogram": [
           {
            "marker": {
             "pattern": {
              "fillmode": "overlay",
              "size": 10,
              "solidity": 0.2
             }
            },
            "type": "histogram"
           }
          ],
          "histogram2d": [
           {
            "colorbar": {
             "outlinewidth": 0,
             "ticks": ""
            },
            "colorscale": [
             [
              0,
              "#0d0887"
             ],
             [
              0.1111111111111111,
              "#46039f"
             ],
             [
              0.2222222222222222,
              "#7201a8"
             ],
             [
              0.3333333333333333,
              "#9c179e"
             ],
             [
              0.4444444444444444,
              "#bd3786"
             ],
             [
              0.5555555555555556,
              "#d8576b"
             ],
             [
              0.6666666666666666,
              "#ed7953"
             ],
             [
              0.7777777777777778,
              "#fb9f3a"
             ],
             [
              0.8888888888888888,
              "#fdca26"
             ],
             [
              1,
              "#f0f921"
             ]
            ],
            "type": "histogram2d"
           }
          ],
          "histogram2dcontour": [
           {
            "colorbar": {
             "outlinewidth": 0,
             "ticks": ""
            },
            "colorscale": [
             [
              0,
              "#0d0887"
             ],
             [
              0.1111111111111111,
              "#46039f"
             ],
             [
              0.2222222222222222,
              "#7201a8"
             ],
             [
              0.3333333333333333,
              "#9c179e"
             ],
             [
              0.4444444444444444,
              "#bd3786"
             ],
             [
              0.5555555555555556,
              "#d8576b"
             ],
             [
              0.6666666666666666,
              "#ed7953"
             ],
             [
              0.7777777777777778,
              "#fb9f3a"
             ],
             [
              0.8888888888888888,
              "#fdca26"
             ],
             [
              1,
              "#f0f921"
             ]
            ],
            "type": "histogram2dcontour"
           }
          ],
          "mesh3d": [
           {
            "colorbar": {
             "outlinewidth": 0,
             "ticks": ""
            },
            "type": "mesh3d"
           }
          ],
          "parcoords": [
           {
            "line": {
             "colorbar": {
              "outlinewidth": 0,
              "ticks": ""
             }
            },
            "type": "parcoords"
           }
          ],
          "pie": [
           {
            "automargin": true,
            "type": "pie"
           }
          ],
          "scatter": [
           {
            "fillpattern": {
             "fillmode": "overlay",
             "size": 10,
             "solidity": 0.2
            },
            "type": "scatter"
           }
          ],
          "scatter3d": [
           {
            "line": {
             "colorbar": {
              "outlinewidth": 0,
              "ticks": ""
             }
            },
            "marker": {
             "colorbar": {
              "outlinewidth": 0,
              "ticks": ""
             }
            },
            "type": "scatter3d"
           }
          ],
          "scattercarpet": [
           {
            "marker": {
             "colorbar": {
              "outlinewidth": 0,
              "ticks": ""
             }
            },
            "type": "scattercarpet"
           }
          ],
          "scattergeo": [
           {
            "marker": {
             "colorbar": {
              "outlinewidth": 0,
              "ticks": ""
             }
            },
            "type": "scattergeo"
           }
          ],
          "scattergl": [
           {
            "marker": {
             "colorbar": {
              "outlinewidth": 0,
              "ticks": ""
             }
            },
            "type": "scattergl"
           }
          ],
          "scattermap": [
           {
            "marker": {
             "colorbar": {
              "outlinewidth": 0,
              "ticks": ""
             }
            },
            "type": "scattermap"
           }
          ],
          "scattermapbox": [
           {
            "marker": {
             "colorbar": {
              "outlinewidth": 0,
              "ticks": ""
             }
            },
            "type": "scattermapbox"
           }
          ],
          "scatterpolar": [
           {
            "marker": {
             "colorbar": {
              "outlinewidth": 0,
              "ticks": ""
             }
            },
            "type": "scatterpolar"
           }
          ],
          "scatterpolargl": [
           {
            "marker": {
             "colorbar": {
              "outlinewidth": 0,
              "ticks": ""
             }
            },
            "type": "scatterpolargl"
           }
          ],
          "scatterternary": [
           {
            "marker": {
             "colorbar": {
              "outlinewidth": 0,
              "ticks": ""
             }
            },
            "type": "scatterternary"
           }
          ],
          "surface": [
           {
            "colorbar": {
             "outlinewidth": 0,
             "ticks": ""
            },
            "colorscale": [
             [
              0,
              "#0d0887"
             ],
             [
              0.1111111111111111,
              "#46039f"
             ],
             [
              0.2222222222222222,
              "#7201a8"
             ],
             [
              0.3333333333333333,
              "#9c179e"
             ],
             [
              0.4444444444444444,
              "#bd3786"
             ],
             [
              0.5555555555555556,
              "#d8576b"
             ],
             [
              0.6666666666666666,
              "#ed7953"
             ],
             [
              0.7777777777777778,
              "#fb9f3a"
             ],
             [
              0.8888888888888888,
              "#fdca26"
             ],
             [
              1,
              "#f0f921"
             ]
            ],
            "type": "surface"
           }
          ],
          "table": [
           {
            "cells": {
             "fill": {
              "color": "#EBF0F8"
             },
             "line": {
              "color": "white"
             }
            },
            "header": {
             "fill": {
              "color": "#C8D4E3"
             },
             "line": {
              "color": "white"
             }
            },
            "type": "table"
           }
          ]
         },
         "layout": {
          "annotationdefaults": {
           "arrowcolor": "#2a3f5f",
           "arrowhead": 0,
           "arrowwidth": 1
          },
          "autotypenumbers": "strict",
          "coloraxis": {
           "colorbar": {
            "outlinewidth": 0,
            "ticks": ""
           }
          },
          "colorscale": {
           "diverging": [
            [
             0,
             "#8e0152"
            ],
            [
             0.1,
             "#c51b7d"
            ],
            [
             0.2,
             "#de77ae"
            ],
            [
             0.3,
             "#f1b6da"
            ],
            [
             0.4,
             "#fde0ef"
            ],
            [
             0.5,
             "#f7f7f7"
            ],
            [
             0.6,
             "#e6f5d0"
            ],
            [
             0.7,
             "#b8e186"
            ],
            [
             0.8,
             "#7fbc41"
            ],
            [
             0.9,
             "#4d9221"
            ],
            [
             1,
             "#276419"
            ]
           ],
           "sequential": [
            [
             0,
             "#0d0887"
            ],
            [
             0.1111111111111111,
             "#46039f"
            ],
            [
             0.2222222222222222,
             "#7201a8"
            ],
            [
             0.3333333333333333,
             "#9c179e"
            ],
            [
             0.4444444444444444,
             "#bd3786"
            ],
            [
             0.5555555555555556,
             "#d8576b"
            ],
            [
             0.6666666666666666,
             "#ed7953"
            ],
            [
             0.7777777777777778,
             "#fb9f3a"
            ],
            [
             0.8888888888888888,
             "#fdca26"
            ],
            [
             1,
             "#f0f921"
            ]
           ],
           "sequentialminus": [
            [
             0,
             "#0d0887"
            ],
            [
             0.1111111111111111,
             "#46039f"
            ],
            [
             0.2222222222222222,
             "#7201a8"
            ],
            [
             0.3333333333333333,
             "#9c179e"
            ],
            [
             0.4444444444444444,
             "#bd3786"
            ],
            [
             0.5555555555555556,
             "#d8576b"
            ],
            [
             0.6666666666666666,
             "#ed7953"
            ],
            [
             0.7777777777777778,
             "#fb9f3a"
            ],
            [
             0.8888888888888888,
             "#fdca26"
            ],
            [
             1,
             "#f0f921"
            ]
           ]
          },
          "colorway": [
           "#636efa",
           "#EF553B",
           "#00cc96",
           "#ab63fa",
           "#FFA15A",
           "#19d3f3",
           "#FF6692",
           "#B6E880",
           "#FF97FF",
           "#FECB52"
          ],
          "font": {
           "color": "#2a3f5f"
          },
          "geo": {
           "bgcolor": "white",
           "lakecolor": "white",
           "landcolor": "white",
           "showlakes": true,
           "showland": true,
           "subunitcolor": "#C8D4E3"
          },
          "hoverlabel": {
           "align": "left"
          },
          "hovermode": "closest",
          "mapbox": {
           "style": "light"
          },
          "paper_bgcolor": "white",
          "plot_bgcolor": "white",
          "polar": {
           "angularaxis": {
            "gridcolor": "#EBF0F8",
            "linecolor": "#EBF0F8",
            "ticks": ""
           },
           "bgcolor": "white",
           "radialaxis": {
            "gridcolor": "#EBF0F8",
            "linecolor": "#EBF0F8",
            "ticks": ""
           }
          },
          "scene": {
           "xaxis": {
            "backgroundcolor": "white",
            "gridcolor": "#DFE8F3",
            "gridwidth": 2,
            "linecolor": "#EBF0F8",
            "showbackground": true,
            "ticks": "",
            "zerolinecolor": "#EBF0F8"
           },
           "yaxis": {
            "backgroundcolor": "white",
            "gridcolor": "#DFE8F3",
            "gridwidth": 2,
            "linecolor": "#EBF0F8",
            "showbackground": true,
            "ticks": "",
            "zerolinecolor": "#EBF0F8"
           },
           "zaxis": {
            "backgroundcolor": "white",
            "gridcolor": "#DFE8F3",
            "gridwidth": 2,
            "linecolor": "#EBF0F8",
            "showbackground": true,
            "ticks": "",
            "zerolinecolor": "#EBF0F8"
           }
          },
          "shapedefaults": {
           "line": {
            "color": "#2a3f5f"
           }
          },
          "ternary": {
           "aaxis": {
            "gridcolor": "#DFE8F3",
            "linecolor": "#A2B1C6",
            "ticks": ""
           },
           "baxis": {
            "gridcolor": "#DFE8F3",
            "linecolor": "#A2B1C6",
            "ticks": ""
           },
           "bgcolor": "white",
           "caxis": {
            "gridcolor": "#DFE8F3",
            "linecolor": "#A2B1C6",
            "ticks": ""
           }
          },
          "title": {
           "x": 0.05
          },
          "xaxis": {
           "automargin": true,
           "gridcolor": "#EBF0F8",
           "linecolor": "#EBF0F8",
           "ticks": "",
           "title": {
            "standoff": 15
           },
           "zerolinecolor": "#EBF0F8",
           "zerolinewidth": 2
          },
          "yaxis": {
           "automargin": true,
           "gridcolor": "#EBF0F8",
           "linecolor": "#EBF0F8",
           "ticks": "",
           "title": {
            "standoff": 15
           },
           "zerolinecolor": "#EBF0F8",
           "zerolinewidth": 2
          }
         }
        },
        "xaxis": {
         "anchor": "y",
         "domain": [
          0,
          1
         ],
         "title": {
          "text": "Total"
         }
        },
        "yaxis": {
         "anchor": "x",
         "domain": [
          0,
          1
         ],
         "title": {
          "text": "count"
         }
        }
       }
      }
     },
     "metadata": {},
     "output_type": "display_data"
    },
    {
     "data": {
      "application/vnd.plotly.v1+json": {
       "config": {
        "plotlyServerURL": "https://plot.ly"
       },
       "data": [
        {
         "bingroup": "x",
         "hovertemplate": "cogs=%{x}<br>count=%{y}<extra></extra>",
         "legendgroup": "",
         "marker": {
          "color": "#636efa",
          "pattern": {
           "shape": ""
          }
         },
         "name": "",
         "orientation": "v",
         "showlegend": false,
         "type": "histogram",
         "x": {
          "bdata": "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",
          "dtype": "f8"
         },
         "xaxis": "x",
         "yaxis": "y"
        }
       ],
       "layout": {
        "barmode": "relative",
        "legend": {
         "tracegroupgap": 0
        },
        "margin": {
         "t": 60
        },
        "template": {
         "data": {
          "bar": [
           {
            "error_x": {
             "color": "#2a3f5f"
            },
            "error_y": {
             "color": "#2a3f5f"
            },
            "marker": {
             "line": {
              "color": "white",
              "width": 0.5
             },
             "pattern": {
              "fillmode": "overlay",
              "size": 10,
              "solidity": 0.2
             }
            },
            "type": "bar"
           }
          ],
          "barpolar": [
           {
            "marker": {
             "line": {
              "color": "white",
              "width": 0.5
             },
             "pattern": {
              "fillmode": "overlay",
              "size": 10,
              "solidity": 0.2
             }
            },
            "type": "barpolar"
           }
          ],
          "carpet": [
           {
            "aaxis": {
             "endlinecolor": "#2a3f5f",
             "gridcolor": "#C8D4E3",
             "linecolor": "#C8D4E3",
             "minorgridcolor": "#C8D4E3",
             "startlinecolor": "#2a3f5f"
            },
            "baxis": {
             "endlinecolor": "#2a3f5f",
             "gridcolor": "#C8D4E3",
             "linecolor": "#C8D4E3",
             "minorgridcolor": "#C8D4E3",
             "startlinecolor": "#2a3f5f"
            },
            "type": "carpet"
           }
          ],
          "choropleth": [
           {
            "colorbar": {
             "outlinewidth": 0,
             "ticks": ""
            },
            "type": "choropleth"
           }
          ],
          "contour": [
           {
            "colorbar": {
             "outlinewidth": 0,
             "ticks": ""
            },
            "colorscale": [
             [
              0,
              "#0d0887"
             ],
             [
              0.1111111111111111,
              "#46039f"
             ],
             [
              0.2222222222222222,
              "#7201a8"
             ],
             [
              0.3333333333333333,
              "#9c179e"
             ],
             [
              0.4444444444444444,
              "#bd3786"
             ],
             [
              0.5555555555555556,
              "#d8576b"
             ],
             [
              0.6666666666666666,
              "#ed7953"
             ],
             [
              0.7777777777777778,
              "#fb9f3a"
             ],
             [
              0.8888888888888888,
              "#fdca26"
             ],
             [
              1,
              "#f0f921"
             ]
            ],
            "type": "contour"
           }
          ],
          "contourcarpet": [
           {
            "colorbar": {
             "outlinewidth": 0,
             "ticks": ""
            },
            "type": "contourcarpet"
           }
          ],
          "heatmap": [
           {
            "colorbar": {
             "outlinewidth": 0,
             "ticks": ""
            },
            "colorscale": [
             [
              0,
              "#0d0887"
             ],
             [
              0.1111111111111111,
              "#46039f"
             ],
             [
              0.2222222222222222,
              "#7201a8"
             ],
             [
              0.3333333333333333,
              "#9c179e"
             ],
             [
              0.4444444444444444,
              "#bd3786"
             ],
             [
              0.5555555555555556,
              "#d8576b"
             ],
             [
              0.6666666666666666,
              "#ed7953"
             ],
             [
              0.7777777777777778,
              "#fb9f3a"
             ],
             [
              0.8888888888888888,
              "#fdca26"
             ],
             [
              1,
              "#f0f921"
             ]
            ],
            "type": "heatmap"
           }
          ],
          "histogram": [
           {
            "marker": {
             "pattern": {
              "fillmode": "overlay",
              "size": 10,
              "solidity": 0.2
             }
            },
            "type": "histogram"
           }
          ],
          "histogram2d": [
           {
            "colorbar": {
             "outlinewidth": 0,
             "ticks": ""
            },
            "colorscale": [
             [
              0,
              "#0d0887"
             ],
             [
              0.1111111111111111,
              "#46039f"
             ],
             [
              0.2222222222222222,
              "#7201a8"
             ],
             [
              0.3333333333333333,
              "#9c179e"
             ],
             [
              0.4444444444444444,
              "#bd3786"
             ],
             [
              0.5555555555555556,
              "#d8576b"
             ],
             [
              0.6666666666666666,
              "#ed7953"
             ],
             [
              0.7777777777777778,
              "#fb9f3a"
             ],
             [
              0.8888888888888888,
              "#fdca26"
             ],
             [
              1,
              "#f0f921"
             ]
            ],
            "type": "histogram2d"
           }
          ],
          "histogram2dcontour": [
           {
            "colorbar": {
             "outlinewidth": 0,
             "ticks": ""
            },
            "colorscale": [
             [
              0,
              "#0d0887"
             ],
             [
              0.1111111111111111,
              "#46039f"
             ],
             [
              0.2222222222222222,
              "#7201a8"
             ],
             [
              0.3333333333333333,
              "#9c179e"
             ],
             [
              0.4444444444444444,
              "#bd3786"
             ],
             [
              0.5555555555555556,
              "#d8576b"
             ],
             [
              0.6666666666666666,
              "#ed7953"
             ],
             [
              0.7777777777777778,
              "#fb9f3a"
             ],
             [
              0.8888888888888888,
              "#fdca26"
             ],
             [
              1,
              "#f0f921"
             ]
            ],
            "type": "histogram2dcontour"
           }
          ],
          "mesh3d": [
           {
            "colorbar": {
             "outlinewidth": 0,
             "ticks": ""
            },
            "type": "mesh3d"
           }
          ],
          "parcoords": [
           {
            "line": {
             "colorbar": {
              "outlinewidth": 0,
              "ticks": ""
             }
            },
            "type": "parcoords"
           }
          ],
          "pie": [
           {
            "automargin": true,
            "type": "pie"
           }
          ],
          "scatter": [
           {
            "fillpattern": {
             "fillmode": "overlay",
             "size": 10,
             "solidity": 0.2
            },
            "type": "scatter"
           }
          ],
          "scatter3d": [
           {
            "line": {
             "colorbar": {
              "outlinewidth": 0,
              "ticks": ""
             }
            },
            "marker": {
             "colorbar": {
              "outlinewidth": 0,
              "ticks": ""
             }
            },
            "type": "scatter3d"
           }
          ],
          "scattercarpet": [
           {
            "marker": {
             "colorbar": {
              "outlinewidth": 0,
              "ticks": ""
             }
            },
            "type": "scattercarpet"
           }
          ],
          "scattergeo": [
           {
            "marker": {
             "colorbar": {
              "outlinewidth": 0,
              "ticks": ""
             }
            },
            "type": "scattergeo"
           }
          ],
          "scattergl": [
           {
            "marker": {
             "colorbar": {
              "outlinewidth": 0,
              "ticks": ""
             }
            },
            "type": "scattergl"
           }
          ],
          "scattermap": [
           {
            "marker": {
             "colorbar": {
              "outlinewidth": 0,
              "ticks": ""
             }
            },
            "type": "scattermap"
           }
          ],
          "scattermapbox": [
           {
            "marker": {
             "colorbar": {
              "outlinewidth": 0,
              "ticks": ""
             }
            },
            "type": "scattermapbox"
           }
          ],
          "scatterpolar": [
           {
            "marker": {
             "colorbar": {
              "outlinewidth": 0,
              "ticks": ""
             }
            },
            "type": "scatterpolar"
           }
          ],
          "scatterpolargl": [
           {
            "marker": {
             "colorbar": {
              "outlinewidth": 0,
              "ticks": ""
             }
            },
            "type": "scatterpolargl"
           }
          ],
          "scatterternary": [
           {
            "marker": {
             "colorbar": {
              "outlinewidth": 0,
              "ticks": ""
             }
            },
            "type": "scatterternary"
           }
          ],
          "surface": [
           {
            "colorbar": {
             "outlinewidth": 0,
             "ticks": ""
            },
            "colorscale": [
             [
              0,
              "#0d0887"
             ],
             [
              0.1111111111111111,
              "#46039f"
             ],
             [
              0.2222222222222222,
              "#7201a8"
             ],
             [
              0.3333333333333333,
              "#9c179e"
             ],
             [
              0.4444444444444444,
              "#bd3786"
             ],
             [
              0.5555555555555556,
              "#d8576b"
             ],
             [
              0.6666666666666666,
              "#ed7953"
             ],
             [
              0.7777777777777778,
              "#fb9f3a"
             ],
             [
              0.8888888888888888,
              "#fdca26"
             ],
             [
              1,
              "#f0f921"
             ]
            ],
            "type": "surface"
           }
          ],
          "table": [
           {
            "cells": {
             "fill": {
              "color": "#EBF0F8"
             },
             "line": {
              "color": "white"
             }
            },
            "header": {
             "fill": {
              "color": "#C8D4E3"
             },
             "line": {
              "color": "white"
             }
            },
            "type": "table"
           }
          ]
         },
         "layout": {
          "annotationdefaults": {
           "arrowcolor": "#2a3f5f",
           "arrowhead": 0,
           "arrowwidth": 1
          },
          "autotypenumbers": "strict",
          "coloraxis": {
           "colorbar": {
            "outlinewidth": 0,
            "ticks": ""
           }
          },
          "colorscale": {
           "diverging": [
            [
             0,
             "#8e0152"
            ],
            [
             0.1,
             "#c51b7d"
            ],
            [
             0.2,
             "#de77ae"
            ],
            [
             0.3,
             "#f1b6da"
            ],
            [
             0.4,
             "#fde0ef"
            ],
            [
             0.5,
             "#f7f7f7"
            ],
            [
             0.6,
             "#e6f5d0"
            ],
            [
             0.7,
             "#b8e186"
            ],
            [
             0.8,
             "#7fbc41"
            ],
            [
             0.9,
             "#4d9221"
            ],
            [
             1,
             "#276419"
            ]
           ],
           "sequential": [
            [
             0,
             "#0d0887"
            ],
            [
             0.1111111111111111,
             "#46039f"
            ],
            [
             0.2222222222222222,
             "#7201a8"
            ],
            [
             0.3333333333333333,
             "#9c179e"
            ],
            [
             0.4444444444444444,
             "#bd3786"
            ],
            [
             0.5555555555555556,
             "#d8576b"
            ],
            [
             0.6666666666666666,
             "#ed7953"
            ],
            [
             0.7777777777777778,
             "#fb9f3a"
            ],
            [
             0.8888888888888888,
             "#fdca26"
            ],
            [
             1,
             "#f0f921"
            ]
           ],
           "sequentialminus": [
            [
             0,
             "#0d0887"
            ],
            [
             0.1111111111111111,
             "#46039f"
            ],
            [
             0.2222222222222222,
             "#7201a8"
            ],
            [
             0.3333333333333333,
             "#9c179e"
            ],
            [
             0.4444444444444444,
             "#bd3786"
            ],
            [
             0.5555555555555556,
             "#d8576b"
            ],
            [
             0.6666666666666666,
             "#ed7953"
            ],
            [
             0.7777777777777778,
             "#fb9f3a"
            ],
            [
             0.8888888888888888,
             "#fdca26"
            ],
            [
             1,
             "#f0f921"
            ]
           ]
          },
          "colorway": [
           "#636efa",
           "#EF553B",
           "#00cc96",
           "#ab63fa",
           "#FFA15A",
           "#19d3f3",
           "#FF6692",
           "#B6E880",
           "#FF97FF",
           "#FECB52"
          ],
          "font": {
           "color": "#2a3f5f"
          },
          "geo": {
           "bgcolor": "white",
           "lakecolor": "white",
           "landcolor": "white",
           "showlakes": true,
           "showland": true,
           "subunitcolor": "#C8D4E3"
          },
          "hoverlabel": {
           "align": "left"
          },
          "hovermode": "closest",
          "mapbox": {
           "style": "light"
          },
          "paper_bgcolor": "white",
          "plot_bgcolor": "white",
          "polar": {
           "angularaxis": {
            "gridcolor": "#EBF0F8",
            "linecolor": "#EBF0F8",
            "ticks": ""
           },
           "bgcolor": "white",
           "radialaxis": {
            "gridcolor": "#EBF0F8",
            "linecolor": "#EBF0F8",
            "ticks": ""
           }
          },
          "scene": {
           "xaxis": {
            "backgroundcolor": "white",
            "gridcolor": "#DFE8F3",
            "gridwidth": 2,
            "linecolor": "#EBF0F8",
            "showbackground": true,
            "ticks": "",
            "zerolinecolor": "#EBF0F8"
           },
           "yaxis": {
            "backgroundcolor": "white",
            "gridcolor": "#DFE8F3",
            "gridwidth": 2,
            "linecolor": "#EBF0F8",
            "showbackground": true,
            "ticks": "",
            "zerolinecolor": "#EBF0F8"
           },
           "zaxis": {
            "backgroundcolor": "white",
            "gridcolor": "#DFE8F3",
            "gridwidth": 2,
            "linecolor": "#EBF0F8",
            "showbackground": true,
            "ticks": "",
            "zerolinecolor": "#EBF0F8"
           }
          },
          "shapedefaults": {
           "line": {
            "color": "#2a3f5f"
           }
          },
          "ternary": {
           "aaxis": {
            "gridcolor": "#DFE8F3",
            "linecolor": "#A2B1C6",
            "ticks": ""
           },
           "baxis": {
            "gridcolor": "#DFE8F3",
            "linecolor": "#A2B1C6",
            "ticks": ""
           },
           "bgcolor": "white",
           "caxis": {
            "gridcolor": "#DFE8F3",
            "linecolor": "#A2B1C6",
            "ticks": ""
           }
          },
          "title": {
           "x": 0.05
          },
          "xaxis": {
           "automargin": true,
           "gridcolor": "#EBF0F8",
           "linecolor": "#EBF0F8",
           "ticks": "",
           "title": {
            "standoff": 15
           },
           "zerolinecolor": "#EBF0F8",
           "zerolinewidth": 2
          },
          "yaxis": {
           "automargin": true,
           "gridcolor": "#EBF0F8",
           "linecolor": "#EBF0F8",
           "ticks": "",
           "title": {
            "standoff": 15
           },
           "zerolinecolor": "#EBF0F8",
           "zerolinewidth": 2
          }
         }
        },
        "xaxis": {
         "anchor": "y",
         "domain": [
          0,
          1
         ],
         "title": {
          "text": "cogs"
         }
        },
        "yaxis": {
         "anchor": "x",
         "domain": [
          0,
          1
         ],
         "title": {
          "text": "count"
         }
        }
       }
      }
     },
     "metadata": {},
     "output_type": "display_data"
    },
    {
     "data": {
      "application/vnd.plotly.v1+json": {
       "config": {
        "plotlyServerURL": "https://plot.ly"
       },
       "data": [
        {
         "bingroup": "x",
         "hovertemplate": "gross income=%{x}<br>count=%{y}<extra></extra>",
         "legendgroup": "",
         "marker": {
          "color": "#636efa",
          "pattern": {
           "shape": ""
          }
         },
         "name": "",
         "orientation": "v",
         "showlegend": false,
         "type": "histogram",
         "x": {
          "bdata": "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",
          "dtype": "f8"
         },
         "xaxis": "x",
         "yaxis": "y"
        }
       ],
       "layout": {
        "barmode": "relative",
        "legend": {
         "tracegroupgap": 0
        },
        "margin": {
         "t": 60
        },
        "template": {
         "data": {
          "bar": [
           {
            "error_x": {
             "color": "#2a3f5f"
            },
            "error_y": {
             "color": "#2a3f5f"
            },
            "marker": {
             "line": {
              "color": "white",
              "width": 0.5
             },
             "pattern": {
              "fillmode": "overlay",
              "size": 10,
              "solidity": 0.2
             }
            },
            "type": "bar"
           }
          ],
          "barpolar": [
           {
            "marker": {
             "line": {
              "color": "white",
              "width": 0.5
             },
             "pattern": {
              "fillmode": "overlay",
              "size": 10,
              "solidity": 0.2
             }
            },
            "type": "barpolar"
           }
          ],
          "carpet": [
           {
            "aaxis": {
             "endlinecolor": "#2a3f5f",
             "gridcolor": "#C8D4E3",
             "linecolor": "#C8D4E3",
             "minorgridcolor": "#C8D4E3",
             "startlinecolor": "#2a3f5f"
            },
            "baxis": {
             "endlinecolor": "#2a3f5f",
             "gridcolor": "#C8D4E3",
             "linecolor": "#C8D4E3",
             "minorgridcolor": "#C8D4E3",
             "startlinecolor": "#2a3f5f"
            },
            "type": "carpet"
           }
          ],
          "choropleth": [
           {
            "colorbar": {
             "outlinewidth": 0,
             "ticks": ""
            },
            "type": "choropleth"
           }
          ],
          "contour": [
           {
            "colorbar": {
             "outlinewidth": 0,
             "ticks": ""
            },
            "colorscale": [
             [
              0,
              "#0d0887"
             ],
             [
              0.1111111111111111,
              "#46039f"
             ],
             [
              0.2222222222222222,
              "#7201a8"
             ],
             [
              0.3333333333333333,
              "#9c179e"
             ],
             [
              0.4444444444444444,
              "#bd3786"
             ],
             [
              0.5555555555555556,
              "#d8576b"
             ],
             [
              0.6666666666666666,
              "#ed7953"
             ],
             [
              0.7777777777777778,
              "#fb9f3a"
             ],
             [
              0.8888888888888888,
              "#fdca26"
             ],
             [
              1,
              "#f0f921"
             ]
            ],
            "type": "contour"
           }
          ],
          "contourcarpet": [
           {
            "colorbar": {
             "outlinewidth": 0,
             "ticks": ""
            },
            "type": "contourcarpet"
           }
          ],
          "heatmap": [
           {
            "colorbar": {
             "outlinewidth": 0,
             "ticks": ""
            },
            "colorscale": [
             [
              0,
              "#0d0887"
             ],
             [
              0.1111111111111111,
              "#46039f"
             ],
             [
              0.2222222222222222,
              "#7201a8"
             ],
             [
              0.3333333333333333,
              "#9c179e"
             ],
             [
              0.4444444444444444,
              "#bd3786"
             ],
             [
              0.5555555555555556,
              "#d8576b"
             ],
             [
              0.6666666666666666,
              "#ed7953"
             ],
             [
              0.7777777777777778,
              "#fb9f3a"
             ],
             [
              0.8888888888888888,
              "#fdca26"
             ],
             [
              1,
              "#f0f921"
             ]
            ],
            "type": "heatmap"
           }
          ],
          "histogram": [
           {
            "marker": {
             "pattern": {
              "fillmode": "overlay",
              "size": 10,
              "solidity": 0.2
             }
            },
            "type": "histogram"
           }
          ],
          "histogram2d": [
           {
            "colorbar": {
             "outlinewidth": 0,
             "ticks": ""
            },
            "colorscale": [
             [
              0,
              "#0d0887"
             ],
             [
              0.1111111111111111,
              "#46039f"
             ],
             [
              0.2222222222222222,
              "#7201a8"
             ],
             [
              0.3333333333333333,
              "#9c179e"
             ],
             [
              0.4444444444444444,
              "#bd3786"
             ],
             [
              0.5555555555555556,
              "#d8576b"
             ],
             [
              0.6666666666666666,
              "#ed7953"
             ],
             [
              0.7777777777777778,
              "#fb9f3a"
             ],
             [
              0.8888888888888888,
              "#fdca26"
             ],
             [
              1,
              "#f0f921"
             ]
            ],
            "type": "histogram2d"
           }
          ],
          "histogram2dcontour": [
           {
            "colorbar": {
             "outlinewidth": 0,
             "ticks": ""
            },
            "colorscale": [
             [
              0,
              "#0d0887"
             ],
             [
              0.1111111111111111,
              "#46039f"
             ],
             [
              0.2222222222222222,
              "#7201a8"
             ],
             [
              0.3333333333333333,
              "#9c179e"
             ],
             [
              0.4444444444444444,
              "#bd3786"
             ],
             [
              0.5555555555555556,
              "#d8576b"
             ],
             [
              0.6666666666666666,
              "#ed7953"
             ],
             [
              0.7777777777777778,
              "#fb9f3a"
             ],
             [
              0.8888888888888888,
              "#fdca26"
             ],
             [
              1,
              "#f0f921"
             ]
            ],
            "type": "histogram2dcontour"
           }
          ],
          "mesh3d": [
           {
            "colorbar": {
             "outlinewidth": 0,
             "ticks": ""
            },
            "type": "mesh3d"
           }
          ],
          "parcoords": [
           {
            "line": {
             "colorbar": {
              "outlinewidth": 0,
              "ticks": ""
             }
            },
            "type": "parcoords"
           }
          ],
          "pie": [
           {
            "automargin": true,
            "type": "pie"
           }
          ],
          "scatter": [
           {
            "fillpattern": {
             "fillmode": "overlay",
             "size": 10,
             "solidity": 0.2
            },
            "type": "scatter"
           }
          ],
          "scatter3d": [
           {
            "line": {
             "colorbar": {
              "outlinewidth": 0,
              "ticks": ""
             }
            },
            "marker": {
             "colorbar": {
              "outlinewidth": 0,
              "ticks": ""
             }
            },
            "type": "scatter3d"
           }
          ],
          "scattercarpet": [
           {
            "marker": {
             "colorbar": {
              "outlinewidth": 0,
              "ticks": ""
             }
            },
            "type": "scattercarpet"
           }
          ],
          "scattergeo": [
           {
            "marker": {
             "colorbar": {
              "outlinewidth": 0,
              "ticks": ""
             }
            },
            "type": "scattergeo"
           }
          ],
          "scattergl": [
           {
            "marker": {
             "colorbar": {
              "outlinewidth": 0,
              "ticks": ""
             }
            },
            "type": "scattergl"
           }
          ],
          "scattermap": [
           {
            "marker": {
             "colorbar": {
              "outlinewidth": 0,
              "ticks": ""
             }
            },
            "type": "scattermap"
           }
          ],
          "scattermapbox": [
           {
            "marker": {
             "colorbar": {
              "outlinewidth": 0,
              "ticks": ""
             }
            },
            "type": "scattermapbox"
           }
          ],
          "scatterpolar": [
           {
            "marker": {
             "colorbar": {
              "outlinewidth": 0,
              "ticks": ""
             }
            },
            "type": "scatterpolar"
           }
          ],
          "scatterpolargl": [
           {
            "marker": {
             "colorbar": {
              "outlinewidth": 0,
              "ticks": ""
             }
            },
            "type": "scatterpolargl"
           }
          ],
          "scatterternary": [
           {
            "marker": {
             "colorbar": {
              "outlinewidth": 0,
              "ticks": ""
             }
            },
            "type": "scatterternary"
           }
          ],
          "surface": [
           {
            "colorbar": {
             "outlinewidth": 0,
             "ticks": ""
            },
            "colorscale": [
             [
              0,
              "#0d0887"
             ],
             [
              0.1111111111111111,
              "#46039f"
             ],
             [
              0.2222222222222222,
              "#7201a8"
             ],
             [
              0.3333333333333333,
              "#9c179e"
             ],
             [
              0.4444444444444444,
              "#bd3786"
             ],
             [
              0.5555555555555556,
              "#d8576b"
             ],
             [
              0.6666666666666666,
              "#ed7953"
             ],
             [
              0.7777777777777778,
              "#fb9f3a"
             ],
             [
              0.8888888888888888,
              "#fdca26"
             ],
             [
              1,
              "#f0f921"
             ]
            ],
            "type": "surface"
           }
          ],
          "table": [
           {
            "cells": {
             "fill": {
              "color": "#EBF0F8"
             },
             "line": {
              "color": "white"
             }
            },
            "header": {
             "fill": {
              "color": "#C8D4E3"
             },
             "line": {
              "color": "white"
             }
            },
            "type": "table"
           }
          ]
         },
         "layout": {
          "annotationdefaults": {
           "arrowcolor": "#2a3f5f",
           "arrowhead": 0,
           "arrowwidth": 1
          },
          "autotypenumbers": "strict",
          "coloraxis": {
           "colorbar": {
            "outlinewidth": 0,
            "ticks": ""
           }
          },
          "colorscale": {
           "diverging": [
            [
             0,
             "#8e0152"
            ],
            [
             0.1,
             "#c51b7d"
            ],
            [
             0.2,
             "#de77ae"
            ],
            [
             0.3,
             "#f1b6da"
            ],
            [
             0.4,
             "#fde0ef"
            ],
            [
             0.5,
             "#f7f7f7"
            ],
            [
             0.6,
             "#e6f5d0"
            ],
            [
             0.7,
             "#b8e186"
            ],
            [
             0.8,
             "#7fbc41"
            ],
            [
             0.9,
             "#4d9221"
            ],
            [
             1,
             "#276419"
            ]
           ],
           "sequential": [
            [
             0,
             "#0d0887"
            ],
            [
             0.1111111111111111,
             "#46039f"
            ],
            [
             0.2222222222222222,
             "#7201a8"
            ],
            [
             0.3333333333333333,
             "#9c179e"
            ],
            [
             0.4444444444444444,
             "#bd3786"
            ],
            [
             0.5555555555555556,
             "#d8576b"
            ],
            [
             0.6666666666666666,
             "#ed7953"
            ],
            [
             0.7777777777777778,
             "#fb9f3a"
            ],
            [
             0.8888888888888888,
             "#fdca26"
            ],
            [
             1,
             "#f0f921"
            ]
           ],
           "sequentialminus": [
            [
             0,
             "#0d0887"
            ],
            [
             0.1111111111111111,
             "#46039f"
            ],
            [
             0.2222222222222222,
             "#7201a8"
            ],
            [
             0.3333333333333333,
             "#9c179e"
            ],
            [
             0.4444444444444444,
             "#bd3786"
            ],
            [
             0.5555555555555556,
             "#d8576b"
            ],
            [
             0.6666666666666666,
             "#ed7953"
            ],
            [
             0.7777777777777778,
             "#fb9f3a"
            ],
            [
             0.8888888888888888,
             "#fdca26"
            ],
            [
             1,
             "#f0f921"
            ]
           ]
          },
          "colorway": [
           "#636efa",
           "#EF553B",
           "#00cc96",
           "#ab63fa",
           "#FFA15A",
           "#19d3f3",
           "#FF6692",
           "#B6E880",
           "#FF97FF",
           "#FECB52"
          ],
          "font": {
           "color": "#2a3f5f"
          },
          "geo": {
           "bgcolor": "white",
           "lakecolor": "white",
           "landcolor": "white",
           "showlakes": true,
           "showland": true,
           "subunitcolor": "#C8D4E3"
          },
          "hoverlabel": {
           "align": "left"
          },
          "hovermode": "closest",
          "mapbox": {
           "style": "light"
          },
          "paper_bgcolor": "white",
          "plot_bgcolor": "white",
          "polar": {
           "angularaxis": {
            "gridcolor": "#EBF0F8",
            "linecolor": "#EBF0F8",
            "ticks": ""
           },
           "bgcolor": "white",
           "radialaxis": {
            "gridcolor": "#EBF0F8",
            "linecolor": "#EBF0F8",
            "ticks": ""
           }
          },
          "scene": {
           "xaxis": {
            "backgroundcolor": "white",
            "gridcolor": "#DFE8F3",
            "gridwidth": 2,
            "linecolor": "#EBF0F8",
            "showbackground": true,
            "ticks": "",
            "zerolinecolor": "#EBF0F8"
           },
           "yaxis": {
            "backgroundcolor": "white",
            "gridcolor": "#DFE8F3",
            "gridwidth": 2,
            "linecolor": "#EBF0F8",
            "showbackground": true,
            "ticks": "",
            "zerolinecolor": "#EBF0F8"
           },
           "zaxis": {
            "backgroundcolor": "white",
            "gridcolor": "#DFE8F3",
            "gridwidth": 2,
            "linecolor": "#EBF0F8",
            "showbackground": true,
            "ticks": "",
            "zerolinecolor": "#EBF0F8"
           }
          },
          "shapedefaults": {
           "line": {
            "color": "#2a3f5f"
           }
          },
          "ternary": {
           "aaxis": {
            "gridcolor": "#DFE8F3",
            "linecolor": "#A2B1C6",
            "ticks": ""
           },
           "baxis": {
            "gridcolor": "#DFE8F3",
            "linecolor": "#A2B1C6",
            "ticks": ""
           },
           "bgcolor": "white",
           "caxis": {
            "gridcolor": "#DFE8F3",
            "linecolor": "#A2B1C6",
            "ticks": ""
           }
          },
          "title": {
           "x": 0.05
          },
          "xaxis": {
           "automargin": true,
           "gridcolor": "#EBF0F8",
           "linecolor": "#EBF0F8",
           "ticks": "",
           "title": {
            "standoff": 15
           },
           "zerolinecolor": "#EBF0F8",
           "zerolinewidth": 2
          },
          "yaxis": {
           "automargin": true,
           "gridcolor": "#EBF0F8",
           "linecolor": "#EBF0F8",
           "ticks": "",
           "title": {
            "standoff": 15
           },
           "zerolinecolor": "#EBF0F8",
           "zerolinewidth": 2
          }
         }
        },
        "xaxis": {
         "anchor": "y",
         "domain": [
          0,
          1
         ],
         "title": {
          "text": "gross income"
         }
        },
        "yaxis": {
         "anchor": "x",
         "domain": [
          0,
          1
         ],
         "title": {
          "text": "count"
         }
        }
       }
      }
     },
     "metadata": {},
     "output_type": "display_data"
    },
    {
     "data": {
      "application/vnd.plotly.v1+json": {
       "config": {
        "plotlyServerURL": "https://plot.ly"
       },
       "data": [
        {
         "bingroup": "x",
         "hovertemplate": "Rating=%{x}<br>count=%{y}<extra></extra>",
         "legendgroup": "",
         "marker": {
          "color": "#636efa",
          "pattern": {
           "shape": ""
          }
         },
         "name": "",
         "orientation": "v",
         "showlegend": false,
         "type": "histogram",
         "x": {
          "bdata": "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",
          "dtype": "f8"
         },
         "xaxis": "x",
         "yaxis": "y"
        }
       ],
       "layout": {
        "barmode": "relative",
        "legend": {
         "tracegroupgap": 0
        },
        "margin": {
         "t": 60
        },
        "template": {
         "data": {
          "bar": [
           {
            "error_x": {
             "color": "#2a3f5f"
            },
            "error_y": {
             "color": "#2a3f5f"
            },
            "marker": {
             "line": {
              "color": "white",
              "width": 0.5
             },
             "pattern": {
              "fillmode": "overlay",
              "size": 10,
              "solidity": 0.2
             }
            },
            "type": "bar"
           }
          ],
          "barpolar": [
           {
            "marker": {
             "line": {
              "color": "white",
              "width": 0.5
             },
             "pattern": {
              "fillmode": "overlay",
              "size": 10,
              "solidity": 0.2
             }
            },
            "type": "barpolar"
           }
          ],
          "carpet": [
           {
            "aaxis": {
             "endlinecolor": "#2a3f5f",
             "gridcolor": "#C8D4E3",
             "linecolor": "#C8D4E3",
             "minorgridcolor": "#C8D4E3",
             "startlinecolor": "#2a3f5f"
            },
            "baxis": {
             "endlinecolor": "#2a3f5f",
             "gridcolor": "#C8D4E3",
             "linecolor": "#C8D4E3",
             "minorgridcolor": "#C8D4E3",
             "startlinecolor": "#2a3f5f"
            },
            "type": "carpet"
           }
          ],
          "choropleth": [
           {
            "colorbar": {
             "outlinewidth": 0,
             "ticks": ""
            },
            "type": "choropleth"
           }
          ],
          "contour": [
           {
            "colorbar": {
             "outlinewidth": 0,
             "ticks": ""
            },
            "colorscale": [
             [
              0,
              "#0d0887"
             ],
             [
              0.1111111111111111,
              "#46039f"
             ],
             [
              0.2222222222222222,
              "#7201a8"
             ],
             [
              0.3333333333333333,
              "#9c179e"
             ],
             [
              0.4444444444444444,
              "#bd3786"
             ],
             [
              0.5555555555555556,
              "#d8576b"
             ],
             [
              0.6666666666666666,
              "#ed7953"
             ],
             [
              0.7777777777777778,
              "#fb9f3a"
             ],
             [
              0.8888888888888888,
              "#fdca26"
             ],
             [
              1,
              "#f0f921"
             ]
            ],
            "type": "contour"
           }
          ],
          "contourcarpet": [
           {
            "colorbar": {
             "outlinewidth": 0,
             "ticks": ""
            },
            "type": "contourcarpet"
           }
          ],
          "heatmap": [
           {
            "colorbar": {
             "outlinewidth": 0,
             "ticks": ""
            },
            "colorscale": [
             [
              0,
              "#0d0887"
             ],
             [
              0.1111111111111111,
              "#46039f"
             ],
             [
              0.2222222222222222,
              "#7201a8"
             ],
             [
              0.3333333333333333,
              "#9c179e"
             ],
             [
              0.4444444444444444,
              "#bd3786"
             ],
             [
              0.5555555555555556,
              "#d8576b"
             ],
             [
              0.6666666666666666,
              "#ed7953"
             ],
             [
              0.7777777777777778,
              "#fb9f3a"
             ],
             [
              0.8888888888888888,
              "#fdca26"
             ],
             [
              1,
              "#f0f921"
             ]
            ],
            "type": "heatmap"
           }
          ],
          "histogram": [
           {
            "marker": {
             "pattern": {
              "fillmode": "overlay",
              "size": 10,
              "solidity": 0.2
             }
            },
            "type": "histogram"
           }
          ],
          "histogram2d": [
           {
            "colorbar": {
             "outlinewidth": 0,
             "ticks": ""
            },
            "colorscale": [
             [
              0,
              "#0d0887"
             ],
             [
              0.1111111111111111,
              "#46039f"
             ],
             [
              0.2222222222222222,
              "#7201a8"
             ],
             [
              0.3333333333333333,
              "#9c179e"
             ],
             [
              0.4444444444444444,
              "#bd3786"
             ],
             [
              0.5555555555555556,
              "#d8576b"
             ],
             [
              0.6666666666666666,
              "#ed7953"
             ],
             [
              0.7777777777777778,
              "#fb9f3a"
             ],
             [
              0.8888888888888888,
              "#fdca26"
             ],
             [
              1,
              "#f0f921"
             ]
            ],
            "type": "histogram2d"
           }
          ],
          "histogram2dcontour": [
           {
            "colorbar": {
             "outlinewidth": 0,
             "ticks": ""
            },
            "colorscale": [
             [
              0,
              "#0d0887"
             ],
             [
              0.1111111111111111,
              "#46039f"
             ],
             [
              0.2222222222222222,
              "#7201a8"
             ],
             [
              0.3333333333333333,
              "#9c179e"
             ],
             [
              0.4444444444444444,
              "#bd3786"
             ],
             [
              0.5555555555555556,
              "#d8576b"
             ],
             [
              0.6666666666666666,
              "#ed7953"
             ],
             [
              0.7777777777777778,
              "#fb9f3a"
             ],
             [
              0.8888888888888888,
              "#fdca26"
             ],
             [
              1,
              "#f0f921"
             ]
            ],
            "type": "histogram2dcontour"
           }
          ],
          "mesh3d": [
           {
            "colorbar": {
             "outlinewidth": 0,
             "ticks": ""
            },
            "type": "mesh3d"
           }
          ],
          "parcoords": [
           {
            "line": {
             "colorbar": {
              "outlinewidth": 0,
              "ticks": ""
             }
            },
            "type": "parcoords"
           }
          ],
          "pie": [
           {
            "automargin": true,
            "type": "pie"
           }
          ],
          "scatter": [
           {
            "fillpattern": {
             "fillmode": "overlay",
             "size": 10,
             "solidity": 0.2
            },
            "type": "scatter"
           }
          ],
          "scatter3d": [
           {
            "line": {
             "colorbar": {
              "outlinewidth": 0,
              "ticks": ""
             }
            },
            "marker": {
             "colorbar": {
              "outlinewidth": 0,
              "ticks": ""
             }
            },
            "type": "scatter3d"
           }
          ],
          "scattercarpet": [
           {
            "marker": {
             "colorbar": {
              "outlinewidth": 0,
              "ticks": ""
             }
            },
            "type": "scattercarpet"
           }
          ],
          "scattergeo": [
           {
            "marker": {
             "colorbar": {
              "outlinewidth": 0,
              "ticks": ""
             }
            },
            "type": "scattergeo"
           }
          ],
          "scattergl": [
           {
            "marker": {
             "colorbar": {
              "outlinewidth": 0,
              "ticks": ""
             }
            },
            "type": "scattergl"
           }
          ],
          "scattermap": [
           {
            "marker": {
             "colorbar": {
              "outlinewidth": 0,
              "ticks": ""
             }
            },
            "type": "scattermap"
           }
          ],
          "scattermapbox": [
           {
            "marker": {
             "colorbar": {
              "outlinewidth": 0,
              "ticks": ""
             }
            },
            "type": "scattermapbox"
           }
          ],
          "scatterpolar": [
           {
            "marker": {
             "colorbar": {
              "outlinewidth": 0,
              "ticks": ""
             }
            },
            "type": "scatterpolar"
           }
          ],
          "scatterpolargl": [
           {
            "marker": {
             "colorbar": {
              "outlinewidth": 0,
              "ticks": ""
             }
            },
            "type": "scatterpolargl"
           }
          ],
          "scatterternary": [
           {
            "marker": {
             "colorbar": {
              "outlinewidth": 0,
              "ticks": ""
             }
            },
            "type": "scatterternary"
           }
          ],
          "surface": [
           {
            "colorbar": {
             "outlinewidth": 0,
             "ticks": ""
            },
            "colorscale": [
             [
              0,
              "#0d0887"
             ],
             [
              0.1111111111111111,
              "#46039f"
             ],
             [
              0.2222222222222222,
              "#7201a8"
             ],
             [
              0.3333333333333333,
              "#9c179e"
             ],
             [
              0.4444444444444444,
              "#bd3786"
             ],
             [
              0.5555555555555556,
              "#d8576b"
             ],
             [
              0.6666666666666666,
              "#ed7953"
             ],
             [
              0.7777777777777778,
              "#fb9f3a"
             ],
             [
              0.8888888888888888,
              "#fdca26"
             ],
             [
              1,
              "#f0f921"
             ]
            ],
            "type": "surface"
           }
          ],
          "table": [
           {
            "cells": {
             "fill": {
              "color": "#EBF0F8"
             },
             "line": {
              "color": "white"
             }
            },
            "header": {
             "fill": {
              "color": "#C8D4E3"
             },
             "line": {
              "color": "white"
             }
            },
            "type": "table"
           }
          ]
         },
         "layout": {
          "annotationdefaults": {
           "arrowcolor": "#2a3f5f",
           "arrowhead": 0,
           "arrowwidth": 1
          },
          "autotypenumbers": "strict",
          "coloraxis": {
           "colorbar": {
            "outlinewidth": 0,
            "ticks": ""
           }
          },
          "colorscale": {
           "diverging": [
            [
             0,
             "#8e0152"
            ],
            [
             0.1,
             "#c51b7d"
            ],
            [
             0.2,
             "#de77ae"
            ],
            [
             0.3,
             "#f1b6da"
            ],
            [
             0.4,
             "#fde0ef"
            ],
            [
             0.5,
             "#f7f7f7"
            ],
            [
             0.6,
             "#e6f5d0"
            ],
            [
             0.7,
             "#b8e186"
            ],
            [
             0.8,
             "#7fbc41"
            ],
            [
             0.9,
             "#4d9221"
            ],
            [
             1,
             "#276419"
            ]
           ],
           "sequential": [
            [
             0,
             "#0d0887"
            ],
            [
             0.1111111111111111,
             "#46039f"
            ],
            [
             0.2222222222222222,
             "#7201a8"
            ],
            [
             0.3333333333333333,
             "#9c179e"
            ],
            [
             0.4444444444444444,
             "#bd3786"
            ],
            [
             0.5555555555555556,
             "#d8576b"
            ],
            [
             0.6666666666666666,
             "#ed7953"
            ],
            [
             0.7777777777777778,
             "#fb9f3a"
            ],
            [
             0.8888888888888888,
             "#fdca26"
            ],
            [
             1,
             "#f0f921"
            ]
           ],
           "sequentialminus": [
            [
             0,
             "#0d0887"
            ],
            [
             0.1111111111111111,
             "#46039f"
            ],
            [
             0.2222222222222222,
             "#7201a8"
            ],
            [
             0.3333333333333333,
             "#9c179e"
            ],
            [
             0.4444444444444444,
             "#bd3786"
            ],
            [
             0.5555555555555556,
             "#d8576b"
            ],
            [
             0.6666666666666666,
             "#ed7953"
            ],
            [
             0.7777777777777778,
             "#fb9f3a"
            ],
            [
             0.8888888888888888,
             "#fdca26"
            ],
            [
             1,
             "#f0f921"
            ]
           ]
          },
          "colorway": [
           "#636efa",
           "#EF553B",
           "#00cc96",
           "#ab63fa",
           "#FFA15A",
           "#19d3f3",
           "#FF6692",
           "#B6E880",
           "#FF97FF",
           "#FECB52"
          ],
          "font": {
           "color": "#2a3f5f"
          },
          "geo": {
           "bgcolor": "white",
           "lakecolor": "white",
           "landcolor": "white",
           "showlakes": true,
           "showland": true,
           "subunitcolor": "#C8D4E3"
          },
          "hoverlabel": {
           "align": "left"
          },
          "hovermode": "closest",
          "mapbox": {
           "style": "light"
          },
          "paper_bgcolor": "white",
          "plot_bgcolor": "white",
          "polar": {
           "angularaxis": {
            "gridcolor": "#EBF0F8",
            "linecolor": "#EBF0F8",
            "ticks": ""
           },
           "bgcolor": "white",
           "radialaxis": {
            "gridcolor": "#EBF0F8",
            "linecolor": "#EBF0F8",
            "ticks": ""
           }
          },
          "scene": {
           "xaxis": {
            "backgroundcolor": "white",
            "gridcolor": "#DFE8F3",
            "gridwidth": 2,
            "linecolor": "#EBF0F8",
            "showbackground": true,
            "ticks": "",
            "zerolinecolor": "#EBF0F8"
           },
           "yaxis": {
            "backgroundcolor": "white",
            "gridcolor": "#DFE8F3",
            "gridwidth": 2,
            "linecolor": "#EBF0F8",
            "showbackground": true,
            "ticks": "",
            "zerolinecolor": "#EBF0F8"
           },
           "zaxis": {
            "backgroundcolor": "white",
            "gridcolor": "#DFE8F3",
            "gridwidth": 2,
            "linecolor": "#EBF0F8",
            "showbackground": true,
            "ticks": "",
            "zerolinecolor": "#EBF0F8"
           }
          },
          "shapedefaults": {
           "line": {
            "color": "#2a3f5f"
           }
          },
          "ternary": {
           "aaxis": {
            "gridcolor": "#DFE8F3",
            "linecolor": "#A2B1C6",
            "ticks": ""
           },
           "baxis": {
            "gridcolor": "#DFE8F3",
            "linecolor": "#A2B1C6",
            "ticks": ""
           },
           "bgcolor": "white",
           "caxis": {
            "gridcolor": "#DFE8F3",
            "linecolor": "#A2B1C6",
            "ticks": ""
           }
          },
          "title": {
           "x": 0.05
          },
          "xaxis": {
           "automargin": true,
           "gridcolor": "#EBF0F8",
           "linecolor": "#EBF0F8",
           "ticks": "",
           "title": {
            "standoff": 15
           },
           "zerolinecolor": "#EBF0F8",
           "zerolinewidth": 2
          },
          "yaxis": {
           "automargin": true,
           "gridcolor": "#EBF0F8",
           "linecolor": "#EBF0F8",
           "ticks": "",
           "title": {
            "standoff": 15
           },
           "zerolinecolor": "#EBF0F8",
           "zerolinewidth": 2
          }
         }
        },
        "xaxis": {
         "anchor": "y",
         "domain": [
          0,
          1
         ],
         "title": {
          "text": "Rating"
         }
        },
        "yaxis": {
         "anchor": "x",
         "domain": [
          0,
          1
         ],
         "title": {
          "text": "count"
         }
        }
       }
      }
     },
     "metadata": {},
     "output_type": "display_data"
    }
   ],
   "source": [
    "for col in num_col:\n",
    "    fig=px.histogram(data_frame=df,x=col)\n",
    "    fig.show()\n"
   ]
  },
  {
   "cell_type": "code",
   "execution_count": 13,
   "id": "6d5f3964",
   "metadata": {},
   "outputs": [
    {
     "data": {
      "text/html": [
       "<div>\n",
       "<style scoped>\n",
       "    .dataframe tbody tr th:only-of-type {\n",
       "        vertical-align: middle;\n",
       "    }\n",
       "\n",
       "    .dataframe tbody tr th {\n",
       "        vertical-align: top;\n",
       "    }\n",
       "\n",
       "    .dataframe thead th {\n",
       "        text-align: right;\n",
       "    }\n",
       "</style>\n",
       "<table border=\"1\" class=\"dataframe\">\n",
       "  <thead>\n",
       "    <tr style=\"text-align: right;\">\n",
       "      <th></th>\n",
       "      <th>Branch</th>\n",
       "      <th>City</th>\n",
       "      <th>Customer type</th>\n",
       "      <th>Gender</th>\n",
       "      <th>Product line</th>\n",
       "      <th>Time</th>\n",
       "      <th>Payment</th>\n",
       "    </tr>\n",
       "  </thead>\n",
       "  <tbody>\n",
       "    <tr>\n",
       "      <th>0</th>\n",
       "      <td>A</td>\n",
       "      <td>Yangon</td>\n",
       "      <td>Member</td>\n",
       "      <td>Female</td>\n",
       "      <td>Health and beauty</td>\n",
       "      <td>13:08</td>\n",
       "      <td>Ewallet</td>\n",
       "    </tr>\n",
       "    <tr>\n",
       "      <th>1</th>\n",
       "      <td>C</td>\n",
       "      <td>Naypyitaw</td>\n",
       "      <td>Normal</td>\n",
       "      <td>Female</td>\n",
       "      <td>Electronic accessories</td>\n",
       "      <td>10:29</td>\n",
       "      <td>Cash</td>\n",
       "    </tr>\n",
       "    <tr>\n",
       "      <th>2</th>\n",
       "      <td>A</td>\n",
       "      <td>Yangon</td>\n",
       "      <td>Normal</td>\n",
       "      <td>Male</td>\n",
       "      <td>Home and lifestyle</td>\n",
       "      <td>13:23</td>\n",
       "      <td>Credit card</td>\n",
       "    </tr>\n",
       "    <tr>\n",
       "      <th>3</th>\n",
       "      <td>A</td>\n",
       "      <td>Yangon</td>\n",
       "      <td>Member</td>\n",
       "      <td>Male</td>\n",
       "      <td>Health and beauty</td>\n",
       "      <td>20:33</td>\n",
       "      <td>Ewallet</td>\n",
       "    </tr>\n",
       "    <tr>\n",
       "      <th>4</th>\n",
       "      <td>A</td>\n",
       "      <td>Yangon</td>\n",
       "      <td>Normal</td>\n",
       "      <td>Male</td>\n",
       "      <td>Sports and travel</td>\n",
       "      <td>10:37</td>\n",
       "      <td>Ewallet</td>\n",
       "    </tr>\n",
       "    <tr>\n",
       "      <th>...</th>\n",
       "      <td>...</td>\n",
       "      <td>...</td>\n",
       "      <td>...</td>\n",
       "      <td>...</td>\n",
       "      <td>...</td>\n",
       "      <td>...</td>\n",
       "      <td>...</td>\n",
       "    </tr>\n",
       "    <tr>\n",
       "      <th>995</th>\n",
       "      <td>C</td>\n",
       "      <td>Naypyitaw</td>\n",
       "      <td>Normal</td>\n",
       "      <td>Male</td>\n",
       "      <td>Health and beauty</td>\n",
       "      <td>13:46</td>\n",
       "      <td>Ewallet</td>\n",
       "    </tr>\n",
       "    <tr>\n",
       "      <th>996</th>\n",
       "      <td>B</td>\n",
       "      <td>Mandalay</td>\n",
       "      <td>Normal</td>\n",
       "      <td>Female</td>\n",
       "      <td>Home and lifestyle</td>\n",
       "      <td>17:16</td>\n",
       "      <td>Ewallet</td>\n",
       "    </tr>\n",
       "    <tr>\n",
       "      <th>997</th>\n",
       "      <td>A</td>\n",
       "      <td>Yangon</td>\n",
       "      <td>Member</td>\n",
       "      <td>Male</td>\n",
       "      <td>Food and beverages</td>\n",
       "      <td>13:22</td>\n",
       "      <td>Cash</td>\n",
       "    </tr>\n",
       "    <tr>\n",
       "      <th>998</th>\n",
       "      <td>A</td>\n",
       "      <td>Yangon</td>\n",
       "      <td>Normal</td>\n",
       "      <td>Male</td>\n",
       "      <td>Home and lifestyle</td>\n",
       "      <td>15:33</td>\n",
       "      <td>Cash</td>\n",
       "    </tr>\n",
       "    <tr>\n",
       "      <th>999</th>\n",
       "      <td>A</td>\n",
       "      <td>Yangon</td>\n",
       "      <td>Member</td>\n",
       "      <td>Female</td>\n",
       "      <td>Fashion accessories</td>\n",
       "      <td>13:28</td>\n",
       "      <td>Cash</td>\n",
       "    </tr>\n",
       "  </tbody>\n",
       "</table>\n",
       "<p>1000 rows × 7 columns</p>\n",
       "</div>"
      ],
      "text/plain": [
       "    Branch       City Customer type  Gender            Product line   Time  \\\n",
       "0        A     Yangon        Member  Female       Health and beauty  13:08   \n",
       "1        C  Naypyitaw        Normal  Female  Electronic accessories  10:29   \n",
       "2        A     Yangon        Normal    Male      Home and lifestyle  13:23   \n",
       "3        A     Yangon        Member    Male       Health and beauty  20:33   \n",
       "4        A     Yangon        Normal    Male       Sports and travel  10:37   \n",
       "..     ...        ...           ...     ...                     ...    ...   \n",
       "995      C  Naypyitaw        Normal    Male       Health and beauty  13:46   \n",
       "996      B   Mandalay        Normal  Female      Home and lifestyle  17:16   \n",
       "997      A     Yangon        Member    Male      Food and beverages  13:22   \n",
       "998      A     Yangon        Normal    Male      Home and lifestyle  15:33   \n",
       "999      A     Yangon        Member  Female     Fashion accessories  13:28   \n",
       "\n",
       "         Payment  \n",
       "0        Ewallet  \n",
       "1           Cash  \n",
       "2    Credit card  \n",
       "3        Ewallet  \n",
       "4        Ewallet  \n",
       "..           ...  \n",
       "995      Ewallet  \n",
       "996      Ewallet  \n",
       "997         Cash  \n",
       "998         Cash  \n",
       "999         Cash  \n",
       "\n",
       "[1000 rows x 7 columns]"
      ]
     },
     "execution_count": 13,
     "metadata": {},
     "output_type": "execute_result"
    }
   ],
   "source": [
    "cat_col=df.select_dtypes(include='object')\n",
    "cat_col"
   ]
  },
  {
   "cell_type": "code",
   "execution_count": 14,
   "id": "beca2579",
   "metadata": {},
   "outputs": [
    {
     "data": {
      "application/vnd.plotly.v1+json": {
       "config": {
        "plotlyServerURL": "https://plot.ly"
       },
       "data": [
        {
         "bingroup": "x",
         "hovertemplate": "Branch=%{x}<br>count=%{y}<extra></extra>",
         "legendgroup": "",
         "marker": {
          "color": "#636efa",
          "pattern": {
           "shape": ""
          }
         },
         "name": "",
         "orientation": "v",
         "showlegend": false,
         "type": "histogram",
         "x": [
          "A",
          "C",
          "A",
          "A",
          "A",
          "C",
          "A",
          "C",
          "A",
          "B",
          "B",
          "B",
          "A",
          "A",
          "A",
          "B",
          "A",
          "A",
          "A",
          "B",
          "C",
          "B",
          "B",
          "A",
          "A",
          "A",
          "B",
          "A",
          "B",
          "A",
          "B",
          "B",
          "B",
          "A",
          "C",
          "C",
          "A",
          "A",
          "C",
          "B",
          "B",
          "C",
          "B",
          "C",
          "C",
          "B",
          "B",
          "B",
          "B",
          "C",
          "C",
          "A",
          "B",
          "C",
          "B",
          "C",
          "A",
          "A",
          "A",
          "C",
          "C",
          "C",
          "B",
          "A",
          "B",
          "A",
          "C",
          "B",
          "A",
          "A",
          "C",
          "C",
          "B",
          "C",
          "A",
          "C",
          "C",
          "A",
          "C",
          "C",
          "C",
          "B",
          "C",
          "C",
          "C",
          "C",
          "C",
          "A",
          "A",
          "B",
          "C",
          "C",
          "A",
          "B",
          "C",
          "A",
          "B",
          "C",
          "A",
          "B",
          "C",
          "C",
          "C",
          "A",
          "B",
          "A",
          "C",
          "A",
          "C",
          "C",
          "B",
          "C",
          "B",
          "A",
          "C",
          "C",
          "B",
          "B",
          "A",
          "B",
          "A",
          "C",
          "B",
          "C",
          "B",
          "A",
          "A",
          "C",
          "C",
          "B",
          "B",
          "A",
          "B",
          "B",
          "C",
          "C",
          "A",
          "A",
          "B",
          "A",
          "C",
          "C",
          "C",
          "C",
          "A",
          "C",
          "A",
          "C",
          "B",
          "A",
          "B",
          "C",
          "A",
          "C",
          "C",
          "A",
          "B",
          "B",
          "B",
          "B",
          "C",
          "A",
          "A",
          "C",
          "B",
          "B",
          "C",
          "A",
          "A",
          "A",
          "A",
          "B",
          "C",
          "B",
          "B",
          "A",
          "A",
          "C",
          "A",
          "C",
          "C",
          "C",
          "A",
          "C",
          "A",
          "B",
          "B",
          "B",
          "A",
          "C",
          "B",
          "B",
          "C",
          "B",
          "A",
          "C",
          "C",
          "A",
          "C",
          "C",
          "C",
          "B",
          "C",
          "B",
          "B",
          "A",
          "C",
          "C",
          "B",
          "B",
          "A",
          "C",
          "B",
          "B",
          "B",
          "A",
          "B",
          "A",
          "B",
          "B",
          "B",
          "B",
          "C",
          "C",
          "A",
          "C",
          "B",
          "C",
          "B",
          "A",
          "B",
          "B",
          "B",
          "B",
          "A",
          "A",
          "C",
          "C",
          "B",
          "A",
          "A",
          "A",
          "C",
          "A",
          "B",
          "A",
          "B",
          "A",
          "A",
          "B",
          "B",
          "C",
          "C",
          "A",
          "A",
          "B",
          "A",
          "A",
          "A",
          "C",
          "A",
          "C",
          "B",
          "A",
          "B",
          "A",
          "C",
          "B",
          "A",
          "A",
          "B",
          "C",
          "A",
          "A",
          "B",
          "B",
          "C",
          "C",
          "C",
          "A",
          "A",
          "C",
          "A",
          "A",
          "A",
          "B",
          "C",
          "C",
          "B",
          "A",
          "B",
          "C",
          "A",
          "A",
          "B",
          "C",
          "C",
          "A",
          "A",
          "C",
          "C",
          "B",
          "C",
          "A",
          "B",
          "A",
          "A",
          "A",
          "A",
          "A",
          "B",
          "C",
          "A",
          "A",
          "C",
          "C",
          "C",
          "C",
          "C",
          "C",
          "C",
          "C",
          "A",
          "A",
          "A",
          "B",
          "A",
          "C",
          "B",
          "A",
          "B",
          "A",
          "A",
          "A",
          "C",
          "A",
          "A",
          "B",
          "C",
          "B",
          "B",
          "B",
          "B",
          "C",
          "A",
          "A",
          "A",
          "C",
          "A",
          "B",
          "C",
          "A",
          "B",
          "B",
          "C",
          "B",
          "C",
          "C",
          "B",
          "B",
          "A",
          "C",
          "C",
          "A",
          "C",
          "C",
          "C",
          "A",
          "C",
          "A",
          "B",
          "B",
          "C",
          "C",
          "A",
          "A",
          "B",
          "C",
          "C",
          "B",
          "A",
          "C",
          "B",
          "C",
          "A",
          "B",
          "C",
          "A",
          "C",
          "B",
          "C",
          "B",
          "A",
          "A",
          "A",
          "A",
          "A",
          "B",
          "B",
          "B",
          "C",
          "C",
          "C",
          "B",
          "C",
          "A",
          "A",
          "B",
          "A",
          "C",
          "B",
          "B",
          "A",
          "A",
          "A",
          "B",
          "C",
          "C",
          "B",
          "A",
          "C",
          "C",
          "C",
          "B",
          "C",
          "B",
          "A",
          "B",
          "B",
          "A",
          "B",
          "C",
          "A",
          "B",
          "B",
          "C",
          "C",
          "A",
          "C",
          "C",
          "C",
          "B",
          "A",
          "C",
          "A",
          "B",
          "C",
          "C",
          "B",
          "B",
          "B",
          "B",
          "A",
          "A",
          "A",
          "B",
          "B",
          "B",
          "C",
          "C",
          "C",
          "B",
          "C",
          "C",
          "A",
          "C",
          "C",
          "B",
          "C",
          "C",
          "C",
          "A",
          "A",
          "B",
          "A",
          "A",
          "A",
          "C",
          "B",
          "A",
          "C",
          "C",
          "A",
          "B",
          "C",
          "B",
          "B",
          "A",
          "C",
          "B",
          "B",
          "A",
          "B",
          "C",
          "B",
          "B",
          "C",
          "C",
          "B",
          "A",
          "B",
          "C",
          "C",
          "B",
          "B",
          "A",
          "B",
          "B",
          "B",
          "C",
          "B",
          "A",
          "A",
          "A",
          "C",
          "C",
          "B",
          "C",
          "A",
          "C",
          "B",
          "C",
          "A",
          "C",
          "A",
          "A",
          "B",
          "B",
          "B",
          "A",
          "A",
          "A",
          "B",
          "C",
          "A",
          "C",
          "B",
          "A",
          "A",
          "C",
          "A",
          "C",
          "B",
          "C",
          "B",
          "B",
          "A",
          "A",
          "B",
          "A",
          "B",
          "B",
          "B",
          "C",
          "A",
          "B",
          "B",
          "C",
          "A",
          "A",
          "B",
          "C",
          "B",
          "A",
          "B",
          "A",
          "C",
          "A",
          "B",
          "C",
          "B",
          "B",
          "A",
          "B",
          "A",
          "B",
          "B",
          "C",
          "A",
          "B",
          "C",
          "A",
          "C",
          "B",
          "B",
          "A",
          "A",
          "A",
          "C",
          "A",
          "C",
          "C",
          "A",
          "A",
          "B",
          "B",
          "A",
          "C",
          "C",
          "A",
          "C",
          "C",
          "C",
          "B",
          "C",
          "B",
          "A",
          "C",
          "A",
          "B",
          "A",
          "C",
          "B",
          "C",
          "A",
          "A",
          "B",
          "C",
          "A",
          "C",
          "A",
          "A",
          "B",
          "B",
          "B",
          "B",
          "A",
          "B",
          "A",
          "A",
          "A",
          "A",
          "A",
          "B",
          "B",
          "B",
          "A",
          "C",
          "B",
          "B",
          "B",
          "C",
          "B",
          "C",
          "C",
          "A",
          "C",
          "B",
          "C",
          "C",
          "B",
          "B",
          "A",
          "B",
          "B",
          "A",
          "C",
          "A",
          "A",
          "A",
          "B",
          "C",
          "B",
          "C",
          "C",
          "A",
          "B",
          "B",
          "C",
          "B",
          "A",
          "B",
          "B",
          "C",
          "A",
          "B",
          "B",
          "A",
          "C",
          "A",
          "B",
          "B",
          "C",
          "A",
          "B",
          "B",
          "B",
          "A",
          "C",
          "A",
          "C",
          "C",
          "A",
          "C",
          "C",
          "A",
          "A",
          "B",
          "A",
          "C",
          "C",
          "B",
          "B",
          "B",
          "B",
          "B",
          "B",
          "C",
          "C",
          "A",
          "A",
          "C",
          "C",
          "C",
          "C",
          "A",
          "A",
          "A",
          "A",
          "B",
          "B",
          "C",
          "B",
          "C",
          "B",
          "C",
          "C",
          "B",
          "C",
          "B",
          "A",
          "A",
          "A",
          "B",
          "B",
          "C",
          "C",
          "C",
          "B",
          "A",
          "C",
          "C",
          "A",
          "A",
          "C",
          "C",
          "B",
          "C",
          "B",
          "C",
          "B",
          "A",
          "A",
          "B",
          "C",
          "A",
          "B",
          "A",
          "A",
          "A",
          "B",
          "B",
          "A",
          "A",
          "A",
          "B",
          "C",
          "B",
          "B",
          "A",
          "B",
          "C",
          "C",
          "C",
          "C",
          "B",
          "C",
          "B",
          "C",
          "B",
          "C",
          "A",
          "A",
          "C",
          "C",
          "A",
          "C",
          "C",
          "C",
          "A",
          "A",
          "C",
          "B",
          "A",
          "A",
          "B",
          "C",
          "A",
          "B",
          "C",
          "B",
          "C",
          "C",
          "A",
          "B",
          "A",
          "A",
          "A",
          "B",
          "C",
          "B",
          "A",
          "C",
          "A",
          "A",
          "B",
          "C",
          "A",
          "B",
          "B",
          "B",
          "A",
          "C",
          "A",
          "B",
          "A",
          "B",
          "A",
          "C",
          "A",
          "A",
          "B",
          "B",
          "A",
          "B",
          "A",
          "A",
          "B",
          "C",
          "C",
          "A",
          "B",
          "A",
          "C",
          "A",
          "A",
          "A",
          "C",
          "C",
          "A",
          "A",
          "A",
          "C",
          "B",
          "A",
          "B",
          "B",
          "A",
          "B",
          "A",
          "C",
          "A",
          "B",
          "B",
          "A",
          "C",
          "B",
          "C",
          "C",
          "A",
          "A",
          "C",
          "B",
          "A",
          "A",
          "C",
          "C",
          "B",
          "A",
          "B",
          "B",
          "C",
          "B",
          "A",
          "A",
          "A",
          "A",
          "A",
          "C",
          "A",
          "C",
          "B",
          "C",
          "B",
          "B",
          "B",
          "C",
          "C",
          "C",
          "A",
          "C",
          "B",
          "A",
          "A",
          "C",
          "C",
          "C",
          "B",
          "A",
          "B",
          "B",
          "C",
          "A",
          "A",
          "A",
          "C",
          "C",
          "A",
          "B",
          "B",
          "C",
          "B",
          "C",
          "C",
          "C",
          "B",
          "B",
          "A",
          "B",
          "B",
          "B",
          "C",
          "A",
          "C",
          "B",
          "C",
          "C",
          "A",
          "A",
          "C",
          "A",
          "C",
          "A",
          "A",
          "A",
          "A",
          "C",
          "B",
          "C",
          "B",
          "B",
          "B",
          "B",
          "C",
          "B",
          "A",
          "C",
          "B",
          "C",
          "A",
          "C",
          "A",
          "A",
          "C",
          "B",
          "B",
          "A",
          "A",
          "A",
          "B",
          "B",
          "B",
          "B",
          "A",
          "C",
          "B",
          "A",
          "B",
          "B",
          "B",
          "C",
          "A",
          "A",
          "C",
          "C",
          "B",
          "B",
          "B",
          "C",
          "B",
          "A",
          "B",
          "A",
          "B",
          "C",
          "C",
          "B",
          "A",
          "A",
          "A"
         ],
         "xaxis": "x",
         "yaxis": "y"
        }
       ],
       "layout": {
        "barmode": "relative",
        "legend": {
         "tracegroupgap": 0
        },
        "margin": {
         "t": 60
        },
        "template": {
         "data": {
          "bar": [
           {
            "error_x": {
             "color": "#2a3f5f"
            },
            "error_y": {
             "color": "#2a3f5f"
            },
            "marker": {
             "line": {
              "color": "white",
              "width": 0.5
             },
             "pattern": {
              "fillmode": "overlay",
              "size": 10,
              "solidity": 0.2
             }
            },
            "type": "bar"
           }
          ],
          "barpolar": [
           {
            "marker": {
             "line": {
              "color": "white",
              "width": 0.5
             },
             "pattern": {
              "fillmode": "overlay",
              "size": 10,
              "solidity": 0.2
             }
            },
            "type": "barpolar"
           }
          ],
          "carpet": [
           {
            "aaxis": {
             "endlinecolor": "#2a3f5f",
             "gridcolor": "#C8D4E3",
             "linecolor": "#C8D4E3",
             "minorgridcolor": "#C8D4E3",
             "startlinecolor": "#2a3f5f"
            },
            "baxis": {
             "endlinecolor": "#2a3f5f",
             "gridcolor": "#C8D4E3",
             "linecolor": "#C8D4E3",
             "minorgridcolor": "#C8D4E3",
             "startlinecolor": "#2a3f5f"
            },
            "type": "carpet"
           }
          ],
          "choropleth": [
           {
            "colorbar": {
             "outlinewidth": 0,
             "ticks": ""
            },
            "type": "choropleth"
           }
          ],
          "contour": [
           {
            "colorbar": {
             "outlinewidth": 0,
             "ticks": ""
            },
            "colorscale": [
             [
              0,
              "#0d0887"
             ],
             [
              0.1111111111111111,
              "#46039f"
             ],
             [
              0.2222222222222222,
              "#7201a8"
             ],
             [
              0.3333333333333333,
              "#9c179e"
             ],
             [
              0.4444444444444444,
              "#bd3786"
             ],
             [
              0.5555555555555556,
              "#d8576b"
             ],
             [
              0.6666666666666666,
              "#ed7953"
             ],
             [
              0.7777777777777778,
              "#fb9f3a"
             ],
             [
              0.8888888888888888,
              "#fdca26"
             ],
             [
              1,
              "#f0f921"
             ]
            ],
            "type": "contour"
           }
          ],
          "contourcarpet": [
           {
            "colorbar": {
             "outlinewidth": 0,
             "ticks": ""
            },
            "type": "contourcarpet"
           }
          ],
          "heatmap": [
           {
            "colorbar": {
             "outlinewidth": 0,
             "ticks": ""
            },
            "colorscale": [
             [
              0,
              "#0d0887"
             ],
             [
              0.1111111111111111,
              "#46039f"
             ],
             [
              0.2222222222222222,
              "#7201a8"
             ],
             [
              0.3333333333333333,
              "#9c179e"
             ],
             [
              0.4444444444444444,
              "#bd3786"
             ],
             [
              0.5555555555555556,
              "#d8576b"
             ],
             [
              0.6666666666666666,
              "#ed7953"
             ],
             [
              0.7777777777777778,
              "#fb9f3a"
             ],
             [
              0.8888888888888888,
              "#fdca26"
             ],
             [
              1,
              "#f0f921"
             ]
            ],
            "type": "heatmap"
           }
          ],
          "histogram": [
           {
            "marker": {
             "pattern": {
              "fillmode": "overlay",
              "size": 10,
              "solidity": 0.2
             }
            },
            "type": "histogram"
           }
          ],
          "histogram2d": [
           {
            "colorbar": {
             "outlinewidth": 0,
             "ticks": ""
            },
            "colorscale": [
             [
              0,
              "#0d0887"
             ],
             [
              0.1111111111111111,
              "#46039f"
             ],
             [
              0.2222222222222222,
              "#7201a8"
             ],
             [
              0.3333333333333333,
              "#9c179e"
             ],
             [
              0.4444444444444444,
              "#bd3786"
             ],
             [
              0.5555555555555556,
              "#d8576b"
             ],
             [
              0.6666666666666666,
              "#ed7953"
             ],
             [
              0.7777777777777778,
              "#fb9f3a"
             ],
             [
              0.8888888888888888,
              "#fdca26"
             ],
             [
              1,
              "#f0f921"
             ]
            ],
            "type": "histogram2d"
           }
          ],
          "histogram2dcontour": [
           {
            "colorbar": {
             "outlinewidth": 0,
             "ticks": ""
            },
            "colorscale": [
             [
              0,
              "#0d0887"
             ],
             [
              0.1111111111111111,
              "#46039f"
             ],
             [
              0.2222222222222222,
              "#7201a8"
             ],
             [
              0.3333333333333333,
              "#9c179e"
             ],
             [
              0.4444444444444444,
              "#bd3786"
             ],
             [
              0.5555555555555556,
              "#d8576b"
             ],
             [
              0.6666666666666666,
              "#ed7953"
             ],
             [
              0.7777777777777778,
              "#fb9f3a"
             ],
             [
              0.8888888888888888,
              "#fdca26"
             ],
             [
              1,
              "#f0f921"
             ]
            ],
            "type": "histogram2dcontour"
           }
          ],
          "mesh3d": [
           {
            "colorbar": {
             "outlinewidth": 0,
             "ticks": ""
            },
            "type": "mesh3d"
           }
          ],
          "parcoords": [
           {
            "line": {
             "colorbar": {
              "outlinewidth": 0,
              "ticks": ""
             }
            },
            "type": "parcoords"
           }
          ],
          "pie": [
           {
            "automargin": true,
            "type": "pie"
           }
          ],
          "scatter": [
           {
            "fillpattern": {
             "fillmode": "overlay",
             "size": 10,
             "solidity": 0.2
            },
            "type": "scatter"
           }
          ],
          "scatter3d": [
           {
            "line": {
             "colorbar": {
              "outlinewidth": 0,
              "ticks": ""
             }
            },
            "marker": {
             "colorbar": {
              "outlinewidth": 0,
              "ticks": ""
             }
            },
            "type": "scatter3d"
           }
          ],
          "scattercarpet": [
           {
            "marker": {
             "colorbar": {
              "outlinewidth": 0,
              "ticks": ""
             }
            },
            "type": "scattercarpet"
           }
          ],
          "scattergeo": [
           {
            "marker": {
             "colorbar": {
              "outlinewidth": 0,
              "ticks": ""
             }
            },
            "type": "scattergeo"
           }
          ],
          "scattergl": [
           {
            "marker": {
             "colorbar": {
              "outlinewidth": 0,
              "ticks": ""
             }
            },
            "type": "scattergl"
           }
          ],
          "scattermap": [
           {
            "marker": {
             "colorbar": {
              "outlinewidth": 0,
              "ticks": ""
             }
            },
            "type": "scattermap"
           }
          ],
          "scattermapbox": [
           {
            "marker": {
             "colorbar": {
              "outlinewidth": 0,
              "ticks": ""
             }
            },
            "type": "scattermapbox"
           }
          ],
          "scatterpolar": [
           {
            "marker": {
             "colorbar": {
              "outlinewidth": 0,
              "ticks": ""
             }
            },
            "type": "scatterpolar"
           }
          ],
          "scatterpolargl": [
           {
            "marker": {
             "colorbar": {
              "outlinewidth": 0,
              "ticks": ""
             }
            },
            "type": "scatterpolargl"
           }
          ],
          "scatterternary": [
           {
            "marker": {
             "colorbar": {
              "outlinewidth": 0,
              "ticks": ""
             }
            },
            "type": "scatterternary"
           }
          ],
          "surface": [
           {
            "colorbar": {
             "outlinewidth": 0,
             "ticks": ""
            },
            "colorscale": [
             [
              0,
              "#0d0887"
             ],
             [
              0.1111111111111111,
              "#46039f"
             ],
             [
              0.2222222222222222,
              "#7201a8"
             ],
             [
              0.3333333333333333,
              "#9c179e"
             ],
             [
              0.4444444444444444,
              "#bd3786"
             ],
             [
              0.5555555555555556,
              "#d8576b"
             ],
             [
              0.6666666666666666,
              "#ed7953"
             ],
             [
              0.7777777777777778,
              "#fb9f3a"
             ],
             [
              0.8888888888888888,
              "#fdca26"
             ],
             [
              1,
              "#f0f921"
             ]
            ],
            "type": "surface"
           }
          ],
          "table": [
           {
            "cells": {
             "fill": {
              "color": "#EBF0F8"
             },
             "line": {
              "color": "white"
             }
            },
            "header": {
             "fill": {
              "color": "#C8D4E3"
             },
             "line": {
              "color": "white"
             }
            },
            "type": "table"
           }
          ]
         },
         "layout": {
          "annotationdefaults": {
           "arrowcolor": "#2a3f5f",
           "arrowhead": 0,
           "arrowwidth": 1
          },
          "autotypenumbers": "strict",
          "coloraxis": {
           "colorbar": {
            "outlinewidth": 0,
            "ticks": ""
           }
          },
          "colorscale": {
           "diverging": [
            [
             0,
             "#8e0152"
            ],
            [
             0.1,
             "#c51b7d"
            ],
            [
             0.2,
             "#de77ae"
            ],
            [
             0.3,
             "#f1b6da"
            ],
            [
             0.4,
             "#fde0ef"
            ],
            [
             0.5,
             "#f7f7f7"
            ],
            [
             0.6,
             "#e6f5d0"
            ],
            [
             0.7,
             "#b8e186"
            ],
            [
             0.8,
             "#7fbc41"
            ],
            [
             0.9,
             "#4d9221"
            ],
            [
             1,
             "#276419"
            ]
           ],
           "sequential": [
            [
             0,
             "#0d0887"
            ],
            [
             0.1111111111111111,
             "#46039f"
            ],
            [
             0.2222222222222222,
             "#7201a8"
            ],
            [
             0.3333333333333333,
             "#9c179e"
            ],
            [
             0.4444444444444444,
             "#bd3786"
            ],
            [
             0.5555555555555556,
             "#d8576b"
            ],
            [
             0.6666666666666666,
             "#ed7953"
            ],
            [
             0.7777777777777778,
             "#fb9f3a"
            ],
            [
             0.8888888888888888,
             "#fdca26"
            ],
            [
             1,
             "#f0f921"
            ]
           ],
           "sequentialminus": [
            [
             0,
             "#0d0887"
            ],
            [
             0.1111111111111111,
             "#46039f"
            ],
            [
             0.2222222222222222,
             "#7201a8"
            ],
            [
             0.3333333333333333,
             "#9c179e"
            ],
            [
             0.4444444444444444,
             "#bd3786"
            ],
            [
             0.5555555555555556,
             "#d8576b"
            ],
            [
             0.6666666666666666,
             "#ed7953"
            ],
            [
             0.7777777777777778,
             "#fb9f3a"
            ],
            [
             0.8888888888888888,
             "#fdca26"
            ],
            [
             1,
             "#f0f921"
            ]
           ]
          },
          "colorway": [
           "#636efa",
           "#EF553B",
           "#00cc96",
           "#ab63fa",
           "#FFA15A",
           "#19d3f3",
           "#FF6692",
           "#B6E880",
           "#FF97FF",
           "#FECB52"
          ],
          "font": {
           "color": "#2a3f5f"
          },
          "geo": {
           "bgcolor": "white",
           "lakecolor": "white",
           "landcolor": "white",
           "showlakes": true,
           "showland": true,
           "subunitcolor": "#C8D4E3"
          },
          "hoverlabel": {
           "align": "left"
          },
          "hovermode": "closest",
          "mapbox": {
           "style": "light"
          },
          "paper_bgcolor": "white",
          "plot_bgcolor": "white",
          "polar": {
           "angularaxis": {
            "gridcolor": "#EBF0F8",
            "linecolor": "#EBF0F8",
            "ticks": ""
           },
           "bgcolor": "white",
           "radialaxis": {
            "gridcolor": "#EBF0F8",
            "linecolor": "#EBF0F8",
            "ticks": ""
           }
          },
          "scene": {
           "xaxis": {
            "backgroundcolor": "white",
            "gridcolor": "#DFE8F3",
            "gridwidth": 2,
            "linecolor": "#EBF0F8",
            "showbackground": true,
            "ticks": "",
            "zerolinecolor": "#EBF0F8"
           },
           "yaxis": {
            "backgroundcolor": "white",
            "gridcolor": "#DFE8F3",
            "gridwidth": 2,
            "linecolor": "#EBF0F8",
            "showbackground": true,
            "ticks": "",
            "zerolinecolor": "#EBF0F8"
           },
           "zaxis": {
            "backgroundcolor": "white",
            "gridcolor": "#DFE8F3",
            "gridwidth": 2,
            "linecolor": "#EBF0F8",
            "showbackground": true,
            "ticks": "",
            "zerolinecolor": "#EBF0F8"
           }
          },
          "shapedefaults": {
           "line": {
            "color": "#2a3f5f"
           }
          },
          "ternary": {
           "aaxis": {
            "gridcolor": "#DFE8F3",
            "linecolor": "#A2B1C6",
            "ticks": ""
           },
           "baxis": {
            "gridcolor": "#DFE8F3",
            "linecolor": "#A2B1C6",
            "ticks": ""
           },
           "bgcolor": "white",
           "caxis": {
            "gridcolor": "#DFE8F3",
            "linecolor": "#A2B1C6",
            "ticks": ""
           }
          },
          "title": {
           "x": 0.05
          },
          "xaxis": {
           "automargin": true,
           "gridcolor": "#EBF0F8",
           "linecolor": "#EBF0F8",
           "ticks": "",
           "title": {
            "standoff": 15
           },
           "zerolinecolor": "#EBF0F8",
           "zerolinewidth": 2
          },
          "yaxis": {
           "automargin": true,
           "gridcolor": "#EBF0F8",
           "linecolor": "#EBF0F8",
           "ticks": "",
           "title": {
            "standoff": 15
           },
           "zerolinecolor": "#EBF0F8",
           "zerolinewidth": 2
          }
         }
        },
        "xaxis": {
         "anchor": "y",
         "domain": [
          0,
          1
         ],
         "title": {
          "text": "Branch"
         }
        },
        "yaxis": {
         "anchor": "x",
         "domain": [
          0,
          1
         ],
         "title": {
          "text": "count"
         }
        }
       }
      }
     },
     "metadata": {},
     "output_type": "display_data"
    },
    {
     "data": {
      "application/vnd.plotly.v1+json": {
       "config": {
        "plotlyServerURL": "https://plot.ly"
       },
       "data": [
        {
         "bingroup": "x",
         "hovertemplate": "City=%{x}<br>count=%{y}<extra></extra>",
         "legendgroup": "",
         "marker": {
          "color": "#636efa",
          "pattern": {
           "shape": ""
          }
         },
         "name": "",
         "orientation": "v",
         "showlegend": false,
         "type": "histogram",
         "x": [
          "Yangon",
          "Naypyitaw",
          "Yangon",
          "Yangon",
          "Yangon",
          "Naypyitaw",
          "Yangon",
          "Naypyitaw",
          "Yangon",
          "Mandalay",
          "Mandalay",
          "Mandalay",
          "Yangon",
          "Yangon",
          "Yangon",
          "Mandalay",
          "Yangon",
          "Yangon",
          "Yangon",
          "Mandalay",
          "Naypyitaw",
          "Mandalay",
          "Mandalay",
          "Yangon",
          "Yangon",
          "Yangon",
          "Mandalay",
          "Yangon",
          "Mandalay",
          "Yangon",
          "Mandalay",
          "Mandalay",
          "Mandalay",
          "Yangon",
          "Naypyitaw",
          "Naypyitaw",
          "Yangon",
          "Yangon",
          "Naypyitaw",
          "Mandalay",
          "Mandalay",
          "Naypyitaw",
          "Mandalay",
          "Naypyitaw",
          "Naypyitaw",
          "Mandalay",
          "Mandalay",
          "Mandalay",
          "Mandalay",
          "Naypyitaw",
          "Naypyitaw",
          "Yangon",
          "Mandalay",
          "Naypyitaw",
          "Mandalay",
          "Naypyitaw",
          "Yangon",
          "Yangon",
          "Yangon",
          "Naypyitaw",
          "Naypyitaw",
          "Naypyitaw",
          "Mandalay",
          "Yangon",
          "Mandalay",
          "Yangon",
          "Naypyitaw",
          "Mandalay",
          "Yangon",
          "Yangon",
          "Naypyitaw",
          "Naypyitaw",
          "Mandalay",
          "Naypyitaw",
          "Yangon",
          "Naypyitaw",
          "Naypyitaw",
          "Yangon",
          "Naypyitaw",
          "Naypyitaw",
          "Naypyitaw",
          "Mandalay",
          "Naypyitaw",
          "Naypyitaw",
          "Naypyitaw",
          "Naypyitaw",
          "Naypyitaw",
          "Yangon",
          "Yangon",
          "Mandalay",
          "Naypyitaw",
          "Naypyitaw",
          "Yangon",
          "Mandalay",
          "Naypyitaw",
          "Yangon",
          "Mandalay",
          "Naypyitaw",
          "Yangon",
          "Mandalay",
          "Naypyitaw",
          "Naypyitaw",
          "Naypyitaw",
          "Yangon",
          "Mandalay",
          "Yangon",
          "Naypyitaw",
          "Yangon",
          "Naypyitaw",
          "Naypyitaw",
          "Mandalay",
          "Naypyitaw",
          "Mandalay",
          "Yangon",
          "Naypyitaw",
          "Naypyitaw",
          "Mandalay",
          "Mandalay",
          "Yangon",
          "Mandalay",
          "Yangon",
          "Naypyitaw",
          "Mandalay",
          "Naypyitaw",
          "Mandalay",
          "Yangon",
          "Yangon",
          "Naypyitaw",
          "Naypyitaw",
          "Mandalay",
          "Mandalay",
          "Yangon",
          "Mandalay",
          "Mandalay",
          "Naypyitaw",
          "Naypyitaw",
          "Yangon",
          "Yangon",
          "Mandalay",
          "Yangon",
          "Naypyitaw",
          "Naypyitaw",
          "Naypyitaw",
          "Naypyitaw",
          "Yangon",
          "Naypyitaw",
          "Yangon",
          "Naypyitaw",
          "Mandalay",
          "Yangon",
          "Mandalay",
          "Naypyitaw",
          "Yangon",
          "Naypyitaw",
          "Naypyitaw",
          "Yangon",
          "Mandalay",
          "Mandalay",
          "Mandalay",
          "Mandalay",
          "Naypyitaw",
          "Yangon",
          "Yangon",
          "Naypyitaw",
          "Mandalay",
          "Mandalay",
          "Naypyitaw",
          "Yangon",
          "Yangon",
          "Yangon",
          "Yangon",
          "Mandalay",
          "Naypyitaw",
          "Mandalay",
          "Mandalay",
          "Yangon",
          "Yangon",
          "Naypyitaw",
          "Yangon",
          "Naypyitaw",
          "Naypyitaw",
          "Naypyitaw",
          "Yangon",
          "Naypyitaw",
          "Yangon",
          "Mandalay",
          "Mandalay",
          "Mandalay",
          "Yangon",
          "Naypyitaw",
          "Mandalay",
          "Mandalay",
          "Naypyitaw",
          "Mandalay",
          "Yangon",
          "Naypyitaw",
          "Naypyitaw",
          "Yangon",
          "Naypyitaw",
          "Naypyitaw",
          "Naypyitaw",
          "Mandalay",
          "Naypyitaw",
          "Mandalay",
          "Mandalay",
          "Yangon",
          "Naypyitaw",
          "Naypyitaw",
          "Mandalay",
          "Mandalay",
          "Yangon",
          "Naypyitaw",
          "Mandalay",
          "Mandalay",
          "Mandalay",
          "Yangon",
          "Mandalay",
          "Yangon",
          "Mandalay",
          "Mandalay",
          "Mandalay",
          "Mandalay",
          "Naypyitaw",
          "Naypyitaw",
          "Yangon",
          "Naypyitaw",
          "Mandalay",
          "Naypyitaw",
          "Mandalay",
          "Yangon",
          "Mandalay",
          "Mandalay",
          "Mandalay",
          "Mandalay",
          "Yangon",
          "Yangon",
          "Naypyitaw",
          "Naypyitaw",
          "Mandalay",
          "Yangon",
          "Yangon",
          "Yangon",
          "Naypyitaw",
          "Yangon",
          "Mandalay",
          "Yangon",
          "Mandalay",
          "Yangon",
          "Yangon",
          "Mandalay",
          "Mandalay",
          "Naypyitaw",
          "Naypyitaw",
          "Yangon",
          "Yangon",
          "Mandalay",
          "Yangon",
          "Yangon",
          "Yangon",
          "Naypyitaw",
          "Yangon",
          "Naypyitaw",
          "Mandalay",
          "Yangon",
          "Mandalay",
          "Yangon",
          "Naypyitaw",
          "Mandalay",
          "Yangon",
          "Yangon",
          "Mandalay",
          "Naypyitaw",
          "Yangon",
          "Yangon",
          "Mandalay",
          "Mandalay",
          "Naypyitaw",
          "Naypyitaw",
          "Naypyitaw",
          "Yangon",
          "Yangon",
          "Naypyitaw",
          "Yangon",
          "Yangon",
          "Yangon",
          "Mandalay",
          "Naypyitaw",
          "Naypyitaw",
          "Mandalay",
          "Yangon",
          "Mandalay",
          "Naypyitaw",
          "Yangon",
          "Yangon",
          "Mandalay",
          "Naypyitaw",
          "Naypyitaw",
          "Yangon",
          "Yangon",
          "Naypyitaw",
          "Naypyitaw",
          "Mandalay",
          "Naypyitaw",
          "Yangon",
          "Mandalay",
          "Yangon",
          "Yangon",
          "Yangon",
          "Yangon",
          "Yangon",
          "Mandalay",
          "Naypyitaw",
          "Yangon",
          "Yangon",
          "Naypyitaw",
          "Naypyitaw",
          "Naypyitaw",
          "Naypyitaw",
          "Naypyitaw",
          "Naypyitaw",
          "Naypyitaw",
          "Naypyitaw",
          "Yangon",
          "Yangon",
          "Yangon",
          "Mandalay",
          "Yangon",
          "Naypyitaw",
          "Mandalay",
          "Yangon",
          "Mandalay",
          "Yangon",
          "Yangon",
          "Yangon",
          "Naypyitaw",
          "Yangon",
          "Yangon",
          "Mandalay",
          "Naypyitaw",
          "Mandalay",
          "Mandalay",
          "Mandalay",
          "Mandalay",
          "Naypyitaw",
          "Yangon",
          "Yangon",
          "Yangon",
          "Naypyitaw",
          "Yangon",
          "Mandalay",
          "Naypyitaw",
          "Yangon",
          "Mandalay",
          "Mandalay",
          "Naypyitaw",
          "Mandalay",
          "Naypyitaw",
          "Naypyitaw",
          "Mandalay",
          "Mandalay",
          "Yangon",
          "Naypyitaw",
          "Naypyitaw",
          "Yangon",
          "Naypyitaw",
          "Naypyitaw",
          "Naypyitaw",
          "Yangon",
          "Naypyitaw",
          "Yangon",
          "Mandalay",
          "Mandalay",
          "Naypyitaw",
          "Naypyitaw",
          "Yangon",
          "Yangon",
          "Mandalay",
          "Naypyitaw",
          "Naypyitaw",
          "Mandalay",
          "Yangon",
          "Naypyitaw",
          "Mandalay",
          "Naypyitaw",
          "Yangon",
          "Mandalay",
          "Naypyitaw",
          "Yangon",
          "Naypyitaw",
          "Mandalay",
          "Naypyitaw",
          "Mandalay",
          "Yangon",
          "Yangon",
          "Yangon",
          "Yangon",
          "Yangon",
          "Mandalay",
          "Mandalay",
          "Mandalay",
          "Naypyitaw",
          "Naypyitaw",
          "Naypyitaw",
          "Mandalay",
          "Naypyitaw",
          "Yangon",
          "Yangon",
          "Mandalay",
          "Yangon",
          "Naypyitaw",
          "Mandalay",
          "Mandalay",
          "Yangon",
          "Yangon",
          "Yangon",
          "Mandalay",
          "Naypyitaw",
          "Naypyitaw",
          "Mandalay",
          "Yangon",
          "Naypyitaw",
          "Naypyitaw",
          "Naypyitaw",
          "Mandalay",
          "Naypyitaw",
          "Mandalay",
          "Yangon",
          "Mandalay",
          "Mandalay",
          "Yangon",
          "Mandalay",
          "Naypyitaw",
          "Yangon",
          "Mandalay",
          "Mandalay",
          "Naypyitaw",
          "Naypyitaw",
          "Yangon",
          "Naypyitaw",
          "Naypyitaw",
          "Naypyitaw",
          "Mandalay",
          "Yangon",
          "Naypyitaw",
          "Yangon",
          "Mandalay",
          "Naypyitaw",
          "Naypyitaw",
          "Mandalay",
          "Mandalay",
          "Mandalay",
          "Mandalay",
          "Yangon",
          "Yangon",
          "Yangon",
          "Mandalay",
          "Mandalay",
          "Mandalay",
          "Naypyitaw",
          "Naypyitaw",
          "Naypyitaw",
          "Mandalay",
          "Naypyitaw",
          "Naypyitaw",
          "Yangon",
          "Naypyitaw",
          "Naypyitaw",
          "Mandalay",
          "Naypyitaw",
          "Naypyitaw",
          "Naypyitaw",
          "Yangon",
          "Yangon",
          "Mandalay",
          "Yangon",
          "Yangon",
          "Yangon",
          "Naypyitaw",
          "Mandalay",
          "Yangon",
          "Naypyitaw",
          "Naypyitaw",
          "Yangon",
          "Mandalay",
          "Naypyitaw",
          "Mandalay",
          "Mandalay",
          "Yangon",
          "Naypyitaw",
          "Mandalay",
          "Mandalay",
          "Yangon",
          "Mandalay",
          "Naypyitaw",
          "Mandalay",
          "Mandalay",
          "Naypyitaw",
          "Naypyitaw",
          "Mandalay",
          "Yangon",
          "Mandalay",
          "Naypyitaw",
          "Naypyitaw",
          "Mandalay",
          "Mandalay",
          "Yangon",
          "Mandalay",
          "Mandalay",
          "Mandalay",
          "Naypyitaw",
          "Mandalay",
          "Yangon",
          "Yangon",
          "Yangon",
          "Naypyitaw",
          "Naypyitaw",
          "Mandalay",
          "Naypyitaw",
          "Yangon",
          "Naypyitaw",
          "Mandalay",
          "Naypyitaw",
          "Yangon",
          "Naypyitaw",
          "Yangon",
          "Yangon",
          "Mandalay",
          "Mandalay",
          "Mandalay",
          "Yangon",
          "Yangon",
          "Yangon",
          "Mandalay",
          "Naypyitaw",
          "Yangon",
          "Naypyitaw",
          "Mandalay",
          "Yangon",
          "Yangon",
          "Naypyitaw",
          "Yangon",
          "Naypyitaw",
          "Mandalay",
          "Naypyitaw",
          "Mandalay",
          "Mandalay",
          "Yangon",
          "Yangon",
          "Mandalay",
          "Yangon",
          "Mandalay",
          "Mandalay",
          "Mandalay",
          "Naypyitaw",
          "Yangon",
          "Mandalay",
          "Mandalay",
          "Naypyitaw",
          "Yangon",
          "Yangon",
          "Mandalay",
          "Naypyitaw",
          "Mandalay",
          "Yangon",
          "Mandalay",
          "Yangon",
          "Naypyitaw",
          "Yangon",
          "Mandalay",
          "Naypyitaw",
          "Mandalay",
          "Mandalay",
          "Yangon",
          "Mandalay",
          "Yangon",
          "Mandalay",
          "Mandalay",
          "Naypyitaw",
          "Yangon",
          "Mandalay",
          "Naypyitaw",
          "Yangon",
          "Naypyitaw",
          "Mandalay",
          "Mandalay",
          "Yangon",
          "Yangon",
          "Yangon",
          "Naypyitaw",
          "Yangon",
          "Naypyitaw",
          "Naypyitaw",
          "Yangon",
          "Yangon",
          "Mandalay",
          "Mandalay",
          "Yangon",
          "Naypyitaw",
          "Naypyitaw",
          "Yangon",
          "Naypyitaw",
          "Naypyitaw",
          "Naypyitaw",
          "Mandalay",
          "Naypyitaw",
          "Mandalay",
          "Yangon",
          "Naypyitaw",
          "Yangon",
          "Mandalay",
          "Yangon",
          "Naypyitaw",
          "Mandalay",
          "Naypyitaw",
          "Yangon",
          "Yangon",
          "Mandalay",
          "Naypyitaw",
          "Yangon",
          "Naypyitaw",
          "Yangon",
          "Yangon",
          "Mandalay",
          "Mandalay",
          "Mandalay",
          "Mandalay",
          "Yangon",
          "Mandalay",
          "Yangon",
          "Yangon",
          "Yangon",
          "Yangon",
          "Yangon",
          "Mandalay",
          "Mandalay",
          "Mandalay",
          "Yangon",
          "Naypyitaw",
          "Mandalay",
          "Mandalay",
          "Mandalay",
          "Naypyitaw",
          "Mandalay",
          "Naypyitaw",
          "Naypyitaw",
          "Yangon",
          "Naypyitaw",
          "Mandalay",
          "Naypyitaw",
          "Naypyitaw",
          "Mandalay",
          "Mandalay",
          "Yangon",
          "Mandalay",
          "Mandalay",
          "Yangon",
          "Naypyitaw",
          "Yangon",
          "Yangon",
          "Yangon",
          "Mandalay",
          "Naypyitaw",
          "Mandalay",
          "Naypyitaw",
          "Naypyitaw",
          "Yangon",
          "Mandalay",
          "Mandalay",
          "Naypyitaw",
          "Mandalay",
          "Yangon",
          "Mandalay",
          "Mandalay",
          "Naypyitaw",
          "Yangon",
          "Mandalay",
          "Mandalay",
          "Yangon",
          "Naypyitaw",
          "Yangon",
          "Mandalay",
          "Mandalay",
          "Naypyitaw",
          "Yangon",
          "Mandalay",
          "Mandalay",
          "Mandalay",
          "Yangon",
          "Naypyitaw",
          "Yangon",
          "Naypyitaw",
          "Naypyitaw",
          "Yangon",
          "Naypyitaw",
          "Naypyitaw",
          "Yangon",
          "Yangon",
          "Mandalay",
          "Yangon",
          "Naypyitaw",
          "Naypyitaw",
          "Mandalay",
          "Mandalay",
          "Mandalay",
          "Mandalay",
          "Mandalay",
          "Mandalay",
          "Naypyitaw",
          "Naypyitaw",
          "Yangon",
          "Yangon",
          "Naypyitaw",
          "Naypyitaw",
          "Naypyitaw",
          "Naypyitaw",
          "Yangon",
          "Yangon",
          "Yangon",
          "Yangon",
          "Mandalay",
          "Mandalay",
          "Naypyitaw",
          "Mandalay",
          "Naypyitaw",
          "Mandalay",
          "Naypyitaw",
          "Naypyitaw",
          "Mandalay",
          "Naypyitaw",
          "Mandalay",
          "Yangon",
          "Yangon",
          "Yangon",
          "Mandalay",
          "Mandalay",
          "Naypyitaw",
          "Naypyitaw",
          "Naypyitaw",
          "Mandalay",
          "Yangon",
          "Naypyitaw",
          "Naypyitaw",
          "Yangon",
          "Yangon",
          "Naypyitaw",
          "Naypyitaw",
          "Mandalay",
          "Naypyitaw",
          "Mandalay",
          "Naypyitaw",
          "Mandalay",
          "Yangon",
          "Yangon",
          "Mandalay",
          "Naypyitaw",
          "Yangon",
          "Mandalay",
          "Yangon",
          "Yangon",
          "Yangon",
          "Mandalay",
          "Mandalay",
          "Yangon",
          "Yangon",
          "Yangon",
          "Mandalay",
          "Naypyitaw",
          "Mandalay",
          "Mandalay",
          "Yangon",
          "Mandalay",
          "Naypyitaw",
          "Naypyitaw",
          "Naypyitaw",
          "Naypyitaw",
          "Mandalay",
          "Naypyitaw",
          "Mandalay",
          "Naypyitaw",
          "Mandalay",
          "Naypyitaw",
          "Yangon",
          "Yangon",
          "Naypyitaw",
          "Naypyitaw",
          "Yangon",
          "Naypyitaw",
          "Naypyitaw",
          "Naypyitaw",
          "Yangon",
          "Yangon",
          "Naypyitaw",
          "Mandalay",
          "Yangon",
          "Yangon",
          "Mandalay",
          "Naypyitaw",
          "Yangon",
          "Mandalay",
          "Naypyitaw",
          "Mandalay",
          "Naypyitaw",
          "Naypyitaw",
          "Yangon",
          "Mandalay",
          "Yangon",
          "Yangon",
          "Yangon",
          "Mandalay",
          "Naypyitaw",
          "Mandalay",
          "Yangon",
          "Naypyitaw",
          "Yangon",
          "Yangon",
          "Mandalay",
          "Naypyitaw",
          "Yangon",
          "Mandalay",
          "Mandalay",
          "Mandalay",
          "Yangon",
          "Naypyitaw",
          "Yangon",
          "Mandalay",
          "Yangon",
          "Mandalay",
          "Yangon",
          "Naypyitaw",
          "Yangon",
          "Yangon",
          "Mandalay",
          "Mandalay",
          "Yangon",
          "Mandalay",
          "Yangon",
          "Yangon",
          "Mandalay",
          "Naypyitaw",
          "Naypyitaw",
          "Yangon",
          "Mandalay",
          "Yangon",
          "Naypyitaw",
          "Yangon",
          "Yangon",
          "Yangon",
          "Naypyitaw",
          "Naypyitaw",
          "Yangon",
          "Yangon",
          "Yangon",
          "Naypyitaw",
          "Mandalay",
          "Yangon",
          "Mandalay",
          "Mandalay",
          "Yangon",
          "Mandalay",
          "Yangon",
          "Naypyitaw",
          "Yangon",
          "Mandalay",
          "Mandalay",
          "Yangon",
          "Naypyitaw",
          "Mandalay",
          "Naypyitaw",
          "Naypyitaw",
          "Yangon",
          "Yangon",
          "Naypyitaw",
          "Mandalay",
          "Yangon",
          "Yangon",
          "Naypyitaw",
          "Naypyitaw",
          "Mandalay",
          "Yangon",
          "Mandalay",
          "Mandalay",
          "Naypyitaw",
          "Mandalay",
          "Yangon",
          "Yangon",
          "Yangon",
          "Yangon",
          "Yangon",
          "Naypyitaw",
          "Yangon",
          "Naypyitaw",
          "Mandalay",
          "Naypyitaw",
          "Mandalay",
          "Mandalay",
          "Mandalay",
          "Naypyitaw",
          "Naypyitaw",
          "Naypyitaw",
          "Yangon",
          "Naypyitaw",
          "Mandalay",
          "Yangon",
          "Yangon",
          "Naypyitaw",
          "Naypyitaw",
          "Naypyitaw",
          "Mandalay",
          "Yangon",
          "Mandalay",
          "Mandalay",
          "Naypyitaw",
          "Yangon",
          "Yangon",
          "Yangon",
          "Naypyitaw",
          "Naypyitaw",
          "Yangon",
          "Mandalay",
          "Mandalay",
          "Naypyitaw",
          "Mandalay",
          "Naypyitaw",
          "Naypyitaw",
          "Naypyitaw",
          "Mandalay",
          "Mandalay",
          "Yangon",
          "Mandalay",
          "Mandalay",
          "Mandalay",
          "Naypyitaw",
          "Yangon",
          "Naypyitaw",
          "Mandalay",
          "Naypyitaw",
          "Naypyitaw",
          "Yangon",
          "Yangon",
          "Naypyitaw",
          "Yangon",
          "Naypyitaw",
          "Yangon",
          "Yangon",
          "Yangon",
          "Yangon",
          "Naypyitaw",
          "Mandalay",
          "Naypyitaw",
          "Mandalay",
          "Mandalay",
          "Mandalay",
          "Mandalay",
          "Naypyitaw",
          "Mandalay",
          "Yangon",
          "Naypyitaw",
          "Mandalay",
          "Naypyitaw",
          "Yangon",
          "Naypyitaw",
          "Yangon",
          "Yangon",
          "Naypyitaw",
          "Mandalay",
          "Mandalay",
          "Yangon",
          "Yangon",
          "Yangon",
          "Mandalay",
          "Mandalay",
          "Mandalay",
          "Mandalay",
          "Yangon",
          "Naypyitaw",
          "Mandalay",
          "Yangon",
          "Mandalay",
          "Mandalay",
          "Mandalay",
          "Naypyitaw",
          "Yangon",
          "Yangon",
          "Naypyitaw",
          "Naypyitaw",
          "Mandalay",
          "Mandalay",
          "Mandalay",
          "Naypyitaw",
          "Mandalay",
          "Yangon",
          "Mandalay",
          "Yangon",
          "Mandalay",
          "Naypyitaw",
          "Naypyitaw",
          "Mandalay",
          "Yangon",
          "Yangon",
          "Yangon"
         ],
         "xaxis": "x",
         "yaxis": "y"
        }
       ],
       "layout": {
        "barmode": "relative",
        "legend": {
         "tracegroupgap": 0
        },
        "margin": {
         "t": 60
        },
        "template": {
         "data": {
          "bar": [
           {
            "error_x": {
             "color": "#2a3f5f"
            },
            "error_y": {
             "color": "#2a3f5f"
            },
            "marker": {
             "line": {
              "color": "white",
              "width": 0.5
             },
             "pattern": {
              "fillmode": "overlay",
              "size": 10,
              "solidity": 0.2
             }
            },
            "type": "bar"
           }
          ],
          "barpolar": [
           {
            "marker": {
             "line": {
              "color": "white",
              "width": 0.5
             },
             "pattern": {
              "fillmode": "overlay",
              "size": 10,
              "solidity": 0.2
             }
            },
            "type": "barpolar"
           }
          ],
          "carpet": [
           {
            "aaxis": {
             "endlinecolor": "#2a3f5f",
             "gridcolor": "#C8D4E3",
             "linecolor": "#C8D4E3",
             "minorgridcolor": "#C8D4E3",
             "startlinecolor": "#2a3f5f"
            },
            "baxis": {
             "endlinecolor": "#2a3f5f",
             "gridcolor": "#C8D4E3",
             "linecolor": "#C8D4E3",
             "minorgridcolor": "#C8D4E3",
             "startlinecolor": "#2a3f5f"
            },
            "type": "carpet"
           }
          ],
          "choropleth": [
           {
            "colorbar": {
             "outlinewidth": 0,
             "ticks": ""
            },
            "type": "choropleth"
           }
          ],
          "contour": [
           {
            "colorbar": {
             "outlinewidth": 0,
             "ticks": ""
            },
            "colorscale": [
             [
              0,
              "#0d0887"
             ],
             [
              0.1111111111111111,
              "#46039f"
             ],
             [
              0.2222222222222222,
              "#7201a8"
             ],
             [
              0.3333333333333333,
              "#9c179e"
             ],
             [
              0.4444444444444444,
              "#bd3786"
             ],
             [
              0.5555555555555556,
              "#d8576b"
             ],
             [
              0.6666666666666666,
              "#ed7953"
             ],
             [
              0.7777777777777778,
              "#fb9f3a"
             ],
             [
              0.8888888888888888,
              "#fdca26"
             ],
             [
              1,
              "#f0f921"
             ]
            ],
            "type": "contour"
           }
          ],
          "contourcarpet": [
           {
            "colorbar": {
             "outlinewidth": 0,
             "ticks": ""
            },
            "type": "contourcarpet"
           }
          ],
          "heatmap": [
           {
            "colorbar": {
             "outlinewidth": 0,
             "ticks": ""
            },
            "colorscale": [
             [
              0,
              "#0d0887"
             ],
             [
              0.1111111111111111,
              "#46039f"
             ],
             [
              0.2222222222222222,
              "#7201a8"
             ],
             [
              0.3333333333333333,
              "#9c179e"
             ],
             [
              0.4444444444444444,
              "#bd3786"
             ],
             [
              0.5555555555555556,
              "#d8576b"
             ],
             [
              0.6666666666666666,
              "#ed7953"
             ],
             [
              0.7777777777777778,
              "#fb9f3a"
             ],
             [
              0.8888888888888888,
              "#fdca26"
             ],
             [
              1,
              "#f0f921"
             ]
            ],
            "type": "heatmap"
           }
          ],
          "histogram": [
           {
            "marker": {
             "pattern": {
              "fillmode": "overlay",
              "size": 10,
              "solidity": 0.2
             }
            },
            "type": "histogram"
           }
          ],
          "histogram2d": [
           {
            "colorbar": {
             "outlinewidth": 0,
             "ticks": ""
            },
            "colorscale": [
             [
              0,
              "#0d0887"
             ],
             [
              0.1111111111111111,
              "#46039f"
             ],
             [
              0.2222222222222222,
              "#7201a8"
             ],
             [
              0.3333333333333333,
              "#9c179e"
             ],
             [
              0.4444444444444444,
              "#bd3786"
             ],
             [
              0.5555555555555556,
              "#d8576b"
             ],
             [
              0.6666666666666666,
              "#ed7953"
             ],
             [
              0.7777777777777778,
              "#fb9f3a"
             ],
             [
              0.8888888888888888,
              "#fdca26"
             ],
             [
              1,
              "#f0f921"
             ]
            ],
            "type": "histogram2d"
           }
          ],
          "histogram2dcontour": [
           {
            "colorbar": {
             "outlinewidth": 0,
             "ticks": ""
            },
            "colorscale": [
             [
              0,
              "#0d0887"
             ],
             [
              0.1111111111111111,
              "#46039f"
             ],
             [
              0.2222222222222222,
              "#7201a8"
             ],
             [
              0.3333333333333333,
              "#9c179e"
             ],
             [
              0.4444444444444444,
              "#bd3786"
             ],
             [
              0.5555555555555556,
              "#d8576b"
             ],
             [
              0.6666666666666666,
              "#ed7953"
             ],
             [
              0.7777777777777778,
              "#fb9f3a"
             ],
             [
              0.8888888888888888,
              "#fdca26"
             ],
             [
              1,
              "#f0f921"
             ]
            ],
            "type": "histogram2dcontour"
           }
          ],
          "mesh3d": [
           {
            "colorbar": {
             "outlinewidth": 0,
             "ticks": ""
            },
            "type": "mesh3d"
           }
          ],
          "parcoords": [
           {
            "line": {
             "colorbar": {
              "outlinewidth": 0,
              "ticks": ""
             }
            },
            "type": "parcoords"
           }
          ],
          "pie": [
           {
            "automargin": true,
            "type": "pie"
           }
          ],
          "scatter": [
           {
            "fillpattern": {
             "fillmode": "overlay",
             "size": 10,
             "solidity": 0.2
            },
            "type": "scatter"
           }
          ],
          "scatter3d": [
           {
            "line": {
             "colorbar": {
              "outlinewidth": 0,
              "ticks": ""
             }
            },
            "marker": {
             "colorbar": {
              "outlinewidth": 0,
              "ticks": ""
             }
            },
            "type": "scatter3d"
           }
          ],
          "scattercarpet": [
           {
            "marker": {
             "colorbar": {
              "outlinewidth": 0,
              "ticks": ""
             }
            },
            "type": "scattercarpet"
           }
          ],
          "scattergeo": [
           {
            "marker": {
             "colorbar": {
              "outlinewidth": 0,
              "ticks": ""
             }
            },
            "type": "scattergeo"
           }
          ],
          "scattergl": [
           {
            "marker": {
             "colorbar": {
              "outlinewidth": 0,
              "ticks": ""
             }
            },
            "type": "scattergl"
           }
          ],
          "scattermap": [
           {
            "marker": {
             "colorbar": {
              "outlinewidth": 0,
              "ticks": ""
             }
            },
            "type": "scattermap"
           }
          ],
          "scattermapbox": [
           {
            "marker": {
             "colorbar": {
              "outlinewidth": 0,
              "ticks": ""
             }
            },
            "type": "scattermapbox"
           }
          ],
          "scatterpolar": [
           {
            "marker": {
             "colorbar": {
              "outlinewidth": 0,
              "ticks": ""
             }
            },
            "type": "scatterpolar"
           }
          ],
          "scatterpolargl": [
           {
            "marker": {
             "colorbar": {
              "outlinewidth": 0,
              "ticks": ""
             }
            },
            "type": "scatterpolargl"
           }
          ],
          "scatterternary": [
           {
            "marker": {
             "colorbar": {
              "outlinewidth": 0,
              "ticks": ""
             }
            },
            "type": "scatterternary"
           }
          ],
          "surface": [
           {
            "colorbar": {
             "outlinewidth": 0,
             "ticks": ""
            },
            "colorscale": [
             [
              0,
              "#0d0887"
             ],
             [
              0.1111111111111111,
              "#46039f"
             ],
             [
              0.2222222222222222,
              "#7201a8"
             ],
             [
              0.3333333333333333,
              "#9c179e"
             ],
             [
              0.4444444444444444,
              "#bd3786"
             ],
             [
              0.5555555555555556,
              "#d8576b"
             ],
             [
              0.6666666666666666,
              "#ed7953"
             ],
             [
              0.7777777777777778,
              "#fb9f3a"
             ],
             [
              0.8888888888888888,
              "#fdca26"
             ],
             [
              1,
              "#f0f921"
             ]
            ],
            "type": "surface"
           }
          ],
          "table": [
           {
            "cells": {
             "fill": {
              "color": "#EBF0F8"
             },
             "line": {
              "color": "white"
             }
            },
            "header": {
             "fill": {
              "color": "#C8D4E3"
             },
             "line": {
              "color": "white"
             }
            },
            "type": "table"
           }
          ]
         },
         "layout": {
          "annotationdefaults": {
           "arrowcolor": "#2a3f5f",
           "arrowhead": 0,
           "arrowwidth": 1
          },
          "autotypenumbers": "strict",
          "coloraxis": {
           "colorbar": {
            "outlinewidth": 0,
            "ticks": ""
           }
          },
          "colorscale": {
           "diverging": [
            [
             0,
             "#8e0152"
            ],
            [
             0.1,
             "#c51b7d"
            ],
            [
             0.2,
             "#de77ae"
            ],
            [
             0.3,
             "#f1b6da"
            ],
            [
             0.4,
             "#fde0ef"
            ],
            [
             0.5,
             "#f7f7f7"
            ],
            [
             0.6,
             "#e6f5d0"
            ],
            [
             0.7,
             "#b8e186"
            ],
            [
             0.8,
             "#7fbc41"
            ],
            [
             0.9,
             "#4d9221"
            ],
            [
             1,
             "#276419"
            ]
           ],
           "sequential": [
            [
             0,
             "#0d0887"
            ],
            [
             0.1111111111111111,
             "#46039f"
            ],
            [
             0.2222222222222222,
             "#7201a8"
            ],
            [
             0.3333333333333333,
             "#9c179e"
            ],
            [
             0.4444444444444444,
             "#bd3786"
            ],
            [
             0.5555555555555556,
             "#d8576b"
            ],
            [
             0.6666666666666666,
             "#ed7953"
            ],
            [
             0.7777777777777778,
             "#fb9f3a"
            ],
            [
             0.8888888888888888,
             "#fdca26"
            ],
            [
             1,
             "#f0f921"
            ]
           ],
           "sequentialminus": [
            [
             0,
             "#0d0887"
            ],
            [
             0.1111111111111111,
             "#46039f"
            ],
            [
             0.2222222222222222,
             "#7201a8"
            ],
            [
             0.3333333333333333,
             "#9c179e"
            ],
            [
             0.4444444444444444,
             "#bd3786"
            ],
            [
             0.5555555555555556,
             "#d8576b"
            ],
            [
             0.6666666666666666,
             "#ed7953"
            ],
            [
             0.7777777777777778,
             "#fb9f3a"
            ],
            [
             0.8888888888888888,
             "#fdca26"
            ],
            [
             1,
             "#f0f921"
            ]
           ]
          },
          "colorway": [
           "#636efa",
           "#EF553B",
           "#00cc96",
           "#ab63fa",
           "#FFA15A",
           "#19d3f3",
           "#FF6692",
           "#B6E880",
           "#FF97FF",
           "#FECB52"
          ],
          "font": {
           "color": "#2a3f5f"
          },
          "geo": {
           "bgcolor": "white",
           "lakecolor": "white",
           "landcolor": "white",
           "showlakes": true,
           "showland": true,
           "subunitcolor": "#C8D4E3"
          },
          "hoverlabel": {
           "align": "left"
          },
          "hovermode": "closest",
          "mapbox": {
           "style": "light"
          },
          "paper_bgcolor": "white",
          "plot_bgcolor": "white",
          "polar": {
           "angularaxis": {
            "gridcolor": "#EBF0F8",
            "linecolor": "#EBF0F8",
            "ticks": ""
           },
           "bgcolor": "white",
           "radialaxis": {
            "gridcolor": "#EBF0F8",
            "linecolor": "#EBF0F8",
            "ticks": ""
           }
          },
          "scene": {
           "xaxis": {
            "backgroundcolor": "white",
            "gridcolor": "#DFE8F3",
            "gridwidth": 2,
            "linecolor": "#EBF0F8",
            "showbackground": true,
            "ticks": "",
            "zerolinecolor": "#EBF0F8"
           },
           "yaxis": {
            "backgroundcolor": "white",
            "gridcolor": "#DFE8F3",
            "gridwidth": 2,
            "linecolor": "#EBF0F8",
            "showbackground": true,
            "ticks": "",
            "zerolinecolor": "#EBF0F8"
           },
           "zaxis": {
            "backgroundcolor": "white",
            "gridcolor": "#DFE8F3",
            "gridwidth": 2,
            "linecolor": "#EBF0F8",
            "showbackground": true,
            "ticks": "",
            "zerolinecolor": "#EBF0F8"
           }
          },
          "shapedefaults": {
           "line": {
            "color": "#2a3f5f"
           }
          },
          "ternary": {
           "aaxis": {
            "gridcolor": "#DFE8F3",
            "linecolor": "#A2B1C6",
            "ticks": ""
           },
           "baxis": {
            "gridcolor": "#DFE8F3",
            "linecolor": "#A2B1C6",
            "ticks": ""
           },
           "bgcolor": "white",
           "caxis": {
            "gridcolor": "#DFE8F3",
            "linecolor": "#A2B1C6",
            "ticks": ""
           }
          },
          "title": {
           "x": 0.05
          },
          "xaxis": {
           "automargin": true,
           "gridcolor": "#EBF0F8",
           "linecolor": "#EBF0F8",
           "ticks": "",
           "title": {
            "standoff": 15
           },
           "zerolinecolor": "#EBF0F8",
           "zerolinewidth": 2
          },
          "yaxis": {
           "automargin": true,
           "gridcolor": "#EBF0F8",
           "linecolor": "#EBF0F8",
           "ticks": "",
           "title": {
            "standoff": 15
           },
           "zerolinecolor": "#EBF0F8",
           "zerolinewidth": 2
          }
         }
        },
        "xaxis": {
         "anchor": "y",
         "domain": [
          0,
          1
         ],
         "title": {
          "text": "City"
         }
        },
        "yaxis": {
         "anchor": "x",
         "domain": [
          0,
          1
         ],
         "title": {
          "text": "count"
         }
        }
       }
      }
     },
     "metadata": {},
     "output_type": "display_data"
    },
    {
     "data": {
      "application/vnd.plotly.v1+json": {
       "config": {
        "plotlyServerURL": "https://plot.ly"
       },
       "data": [
        {
         "bingroup": "x",
         "hovertemplate": "Customer type=%{x}<br>count=%{y}<extra></extra>",
         "legendgroup": "",
         "marker": {
          "color": "#636efa",
          "pattern": {
           "shape": ""
          }
         },
         "name": "",
         "orientation": "v",
         "showlegend": false,
         "type": "histogram",
         "x": [
          "Member",
          "Normal",
          "Normal",
          "Member",
          "Normal",
          "Normal",
          "Member",
          "Normal",
          "Member",
          "Member",
          "Member",
          "Member",
          "Normal",
          "Normal",
          "Normal",
          "Member",
          "Member",
          "Normal",
          "Normal",
          "Normal",
          "Member",
          "Normal",
          "Normal",
          "Normal",
          "Member",
          "Member",
          "Normal",
          "Normal",
          "Normal",
          "Normal",
          "Normal",
          "Member",
          "Normal",
          "Normal",
          "Member",
          "Member",
          "Member",
          "Normal",
          "Normal",
          "Member",
          "Member",
          "Member",
          "Member",
          "Member",
          "Member",
          "Member",
          "Member",
          "Member",
          "Member",
          "Member",
          "Member",
          "Member",
          "Member",
          "Member",
          "Normal",
          "Normal",
          "Member",
          "Normal",
          "Member",
          "Normal",
          "Member",
          "Normal",
          "Member",
          "Member",
          "Member",
          "Member",
          "Normal",
          "Member",
          "Normal",
          "Member",
          "Normal",
          "Normal",
          "Member",
          "Normal",
          "Normal",
          "Normal",
          "Member",
          "Member",
          "Member",
          "Normal",
          "Normal",
          "Normal",
          "Normal",
          "Member",
          "Member",
          "Normal",
          "Normal",
          "Member",
          "Normal",
          "Normal",
          "Member",
          "Normal",
          "Member",
          "Member",
          "Normal",
          "Normal",
          "Normal",
          "Normal",
          "Normal",
          "Normal",
          "Member",
          "Normal",
          "Normal",
          "Normal",
          "Normal",
          "Member",
          "Normal",
          "Normal",
          "Normal",
          "Member",
          "Member",
          "Member",
          "Normal",
          "Member",
          "Member",
          "Normal",
          "Member",
          "Member",
          "Normal",
          "Normal",
          "Normal",
          "Member",
          "Member",
          "Member",
          "Member",
          "Normal",
          "Normal",
          "Normal",
          "Member",
          "Normal",
          "Normal",
          "Member",
          "Normal",
          "Member",
          "Normal",
          "Normal",
          "Normal",
          "Member",
          "Normal",
          "Normal",
          "Member",
          "Member",
          "Member",
          "Member",
          "Normal",
          "Normal",
          "Member",
          "Normal",
          "Member",
          "Normal",
          "Member",
          "Member",
          "Normal",
          "Normal",
          "Normal",
          "Member",
          "Member",
          "Normal",
          "Member",
          "Normal",
          "Normal",
          "Normal",
          "Normal",
          "Normal",
          "Normal",
          "Member",
          "Normal",
          "Normal",
          "Normal",
          "Member",
          "Normal",
          "Member",
          "Normal",
          "Member",
          "Normal",
          "Member",
          "Member",
          "Normal",
          "Normal",
          "Member",
          "Normal",
          "Member",
          "Member",
          "Normal",
          "Normal",
          "Member",
          "Member",
          "Member",
          "Normal",
          "Normal",
          "Normal",
          "Normal",
          "Normal",
          "Normal",
          "Normal",
          "Member",
          "Member",
          "Normal",
          "Normal",
          "Member",
          "Member",
          "Member",
          "Normal",
          "Member",
          "Member",
          "Normal",
          "Member",
          "Member",
          "Normal",
          "Normal",
          "Normal",
          "Normal",
          "Normal",
          "Normal",
          "Member",
          "Normal",
          "Normal",
          "Member",
          "Normal",
          "Normal",
          "Normal",
          "Normal",
          "Normal",
          "Member",
          "Normal",
          "Member",
          "Member",
          "Member",
          "Member",
          "Normal",
          "Normal",
          "Member",
          "Normal",
          "Member",
          "Member",
          "Normal",
          "Normal",
          "Member",
          "Member",
          "Normal",
          "Normal",
          "Normal",
          "Member",
          "Member",
          "Normal",
          "Member",
          "Member",
          "Member",
          "Member",
          "Normal",
          "Member",
          "Member",
          "Normal",
          "Normal",
          "Member",
          "Member",
          "Member",
          "Member",
          "Member",
          "Member",
          "Normal",
          "Normal",
          "Member",
          "Member",
          "Normal",
          "Member",
          "Normal",
          "Member",
          "Member",
          "Member",
          "Normal",
          "Member",
          "Member",
          "Normal",
          "Normal",
          "Normal",
          "Member",
          "Normal",
          "Member",
          "Member",
          "Normal",
          "Normal",
          "Normal",
          "Member",
          "Member",
          "Normal",
          "Member",
          "Normal",
          "Normal",
          "Member",
          "Member",
          "Normal",
          "Member",
          "Member",
          "Normal",
          "Member",
          "Normal",
          "Member",
          "Member",
          "Member",
          "Normal",
          "Member",
          "Normal",
          "Normal",
          "Normal",
          "Member",
          "Normal",
          "Member",
          "Member",
          "Normal",
          "Member",
          "Member",
          "Member",
          "Member",
          "Member",
          "Member",
          "Member",
          "Member",
          "Member",
          "Member",
          "Normal",
          "Normal",
          "Normal",
          "Normal",
          "Normal",
          "Normal",
          "Member",
          "Member",
          "Member",
          "Member",
          "Normal",
          "Normal",
          "Normal",
          "Member",
          "Member",
          "Member",
          "Normal",
          "Normal",
          "Normal",
          "Member",
          "Member",
          "Member",
          "Member",
          "Normal",
          "Normal",
          "Normal",
          "Member",
          "Member",
          "Normal",
          "Normal",
          "Member",
          "Normal",
          "Member",
          "Member",
          "Normal",
          "Member",
          "Normal",
          "Normal",
          "Normal",
          "Normal",
          "Member",
          "Normal",
          "Normal",
          "Normal",
          "Normal",
          "Normal",
          "Normal",
          "Member",
          "Normal",
          "Member",
          "Member",
          "Normal",
          "Normal",
          "Normal",
          "Normal",
          "Member",
          "Member",
          "Normal",
          "Member",
          "Normal",
          "Member",
          "Normal",
          "Normal",
          "Member",
          "Normal",
          "Member",
          "Normal",
          "Normal",
          "Member",
          "Normal",
          "Member",
          "Normal",
          "Member",
          "Member",
          "Normal",
          "Normal",
          "Normal",
          "Normal",
          "Member",
          "Member",
          "Normal",
          "Normal",
          "Member",
          "Normal",
          "Member",
          "Member",
          "Normal",
          "Member",
          "Normal",
          "Normal",
          "Normal",
          "Normal",
          "Member",
          "Normal",
          "Normal",
          "Normal",
          "Normal",
          "Member",
          "Normal",
          "Member",
          "Member",
          "Normal",
          "Member",
          "Member",
          "Normal",
          "Member",
          "Member",
          "Member",
          "Normal",
          "Member",
          "Normal",
          "Normal",
          "Normal",
          "Normal",
          "Normal",
          "Normal",
          "Member",
          "Normal",
          "Member",
          "Normal",
          "Member",
          "Member",
          "Member",
          "Normal",
          "Normal",
          "Member",
          "Member",
          "Normal",
          "Member",
          "Member",
          "Normal",
          "Normal",
          "Normal",
          "Normal",
          "Member",
          "Member",
          "Member",
          "Normal",
          "Member",
          "Normal",
          "Normal",
          "Member",
          "Normal",
          "Member",
          "Member",
          "Member",
          "Member",
          "Normal",
          "Normal",
          "Member",
          "Member",
          "Member",
          "Member",
          "Member",
          "Member",
          "Normal",
          "Normal",
          "Normal",
          "Normal",
          "Normal",
          "Normal",
          "Normal",
          "Normal",
          "Member",
          "Member",
          "Member",
          "Normal",
          "Normal",
          "Normal",
          "Member",
          "Normal",
          "Member",
          "Member",
          "Member",
          "Normal",
          "Normal",
          "Normal",
          "Normal",
          "Member",
          "Member",
          "Member",
          "Member",
          "Normal",
          "Normal",
          "Normal",
          "Member",
          "Member",
          "Normal",
          "Member",
          "Member",
          "Member",
          "Normal",
          "Normal",
          "Normal",
          "Member",
          "Member",
          "Member",
          "Member",
          "Normal",
          "Member",
          "Normal",
          "Member",
          "Member",
          "Normal",
          "Normal",
          "Member",
          "Normal",
          "Member",
          "Member",
          "Normal",
          "Normal",
          "Member",
          "Normal",
          "Normal",
          "Normal",
          "Normal",
          "Member",
          "Normal",
          "Normal",
          "Member",
          "Normal",
          "Member",
          "Member",
          "Member",
          "Normal",
          "Member",
          "Normal",
          "Normal",
          "Normal",
          "Normal",
          "Normal",
          "Normal",
          "Normal",
          "Normal",
          "Member",
          "Normal",
          "Member",
          "Member",
          "Member",
          "Member",
          "Normal",
          "Normal",
          "Normal",
          "Member",
          "Normal",
          "Normal",
          "Normal",
          "Normal",
          "Normal",
          "Normal",
          "Member",
          "Member",
          "Member",
          "Normal",
          "Normal",
          "Member",
          "Normal",
          "Normal",
          "Normal",
          "Normal",
          "Normal",
          "Member",
          "Member",
          "Member",
          "Normal",
          "Normal",
          "Normal",
          "Normal",
          "Normal",
          "Normal",
          "Member",
          "Member",
          "Member",
          "Member",
          "Member",
          "Normal",
          "Normal",
          "Normal",
          "Normal",
          "Member",
          "Normal",
          "Normal",
          "Normal",
          "Normal",
          "Member",
          "Normal",
          "Member",
          "Member",
          "Normal",
          "Member",
          "Normal",
          "Member",
          "Member",
          "Member",
          "Member",
          "Member",
          "Member",
          "Member",
          "Member",
          "Member",
          "Normal",
          "Member",
          "Member",
          "Normal",
          "Member",
          "Member",
          "Normal",
          "Member",
          "Member",
          "Normal",
          "Normal",
          "Normal",
          "Member",
          "Normal",
          "Member",
          "Member",
          "Normal",
          "Normal",
          "Member",
          "Normal",
          "Member",
          "Member",
          "Member",
          "Member",
          "Member",
          "Member",
          "Normal",
          "Member",
          "Member",
          "Normal",
          "Normal",
          "Normal",
          "Member",
          "Member",
          "Member",
          "Normal",
          "Normal",
          "Member",
          "Member",
          "Member",
          "Normal",
          "Member",
          "Member",
          "Member",
          "Normal",
          "Normal",
          "Member",
          "Normal",
          "Member",
          "Normal",
          "Member",
          "Member",
          "Normal",
          "Normal",
          "Normal",
          "Member",
          "Member",
          "Member",
          "Normal",
          "Member",
          "Member",
          "Normal",
          "Normal",
          "Member",
          "Member",
          "Member",
          "Member",
          "Member",
          "Member",
          "Normal",
          "Member",
          "Member",
          "Member",
          "Member",
          "Normal",
          "Member",
          "Member",
          "Normal",
          "Member",
          "Normal",
          "Normal",
          "Normal",
          "Member",
          "Member",
          "Member",
          "Normal",
          "Normal",
          "Member",
          "Normal",
          "Normal",
          "Member",
          "Member",
          "Normal",
          "Normal",
          "Member",
          "Normal",
          "Member",
          "Member",
          "Normal",
          "Member",
          "Normal",
          "Member",
          "Normal",
          "Member",
          "Member",
          "Member",
          "Member",
          "Normal",
          "Normal",
          "Member",
          "Member",
          "Normal",
          "Member",
          "Normal",
          "Member",
          "Member",
          "Member",
          "Normal",
          "Member",
          "Normal",
          "Normal",
          "Normal",
          "Member",
          "Member",
          "Member",
          "Member",
          "Member",
          "Member",
          "Member",
          "Member",
          "Member",
          "Normal",
          "Member",
          "Normal",
          "Member",
          "Normal",
          "Member",
          "Normal",
          "Member",
          "Normal",
          "Member",
          "Normal",
          "Member",
          "Member",
          "Member",
          "Normal",
          "Normal",
          "Normal",
          "Normal",
          "Normal",
          "Member",
          "Member",
          "Member",
          "Normal",
          "Member",
          "Normal",
          "Member",
          "Normal",
          "Member",
          "Member",
          "Normal",
          "Normal",
          "Member",
          "Normal",
          "Member",
          "Normal",
          "Normal",
          "Normal",
          "Member",
          "Normal",
          "Normal",
          "Member",
          "Normal",
          "Member",
          "Normal",
          "Normal",
          "Member",
          "Member",
          "Normal",
          "Member",
          "Normal",
          "Member",
          "Member",
          "Member",
          "Member",
          "Normal",
          "Normal",
          "Normal",
          "Normal",
          "Normal",
          "Normal",
          "Normal",
          "Member",
          "Normal",
          "Member",
          "Normal",
          "Normal",
          "Normal",
          "Member",
          "Member",
          "Normal",
          "Member",
          "Member",
          "Normal",
          "Member",
          "Member",
          "Member",
          "Member",
          "Normal",
          "Member",
          "Normal",
          "Normal",
          "Member",
          "Member",
          "Member",
          "Normal",
          "Member",
          "Normal",
          "Normal",
          "Member",
          "Normal",
          "Normal",
          "Member",
          "Member",
          "Normal",
          "Member",
          "Member",
          "Normal",
          "Member",
          "Normal",
          "Normal",
          "Normal",
          "Normal",
          "Normal",
          "Member",
          "Normal",
          "Normal",
          "Member",
          "Normal",
          "Member",
          "Member",
          "Member",
          "Normal",
          "Normal",
          "Member",
          "Member",
          "Member",
          "Member",
          "Member",
          "Normal",
          "Member",
          "Normal",
          "Member",
          "Member",
          "Member",
          "Normal",
          "Member",
          "Member",
          "Normal",
          "Member",
          "Member",
          "Member",
          "Member",
          "Member",
          "Member",
          "Normal",
          "Member",
          "Member",
          "Normal",
          "Member",
          "Normal",
          "Normal",
          "Member",
          "Normal",
          "Member",
          "Normal",
          "Normal",
          "Member",
          "Member",
          "Member",
          "Member",
          "Normal",
          "Member",
          "Normal",
          "Normal",
          "Member",
          "Normal",
          "Normal",
          "Member",
          "Normal",
          "Member",
          "Normal",
          "Normal",
          "Member",
          "Member",
          "Normal",
          "Member",
          "Normal",
          "Normal",
          "Member",
          "Member",
          "Normal",
          "Member",
          "Normal",
          "Member",
          "Normal",
          "Member",
          "Member",
          "Normal",
          "Normal",
          "Normal",
          "Member",
          "Normal",
          "Normal",
          "Normal",
          "Member",
          "Normal",
          "Normal",
          "Member",
          "Normal",
          "Normal",
          "Member",
          "Normal",
          "Normal",
          "Member",
          "Normal",
          "Member",
          "Member",
          "Member",
          "Normal",
          "Member",
          "Member",
          "Member",
          "Member",
          "Member",
          "Normal",
          "Member",
          "Normal",
          "Normal",
          "Member",
          "Member",
          "Member",
          "Normal",
          "Member",
          "Normal",
          "Normal",
          "Normal",
          "Member",
          "Normal",
          "Member",
          "Member",
          "Member",
          "Normal",
          "Normal",
          "Normal",
          "Member",
          "Normal",
          "Member",
          "Normal",
          "Normal",
          "Member",
          "Normal",
          "Member",
          "Normal",
          "Normal",
          "Normal",
          "Normal",
          "Member",
          "Member",
          "Member",
          "Normal",
          "Normal",
          "Normal",
          "Normal",
          "Member",
          "Normal",
          "Normal",
          "Member",
          "Normal",
          "Member"
         ],
         "xaxis": "x",
         "yaxis": "y"
        }
       ],
       "layout": {
        "barmode": "relative",
        "legend": {
         "tracegroupgap": 0
        },
        "margin": {
         "t": 60
        },
        "template": {
         "data": {
          "bar": [
           {
            "error_x": {
             "color": "#2a3f5f"
            },
            "error_y": {
             "color": "#2a3f5f"
            },
            "marker": {
             "line": {
              "color": "white",
              "width": 0.5
             },
             "pattern": {
              "fillmode": "overlay",
              "size": 10,
              "solidity": 0.2
             }
            },
            "type": "bar"
           }
          ],
          "barpolar": [
           {
            "marker": {
             "line": {
              "color": "white",
              "width": 0.5
             },
             "pattern": {
              "fillmode": "overlay",
              "size": 10,
              "solidity": 0.2
             }
            },
            "type": "barpolar"
           }
          ],
          "carpet": [
           {
            "aaxis": {
             "endlinecolor": "#2a3f5f",
             "gridcolor": "#C8D4E3",
             "linecolor": "#C8D4E3",
             "minorgridcolor": "#C8D4E3",
             "startlinecolor": "#2a3f5f"
            },
            "baxis": {
             "endlinecolor": "#2a3f5f",
             "gridcolor": "#C8D4E3",
             "linecolor": "#C8D4E3",
             "minorgridcolor": "#C8D4E3",
             "startlinecolor": "#2a3f5f"
            },
            "type": "carpet"
           }
          ],
          "choropleth": [
           {
            "colorbar": {
             "outlinewidth": 0,
             "ticks": ""
            },
            "type": "choropleth"
           }
          ],
          "contour": [
           {
            "colorbar": {
             "outlinewidth": 0,
             "ticks": ""
            },
            "colorscale": [
             [
              0,
              "#0d0887"
             ],
             [
              0.1111111111111111,
              "#46039f"
             ],
             [
              0.2222222222222222,
              "#7201a8"
             ],
             [
              0.3333333333333333,
              "#9c179e"
             ],
             [
              0.4444444444444444,
              "#bd3786"
             ],
             [
              0.5555555555555556,
              "#d8576b"
             ],
             [
              0.6666666666666666,
              "#ed7953"
             ],
             [
              0.7777777777777778,
              "#fb9f3a"
             ],
             [
              0.8888888888888888,
              "#fdca26"
             ],
             [
              1,
              "#f0f921"
             ]
            ],
            "type": "contour"
           }
          ],
          "contourcarpet": [
           {
            "colorbar": {
             "outlinewidth": 0,
             "ticks": ""
            },
            "type": "contourcarpet"
           }
          ],
          "heatmap": [
           {
            "colorbar": {
             "outlinewidth": 0,
             "ticks": ""
            },
            "colorscale": [
             [
              0,
              "#0d0887"
             ],
             [
              0.1111111111111111,
              "#46039f"
             ],
             [
              0.2222222222222222,
              "#7201a8"
             ],
             [
              0.3333333333333333,
              "#9c179e"
             ],
             [
              0.4444444444444444,
              "#bd3786"
             ],
             [
              0.5555555555555556,
              "#d8576b"
             ],
             [
              0.6666666666666666,
              "#ed7953"
             ],
             [
              0.7777777777777778,
              "#fb9f3a"
             ],
             [
              0.8888888888888888,
              "#fdca26"
             ],
             [
              1,
              "#f0f921"
             ]
            ],
            "type": "heatmap"
           }
          ],
          "histogram": [
           {
            "marker": {
             "pattern": {
              "fillmode": "overlay",
              "size": 10,
              "solidity": 0.2
             }
            },
            "type": "histogram"
           }
          ],
          "histogram2d": [
           {
            "colorbar": {
             "outlinewidth": 0,
             "ticks": ""
            },
            "colorscale": [
             [
              0,
              "#0d0887"
             ],
             [
              0.1111111111111111,
              "#46039f"
             ],
             [
              0.2222222222222222,
              "#7201a8"
             ],
             [
              0.3333333333333333,
              "#9c179e"
             ],
             [
              0.4444444444444444,
              "#bd3786"
             ],
             [
              0.5555555555555556,
              "#d8576b"
             ],
             [
              0.6666666666666666,
              "#ed7953"
             ],
             [
              0.7777777777777778,
              "#fb9f3a"
             ],
             [
              0.8888888888888888,
              "#fdca26"
             ],
             [
              1,
              "#f0f921"
             ]
            ],
            "type": "histogram2d"
           }
          ],
          "histogram2dcontour": [
           {
            "colorbar": {
             "outlinewidth": 0,
             "ticks": ""
            },
            "colorscale": [
             [
              0,
              "#0d0887"
             ],
             [
              0.1111111111111111,
              "#46039f"
             ],
             [
              0.2222222222222222,
              "#7201a8"
             ],
             [
              0.3333333333333333,
              "#9c179e"
             ],
             [
              0.4444444444444444,
              "#bd3786"
             ],
             [
              0.5555555555555556,
              "#d8576b"
             ],
             [
              0.6666666666666666,
              "#ed7953"
             ],
             [
              0.7777777777777778,
              "#fb9f3a"
             ],
             [
              0.8888888888888888,
              "#fdca26"
             ],
             [
              1,
              "#f0f921"
             ]
            ],
            "type": "histogram2dcontour"
           }
          ],
          "mesh3d": [
           {
            "colorbar": {
             "outlinewidth": 0,
             "ticks": ""
            },
            "type": "mesh3d"
           }
          ],
          "parcoords": [
           {
            "line": {
             "colorbar": {
              "outlinewidth": 0,
              "ticks": ""
             }
            },
            "type": "parcoords"
           }
          ],
          "pie": [
           {
            "automargin": true,
            "type": "pie"
           }
          ],
          "scatter": [
           {
            "fillpattern": {
             "fillmode": "overlay",
             "size": 10,
             "solidity": 0.2
            },
            "type": "scatter"
           }
          ],
          "scatter3d": [
           {
            "line": {
             "colorbar": {
              "outlinewidth": 0,
              "ticks": ""
             }
            },
            "marker": {
             "colorbar": {
              "outlinewidth": 0,
              "ticks": ""
             }
            },
            "type": "scatter3d"
           }
          ],
          "scattercarpet": [
           {
            "marker": {
             "colorbar": {
              "outlinewidth": 0,
              "ticks": ""
             }
            },
            "type": "scattercarpet"
           }
          ],
          "scattergeo": [
           {
            "marker": {
             "colorbar": {
              "outlinewidth": 0,
              "ticks": ""
             }
            },
            "type": "scattergeo"
           }
          ],
          "scattergl": [
           {
            "marker": {
             "colorbar": {
              "outlinewidth": 0,
              "ticks": ""
             }
            },
            "type": "scattergl"
           }
          ],
          "scattermap": [
           {
            "marker": {
             "colorbar": {
              "outlinewidth": 0,
              "ticks": ""
             }
            },
            "type": "scattermap"
           }
          ],
          "scattermapbox": [
           {
            "marker": {
             "colorbar": {
              "outlinewidth": 0,
              "ticks": ""
             }
            },
            "type": "scattermapbox"
           }
          ],
          "scatterpolar": [
           {
            "marker": {
             "colorbar": {
              "outlinewidth": 0,
              "ticks": ""
             }
            },
            "type": "scatterpolar"
           }
          ],
          "scatterpolargl": [
           {
            "marker": {
             "colorbar": {
              "outlinewidth": 0,
              "ticks": ""
             }
            },
            "type": "scatterpolargl"
           }
          ],
          "scatterternary": [
           {
            "marker": {
             "colorbar": {
              "outlinewidth": 0,
              "ticks": ""
             }
            },
            "type": "scatterternary"
           }
          ],
          "surface": [
           {
            "colorbar": {
             "outlinewidth": 0,
             "ticks": ""
            },
            "colorscale": [
             [
              0,
              "#0d0887"
             ],
             [
              0.1111111111111111,
              "#46039f"
             ],
             [
              0.2222222222222222,
              "#7201a8"
             ],
             [
              0.3333333333333333,
              "#9c179e"
             ],
             [
              0.4444444444444444,
              "#bd3786"
             ],
             [
              0.5555555555555556,
              "#d8576b"
             ],
             [
              0.6666666666666666,
              "#ed7953"
             ],
             [
              0.7777777777777778,
              "#fb9f3a"
             ],
             [
              0.8888888888888888,
              "#fdca26"
             ],
             [
              1,
              "#f0f921"
             ]
            ],
            "type": "surface"
           }
          ],
          "table": [
           {
            "cells": {
             "fill": {
              "color": "#EBF0F8"
             },
             "line": {
              "color": "white"
             }
            },
            "header": {
             "fill": {
              "color": "#C8D4E3"
             },
             "line": {
              "color": "white"
             }
            },
            "type": "table"
           }
          ]
         },
         "layout": {
          "annotationdefaults": {
           "arrowcolor": "#2a3f5f",
           "arrowhead": 0,
           "arrowwidth": 1
          },
          "autotypenumbers": "strict",
          "coloraxis": {
           "colorbar": {
            "outlinewidth": 0,
            "ticks": ""
           }
          },
          "colorscale": {
           "diverging": [
            [
             0,
             "#8e0152"
            ],
            [
             0.1,
             "#c51b7d"
            ],
            [
             0.2,
             "#de77ae"
            ],
            [
             0.3,
             "#f1b6da"
            ],
            [
             0.4,
             "#fde0ef"
            ],
            [
             0.5,
             "#f7f7f7"
            ],
            [
             0.6,
             "#e6f5d0"
            ],
            [
             0.7,
             "#b8e186"
            ],
            [
             0.8,
             "#7fbc41"
            ],
            [
             0.9,
             "#4d9221"
            ],
            [
             1,
             "#276419"
            ]
           ],
           "sequential": [
            [
             0,
             "#0d0887"
            ],
            [
             0.1111111111111111,
             "#46039f"
            ],
            [
             0.2222222222222222,
             "#7201a8"
            ],
            [
             0.3333333333333333,
             "#9c179e"
            ],
            [
             0.4444444444444444,
             "#bd3786"
            ],
            [
             0.5555555555555556,
             "#d8576b"
            ],
            [
             0.6666666666666666,
             "#ed7953"
            ],
            [
             0.7777777777777778,
             "#fb9f3a"
            ],
            [
             0.8888888888888888,
             "#fdca26"
            ],
            [
             1,
             "#f0f921"
            ]
           ],
           "sequentialminus": [
            [
             0,
             "#0d0887"
            ],
            [
             0.1111111111111111,
             "#46039f"
            ],
            [
             0.2222222222222222,
             "#7201a8"
            ],
            [
             0.3333333333333333,
             "#9c179e"
            ],
            [
             0.4444444444444444,
             "#bd3786"
            ],
            [
             0.5555555555555556,
             "#d8576b"
            ],
            [
             0.6666666666666666,
             "#ed7953"
            ],
            [
             0.7777777777777778,
             "#fb9f3a"
            ],
            [
             0.8888888888888888,
             "#fdca26"
            ],
            [
             1,
             "#f0f921"
            ]
           ]
          },
          "colorway": [
           "#636efa",
           "#EF553B",
           "#00cc96",
           "#ab63fa",
           "#FFA15A",
           "#19d3f3",
           "#FF6692",
           "#B6E880",
           "#FF97FF",
           "#FECB52"
          ],
          "font": {
           "color": "#2a3f5f"
          },
          "geo": {
           "bgcolor": "white",
           "lakecolor": "white",
           "landcolor": "white",
           "showlakes": true,
           "showland": true,
           "subunitcolor": "#C8D4E3"
          },
          "hoverlabel": {
           "align": "left"
          },
          "hovermode": "closest",
          "mapbox": {
           "style": "light"
          },
          "paper_bgcolor": "white",
          "plot_bgcolor": "white",
          "polar": {
           "angularaxis": {
            "gridcolor": "#EBF0F8",
            "linecolor": "#EBF0F8",
            "ticks": ""
           },
           "bgcolor": "white",
           "radialaxis": {
            "gridcolor": "#EBF0F8",
            "linecolor": "#EBF0F8",
            "ticks": ""
           }
          },
          "scene": {
           "xaxis": {
            "backgroundcolor": "white",
            "gridcolor": "#DFE8F3",
            "gridwidth": 2,
            "linecolor": "#EBF0F8",
            "showbackground": true,
            "ticks": "",
            "zerolinecolor": "#EBF0F8"
           },
           "yaxis": {
            "backgroundcolor": "white",
            "gridcolor": "#DFE8F3",
            "gridwidth": 2,
            "linecolor": "#EBF0F8",
            "showbackground": true,
            "ticks": "",
            "zerolinecolor": "#EBF0F8"
           },
           "zaxis": {
            "backgroundcolor": "white",
            "gridcolor": "#DFE8F3",
            "gridwidth": 2,
            "linecolor": "#EBF0F8",
            "showbackground": true,
            "ticks": "",
            "zerolinecolor": "#EBF0F8"
           }
          },
          "shapedefaults": {
           "line": {
            "color": "#2a3f5f"
           }
          },
          "ternary": {
           "aaxis": {
            "gridcolor": "#DFE8F3",
            "linecolor": "#A2B1C6",
            "ticks": ""
           },
           "baxis": {
            "gridcolor": "#DFE8F3",
            "linecolor": "#A2B1C6",
            "ticks": ""
           },
           "bgcolor": "white",
           "caxis": {
            "gridcolor": "#DFE8F3",
            "linecolor": "#A2B1C6",
            "ticks": ""
           }
          },
          "title": {
           "x": 0.05
          },
          "xaxis": {
           "automargin": true,
           "gridcolor": "#EBF0F8",
           "linecolor": "#EBF0F8",
           "ticks": "",
           "title": {
            "standoff": 15
           },
           "zerolinecolor": "#EBF0F8",
           "zerolinewidth": 2
          },
          "yaxis": {
           "automargin": true,
           "gridcolor": "#EBF0F8",
           "linecolor": "#EBF0F8",
           "ticks": "",
           "title": {
            "standoff": 15
           },
           "zerolinecolor": "#EBF0F8",
           "zerolinewidth": 2
          }
         }
        },
        "xaxis": {
         "anchor": "y",
         "domain": [
          0,
          1
         ],
         "title": {
          "text": "Customer type"
         }
        },
        "yaxis": {
         "anchor": "x",
         "domain": [
          0,
          1
         ],
         "title": {
          "text": "count"
         }
        }
       }
      }
     },
     "metadata": {},
     "output_type": "display_data"
    },
    {
     "data": {
      "application/vnd.plotly.v1+json": {
       "config": {
        "plotlyServerURL": "https://plot.ly"
       },
       "data": [
        {
         "bingroup": "x",
         "hovertemplate": "Gender=%{x}<br>count=%{y}<extra></extra>",
         "legendgroup": "",
         "marker": {
          "color": "#636efa",
          "pattern": {
           "shape": ""
          }
         },
         "name": "",
         "orientation": "v",
         "showlegend": false,
         "type": "histogram",
         "x": [
          "Female",
          "Female",
          "Male",
          "Male",
          "Male",
          "Male",
          "Female",
          "Female",
          "Female",
          "Female",
          "Female",
          "Male",
          "Female",
          "Male",
          "Female",
          "Female",
          "Female",
          "Male",
          "Male",
          "Female",
          "Male",
          "Male",
          "Male",
          "Male",
          "Male",
          "Female",
          "Male",
          "Female",
          "Female",
          "Male",
          "Male",
          "Male",
          "Male",
          "Male",
          "Female",
          "Female",
          "Male",
          "Female",
          "Female",
          "Male",
          "Female",
          "Male",
          "Female",
          "Female",
          "Male",
          "Female",
          "Male",
          "Female",
          "Male",
          "Female",
          "Male",
          "Female",
          "Female",
          "Male",
          "Male",
          "Female",
          "Male",
          "Male",
          "Female",
          "Male",
          "Female",
          "Male",
          "Female",
          "Male",
          "Male",
          "Male",
          "Female",
          "Female",
          "Male",
          "Female",
          "Male",
          "Male",
          "Female",
          "Female",
          "Male",
          "Female",
          "Male",
          "Female",
          "Female",
          "Female",
          "Female",
          "Female",
          "Male",
          "Female",
          "Male",
          "Female",
          "Male",
          "Male",
          "Male",
          "Female",
          "Female",
          "Female",
          "Female",
          "Male",
          "Male",
          "Male",
          "Male",
          "Female",
          "Male",
          "Male",
          "Male",
          "Male",
          "Female",
          "Male",
          "Male",
          "Male",
          "Male",
          "Male",
          "Female",
          "Male",
          "Female",
          "Female",
          "Female",
          "Male",
          "Female",
          "Female",
          "Male",
          "Male",
          "Female",
          "Male",
          "Female",
          "Male",
          "Male",
          "Male",
          "Female",
          "Female",
          "Female",
          "Female",
          "Female",
          "Female",
          "Female",
          "Female",
          "Female",
          "Male",
          "Female",
          "Male",
          "Female",
          "Female",
          "Male",
          "Male",
          "Female",
          "Male",
          "Female",
          "Female",
          "Female",
          "Female",
          "Female",
          "Male",
          "Male",
          "Male",
          "Female",
          "Male",
          "Male",
          "Female",
          "Female",
          "Male",
          "Male",
          "Male",
          "Male",
          "Male",
          "Female",
          "Male",
          "Male",
          "Male",
          "Male",
          "Male",
          "Male",
          "Male",
          "Male",
          "Male",
          "Male",
          "Male",
          "Male",
          "Male",
          "Male",
          "Male",
          "Male",
          "Female",
          "Male",
          "Male",
          "Male",
          "Male",
          "Male",
          "Male",
          "Female",
          "Male",
          "Female",
          "Male",
          "Male",
          "Female",
          "Female",
          "Female",
          "Female",
          "Male",
          "Male",
          "Female",
          "Male",
          "Female",
          "Male",
          "Female",
          "Female",
          "Female",
          "Male",
          "Male",
          "Male",
          "Female",
          "Female",
          "Female",
          "Female",
          "Female",
          "Male",
          "Female",
          "Male",
          "Male",
          "Female",
          "Male",
          "Female",
          "Female",
          "Male",
          "Female",
          "Male",
          "Male",
          "Male",
          "Female",
          "Male",
          "Female",
          "Male",
          "Male",
          "Female",
          "Female",
          "Female",
          "Female",
          "Female",
          "Male",
          "Male",
          "Female",
          "Male",
          "Female",
          "Female",
          "Male",
          "Male",
          "Male",
          "Male",
          "Male",
          "Male",
          "Male",
          "Female",
          "Male",
          "Male",
          "Male",
          "Male",
          "Male",
          "Female",
          "Male",
          "Male",
          "Male",
          "Male",
          "Male",
          "Male",
          "Male",
          "Female",
          "Female",
          "Female",
          "Female",
          "Male",
          "Female",
          "Male",
          "Female",
          "Male",
          "Female",
          "Female",
          "Female",
          "Female",
          "Female",
          "Female",
          "Male",
          "Female",
          "Female",
          "Male",
          "Male",
          "Female",
          "Male",
          "Female",
          "Male",
          "Female",
          "Male",
          "Male",
          "Female",
          "Female",
          "Female",
          "Male",
          "Male",
          "Female",
          "Female",
          "Male",
          "Female",
          "Male",
          "Male",
          "Male",
          "Female",
          "Male",
          "Male",
          "Male",
          "Female",
          "Female",
          "Male",
          "Female",
          "Female",
          "Female",
          "Female",
          "Male",
          "Male",
          "Female",
          "Female",
          "Female",
          "Male",
          "Female",
          "Male",
          "Female",
          "Male",
          "Female",
          "Female",
          "Male",
          "Female",
          "Male",
          "Male",
          "Male",
          "Male",
          "Male",
          "Male",
          "Male",
          "Male",
          "Male",
          "Male",
          "Male",
          "Female",
          "Male",
          "Female",
          "Female",
          "Female",
          "Male",
          "Female",
          "Female",
          "Female",
          "Male",
          "Female",
          "Male",
          "Female",
          "Male",
          "Female",
          "Female",
          "Male",
          "Female",
          "Male",
          "Female",
          "Female",
          "Female",
          "Female",
          "Male",
          "Male",
          "Male",
          "Female",
          "Male",
          "Male",
          "Female",
          "Female",
          "Female",
          "Male",
          "Female",
          "Male",
          "Female",
          "Female",
          "Female",
          "Male",
          "Female",
          "Female",
          "Female",
          "Male",
          "Male",
          "Female",
          "Male",
          "Female",
          "Female",
          "Female",
          "Female",
          "Male",
          "Male",
          "Female",
          "Female",
          "Male",
          "Female",
          "Female",
          "Male",
          "Female",
          "Female",
          "Female",
          "Female",
          "Male",
          "Female",
          "Male",
          "Female",
          "Male",
          "Male",
          "Female",
          "Female",
          "Male",
          "Male",
          "Female",
          "Female",
          "Female",
          "Female",
          "Male",
          "Male",
          "Male",
          "Male",
          "Male",
          "Female",
          "Female",
          "Female",
          "Female",
          "Female",
          "Female",
          "Female",
          "Male",
          "Male",
          "Male",
          "Male",
          "Female",
          "Male",
          "Female",
          "Male",
          "Male",
          "Female",
          "Male",
          "Female",
          "Male",
          "Male",
          "Male",
          "Male",
          "Female",
          "Male",
          "Female",
          "Female",
          "Male",
          "Female",
          "Female",
          "Male",
          "Male",
          "Female",
          "Female",
          "Female",
          "Male",
          "Female",
          "Male",
          "Male",
          "Female",
          "Female",
          "Male",
          "Female",
          "Male",
          "Male",
          "Female",
          "Female",
          "Female",
          "Male",
          "Female",
          "Female",
          "Male",
          "Male",
          "Female",
          "Female",
          "Female",
          "Male",
          "Male",
          "Female",
          "Male",
          "Female",
          "Male",
          "Male",
          "Male",
          "Male",
          "Female",
          "Male",
          "Male",
          "Female",
          "Female",
          "Female",
          "Male",
          "Male",
          "Female",
          "Female",
          "Female",
          "Female",
          "Female",
          "Male",
          "Male",
          "Female",
          "Female",
          "Female",
          "Female",
          "Male",
          "Female",
          "Male",
          "Female",
          "Male",
          "Male",
          "Female",
          "Female",
          "Male",
          "Female",
          "Female",
          "Female",
          "Female",
          "Male",
          "Male",
          "Female",
          "Male",
          "Male",
          "Male",
          "Male",
          "Female",
          "Female",
          "Female",
          "Male",
          "Male",
          "Female",
          "Male",
          "Male",
          "Female",
          "Male",
          "Male",
          "Male",
          "Male",
          "Female",
          "Female",
          "Male",
          "Female",
          "Male",
          "Female",
          "Female",
          "Male",
          "Male",
          "Female",
          "Male",
          "Female",
          "Male",
          "Female",
          "Male",
          "Female",
          "Female",
          "Male",
          "Female",
          "Female",
          "Male",
          "Male",
          "Male",
          "Female",
          "Female",
          "Male",
          "Female",
          "Male",
          "Male",
          "Female",
          "Male",
          "Male",
          "Female",
          "Female",
          "Female",
          "Female",
          "Female",
          "Female",
          "Male",
          "Male",
          "Male",
          "Male",
          "Male",
          "Male",
          "Male",
          "Female",
          "Male",
          "Male",
          "Female",
          "Female",
          "Female",
          "Male",
          "Male",
          "Female",
          "Female",
          "Male",
          "Male",
          "Male",
          "Female",
          "Female",
          "Female",
          "Male",
          "Male",
          "Male",
          "Female",
          "Female",
          "Female",
          "Male",
          "Female",
          "Male",
          "Female",
          "Female",
          "Male",
          "Female",
          "Female",
          "Male",
          "Male",
          "Female",
          "Female",
          "Male",
          "Male",
          "Male",
          "Female",
          "Male",
          "Male",
          "Male",
          "Female",
          "Female",
          "Female",
          "Female",
          "Female",
          "Male",
          "Female",
          "Male",
          "Male",
          "Male",
          "Female",
          "Male",
          "Male",
          "Male",
          "Male",
          "Male",
          "Male",
          "Male",
          "Female",
          "Female",
          "Male",
          "Female",
          "Female",
          "Male",
          "Female",
          "Male",
          "Male",
          "Male",
          "Male",
          "Female",
          "Male",
          "Male",
          "Female",
          "Male",
          "Male",
          "Male",
          "Female",
          "Female",
          "Female",
          "Female",
          "Male",
          "Female",
          "Male",
          "Female",
          "Female",
          "Female",
          "Female",
          "Male",
          "Female",
          "Female",
          "Female",
          "Male",
          "Male",
          "Female",
          "Male",
          "Female",
          "Male",
          "Female",
          "Female",
          "Male",
          "Male",
          "Female",
          "Female",
          "Female",
          "Male",
          "Female",
          "Female",
          "Female",
          "Male",
          "Male",
          "Female",
          "Female",
          "Male",
          "Male",
          "Female",
          "Female",
          "Female",
          "Female",
          "Male",
          "Male",
          "Male",
          "Female",
          "Male",
          "Female",
          "Male",
          "Female",
          "Male",
          "Female",
          "Male",
          "Male",
          "Male",
          "Male",
          "Female",
          "Female",
          "Female",
          "Male",
          "Female",
          "Female",
          "Male",
          "Male",
          "Female",
          "Female",
          "Female",
          "Male",
          "Female",
          "Male",
          "Female",
          "Male",
          "Male",
          "Male",
          "Female",
          "Female",
          "Male",
          "Male",
          "Male",
          "Male",
          "Male",
          "Female",
          "Male",
          "Male",
          "Male",
          "Male",
          "Male",
          "Female",
          "Male",
          "Female",
          "Female",
          "Male",
          "Female",
          "Female",
          "Male",
          "Female",
          "Female",
          "Female",
          "Male",
          "Female",
          "Female",
          "Female",
          "Female",
          "Male",
          "Female",
          "Female",
          "Male",
          "Female",
          "Female",
          "Male",
          "Female",
          "Female",
          "Male",
          "Female",
          "Female",
          "Female",
          "Female",
          "Female",
          "Female",
          "Male",
          "Female",
          "Male",
          "Male",
          "Male",
          "Male",
          "Male",
          "Female",
          "Female",
          "Female",
          "Female",
          "Male",
          "Male",
          "Female",
          "Male",
          "Male",
          "Male",
          "Male",
          "Female",
          "Male",
          "Female",
          "Male",
          "Female",
          "Female",
          "Male",
          "Male",
          "Male",
          "Female",
          "Male",
          "Female",
          "Female",
          "Female",
          "Female",
          "Female",
          "Female",
          "Female",
          "Male",
          "Female",
          "Female",
          "Male",
          "Female",
          "Female",
          "Female",
          "Male",
          "Male",
          "Male",
          "Male",
          "Female",
          "Male",
          "Female",
          "Female",
          "Female",
          "Female",
          "Male",
          "Male",
          "Female",
          "Male",
          "Male",
          "Female",
          "Male",
          "Female",
          "Male",
          "Male",
          "Male",
          "Male",
          "Female",
          "Male",
          "Male",
          "Female",
          "Female",
          "Male",
          "Male",
          "Male",
          "Female",
          "Female",
          "Female",
          "Male",
          "Female",
          "Male",
          "Female",
          "Female",
          "Female",
          "Male",
          "Female",
          "Male",
          "Female",
          "Female",
          "Male",
          "Female",
          "Female",
          "Female",
          "Male",
          "Male",
          "Female",
          "Male",
          "Male",
          "Male",
          "Male",
          "Female",
          "Male",
          "Male",
          "Male",
          "Male",
          "Male",
          "Female",
          "Female",
          "Female",
          "Female",
          "Male",
          "Female",
          "Female",
          "Male",
          "Male",
          "Female",
          "Female",
          "Male",
          "Female",
          "Female",
          "Female",
          "Male",
          "Male",
          "Male",
          "Male",
          "Female",
          "Male",
          "Male",
          "Female",
          "Male",
          "Female",
          "Male",
          "Female",
          "Female",
          "Male",
          "Female",
          "Female",
          "Female",
          "Female",
          "Female",
          "Female",
          "Male",
          "Female",
          "Female",
          "Male",
          "Female",
          "Male",
          "Female",
          "Female",
          "Female",
          "Female",
          "Female",
          "Female",
          "Female",
          "Male",
          "Female",
          "Female",
          "Male",
          "Male",
          "Female",
          "Female",
          "Male",
          "Female",
          "Male",
          "Female",
          "Female",
          "Female",
          "Female",
          "Male",
          "Male",
          "Female",
          "Male",
          "Male",
          "Female",
          "Male",
          "Male",
          "Male",
          "Female",
          "Male",
          "Female",
          "Female",
          "Female",
          "Male",
          "Female",
          "Male",
          "Male",
          "Female",
          "Female",
          "Male",
          "Male",
          "Female",
          "Male",
          "Male",
          "Female",
          "Female",
          "Male",
          "Female",
          "Female",
          "Female",
          "Male",
          "Male",
          "Male",
          "Male",
          "Male",
          "Female",
          "Male",
          "Female",
          "Female",
          "Male",
          "Male",
          "Female",
          "Male",
          "Male",
          "Female",
          "Female",
          "Male",
          "Male",
          "Male",
          "Female",
          "Female",
          "Male",
          "Male",
          "Female",
          "Male",
          "Female",
          "Male",
          "Male",
          "Female"
         ],
         "xaxis": "x",
         "yaxis": "y"
        }
       ],
       "layout": {
        "barmode": "relative",
        "legend": {
         "tracegroupgap": 0
        },
        "margin": {
         "t": 60
        },
        "template": {
         "data": {
          "bar": [
           {
            "error_x": {
             "color": "#2a3f5f"
            },
            "error_y": {
             "color": "#2a3f5f"
            },
            "marker": {
             "line": {
              "color": "white",
              "width": 0.5
             },
             "pattern": {
              "fillmode": "overlay",
              "size": 10,
              "solidity": 0.2
             }
            },
            "type": "bar"
           }
          ],
          "barpolar": [
           {
            "marker": {
             "line": {
              "color": "white",
              "width": 0.5
             },
             "pattern": {
              "fillmode": "overlay",
              "size": 10,
              "solidity": 0.2
             }
            },
            "type": "barpolar"
           }
          ],
          "carpet": [
           {
            "aaxis": {
             "endlinecolor": "#2a3f5f",
             "gridcolor": "#C8D4E3",
             "linecolor": "#C8D4E3",
             "minorgridcolor": "#C8D4E3",
             "startlinecolor": "#2a3f5f"
            },
            "baxis": {
             "endlinecolor": "#2a3f5f",
             "gridcolor": "#C8D4E3",
             "linecolor": "#C8D4E3",
             "minorgridcolor": "#C8D4E3",
             "startlinecolor": "#2a3f5f"
            },
            "type": "carpet"
           }
          ],
          "choropleth": [
           {
            "colorbar": {
             "outlinewidth": 0,
             "ticks": ""
            },
            "type": "choropleth"
           }
          ],
          "contour": [
           {
            "colorbar": {
             "outlinewidth": 0,
             "ticks": ""
            },
            "colorscale": [
             [
              0,
              "#0d0887"
             ],
             [
              0.1111111111111111,
              "#46039f"
             ],
             [
              0.2222222222222222,
              "#7201a8"
             ],
             [
              0.3333333333333333,
              "#9c179e"
             ],
             [
              0.4444444444444444,
              "#bd3786"
             ],
             [
              0.5555555555555556,
              "#d8576b"
             ],
             [
              0.6666666666666666,
              "#ed7953"
             ],
             [
              0.7777777777777778,
              "#fb9f3a"
             ],
             [
              0.8888888888888888,
              "#fdca26"
             ],
             [
              1,
              "#f0f921"
             ]
            ],
            "type": "contour"
           }
          ],
          "contourcarpet": [
           {
            "colorbar": {
             "outlinewidth": 0,
             "ticks": ""
            },
            "type": "contourcarpet"
           }
          ],
          "heatmap": [
           {
            "colorbar": {
             "outlinewidth": 0,
             "ticks": ""
            },
            "colorscale": [
             [
              0,
              "#0d0887"
             ],
             [
              0.1111111111111111,
              "#46039f"
             ],
             [
              0.2222222222222222,
              "#7201a8"
             ],
             [
              0.3333333333333333,
              "#9c179e"
             ],
             [
              0.4444444444444444,
              "#bd3786"
             ],
             [
              0.5555555555555556,
              "#d8576b"
             ],
             [
              0.6666666666666666,
              "#ed7953"
             ],
             [
              0.7777777777777778,
              "#fb9f3a"
             ],
             [
              0.8888888888888888,
              "#fdca26"
             ],
             [
              1,
              "#f0f921"
             ]
            ],
            "type": "heatmap"
           }
          ],
          "histogram": [
           {
            "marker": {
             "pattern": {
              "fillmode": "overlay",
              "size": 10,
              "solidity": 0.2
             }
            },
            "type": "histogram"
           }
          ],
          "histogram2d": [
           {
            "colorbar": {
             "outlinewidth": 0,
             "ticks": ""
            },
            "colorscale": [
             [
              0,
              "#0d0887"
             ],
             [
              0.1111111111111111,
              "#46039f"
             ],
             [
              0.2222222222222222,
              "#7201a8"
             ],
             [
              0.3333333333333333,
              "#9c179e"
             ],
             [
              0.4444444444444444,
              "#bd3786"
             ],
             [
              0.5555555555555556,
              "#d8576b"
             ],
             [
              0.6666666666666666,
              "#ed7953"
             ],
             [
              0.7777777777777778,
              "#fb9f3a"
             ],
             [
              0.8888888888888888,
              "#fdca26"
             ],
             [
              1,
              "#f0f921"
             ]
            ],
            "type": "histogram2d"
           }
          ],
          "histogram2dcontour": [
           {
            "colorbar": {
             "outlinewidth": 0,
             "ticks": ""
            },
            "colorscale": [
             [
              0,
              "#0d0887"
             ],
             [
              0.1111111111111111,
              "#46039f"
             ],
             [
              0.2222222222222222,
              "#7201a8"
             ],
             [
              0.3333333333333333,
              "#9c179e"
             ],
             [
              0.4444444444444444,
              "#bd3786"
             ],
             [
              0.5555555555555556,
              "#d8576b"
             ],
             [
              0.6666666666666666,
              "#ed7953"
             ],
             [
              0.7777777777777778,
              "#fb9f3a"
             ],
             [
              0.8888888888888888,
              "#fdca26"
             ],
             [
              1,
              "#f0f921"
             ]
            ],
            "type": "histogram2dcontour"
           }
          ],
          "mesh3d": [
           {
            "colorbar": {
             "outlinewidth": 0,
             "ticks": ""
            },
            "type": "mesh3d"
           }
          ],
          "parcoords": [
           {
            "line": {
             "colorbar": {
              "outlinewidth": 0,
              "ticks": ""
             }
            },
            "type": "parcoords"
           }
          ],
          "pie": [
           {
            "automargin": true,
            "type": "pie"
           }
          ],
          "scatter": [
           {
            "fillpattern": {
             "fillmode": "overlay",
             "size": 10,
             "solidity": 0.2
            },
            "type": "scatter"
           }
          ],
          "scatter3d": [
           {
            "line": {
             "colorbar": {
              "outlinewidth": 0,
              "ticks": ""
             }
            },
            "marker": {
             "colorbar": {
              "outlinewidth": 0,
              "ticks": ""
             }
            },
            "type": "scatter3d"
           }
          ],
          "scattercarpet": [
           {
            "marker": {
             "colorbar": {
              "outlinewidth": 0,
              "ticks": ""
             }
            },
            "type": "scattercarpet"
           }
          ],
          "scattergeo": [
           {
            "marker": {
             "colorbar": {
              "outlinewidth": 0,
              "ticks": ""
             }
            },
            "type": "scattergeo"
           }
          ],
          "scattergl": [
           {
            "marker": {
             "colorbar": {
              "outlinewidth": 0,
              "ticks": ""
             }
            },
            "type": "scattergl"
           }
          ],
          "scattermap": [
           {
            "marker": {
             "colorbar": {
              "outlinewidth": 0,
              "ticks": ""
             }
            },
            "type": "scattermap"
           }
          ],
          "scattermapbox": [
           {
            "marker": {
             "colorbar": {
              "outlinewidth": 0,
              "ticks": ""
             }
            },
            "type": "scattermapbox"
           }
          ],
          "scatterpolar": [
           {
            "marker": {
             "colorbar": {
              "outlinewidth": 0,
              "ticks": ""
             }
            },
            "type": "scatterpolar"
           }
          ],
          "scatterpolargl": [
           {
            "marker": {
             "colorbar": {
              "outlinewidth": 0,
              "ticks": ""
             }
            },
            "type": "scatterpolargl"
           }
          ],
          "scatterternary": [
           {
            "marker": {
             "colorbar": {
              "outlinewidth": 0,
              "ticks": ""
             }
            },
            "type": "scatterternary"
           }
          ],
          "surface": [
           {
            "colorbar": {
             "outlinewidth": 0,
             "ticks": ""
            },
            "colorscale": [
             [
              0,
              "#0d0887"
             ],
             [
              0.1111111111111111,
              "#46039f"
             ],
             [
              0.2222222222222222,
              "#7201a8"
             ],
             [
              0.3333333333333333,
              "#9c179e"
             ],
             [
              0.4444444444444444,
              "#bd3786"
             ],
             [
              0.5555555555555556,
              "#d8576b"
             ],
             [
              0.6666666666666666,
              "#ed7953"
             ],
             [
              0.7777777777777778,
              "#fb9f3a"
             ],
             [
              0.8888888888888888,
              "#fdca26"
             ],
             [
              1,
              "#f0f921"
             ]
            ],
            "type": "surface"
           }
          ],
          "table": [
           {
            "cells": {
             "fill": {
              "color": "#EBF0F8"
             },
             "line": {
              "color": "white"
             }
            },
            "header": {
             "fill": {
              "color": "#C8D4E3"
             },
             "line": {
              "color": "white"
             }
            },
            "type": "table"
           }
          ]
         },
         "layout": {
          "annotationdefaults": {
           "arrowcolor": "#2a3f5f",
           "arrowhead": 0,
           "arrowwidth": 1
          },
          "autotypenumbers": "strict",
          "coloraxis": {
           "colorbar": {
            "outlinewidth": 0,
            "ticks": ""
           }
          },
          "colorscale": {
           "diverging": [
            [
             0,
             "#8e0152"
            ],
            [
             0.1,
             "#c51b7d"
            ],
            [
             0.2,
             "#de77ae"
            ],
            [
             0.3,
             "#f1b6da"
            ],
            [
             0.4,
             "#fde0ef"
            ],
            [
             0.5,
             "#f7f7f7"
            ],
            [
             0.6,
             "#e6f5d0"
            ],
            [
             0.7,
             "#b8e186"
            ],
            [
             0.8,
             "#7fbc41"
            ],
            [
             0.9,
             "#4d9221"
            ],
            [
             1,
             "#276419"
            ]
           ],
           "sequential": [
            [
             0,
             "#0d0887"
            ],
            [
             0.1111111111111111,
             "#46039f"
            ],
            [
             0.2222222222222222,
             "#7201a8"
            ],
            [
             0.3333333333333333,
             "#9c179e"
            ],
            [
             0.4444444444444444,
             "#bd3786"
            ],
            [
             0.5555555555555556,
             "#d8576b"
            ],
            [
             0.6666666666666666,
             "#ed7953"
            ],
            [
             0.7777777777777778,
             "#fb9f3a"
            ],
            [
             0.8888888888888888,
             "#fdca26"
            ],
            [
             1,
             "#f0f921"
            ]
           ],
           "sequentialminus": [
            [
             0,
             "#0d0887"
            ],
            [
             0.1111111111111111,
             "#46039f"
            ],
            [
             0.2222222222222222,
             "#7201a8"
            ],
            [
             0.3333333333333333,
             "#9c179e"
            ],
            [
             0.4444444444444444,
             "#bd3786"
            ],
            [
             0.5555555555555556,
             "#d8576b"
            ],
            [
             0.6666666666666666,
             "#ed7953"
            ],
            [
             0.7777777777777778,
             "#fb9f3a"
            ],
            [
             0.8888888888888888,
             "#fdca26"
            ],
            [
             1,
             "#f0f921"
            ]
           ]
          },
          "colorway": [
           "#636efa",
           "#EF553B",
           "#00cc96",
           "#ab63fa",
           "#FFA15A",
           "#19d3f3",
           "#FF6692",
           "#B6E880",
           "#FF97FF",
           "#FECB52"
          ],
          "font": {
           "color": "#2a3f5f"
          },
          "geo": {
           "bgcolor": "white",
           "lakecolor": "white",
           "landcolor": "white",
           "showlakes": true,
           "showland": true,
           "subunitcolor": "#C8D4E3"
          },
          "hoverlabel": {
           "align": "left"
          },
          "hovermode": "closest",
          "mapbox": {
           "style": "light"
          },
          "paper_bgcolor": "white",
          "plot_bgcolor": "white",
          "polar": {
           "angularaxis": {
            "gridcolor": "#EBF0F8",
            "linecolor": "#EBF0F8",
            "ticks": ""
           },
           "bgcolor": "white",
           "radialaxis": {
            "gridcolor": "#EBF0F8",
            "linecolor": "#EBF0F8",
            "ticks": ""
           }
          },
          "scene": {
           "xaxis": {
            "backgroundcolor": "white",
            "gridcolor": "#DFE8F3",
            "gridwidth": 2,
            "linecolor": "#EBF0F8",
            "showbackground": true,
            "ticks": "",
            "zerolinecolor": "#EBF0F8"
           },
           "yaxis": {
            "backgroundcolor": "white",
            "gridcolor": "#DFE8F3",
            "gridwidth": 2,
            "linecolor": "#EBF0F8",
            "showbackground": true,
            "ticks": "",
            "zerolinecolor": "#EBF0F8"
           },
           "zaxis": {
            "backgroundcolor": "white",
            "gridcolor": "#DFE8F3",
            "gridwidth": 2,
            "linecolor": "#EBF0F8",
            "showbackground": true,
            "ticks": "",
            "zerolinecolor": "#EBF0F8"
           }
          },
          "shapedefaults": {
           "line": {
            "color": "#2a3f5f"
           }
          },
          "ternary": {
           "aaxis": {
            "gridcolor": "#DFE8F3",
            "linecolor": "#A2B1C6",
            "ticks": ""
           },
           "baxis": {
            "gridcolor": "#DFE8F3",
            "linecolor": "#A2B1C6",
            "ticks": ""
           },
           "bgcolor": "white",
           "caxis": {
            "gridcolor": "#DFE8F3",
            "linecolor": "#A2B1C6",
            "ticks": ""
           }
          },
          "title": {
           "x": 0.05
          },
          "xaxis": {
           "automargin": true,
           "gridcolor": "#EBF0F8",
           "linecolor": "#EBF0F8",
           "ticks": "",
           "title": {
            "standoff": 15
           },
           "zerolinecolor": "#EBF0F8",
           "zerolinewidth": 2
          },
          "yaxis": {
           "automargin": true,
           "gridcolor": "#EBF0F8",
           "linecolor": "#EBF0F8",
           "ticks": "",
           "title": {
            "standoff": 15
           },
           "zerolinecolor": "#EBF0F8",
           "zerolinewidth": 2
          }
         }
        },
        "xaxis": {
         "anchor": "y",
         "domain": [
          0,
          1
         ],
         "title": {
          "text": "Gender"
         }
        },
        "yaxis": {
         "anchor": "x",
         "domain": [
          0,
          1
         ],
         "title": {
          "text": "count"
         }
        }
       }
      }
     },
     "metadata": {},
     "output_type": "display_data"
    },
    {
     "data": {
      "application/vnd.plotly.v1+json": {
       "config": {
        "plotlyServerURL": "https://plot.ly"
       },
       "data": [
        {
         "bingroup": "x",
         "hovertemplate": "Product line=%{x}<br>count=%{y}<extra></extra>",
         "legendgroup": "",
         "marker": {
          "color": "#636efa",
          "pattern": {
           "shape": ""
          }
         },
         "name": "",
         "orientation": "v",
         "showlegend": false,
         "type": "histogram",
         "x": [
          "Health and beauty",
          "Electronic accessories",
          "Home and lifestyle",
          "Health and beauty",
          "Sports and travel",
          "Electronic accessories",
          "Electronic accessories",
          "Home and lifestyle",
          "Health and beauty",
          "Food and beverages",
          "Fashion accessories",
          "Electronic accessories",
          "Electronic accessories",
          "Food and beverages",
          "Health and beauty",
          "Sports and travel",
          "Health and beauty",
          "Sports and travel",
          "Food and beverages",
          "Home and lifestyle",
          "Electronic accessories",
          "Health and beauty",
          "Home and lifestyle",
          "Electronic accessories",
          "Sports and travel",
          "Home and lifestyle",
          "Fashion accessories",
          "Fashion accessories",
          "Food and beverages",
          "Health and beauty",
          "Fashion accessories",
          "Sports and travel",
          "Sports and travel",
          "Health and beauty",
          "Food and beverages",
          "Sports and travel",
          "Sports and travel",
          "Electronic accessories",
          "Health and beauty",
          "Home and lifestyle",
          "Home and lifestyle",
          "Home and lifestyle",
          "Sports and travel",
          "Food and beverages",
          "Health and beauty",
          "Electronic accessories",
          "Health and beauty",
          "Food and beverages",
          "Electronic accessories",
          "Fashion accessories",
          "Food and beverages",
          "Food and beverages",
          "Fashion accessories",
          "Fashion accessories",
          "Home and lifestyle",
          "Electronic accessories",
          "Home and lifestyle",
          "Health and beauty",
          "Home and lifestyle",
          "Electronic accessories",
          "Sports and travel",
          "Home and lifestyle",
          "Sports and travel",
          "Sports and travel",
          "Health and beauty",
          "Health and beauty",
          "Health and beauty",
          "Fashion accessories",
          "Sports and travel",
          "Health and beauty",
          "Food and beverages",
          "Fashion accessories",
          "Food and beverages",
          "Electronic accessories",
          "Home and lifestyle",
          "Electronic accessories",
          "Fashion accessories",
          "Fashion accessories",
          "Food and beverages",
          "Health and beauty",
          "Health and beauty",
          "Food and beverages",
          "Food and beverages",
          "Food and beverages",
          "Sports and travel",
          "Sports and travel",
          "Fashion accessories",
          "Food and beverages",
          "Sports and travel",
          "Health and beauty",
          "Home and lifestyle",
          "Sports and travel",
          "Sports and travel",
          "Health and beauty",
          "Health and beauty",
          "Electronic accessories",
          "Health and beauty",
          "Electronic accessories",
          "Food and beverages",
          "Home and lifestyle",
          "Fashion accessories",
          "Fashion accessories",
          "Electronic accessories",
          "Food and beverages",
          "Health and beauty",
          "Electronic accessories",
          "Fashion accessories",
          "Sports and travel",
          "Food and beverages",
          "Electronic accessories",
          "Sports and travel",
          "Health and beauty",
          "Fashion accessories",
          "Home and lifestyle",
          "Home and lifestyle",
          "Fashion accessories",
          "Fashion accessories",
          "Fashion accessories",
          "Food and beverages",
          "Home and lifestyle",
          "Electronic accessories",
          "Sports and travel",
          "Sports and travel",
          "Home and lifestyle",
          "Fashion accessories",
          "Home and lifestyle",
          "Sports and travel",
          "Fashion accessories",
          "Food and beverages",
          "Sports and travel",
          "Fashion accessories",
          "Sports and travel",
          "Sports and travel",
          "Electronic accessories",
          "Health and beauty",
          "Fashion accessories",
          "Electronic accessories",
          "Home and lifestyle",
          "Sports and travel",
          "Sports and travel",
          "Sports and travel",
          "Health and beauty",
          "Health and beauty",
          "Food and beverages",
          "Home and lifestyle",
          "Health and beauty",
          "Fashion accessories",
          "Health and beauty",
          "Home and lifestyle",
          "Health and beauty",
          "Fashion accessories",
          "Sports and travel",
          "Fashion accessories",
          "Food and beverages",
          "Sports and travel",
          "Food and beverages",
          "Electronic accessories",
          "Home and lifestyle",
          "Health and beauty",
          "Sports and travel",
          "Food and beverages",
          "Sports and travel",
          "Food and beverages",
          "Sports and travel",
          "Food and beverages",
          "Health and beauty",
          "Home and lifestyle",
          "Fashion accessories",
          "Food and beverages",
          "Sports and travel",
          "Health and beauty",
          "Food and beverages",
          "Electronic accessories",
          "Electronic accessories",
          "Food and beverages",
          "Home and lifestyle",
          "Food and beverages",
          "Fashion accessories",
          "Food and beverages",
          "Health and beauty",
          "Fashion accessories",
          "Food and beverages",
          "Sports and travel",
          "Health and beauty",
          "Sports and travel",
          "Food and beverages",
          "Home and lifestyle",
          "Home and lifestyle",
          "Home and lifestyle",
          "Home and lifestyle",
          "Home and lifestyle",
          "Fashion accessories",
          "Food and beverages",
          "Home and lifestyle",
          "Electronic accessories",
          "Fashion accessories",
          "Health and beauty",
          "Home and lifestyle",
          "Health and beauty",
          "Food and beverages",
          "Sports and travel",
          "Electronic accessories",
          "Electronic accessories",
          "Health and beauty",
          "Home and lifestyle",
          "Health and beauty",
          "Electronic accessories",
          "Home and lifestyle",
          "Fashion accessories",
          "Electronic accessories",
          "Electronic accessories",
          "Food and beverages",
          "Home and lifestyle",
          "Sports and travel",
          "Sports and travel",
          "Home and lifestyle",
          "Sports and travel",
          "Electronic accessories",
          "Fashion accessories",
          "Food and beverages",
          "Electronic accessories",
          "Food and beverages",
          "Electronic accessories",
          "Fashion accessories",
          "Food and beverages",
          "Sports and travel",
          "Health and beauty",
          "Electronic accessories",
          "Electronic accessories",
          "Home and lifestyle",
          "Fashion accessories",
          "Electronic accessories",
          "Health and beauty",
          "Fashion accessories",
          "Health and beauty",
          "Sports and travel",
          "Health and beauty",
          "Fashion accessories",
          "Electronic accessories",
          "Fashion accessories",
          "Food and beverages",
          "Health and beauty",
          "Fashion accessories",
          "Home and lifestyle",
          "Home and lifestyle",
          "Home and lifestyle",
          "Electronic accessories",
          "Fashion accessories",
          "Electronic accessories",
          "Food and beverages",
          "Food and beverages",
          "Fashion accessories",
          "Sports and travel",
          "Home and lifestyle",
          "Home and lifestyle",
          "Fashion accessories",
          "Electronic accessories",
          "Home and lifestyle",
          "Electronic accessories",
          "Electronic accessories",
          "Electronic accessories",
          "Fashion accessories",
          "Fashion accessories",
          "Sports and travel",
          "Sports and travel",
          "Sports and travel",
          "Home and lifestyle",
          "Food and beverages",
          "Home and lifestyle",
          "Home and lifestyle",
          "Sports and travel",
          "Health and beauty",
          "Home and lifestyle",
          "Home and lifestyle",
          "Health and beauty",
          "Fashion accessories",
          "Home and lifestyle",
          "Fashion accessories",
          "Fashion accessories",
          "Sports and travel",
          "Home and lifestyle",
          "Home and lifestyle",
          "Sports and travel",
          "Health and beauty",
          "Health and beauty",
          "Health and beauty",
          "Home and lifestyle",
          "Sports and travel",
          "Food and beverages",
          "Home and lifestyle",
          "Electronic accessories",
          "Electronic accessories",
          "Electronic accessories",
          "Food and beverages",
          "Health and beauty",
          "Electronic accessories",
          "Electronic accessories",
          "Home and lifestyle",
          "Home and lifestyle",
          "Home and lifestyle",
          "Fashion accessories",
          "Health and beauty",
          "Food and beverages",
          "Electronic accessories",
          "Electronic accessories",
          "Electronic accessories",
          "Sports and travel",
          "Home and lifestyle",
          "Electronic accessories",
          "Fashion accessories",
          "Sports and travel",
          "Fashion accessories",
          "Food and beverages",
          "Health and beauty",
          "Electronic accessories",
          "Food and beverages",
          "Food and beverages",
          "Electronic accessories",
          "Health and beauty",
          "Health and beauty",
          "Food and beverages",
          "Health and beauty",
          "Health and beauty",
          "Fashion accessories",
          "Home and lifestyle",
          "Sports and travel",
          "Food and beverages",
          "Food and beverages",
          "Health and beauty",
          "Electronic accessories",
          "Home and lifestyle",
          "Food and beverages",
          "Fashion accessories",
          "Food and beverages",
          "Sports and travel",
          "Electronic accessories",
          "Fashion accessories",
          "Sports and travel",
          "Electronic accessories",
          "Food and beverages",
          "Electronic accessories",
          "Health and beauty",
          "Health and beauty",
          "Food and beverages",
          "Sports and travel",
          "Fashion accessories",
          "Electronic accessories",
          "Home and lifestyle",
          "Electronic accessories",
          "Health and beauty",
          "Fashion accessories",
          "Electronic accessories",
          "Fashion accessories",
          "Home and lifestyle",
          "Electronic accessories",
          "Food and beverages",
          "Fashion accessories",
          "Sports and travel",
          "Electronic accessories",
          "Sports and travel",
          "Food and beverages",
          "Food and beverages",
          "Food and beverages",
          "Home and lifestyle",
          "Food and beverages",
          "Fashion accessories",
          "Electronic accessories",
          "Home and lifestyle",
          "Sports and travel",
          "Electronic accessories",
          "Electronic accessories",
          "Fashion accessories",
          "Home and lifestyle",
          "Fashion accessories",
          "Home and lifestyle",
          "Fashion accessories",
          "Home and lifestyle",
          "Sports and travel",
          "Fashion accessories",
          "Electronic accessories",
          "Sports and travel",
          "Electronic accessories",
          "Food and beverages",
          "Food and beverages",
          "Food and beverages",
          "Sports and travel",
          "Food and beverages",
          "Health and beauty",
          "Fashion accessories",
          "Food and beverages",
          "Fashion accessories",
          "Fashion accessories",
          "Electronic accessories",
          "Sports and travel",
          "Health and beauty",
          "Health and beauty",
          "Food and beverages",
          "Home and lifestyle",
          "Health and beauty",
          "Electronic accessories",
          "Food and beverages",
          "Home and lifestyle",
          "Home and lifestyle",
          "Fashion accessories",
          "Fashion accessories",
          "Sports and travel",
          "Food and beverages",
          "Fashion accessories",
          "Home and lifestyle",
          "Fashion accessories",
          "Health and beauty",
          "Sports and travel",
          "Health and beauty",
          "Sports and travel",
          "Home and lifestyle",
          "Health and beauty",
          "Home and lifestyle",
          "Health and beauty",
          "Health and beauty",
          "Electronic accessories",
          "Food and beverages",
          "Electronic accessories",
          "Fashion accessories",
          "Fashion accessories",
          "Fashion accessories",
          "Fashion accessories",
          "Health and beauty",
          "Food and beverages",
          "Sports and travel",
          "Home and lifestyle",
          "Fashion accessories",
          "Food and beverages",
          "Electronic accessories",
          "Fashion accessories",
          "Fashion accessories",
          "Sports and travel",
          "Sports and travel",
          "Home and lifestyle",
          "Food and beverages",
          "Electronic accessories",
          "Food and beverages",
          "Sports and travel",
          "Home and lifestyle",
          "Fashion accessories",
          "Sports and travel",
          "Health and beauty",
          "Food and beverages",
          "Fashion accessories",
          "Health and beauty",
          "Sports and travel",
          "Electronic accessories",
          "Electronic accessories",
          "Food and beverages",
          "Health and beauty",
          "Electronic accessories",
          "Fashion accessories",
          "Food and beverages",
          "Electronic accessories",
          "Electronic accessories",
          "Food and beverages",
          "Food and beverages",
          "Food and beverages",
          "Sports and travel",
          "Food and beverages",
          "Food and beverages",
          "Sports and travel",
          "Health and beauty",
          "Sports and travel",
          "Food and beverages",
          "Electronic accessories",
          "Home and lifestyle",
          "Sports and travel",
          "Fashion accessories",
          "Health and beauty",
          "Electronic accessories",
          "Health and beauty",
          "Sports and travel",
          "Electronic accessories",
          "Sports and travel",
          "Electronic accessories",
          "Food and beverages",
          "Electronic accessories",
          "Sports and travel",
          "Home and lifestyle",
          "Sports and travel",
          "Sports and travel",
          "Fashion accessories",
          "Fashion accessories",
          "Home and lifestyle",
          "Home and lifestyle",
          "Fashion accessories",
          "Fashion accessories",
          "Health and beauty",
          "Home and lifestyle",
          "Fashion accessories",
          "Sports and travel",
          "Electronic accessories",
          "Food and beverages",
          "Sports and travel",
          "Sports and travel",
          "Sports and travel",
          "Fashion accessories",
          "Home and lifestyle",
          "Sports and travel",
          "Sports and travel",
          "Electronic accessories",
          "Sports and travel",
          "Food and beverages",
          "Health and beauty",
          "Home and lifestyle",
          "Sports and travel",
          "Home and lifestyle",
          "Fashion accessories",
          "Electronic accessories",
          "Sports and travel",
          "Fashion accessories",
          "Health and beauty",
          "Home and lifestyle",
          "Home and lifestyle",
          "Sports and travel",
          "Electronic accessories",
          "Home and lifestyle",
          "Home and lifestyle",
          "Health and beauty",
          "Food and beverages",
          "Sports and travel",
          "Fashion accessories",
          "Fashion accessories",
          "Food and beverages",
          "Sports and travel",
          "Health and beauty",
          "Fashion accessories",
          "Electronic accessories",
          "Food and beverages",
          "Home and lifestyle",
          "Home and lifestyle",
          "Fashion accessories",
          "Home and lifestyle",
          "Fashion accessories",
          "Food and beverages",
          "Home and lifestyle",
          "Health and beauty",
          "Sports and travel",
          "Electronic accessories",
          "Food and beverages",
          "Home and lifestyle",
          "Fashion accessories",
          "Sports and travel",
          "Sports and travel",
          "Electronic accessories",
          "Fashion accessories",
          "Fashion accessories",
          "Health and beauty",
          "Electronic accessories",
          "Electronic accessories",
          "Home and lifestyle",
          "Fashion accessories",
          "Food and beverages",
          "Food and beverages",
          "Home and lifestyle",
          "Electronic accessories",
          "Food and beverages",
          "Electronic accessories",
          "Electronic accessories",
          "Fashion accessories",
          "Food and beverages",
          "Sports and travel",
          "Fashion accessories",
          "Fashion accessories",
          "Sports and travel",
          "Home and lifestyle",
          "Sports and travel",
          "Food and beverages",
          "Food and beverages",
          "Sports and travel",
          "Fashion accessories",
          "Food and beverages",
          "Food and beverages",
          "Health and beauty",
          "Health and beauty",
          "Food and beverages",
          "Health and beauty",
          "Fashion accessories",
          "Fashion accessories",
          "Sports and travel",
          "Health and beauty",
          "Food and beverages",
          "Sports and travel",
          "Fashion accessories",
          "Health and beauty",
          "Health and beauty",
          "Home and lifestyle",
          "Sports and travel",
          "Sports and travel",
          "Sports and travel",
          "Health and beauty",
          "Food and beverages",
          "Sports and travel",
          "Fashion accessories",
          "Home and lifestyle",
          "Electronic accessories",
          "Fashion accessories",
          "Food and beverages",
          "Sports and travel",
          "Fashion accessories",
          "Home and lifestyle",
          "Fashion accessories",
          "Food and beverages",
          "Fashion accessories",
          "Food and beverages",
          "Electronic accessories",
          "Food and beverages",
          "Fashion accessories",
          "Sports and travel",
          "Food and beverages",
          "Sports and travel",
          "Sports and travel",
          "Electronic accessories",
          "Food and beverages",
          "Fashion accessories",
          "Food and beverages",
          "Food and beverages",
          "Home and lifestyle",
          "Fashion accessories",
          "Fashion accessories",
          "Food and beverages",
          "Sports and travel",
          "Health and beauty",
          "Home and lifestyle",
          "Fashion accessories",
          "Sports and travel",
          "Electronic accessories",
          "Food and beverages",
          "Home and lifestyle",
          "Food and beverages",
          "Health and beauty",
          "Health and beauty",
          "Electronic accessories",
          "Food and beverages",
          "Fashion accessories",
          "Food and beverages",
          "Electronic accessories",
          "Electronic accessories",
          "Food and beverages",
          "Electronic accessories",
          "Home and lifestyle",
          "Health and beauty",
          "Fashion accessories",
          "Sports and travel",
          "Electronic accessories",
          "Electronic accessories",
          "Health and beauty",
          "Home and lifestyle",
          "Sports and travel",
          "Fashion accessories",
          "Electronic accessories",
          "Electronic accessories",
          "Fashion accessories",
          "Sports and travel",
          "Fashion accessories",
          "Sports and travel",
          "Sports and travel",
          "Fashion accessories",
          "Food and beverages",
          "Sports and travel",
          "Fashion accessories",
          "Food and beverages",
          "Health and beauty",
          "Health and beauty",
          "Sports and travel",
          "Fashion accessories",
          "Food and beverages",
          "Health and beauty",
          "Health and beauty",
          "Electronic accessories",
          "Fashion accessories",
          "Sports and travel",
          "Food and beverages",
          "Health and beauty",
          "Food and beverages",
          "Electronic accessories",
          "Sports and travel",
          "Fashion accessories",
          "Fashion accessories",
          "Sports and travel",
          "Home and lifestyle",
          "Sports and travel",
          "Home and lifestyle",
          "Sports and travel",
          "Food and beverages",
          "Sports and travel",
          "Food and beverages",
          "Health and beauty",
          "Fashion accessories",
          "Food and beverages",
          "Home and lifestyle",
          "Sports and travel",
          "Home and lifestyle",
          "Electronic accessories",
          "Home and lifestyle",
          "Fashion accessories",
          "Food and beverages",
          "Fashion accessories",
          "Health and beauty",
          "Home and lifestyle",
          "Health and beauty",
          "Electronic accessories",
          "Food and beverages",
          "Fashion accessories",
          "Sports and travel",
          "Food and beverages",
          "Home and lifestyle",
          "Electronic accessories",
          "Health and beauty",
          "Fashion accessories",
          "Health and beauty",
          "Fashion accessories",
          "Electronic accessories",
          "Fashion accessories",
          "Fashion accessories",
          "Fashion accessories",
          "Sports and travel",
          "Home and lifestyle",
          "Food and beverages",
          "Food and beverages",
          "Health and beauty",
          "Home and lifestyle",
          "Sports and travel",
          "Fashion accessories",
          "Home and lifestyle",
          "Fashion accessories",
          "Health and beauty",
          "Fashion accessories",
          "Electronic accessories",
          "Food and beverages",
          "Health and beauty",
          "Home and lifestyle",
          "Electronic accessories",
          "Electronic accessories",
          "Home and lifestyle",
          "Home and lifestyle",
          "Food and beverages",
          "Sports and travel",
          "Home and lifestyle",
          "Sports and travel",
          "Food and beverages",
          "Fashion accessories",
          "Home and lifestyle",
          "Home and lifestyle",
          "Health and beauty",
          "Fashion accessories",
          "Food and beverages",
          "Electronic accessories",
          "Home and lifestyle",
          "Fashion accessories",
          "Fashion accessories",
          "Electronic accessories",
          "Home and lifestyle",
          "Food and beverages",
          "Food and beverages",
          "Food and beverages",
          "Electronic accessories",
          "Fashion accessories",
          "Health and beauty",
          "Health and beauty",
          "Home and lifestyle",
          "Fashion accessories",
          "Sports and travel",
          "Electronic accessories",
          "Home and lifestyle",
          "Sports and travel",
          "Health and beauty",
          "Sports and travel",
          "Food and beverages",
          "Food and beverages",
          "Food and beverages",
          "Health and beauty",
          "Sports and travel",
          "Sports and travel",
          "Electronic accessories",
          "Health and beauty",
          "Sports and travel",
          "Fashion accessories",
          "Home and lifestyle",
          "Health and beauty",
          "Electronic accessories",
          "Electronic accessories",
          "Health and beauty",
          "Health and beauty",
          "Sports and travel",
          "Fashion accessories",
          "Health and beauty",
          "Home and lifestyle",
          "Electronic accessories",
          "Electronic accessories",
          "Fashion accessories",
          "Home and lifestyle",
          "Sports and travel",
          "Health and beauty",
          "Home and lifestyle",
          "Sports and travel",
          "Electronic accessories",
          "Fashion accessories",
          "Fashion accessories",
          "Electronic accessories",
          "Home and lifestyle",
          "Sports and travel",
          "Electronic accessories",
          "Health and beauty",
          "Fashion accessories",
          "Health and beauty",
          "Electronic accessories",
          "Sports and travel",
          "Electronic accessories",
          "Electronic accessories",
          "Food and beverages",
          "Fashion accessories",
          "Food and beverages",
          "Health and beauty",
          "Food and beverages",
          "Electronic accessories",
          "Home and lifestyle",
          "Sports and travel",
          "Health and beauty",
          "Sports and travel",
          "Sports and travel",
          "Health and beauty",
          "Fashion accessories",
          "Electronic accessories",
          "Electronic accessories",
          "Electronic accessories",
          "Health and beauty",
          "Sports and travel",
          "Health and beauty",
          "Home and lifestyle",
          "Fashion accessories",
          "Fashion accessories",
          "Sports and travel",
          "Electronic accessories",
          "Sports and travel",
          "Fashion accessories",
          "Electronic accessories",
          "Sports and travel",
          "Food and beverages",
          "Fashion accessories",
          "Electronic accessories",
          "Electronic accessories",
          "Sports and travel",
          "Food and beverages",
          "Fashion accessories",
          "Fashion accessories",
          "Fashion accessories",
          "Health and beauty",
          "Electronic accessories",
          "Health and beauty",
          "Fashion accessories",
          "Food and beverages",
          "Home and lifestyle",
          "Health and beauty",
          "Food and beverages",
          "Home and lifestyle",
          "Sports and travel",
          "Home and lifestyle",
          "Home and lifestyle",
          "Electronic accessories",
          "Health and beauty",
          "Sports and travel",
          "Health and beauty",
          "Food and beverages",
          "Sports and travel",
          "Food and beverages",
          "Fashion accessories",
          "Electronic accessories",
          "Sports and travel",
          "Home and lifestyle",
          "Home and lifestyle",
          "Fashion accessories",
          "Electronic accessories",
          "Electronic accessories",
          "Electronic accessories",
          "Food and beverages",
          "Fashion accessories",
          "Sports and travel",
          "Home and lifestyle",
          "Food and beverages",
          "Sports and travel",
          "Food and beverages",
          "Electronic accessories",
          "Fashion accessories",
          "Sports and travel",
          "Health and beauty",
          "Electronic accessories",
          "Fashion accessories",
          "Electronic accessories",
          "Electronic accessories",
          "Health and beauty",
          "Fashion accessories",
          "Food and beverages",
          "Health and beauty",
          "Food and beverages",
          "Electronic accessories",
          "Home and lifestyle",
          "Health and beauty",
          "Food and beverages",
          "Health and beauty",
          "Home and lifestyle",
          "Health and beauty",
          "Health and beauty",
          "Food and beverages",
          "Home and lifestyle",
          "Food and beverages",
          "Electronic accessories",
          "Home and lifestyle",
          "Fashion accessories",
          "Food and beverages",
          "Electronic accessories",
          "Sports and travel",
          "Fashion accessories",
          "Home and lifestyle",
          "Electronic accessories",
          "Home and lifestyle",
          "Home and lifestyle",
          "Home and lifestyle",
          "Sports and travel",
          "Sports and travel",
          "Electronic accessories",
          "Sports and travel",
          "Health and beauty",
          "Electronic accessories",
          "Sports and travel",
          "Home and lifestyle",
          "Fashion accessories",
          "Food and beverages",
          "Health and beauty",
          "Home and lifestyle",
          "Home and lifestyle",
          "Health and beauty",
          "Sports and travel",
          "Health and beauty",
          "Food and beverages",
          "Food and beverages",
          "Fashion accessories",
          "Home and lifestyle",
          "Health and beauty",
          "Health and beauty",
          "Electronic accessories",
          "Electronic accessories",
          "Fashion accessories",
          "Home and lifestyle",
          "Food and beverages",
          "Health and beauty",
          "Home and lifestyle",
          "Food and beverages",
          "Food and beverages",
          "Home and lifestyle",
          "Fashion accessories",
          "Food and beverages",
          "Electronic accessories",
          "Home and lifestyle",
          "Food and beverages",
          "Fashion accessories",
          "Electronic accessories",
          "Fashion accessories",
          "Electronic accessories",
          "Food and beverages",
          "Electronic accessories",
          "Home and lifestyle",
          "Home and lifestyle",
          "Health and beauty",
          "Electronic accessories",
          "Food and beverages",
          "Home and lifestyle",
          "Electronic accessories",
          "Home and lifestyle",
          "Fashion accessories",
          "Fashion accessories",
          "Food and beverages",
          "Food and beverages",
          "Electronic accessories",
          "Food and beverages",
          "Food and beverages",
          "Health and beauty",
          "Sports and travel",
          "Health and beauty",
          "Electronic accessories",
          "Fashion accessories",
          "Health and beauty",
          "Health and beauty",
          "Electronic accessories",
          "Health and beauty",
          "Food and beverages",
          "Sports and travel",
          "Electronic accessories",
          "Fashion accessories",
          "Electronic accessories",
          "Health and beauty",
          "Home and lifestyle",
          "Food and beverages",
          "Home and lifestyle",
          "Fashion accessories"
         ],
         "xaxis": "x",
         "yaxis": "y"
        }
       ],
       "layout": {
        "barmode": "relative",
        "legend": {
         "tracegroupgap": 0
        },
        "margin": {
         "t": 60
        },
        "template": {
         "data": {
          "bar": [
           {
            "error_x": {
             "color": "#2a3f5f"
            },
            "error_y": {
             "color": "#2a3f5f"
            },
            "marker": {
             "line": {
              "color": "white",
              "width": 0.5
             },
             "pattern": {
              "fillmode": "overlay",
              "size": 10,
              "solidity": 0.2
             }
            },
            "type": "bar"
           }
          ],
          "barpolar": [
           {
            "marker": {
             "line": {
              "color": "white",
              "width": 0.5
             },
             "pattern": {
              "fillmode": "overlay",
              "size": 10,
              "solidity": 0.2
             }
            },
            "type": "barpolar"
           }
          ],
          "carpet": [
           {
            "aaxis": {
             "endlinecolor": "#2a3f5f",
             "gridcolor": "#C8D4E3",
             "linecolor": "#C8D4E3",
             "minorgridcolor": "#C8D4E3",
             "startlinecolor": "#2a3f5f"
            },
            "baxis": {
             "endlinecolor": "#2a3f5f",
             "gridcolor": "#C8D4E3",
             "linecolor": "#C8D4E3",
             "minorgridcolor": "#C8D4E3",
             "startlinecolor": "#2a3f5f"
            },
            "type": "carpet"
           }
          ],
          "choropleth": [
           {
            "colorbar": {
             "outlinewidth": 0,
             "ticks": ""
            },
            "type": "choropleth"
           }
          ],
          "contour": [
           {
            "colorbar": {
             "outlinewidth": 0,
             "ticks": ""
            },
            "colorscale": [
             [
              0,
              "#0d0887"
             ],
             [
              0.1111111111111111,
              "#46039f"
             ],
             [
              0.2222222222222222,
              "#7201a8"
             ],
             [
              0.3333333333333333,
              "#9c179e"
             ],
             [
              0.4444444444444444,
              "#bd3786"
             ],
             [
              0.5555555555555556,
              "#d8576b"
             ],
             [
              0.6666666666666666,
              "#ed7953"
             ],
             [
              0.7777777777777778,
              "#fb9f3a"
             ],
             [
              0.8888888888888888,
              "#fdca26"
             ],
             [
              1,
              "#f0f921"
             ]
            ],
            "type": "contour"
           }
          ],
          "contourcarpet": [
           {
            "colorbar": {
             "outlinewidth": 0,
             "ticks": ""
            },
            "type": "contourcarpet"
           }
          ],
          "heatmap": [
           {
            "colorbar": {
             "outlinewidth": 0,
             "ticks": ""
            },
            "colorscale": [
             [
              0,
              "#0d0887"
             ],
             [
              0.1111111111111111,
              "#46039f"
             ],
             [
              0.2222222222222222,
              "#7201a8"
             ],
             [
              0.3333333333333333,
              "#9c179e"
             ],
             [
              0.4444444444444444,
              "#bd3786"
             ],
             [
              0.5555555555555556,
              "#d8576b"
             ],
             [
              0.6666666666666666,
              "#ed7953"
             ],
             [
              0.7777777777777778,
              "#fb9f3a"
             ],
             [
              0.8888888888888888,
              "#fdca26"
             ],
             [
              1,
              "#f0f921"
             ]
            ],
            "type": "heatmap"
           }
          ],
          "histogram": [
           {
            "marker": {
             "pattern": {
              "fillmode": "overlay",
              "size": 10,
              "solidity": 0.2
             }
            },
            "type": "histogram"
           }
          ],
          "histogram2d": [
           {
            "colorbar": {
             "outlinewidth": 0,
             "ticks": ""
            },
            "colorscale": [
             [
              0,
              "#0d0887"
             ],
             [
              0.1111111111111111,
              "#46039f"
             ],
             [
              0.2222222222222222,
              "#7201a8"
             ],
             [
              0.3333333333333333,
              "#9c179e"
             ],
             [
              0.4444444444444444,
              "#bd3786"
             ],
             [
              0.5555555555555556,
              "#d8576b"
             ],
             [
              0.6666666666666666,
              "#ed7953"
             ],
             [
              0.7777777777777778,
              "#fb9f3a"
             ],
             [
              0.8888888888888888,
              "#fdca26"
             ],
             [
              1,
              "#f0f921"
             ]
            ],
            "type": "histogram2d"
           }
          ],
          "histogram2dcontour": [
           {
            "colorbar": {
             "outlinewidth": 0,
             "ticks": ""
            },
            "colorscale": [
             [
              0,
              "#0d0887"
             ],
             [
              0.1111111111111111,
              "#46039f"
             ],
             [
              0.2222222222222222,
              "#7201a8"
             ],
             [
              0.3333333333333333,
              "#9c179e"
             ],
             [
              0.4444444444444444,
              "#bd3786"
             ],
             [
              0.5555555555555556,
              "#d8576b"
             ],
             [
              0.6666666666666666,
              "#ed7953"
             ],
             [
              0.7777777777777778,
              "#fb9f3a"
             ],
             [
              0.8888888888888888,
              "#fdca26"
             ],
             [
              1,
              "#f0f921"
             ]
            ],
            "type": "histogram2dcontour"
           }
          ],
          "mesh3d": [
           {
            "colorbar": {
             "outlinewidth": 0,
             "ticks": ""
            },
            "type": "mesh3d"
           }
          ],
          "parcoords": [
           {
            "line": {
             "colorbar": {
              "outlinewidth": 0,
              "ticks": ""
             }
            },
            "type": "parcoords"
           }
          ],
          "pie": [
           {
            "automargin": true,
            "type": "pie"
           }
          ],
          "scatter": [
           {
            "fillpattern": {
             "fillmode": "overlay",
             "size": 10,
             "solidity": 0.2
            },
            "type": "scatter"
           }
          ],
          "scatter3d": [
           {
            "line": {
             "colorbar": {
              "outlinewidth": 0,
              "ticks": ""
             }
            },
            "marker": {
             "colorbar": {
              "outlinewidth": 0,
              "ticks": ""
             }
            },
            "type": "scatter3d"
           }
          ],
          "scattercarpet": [
           {
            "marker": {
             "colorbar": {
              "outlinewidth": 0,
              "ticks": ""
             }
            },
            "type": "scattercarpet"
           }
          ],
          "scattergeo": [
           {
            "marker": {
             "colorbar": {
              "outlinewidth": 0,
              "ticks": ""
             }
            },
            "type": "scattergeo"
           }
          ],
          "scattergl": [
           {
            "marker": {
             "colorbar": {
              "outlinewidth": 0,
              "ticks": ""
             }
            },
            "type": "scattergl"
           }
          ],
          "scattermap": [
           {
            "marker": {
             "colorbar": {
              "outlinewidth": 0,
              "ticks": ""
             }
            },
            "type": "scattermap"
           }
          ],
          "scattermapbox": [
           {
            "marker": {
             "colorbar": {
              "outlinewidth": 0,
              "ticks": ""
             }
            },
            "type": "scattermapbox"
           }
          ],
          "scatterpolar": [
           {
            "marker": {
             "colorbar": {
              "outlinewidth": 0,
              "ticks": ""
             }
            },
            "type": "scatterpolar"
           }
          ],
          "scatterpolargl": [
           {
            "marker": {
             "colorbar": {
              "outlinewidth": 0,
              "ticks": ""
             }
            },
            "type": "scatterpolargl"
           }
          ],
          "scatterternary": [
           {
            "marker": {
             "colorbar": {
              "outlinewidth": 0,
              "ticks": ""
             }
            },
            "type": "scatterternary"
           }
          ],
          "surface": [
           {
            "colorbar": {
             "outlinewidth": 0,
             "ticks": ""
            },
            "colorscale": [
             [
              0,
              "#0d0887"
             ],
             [
              0.1111111111111111,
              "#46039f"
             ],
             [
              0.2222222222222222,
              "#7201a8"
             ],
             [
              0.3333333333333333,
              "#9c179e"
             ],
             [
              0.4444444444444444,
              "#bd3786"
             ],
             [
              0.5555555555555556,
              "#d8576b"
             ],
             [
              0.6666666666666666,
              "#ed7953"
             ],
             [
              0.7777777777777778,
              "#fb9f3a"
             ],
             [
              0.8888888888888888,
              "#fdca26"
             ],
             [
              1,
              "#f0f921"
             ]
            ],
            "type": "surface"
           }
          ],
          "table": [
           {
            "cells": {
             "fill": {
              "color": "#EBF0F8"
             },
             "line": {
              "color": "white"
             }
            },
            "header": {
             "fill": {
              "color": "#C8D4E3"
             },
             "line": {
              "color": "white"
             }
            },
            "type": "table"
           }
          ]
         },
         "layout": {
          "annotationdefaults": {
           "arrowcolor": "#2a3f5f",
           "arrowhead": 0,
           "arrowwidth": 1
          },
          "autotypenumbers": "strict",
          "coloraxis": {
           "colorbar": {
            "outlinewidth": 0,
            "ticks": ""
           }
          },
          "colorscale": {
           "diverging": [
            [
             0,
             "#8e0152"
            ],
            [
             0.1,
             "#c51b7d"
            ],
            [
             0.2,
             "#de77ae"
            ],
            [
             0.3,
             "#f1b6da"
            ],
            [
             0.4,
             "#fde0ef"
            ],
            [
             0.5,
             "#f7f7f7"
            ],
            [
             0.6,
             "#e6f5d0"
            ],
            [
             0.7,
             "#b8e186"
            ],
            [
             0.8,
             "#7fbc41"
            ],
            [
             0.9,
             "#4d9221"
            ],
            [
             1,
             "#276419"
            ]
           ],
           "sequential": [
            [
             0,
             "#0d0887"
            ],
            [
             0.1111111111111111,
             "#46039f"
            ],
            [
             0.2222222222222222,
             "#7201a8"
            ],
            [
             0.3333333333333333,
             "#9c179e"
            ],
            [
             0.4444444444444444,
             "#bd3786"
            ],
            [
             0.5555555555555556,
             "#d8576b"
            ],
            [
             0.6666666666666666,
             "#ed7953"
            ],
            [
             0.7777777777777778,
             "#fb9f3a"
            ],
            [
             0.8888888888888888,
             "#fdca26"
            ],
            [
             1,
             "#f0f921"
            ]
           ],
           "sequentialminus": [
            [
             0,
             "#0d0887"
            ],
            [
             0.1111111111111111,
             "#46039f"
            ],
            [
             0.2222222222222222,
             "#7201a8"
            ],
            [
             0.3333333333333333,
             "#9c179e"
            ],
            [
             0.4444444444444444,
             "#bd3786"
            ],
            [
             0.5555555555555556,
             "#d8576b"
            ],
            [
             0.6666666666666666,
             "#ed7953"
            ],
            [
             0.7777777777777778,
             "#fb9f3a"
            ],
            [
             0.8888888888888888,
             "#fdca26"
            ],
            [
             1,
             "#f0f921"
            ]
           ]
          },
          "colorway": [
           "#636efa",
           "#EF553B",
           "#00cc96",
           "#ab63fa",
           "#FFA15A",
           "#19d3f3",
           "#FF6692",
           "#B6E880",
           "#FF97FF",
           "#FECB52"
          ],
          "font": {
           "color": "#2a3f5f"
          },
          "geo": {
           "bgcolor": "white",
           "lakecolor": "white",
           "landcolor": "white",
           "showlakes": true,
           "showland": true,
           "subunitcolor": "#C8D4E3"
          },
          "hoverlabel": {
           "align": "left"
          },
          "hovermode": "closest",
          "mapbox": {
           "style": "light"
          },
          "paper_bgcolor": "white",
          "plot_bgcolor": "white",
          "polar": {
           "angularaxis": {
            "gridcolor": "#EBF0F8",
            "linecolor": "#EBF0F8",
            "ticks": ""
           },
           "bgcolor": "white",
           "radialaxis": {
            "gridcolor": "#EBF0F8",
            "linecolor": "#EBF0F8",
            "ticks": ""
           }
          },
          "scene": {
           "xaxis": {
            "backgroundcolor": "white",
            "gridcolor": "#DFE8F3",
            "gridwidth": 2,
            "linecolor": "#EBF0F8",
            "showbackground": true,
            "ticks": "",
            "zerolinecolor": "#EBF0F8"
           },
           "yaxis": {
            "backgroundcolor": "white",
            "gridcolor": "#DFE8F3",
            "gridwidth": 2,
            "linecolor": "#EBF0F8",
            "showbackground": true,
            "ticks": "",
            "zerolinecolor": "#EBF0F8"
           },
           "zaxis": {
            "backgroundcolor": "white",
            "gridcolor": "#DFE8F3",
            "gridwidth": 2,
            "linecolor": "#EBF0F8",
            "showbackground": true,
            "ticks": "",
            "zerolinecolor": "#EBF0F8"
           }
          },
          "shapedefaults": {
           "line": {
            "color": "#2a3f5f"
           }
          },
          "ternary": {
           "aaxis": {
            "gridcolor": "#DFE8F3",
            "linecolor": "#A2B1C6",
            "ticks": ""
           },
           "baxis": {
            "gridcolor": "#DFE8F3",
            "linecolor": "#A2B1C6",
            "ticks": ""
           },
           "bgcolor": "white",
           "caxis": {
            "gridcolor": "#DFE8F3",
            "linecolor": "#A2B1C6",
            "ticks": ""
           }
          },
          "title": {
           "x": 0.05
          },
          "xaxis": {
           "automargin": true,
           "gridcolor": "#EBF0F8",
           "linecolor": "#EBF0F8",
           "ticks": "",
           "title": {
            "standoff": 15
           },
           "zerolinecolor": "#EBF0F8",
           "zerolinewidth": 2
          },
          "yaxis": {
           "automargin": true,
           "gridcolor": "#EBF0F8",
           "linecolor": "#EBF0F8",
           "ticks": "",
           "title": {
            "standoff": 15
           },
           "zerolinecolor": "#EBF0F8",
           "zerolinewidth": 2
          }
         }
        },
        "xaxis": {
         "anchor": "y",
         "domain": [
          0,
          1
         ],
         "title": {
          "text": "Product line"
         }
        },
        "yaxis": {
         "anchor": "x",
         "domain": [
          0,
          1
         ],
         "title": {
          "text": "count"
         }
        }
       }
      }
     },
     "metadata": {},
     "output_type": "display_data"
    },
    {
     "data": {
      "application/vnd.plotly.v1+json": {
       "config": {
        "plotlyServerURL": "https://plot.ly"
       },
       "data": [
        {
         "bingroup": "x",
         "hovertemplate": "Time=%{x}<br>count=%{y}<extra></extra>",
         "legendgroup": "",
         "marker": {
          "color": "#636efa",
          "pattern": {
           "shape": ""
          }
         },
         "name": "",
         "orientation": "v",
         "showlegend": false,
         "type": "histogram",
         "x": [
          "13:08",
          "10:29",
          "13:23",
          "20:33",
          "10:37",
          "18:30",
          "14:36",
          "11:38",
          "17:15",
          "13:27",
          "18:07",
          "17:03",
          "10:25",
          "16:48",
          "19:21",
          "16:19",
          "11:03",
          "10:39",
          "18:00",
          "15:30",
          "11:24",
          "10:40",
          "12:20",
          "11:15",
          "17:36",
          "19:20",
          "15:31",
          "12:17",
          "19:48",
          "15:36",
          "19:39",
          "12:43",
          "14:49",
          "10:12",
          "10:42",
          "12:28",
          "19:15",
          "17:17",
          "13:24",
          "13:01",
          "18:45",
          "10:11",
          "13:03",
          "20:39",
          "19:47",
          "18:00",
          "17:24",
          "15:47",
          "12:45",
          "17:08",
          "10:19",
          "15:10",
          "14:42",
          "15:46",
          "11:49",
          "19:01",
          "11:26",
          "11:28",
          "15:55",
          "20:36",
          "17:47",
          "10:55",
          "13:40",
          "12:27",
          "14:35",
          "16:40",
          "15:43",
          "15:01",
          "10:04",
          "18:50",
          "12:46",
          "16:19",
          "18:17",
          "18:21",
          "10:55",
          "17:04",
          "14:20",
          "15:48",
          "16:24",
          "18:56",
          "14:42",
          "19:56",
          "18:37",
          "18:45",
          "10:17",
          "14:31",
          "10:23",
          "20:35",
          "16:57",
          "17:55",
          "10:25",
          "19:54",
          "16:42",
          "12:09",
          "20:05",
          "20:38",
          "10:25",
          "13:11",
          "10:16",
          "18:14",
          "19:20",
          "13:22",
          "11:27",
          "16:44",
          "18:19",
          "14:50",
          "20:54",
          "20:19",
          "10:43",
          "14:30",
          "11:32",
          "10:41",
          "12:44",
          "20:07",
          "20:31",
          "13:01",
          "12:29",
          "15:26",
          "20:48",
          "20:38",
          "17:03",
          "12:02",
          "17:26",
          "19:52",
          "14:57",
          "18:44",
          "13:26",
          "16:17",
          "15:57",
          "11:15",
          "13:18",
          "20:34",
          "18:36",
          "14:40",
          "16:43",
          "19:39",
          "20:59",
          "15:39",
          "12:21",
          "19:25",
          "13:00",
          "13:48",
          "19:57",
          "10:36",
          "16:37",
          "17:11",
          "12:28",
          "12:46",
          "15:07",
          "13:48",
          "19:20",
          "16:07",
          "11:56",
          "18:23",
          "13:05",
          "15:55",
          "19:40",
          "13:58",
          "14:43",
          "19:18",
          "19:39",
          "16:21",
          "19:44",
          "19:42",
          "15:24",
          "14:12",
          "13:32",
          "16:20",
          "16:31",
          "15:10",
          "11:36",
          "12:45",
          "19:17",
          "17:34",
          "12:04",
          "16:21",
          "17:01",
          "10:50",
          "19:16",
          "16:47",
          "10:00",
          "11:51",
          "10:55",
          "15:00",
          "11:19",
          "19:46",
          "19:00",
          "10:53",
          "12:50",
          "20:50",
          "10:39",
          "13:41",
          "19:08",
          "20:23",
          "11:30",
          "19:30",
          "18:03",
          "10:13",
          "19:58",
          "19:57",
          "10:01",
          "11:57",
          "10:02",
          "14:51",
          "12:42",
          "12:02",
          "18:19",
          "17:38",
          "13:41",
          "19:42",
          "20:24",
          "18:08",
          "19:17",
          "13:24",
          "15:53",
          "15:05",
          "18:27",
          "16:55",
          "12:58",
          "18:59",
          "13:44",
          "13:46",
          "18:06",
          "12:38",
          "15:56",
          "14:29",
          "19:14",
          "16:24",
          "10:52",
          "12:55",
          "19:28",
          "13:52",
          "10:54",
          "18:31",
          "18:24",
          "18:09",
          "15:16",
          "17:07",
          "19:26",
          "11:20",
          "16:49",
          "12:01",
          "18:37",
          "11:25",
          "18:42",
          "14:47",
          "19:43",
          "14:04",
          "16:11",
          "19:06",
          "15:34",
          "19:06",
          "19:44",
          "11:22",
          "11:23",
          "14:12",
          "10:46",
          "10:16",
          "12:38",
          "13:05",
          "13:25",
          "14:53",
          "19:22",
          "11:00",
          "19:24",
          "12:43",
          "17:22",
          "20:55",
          "16:05",
          "13:34",
          "18:13",
          "19:17",
          "11:44",
          "15:51",
          "16:52",
          "20:52",
          "17:36",
          "13:23",
          "16:28",
          "19:57",
          "17:01",
          "13:29",
          "11:09",
          "15:02",
          "14:21",
          "18:01",
          "14:49",
          "12:02",
          "13:30",
          "14:38",
          "17:37",
          "17:20",
          "20:29",
          "10:00",
          "11:46",
          "13:42",
          "14:44",
          "14:16",
          "15:54",
          "10:21",
          "18:09",
          "16:46",
          "15:31",
          "17:15",
          "12:29",
          "20:14",
          "13:22",
          "17:09",
          "10:40",
          "17:43",
          "14:04",
          "19:05",
          "10:08",
          "13:12",
          "20:51",
          "17:29",
          "10:25",
          "11:34",
          "18:58",
          "16:28",
          "20:26",
          "15:08",
          "18:03",
          "13:21",
          "12:48",
          "19:53",
          "19:09",
          "16:30",
          "10:11",
          "13:07",
          "18:48",
          "17:27",
          "15:59",
          "11:21",
          "13:48",
          "10:17",
          "15:49",
          "13:02",
          "12:58",
          "15:26",
          "18:23",
          "19:06",
          "20:21",
          "16:24",
          "15:04",
          "16:10",
          "12:14",
          "10:13",
          "17:38",
          "11:06",
          "14:53",
          "18:22",
          "19:02",
          "14:16",
          "15:44",
          "12:20",
          "20:01",
          "13:45",
          "15:40",
          "16:58",
          "11:12",
          "15:12",
          "20:37",
          "17:44",
          "16:23",
          "12:12",
          "19:33",
          "10:29",
          "14:28",
          "12:46",
          "19:40",
          "19:39",
          "17:54",
          "12:25",
          "16:47",
          "12:52",
          "19:50",
          "18:17",
          "17:20",
          "13:32",
          "10:37",
          "14:35",
          "12:09",
          "15:32",
          "13:58",
          "13:19",
          "13:37",
          "16:49",
          "14:55",
          "14:04",
          "12:31",
          "14:51",
          "18:27",
          "12:45",
          "10:36",
          "20:36",
          "14:16",
          "10:26",
          "13:30",
          "16:28",
          "20:18",
          "20:04",
          "13:38",
          "10:43",
          "17:30",
          "15:28",
          "19:07",
          "19:01",
          "19:48",
          "19:24",
          "13:00",
          "14:29",
          "13:21",
          "18:55",
          "19:36",
          "16:28",
          "13:48",
          "10:57",
          "17:13",
          "10:23",
          "13:57",
          "13:29",
          "13:00",
          "19:42",
          "15:36",
          "13:40",
          "18:01",
          "13:53",
          "17:27",
          "10:53",
          "19:48",
          "16:53",
          "19:14",
          "14:36",
          "18:19",
          "19:09",
          "16:51",
          "15:37",
          "20:15",
          "14:38",
          "19:25",
          "19:35",
          "15:42",
          "14:11",
          "10:43",
          "17:58",
          "11:26",
          "17:38",
          "20:07",
          "11:02",
          "19:07",
          "18:50",
          "12:43",
          "15:09",
          "13:47",
          "16:59",
          "14:15",
          "20:24",
          "13:58",
          "16:52",
          "15:19",
          "12:25",
          "10:02",
          "18:58",
          "15:31",
          "11:22",
          "13:12",
          "18:33",
          "10:02",
          "11:21",
          "12:10",
          "11:40",
          "18:31",
          "17:58",
          "17:04",
          "20:35",
          "16:10",
          "16:54",
          "10:11",
          "11:26",
          "20:29",
          "12:12",
          "13:05",
          "16:19",
          "19:48",
          "15:25",
          "14:42",
          "18:59",
          "20:47",
          "13:21",
          "19:48",
          "18:20",
          "20:24",
          "13:44",
          "11:48",
          "14:14",
          "15:51",
          "11:17",
          "17:36",
          "15:47",
          "15:53",
          "12:40",
          "19:48",
          "17:53",
          "16:36",
          "20:54",
          "12:50",
          "10:48",
          "14:28",
          "17:15",
          "18:03",
          "17:29",
          "18:05",
          "12:07",
          "19:49",
          "15:52",
          "16:48",
          "20:46",
          "18:14",
          "15:05",
          "10:34",
          "11:23",
          "13:55",
          "11:43",
          "14:36",
          "16:03",
          "20:03",
          "14:55",
          "11:28",
          "19:41",
          "19:01",
          "18:04",
          "19:20",
          "10:31",
          "13:28",
          "11:36",
          "11:32",
          "11:44",
          "17:16",
          "18:43",
          "11:00",
          "10:30",
          "12:14",
          "16:43",
          "20:40",
          "13:40",
          "16:23",
          "12:08",
          "17:45",
          "10:28",
          "20:31",
          "10:49",
          "12:34",
          "10:23",
          "18:51",
          "13:45",
          "19:38",
          "20:23",
          "15:24",
          "16:54",
          "12:32",
          "15:42",
          "13:58",
          "15:08",
          "13:02",
          "13:01",
          "16:40",
          "13:55",
          "10:33",
          "16:42",
          "17:16",
          "11:48",
          "19:35",
          "19:55",
          "14:33",
          "19:49",
          "18:43",
          "14:43",
          "13:54",
          "12:15",
          "12:37",
          "19:54",
          "15:06",
          "18:03",
          "15:58",
          "13:53",
          "14:03",
          "16:38",
          "11:07",
          "12:23",
          "10:54",
          "17:38",
          "14:13",
          "11:51",
          "13:05",
          "11:30",
          "13:30",
          "19:11",
          "18:53",
          "14:22",
          "17:16",
          "10:06",
          "20:35",
          "13:54",
          "20:08",
          "15:26",
          "12:56",
          "19:16",
          "12:20",
          "10:37",
          "10:18",
          "11:23",
          "11:45",
          "16:08",
          "11:25",
          "12:24",
          "19:51",
          "18:10",
          "11:22",
          "17:55",
          "15:30",
          "19:44",
          "15:27",
          "11:25",
          "15:42",
          "16:04",
          "12:37",
          "14:41",
          "14:19",
          "18:19",
          "14:08",
          "16:38",
          "10:54",
          "11:29",
          "19:28",
          "15:01",
          "20:31",
          "12:16",
          "15:27",
          "17:36",
          "20:00",
          "15:29",
          "15:08",
          "19:26",
          "15:53",
          "18:43",
          "14:58",
          "19:55",
          "15:10",
          "16:44",
          "18:22",
          "11:52",
          "17:24",
          "15:31",
          "18:04",
          "14:13",
          "10:23",
          "10:11",
          "15:48",
          "17:46",
          "11:46",
          "12:07",
          "18:14",
          "14:45",
          "11:39",
          "15:44",
          "13:06",
          "20:43",
          "14:19",
          "10:01",
          "19:30",
          "16:34",
          "13:10",
          "17:10",
          "10:22",
          "19:57",
          "19:29",
          "18:30",
          "14:27",
          "13:57",
          "19:43",
          "10:11",
          "13:46",
          "12:22",
          "19:20",
          "12:58",
          "11:59",
          "17:59",
          "12:51",
          "10:36",
          "13:38",
          "19:39",
          "12:44",
          "13:56",
          "14:42",
          "19:45",
          "20:26",
          "19:46",
          "19:38",
          "16:18",
          "12:23",
          "19:11",
          "18:57",
          "11:18",
          "12:40",
          "14:06",
          "20:48",
          "20:13",
          "20:37",
          "17:59",
          "20:18",
          "15:52",
          "15:14",
          "12:50",
          "10:36",
          "18:33",
          "16:06",
          "12:47",
          "13:34",
          "15:04",
          "20:42",
          "15:28",
          "13:45",
          "20:10",
          "18:53",
          "14:24",
          "11:42",
          "17:49",
          "15:33",
          "10:54",
          "16:23",
          "19:33",
          "11:39",
          "10:38",
          "20:03",
          "12:39",
          "15:59",
          "14:26",
          "18:22",
          "11:32",
          "12:41",
          "15:20",
          "14:33",
          "15:29",
          "16:19",
          "16:33",
          "19:07",
          "14:43",
          "19:28",
          "20:44",
          "11:16",
          "10:31",
          "12:30",
          "15:05",
          "18:30",
          "13:18",
          "15:28",
          "11:52",
          "18:24",
          "15:19",
          "10:38",
          "15:12",
          "17:48",
          "11:07",
          "15:48",
          "19:40",
          "20:30",
          "13:59",
          "18:51",
          "17:24",
          "11:58",
          "19:01",
          "16:50",
          "10:22",
          "16:46",
          "18:08",
          "18:02",
          "13:07",
          "17:52",
          "20:32",
          "19:24",
          "16:06",
          "14:14",
          "17:36",
          "13:08",
          "16:09",
          "11:33",
          "10:18",
          "10:55",
          "15:15",
          "20:06",
          "20:21",
          "13:48",
          "12:52",
          "12:28",
          "16:26",
          "13:24",
          "15:15",
          "10:50",
          "18:38",
          "16:45",
          "19:30",
          "13:23",
          "11:27",
          "11:12",
          "16:36",
          "18:41",
          "17:12",
          "10:38",
          "10:33",
          "14:38",
          "18:06",
          "12:52",
          "14:00",
          "10:57",
          "16:45",
          "11:15",
          "20:29",
          "20:03",
          "14:35",
          "16:32",
          "10:10",
          "14:15",
          "10:05",
          "11:36",
          "18:15",
          "13:53",
          "18:37",
          "18:27",
          "14:42",
          "17:43",
          "18:37",
          "16:34",
          "14:42",
          "11:01",
          "19:44",
          "13:34",
          "20:08",
          "15:01",
          "11:40",
          "15:21",
          "17:38",
          "16:16",
          "18:15",
          "12:43",
          "11:32",
          "18:08",
          "17:08",
          "19:38",
          "13:11",
          "11:05",
          "10:12",
          "15:42",
          "11:58",
          "14:21",
          "10:52",
          "19:31",
          "18:35",
          "13:51",
          "12:35",
          "13:24",
          "18:06",
          "11:55",
          "11:42",
          "14:30",
          "15:11",
          "14:48",
          "12:36",
          "19:09",
          "13:35",
          "10:33",
          "15:45",
          "11:51",
          "17:26",
          "11:52",
          "14:04",
          "17:49",
          "20:19",
          "16:08",
          "10:17",
          "14:25",
          "12:51",
          "15:18",
          "12:45",
          "13:37",
          "10:03",
          "19:42",
          "13:14",
          "12:47",
          "19:53",
          "10:26",
          "15:06",
          "16:35",
          "20:57",
          "15:16",
          "17:47",
          "16:23",
          "10:17",
          "13:50",
          "19:17",
          "14:00",
          "12:02",
          "20:21",
          "17:35",
          "12:42",
          "17:56",
          "18:58",
          "14:08",
          "16:30",
          "10:44",
          "20:29",
          "11:43",
          "10:09",
          "10:00",
          "18:45",
          "12:40",
          "15:36",
          "12:04",
          "11:26",
          "12:36",
          "15:06",
          "10:58",
          "12:10",
          "10:31",
          "13:49",
          "11:10",
          "17:38",
          "17:54",
          "20:51",
          "19:26",
          "13:33",
          "14:05",
          "11:40",
          "12:27",
          "20:24",
          "20:59",
          "19:48",
          "10:18",
          "16:27",
          "17:04",
          "18:14",
          "10:43",
          "19:30",
          "14:53",
          "20:14",
          "11:51",
          "14:13",
          "20:13",
          "18:44",
          "14:26",
          "12:40",
          "18:43",
          "13:22",
          "13:58",
          "11:45",
          "11:51",
          "17:16",
          "15:55",
          "12:07",
          "15:07",
          "15:29",
          "18:45",
          "15:23",
          "20:37",
          "14:41",
          "18:18",
          "15:27",
          "12:55",
          "18:02",
          "19:44",
          "11:36",
          "13:51",
          "15:17",
          "15:29",
          "17:59",
          "11:55",
          "10:39",
          "15:10",
          "18:10",
          "20:43",
          "12:46",
          "17:44",
          "14:19",
          "10:33",
          "11:40",
          "19:30",
          "14:42",
          "19:08",
          "19:12",
          "15:46",
          "19:06",
          "18:10",
          "20:46",
          "18:35",
          "11:40",
          "13:46",
          "17:16",
          "13:22",
          "15:33",
          "13:28"
         ],
         "xaxis": "x",
         "yaxis": "y"
        }
       ],
       "layout": {
        "barmode": "relative",
        "legend": {
         "tracegroupgap": 0
        },
        "margin": {
         "t": 60
        },
        "template": {
         "data": {
          "bar": [
           {
            "error_x": {
             "color": "#2a3f5f"
            },
            "error_y": {
             "color": "#2a3f5f"
            },
            "marker": {
             "line": {
              "color": "white",
              "width": 0.5
             },
             "pattern": {
              "fillmode": "overlay",
              "size": 10,
              "solidity": 0.2
             }
            },
            "type": "bar"
           }
          ],
          "barpolar": [
           {
            "marker": {
             "line": {
              "color": "white",
              "width": 0.5
             },
             "pattern": {
              "fillmode": "overlay",
              "size": 10,
              "solidity": 0.2
             }
            },
            "type": "barpolar"
           }
          ],
          "carpet": [
           {
            "aaxis": {
             "endlinecolor": "#2a3f5f",
             "gridcolor": "#C8D4E3",
             "linecolor": "#C8D4E3",
             "minorgridcolor": "#C8D4E3",
             "startlinecolor": "#2a3f5f"
            },
            "baxis": {
             "endlinecolor": "#2a3f5f",
             "gridcolor": "#C8D4E3",
             "linecolor": "#C8D4E3",
             "minorgridcolor": "#C8D4E3",
             "startlinecolor": "#2a3f5f"
            },
            "type": "carpet"
           }
          ],
          "choropleth": [
           {
            "colorbar": {
             "outlinewidth": 0,
             "ticks": ""
            },
            "type": "choropleth"
           }
          ],
          "contour": [
           {
            "colorbar": {
             "outlinewidth": 0,
             "ticks": ""
            },
            "colorscale": [
             [
              0,
              "#0d0887"
             ],
             [
              0.1111111111111111,
              "#46039f"
             ],
             [
              0.2222222222222222,
              "#7201a8"
             ],
             [
              0.3333333333333333,
              "#9c179e"
             ],
             [
              0.4444444444444444,
              "#bd3786"
             ],
             [
              0.5555555555555556,
              "#d8576b"
             ],
             [
              0.6666666666666666,
              "#ed7953"
             ],
             [
              0.7777777777777778,
              "#fb9f3a"
             ],
             [
              0.8888888888888888,
              "#fdca26"
             ],
             [
              1,
              "#f0f921"
             ]
            ],
            "type": "contour"
           }
          ],
          "contourcarpet": [
           {
            "colorbar": {
             "outlinewidth": 0,
             "ticks": ""
            },
            "type": "contourcarpet"
           }
          ],
          "heatmap": [
           {
            "colorbar": {
             "outlinewidth": 0,
             "ticks": ""
            },
            "colorscale": [
             [
              0,
              "#0d0887"
             ],
             [
              0.1111111111111111,
              "#46039f"
             ],
             [
              0.2222222222222222,
              "#7201a8"
             ],
             [
              0.3333333333333333,
              "#9c179e"
             ],
             [
              0.4444444444444444,
              "#bd3786"
             ],
             [
              0.5555555555555556,
              "#d8576b"
             ],
             [
              0.6666666666666666,
              "#ed7953"
             ],
             [
              0.7777777777777778,
              "#fb9f3a"
             ],
             [
              0.8888888888888888,
              "#fdca26"
             ],
             [
              1,
              "#f0f921"
             ]
            ],
            "type": "heatmap"
           }
          ],
          "histogram": [
           {
            "marker": {
             "pattern": {
              "fillmode": "overlay",
              "size": 10,
              "solidity": 0.2
             }
            },
            "type": "histogram"
           }
          ],
          "histogram2d": [
           {
            "colorbar": {
             "outlinewidth": 0,
             "ticks": ""
            },
            "colorscale": [
             [
              0,
              "#0d0887"
             ],
             [
              0.1111111111111111,
              "#46039f"
             ],
             [
              0.2222222222222222,
              "#7201a8"
             ],
             [
              0.3333333333333333,
              "#9c179e"
             ],
             [
              0.4444444444444444,
              "#bd3786"
             ],
             [
              0.5555555555555556,
              "#d8576b"
             ],
             [
              0.6666666666666666,
              "#ed7953"
             ],
             [
              0.7777777777777778,
              "#fb9f3a"
             ],
             [
              0.8888888888888888,
              "#fdca26"
             ],
             [
              1,
              "#f0f921"
             ]
            ],
            "type": "histogram2d"
           }
          ],
          "histogram2dcontour": [
           {
            "colorbar": {
             "outlinewidth": 0,
             "ticks": ""
            },
            "colorscale": [
             [
              0,
              "#0d0887"
             ],
             [
              0.1111111111111111,
              "#46039f"
             ],
             [
              0.2222222222222222,
              "#7201a8"
             ],
             [
              0.3333333333333333,
              "#9c179e"
             ],
             [
              0.4444444444444444,
              "#bd3786"
             ],
             [
              0.5555555555555556,
              "#d8576b"
             ],
             [
              0.6666666666666666,
              "#ed7953"
             ],
             [
              0.7777777777777778,
              "#fb9f3a"
             ],
             [
              0.8888888888888888,
              "#fdca26"
             ],
             [
              1,
              "#f0f921"
             ]
            ],
            "type": "histogram2dcontour"
           }
          ],
          "mesh3d": [
           {
            "colorbar": {
             "outlinewidth": 0,
             "ticks": ""
            },
            "type": "mesh3d"
           }
          ],
          "parcoords": [
           {
            "line": {
             "colorbar": {
              "outlinewidth": 0,
              "ticks": ""
             }
            },
            "type": "parcoords"
           }
          ],
          "pie": [
           {
            "automargin": true,
            "type": "pie"
           }
          ],
          "scatter": [
           {
            "fillpattern": {
             "fillmode": "overlay",
             "size": 10,
             "solidity": 0.2
            },
            "type": "scatter"
           }
          ],
          "scatter3d": [
           {
            "line": {
             "colorbar": {
              "outlinewidth": 0,
              "ticks": ""
             }
            },
            "marker": {
             "colorbar": {
              "outlinewidth": 0,
              "ticks": ""
             }
            },
            "type": "scatter3d"
           }
          ],
          "scattercarpet": [
           {
            "marker": {
             "colorbar": {
              "outlinewidth": 0,
              "ticks": ""
             }
            },
            "type": "scattercarpet"
           }
          ],
          "scattergeo": [
           {
            "marker": {
             "colorbar": {
              "outlinewidth": 0,
              "ticks": ""
             }
            },
            "type": "scattergeo"
           }
          ],
          "scattergl": [
           {
            "marker": {
             "colorbar": {
              "outlinewidth": 0,
              "ticks": ""
             }
            },
            "type": "scattergl"
           }
          ],
          "scattermap": [
           {
            "marker": {
             "colorbar": {
              "outlinewidth": 0,
              "ticks": ""
             }
            },
            "type": "scattermap"
           }
          ],
          "scattermapbox": [
           {
            "marker": {
             "colorbar": {
              "outlinewidth": 0,
              "ticks": ""
             }
            },
            "type": "scattermapbox"
           }
          ],
          "scatterpolar": [
           {
            "marker": {
             "colorbar": {
              "outlinewidth": 0,
              "ticks": ""
             }
            },
            "type": "scatterpolar"
           }
          ],
          "scatterpolargl": [
           {
            "marker": {
             "colorbar": {
              "outlinewidth": 0,
              "ticks": ""
             }
            },
            "type": "scatterpolargl"
           }
          ],
          "scatterternary": [
           {
            "marker": {
             "colorbar": {
              "outlinewidth": 0,
              "ticks": ""
             }
            },
            "type": "scatterternary"
           }
          ],
          "surface": [
           {
            "colorbar": {
             "outlinewidth": 0,
             "ticks": ""
            },
            "colorscale": [
             [
              0,
              "#0d0887"
             ],
             [
              0.1111111111111111,
              "#46039f"
             ],
             [
              0.2222222222222222,
              "#7201a8"
             ],
             [
              0.3333333333333333,
              "#9c179e"
             ],
             [
              0.4444444444444444,
              "#bd3786"
             ],
             [
              0.5555555555555556,
              "#d8576b"
             ],
             [
              0.6666666666666666,
              "#ed7953"
             ],
             [
              0.7777777777777778,
              "#fb9f3a"
             ],
             [
              0.8888888888888888,
              "#fdca26"
             ],
             [
              1,
              "#f0f921"
             ]
            ],
            "type": "surface"
           }
          ],
          "table": [
           {
            "cells": {
             "fill": {
              "color": "#EBF0F8"
             },
             "line": {
              "color": "white"
             }
            },
            "header": {
             "fill": {
              "color": "#C8D4E3"
             },
             "line": {
              "color": "white"
             }
            },
            "type": "table"
           }
          ]
         },
         "layout": {
          "annotationdefaults": {
           "arrowcolor": "#2a3f5f",
           "arrowhead": 0,
           "arrowwidth": 1
          },
          "autotypenumbers": "strict",
          "coloraxis": {
           "colorbar": {
            "outlinewidth": 0,
            "ticks": ""
           }
          },
          "colorscale": {
           "diverging": [
            [
             0,
             "#8e0152"
            ],
            [
             0.1,
             "#c51b7d"
            ],
            [
             0.2,
             "#de77ae"
            ],
            [
             0.3,
             "#f1b6da"
            ],
            [
             0.4,
             "#fde0ef"
            ],
            [
             0.5,
             "#f7f7f7"
            ],
            [
             0.6,
             "#e6f5d0"
            ],
            [
             0.7,
             "#b8e186"
            ],
            [
             0.8,
             "#7fbc41"
            ],
            [
             0.9,
             "#4d9221"
            ],
            [
             1,
             "#276419"
            ]
           ],
           "sequential": [
            [
             0,
             "#0d0887"
            ],
            [
             0.1111111111111111,
             "#46039f"
            ],
            [
             0.2222222222222222,
             "#7201a8"
            ],
            [
             0.3333333333333333,
             "#9c179e"
            ],
            [
             0.4444444444444444,
             "#bd3786"
            ],
            [
             0.5555555555555556,
             "#d8576b"
            ],
            [
             0.6666666666666666,
             "#ed7953"
            ],
            [
             0.7777777777777778,
             "#fb9f3a"
            ],
            [
             0.8888888888888888,
             "#fdca26"
            ],
            [
             1,
             "#f0f921"
            ]
           ],
           "sequentialminus": [
            [
             0,
             "#0d0887"
            ],
            [
             0.1111111111111111,
             "#46039f"
            ],
            [
             0.2222222222222222,
             "#7201a8"
            ],
            [
             0.3333333333333333,
             "#9c179e"
            ],
            [
             0.4444444444444444,
             "#bd3786"
            ],
            [
             0.5555555555555556,
             "#d8576b"
            ],
            [
             0.6666666666666666,
             "#ed7953"
            ],
            [
             0.7777777777777778,
             "#fb9f3a"
            ],
            [
             0.8888888888888888,
             "#fdca26"
            ],
            [
             1,
             "#f0f921"
            ]
           ]
          },
          "colorway": [
           "#636efa",
           "#EF553B",
           "#00cc96",
           "#ab63fa",
           "#FFA15A",
           "#19d3f3",
           "#FF6692",
           "#B6E880",
           "#FF97FF",
           "#FECB52"
          ],
          "font": {
           "color": "#2a3f5f"
          },
          "geo": {
           "bgcolor": "white",
           "lakecolor": "white",
           "landcolor": "white",
           "showlakes": true,
           "showland": true,
           "subunitcolor": "#C8D4E3"
          },
          "hoverlabel": {
           "align": "left"
          },
          "hovermode": "closest",
          "mapbox": {
           "style": "light"
          },
          "paper_bgcolor": "white",
          "plot_bgcolor": "white",
          "polar": {
           "angularaxis": {
            "gridcolor": "#EBF0F8",
            "linecolor": "#EBF0F8",
            "ticks": ""
           },
           "bgcolor": "white",
           "radialaxis": {
            "gridcolor": "#EBF0F8",
            "linecolor": "#EBF0F8",
            "ticks": ""
           }
          },
          "scene": {
           "xaxis": {
            "backgroundcolor": "white",
            "gridcolor": "#DFE8F3",
            "gridwidth": 2,
            "linecolor": "#EBF0F8",
            "showbackground": true,
            "ticks": "",
            "zerolinecolor": "#EBF0F8"
           },
           "yaxis": {
            "backgroundcolor": "white",
            "gridcolor": "#DFE8F3",
            "gridwidth": 2,
            "linecolor": "#EBF0F8",
            "showbackground": true,
            "ticks": "",
            "zerolinecolor": "#EBF0F8"
           },
           "zaxis": {
            "backgroundcolor": "white",
            "gridcolor": "#DFE8F3",
            "gridwidth": 2,
            "linecolor": "#EBF0F8",
            "showbackground": true,
            "ticks": "",
            "zerolinecolor": "#EBF0F8"
           }
          },
          "shapedefaults": {
           "line": {
            "color": "#2a3f5f"
           }
          },
          "ternary": {
           "aaxis": {
            "gridcolor": "#DFE8F3",
            "linecolor": "#A2B1C6",
            "ticks": ""
           },
           "baxis": {
            "gridcolor": "#DFE8F3",
            "linecolor": "#A2B1C6",
            "ticks": ""
           },
           "bgcolor": "white",
           "caxis": {
            "gridcolor": "#DFE8F3",
            "linecolor": "#A2B1C6",
            "ticks": ""
           }
          },
          "title": {
           "x": 0.05
          },
          "xaxis": {
           "automargin": true,
           "gridcolor": "#EBF0F8",
           "linecolor": "#EBF0F8",
           "ticks": "",
           "title": {
            "standoff": 15
           },
           "zerolinecolor": "#EBF0F8",
           "zerolinewidth": 2
          },
          "yaxis": {
           "automargin": true,
           "gridcolor": "#EBF0F8",
           "linecolor": "#EBF0F8",
           "ticks": "",
           "title": {
            "standoff": 15
           },
           "zerolinecolor": "#EBF0F8",
           "zerolinewidth": 2
          }
         }
        },
        "xaxis": {
         "anchor": "y",
         "domain": [
          0,
          1
         ],
         "title": {
          "text": "Time"
         }
        },
        "yaxis": {
         "anchor": "x",
         "domain": [
          0,
          1
         ],
         "title": {
          "text": "count"
         }
        }
       }
      }
     },
     "metadata": {},
     "output_type": "display_data"
    },
    {
     "data": {
      "application/vnd.plotly.v1+json": {
       "config": {
        "plotlyServerURL": "https://plot.ly"
       },
       "data": [
        {
         "bingroup": "x",
         "hovertemplate": "Payment=%{x}<br>count=%{y}<extra></extra>",
         "legendgroup": "",
         "marker": {
          "color": "#636efa",
          "pattern": {
           "shape": ""
          }
         },
         "name": "",
         "orientation": "v",
         "showlegend": false,
         "type": "histogram",
         "x": [
          "Ewallet",
          "Cash",
          "Credit card",
          "Ewallet",
          "Ewallet",
          "Ewallet",
          "Ewallet",
          "Ewallet",
          "Credit card",
          "Credit card",
          "Ewallet",
          "Cash",
          "Ewallet",
          "Ewallet",
          "Cash",
          "Cash",
          "Credit card",
          "Credit card",
          "Credit card",
          "Ewallet",
          "Ewallet",
          "Ewallet",
          "Credit card",
          "Ewallet",
          "Ewallet",
          "Credit card",
          "Cash",
          "Credit card",
          "Cash",
          "Cash",
          "Credit card",
          "Cash",
          "Cash",
          "Credit card",
          "Ewallet",
          "Ewallet",
          "Ewallet",
          "Ewallet",
          "Ewallet",
          "Cash",
          "Ewallet",
          "Cash",
          "Cash",
          "Cash",
          "Cash",
          "Cash",
          "Credit card",
          "Ewallet",
          "Credit card",
          "Ewallet",
          "Cash",
          "Cash",
          "Ewallet",
          "Credit card",
          "Ewallet",
          "Cash",
          "Cash",
          "Ewallet",
          "Cash",
          "Cash",
          "Credit card",
          "Ewallet",
          "Ewallet",
          "Credit card",
          "Cash",
          "Cash",
          "Ewallet",
          "Ewallet",
          "Cash",
          "Cash",
          "Credit card",
          "Cash",
          "Ewallet",
          "Cash",
          "Ewallet",
          "Credit card",
          "Credit card",
          "Credit card",
          "Ewallet",
          "Cash",
          "Credit card",
          "Ewallet",
          "Ewallet",
          "Credit card",
          "Cash",
          "Ewallet",
          "Cash",
          "Credit card",
          "Cash",
          "Cash",
          "Cash",
          "Ewallet",
          "Ewallet",
          "Credit card",
          "Credit card",
          "Ewallet",
          "Ewallet",
          "Cash",
          "Ewallet",
          "Cash",
          "Cash",
          "Cash",
          "Cash",
          "Cash",
          "Cash",
          "Ewallet",
          "Credit card",
          "Cash",
          "Cash",
          "Cash",
          "Ewallet",
          "Credit card",
          "Cash",
          "Ewallet",
          "Credit card",
          "Credit card",
          "Ewallet",
          "Ewallet",
          "Ewallet",
          "Ewallet",
          "Credit card",
          "Credit card",
          "Credit card",
          "Credit card",
          "Ewallet",
          "Credit card",
          "Cash",
          "Credit card",
          "Ewallet",
          "Ewallet",
          "Cash",
          "Cash",
          "Cash",
          "Credit card",
          "Ewallet",
          "Cash",
          "Credit card",
          "Cash",
          "Cash",
          "Ewallet",
          "Credit card",
          "Cash",
          "Cash",
          "Credit card",
          "Ewallet",
          "Credit card",
          "Ewallet",
          "Credit card",
          "Credit card",
          "Credit card",
          "Credit card",
          "Credit card",
          "Credit card",
          "Ewallet",
          "Cash",
          "Credit card",
          "Cash",
          "Ewallet",
          "Ewallet",
          "Ewallet",
          "Credit card",
          "Cash",
          "Credit card",
          "Ewallet",
          "Credit card",
          "Ewallet",
          "Cash",
          "Credit card",
          "Cash",
          "Credit card",
          "Ewallet",
          "Credit card",
          "Cash",
          "Credit card",
          "Ewallet",
          "Ewallet",
          "Credit card",
          "Credit card",
          "Ewallet",
          "Ewallet",
          "Cash",
          "Cash",
          "Ewallet",
          "Ewallet",
          "Credit card",
          "Ewallet",
          "Ewallet",
          "Cash",
          "Ewallet",
          "Credit card",
          "Credit card",
          "Ewallet",
          "Cash",
          "Ewallet",
          "Credit card",
          "Cash",
          "Cash",
          "Ewallet",
          "Credit card",
          "Credit card",
          "Credit card",
          "Cash",
          "Cash",
          "Ewallet",
          "Credit card",
          "Ewallet",
          "Credit card",
          "Ewallet",
          "Ewallet",
          "Credit card",
          "Ewallet",
          "Cash",
          "Ewallet",
          "Credit card",
          "Cash",
          "Credit card",
          "Cash",
          "Cash",
          "Ewallet",
          "Credit card",
          "Ewallet",
          "Ewallet",
          "Cash",
          "Cash",
          "Cash",
          "Credit card",
          "Ewallet",
          "Ewallet",
          "Cash",
          "Ewallet",
          "Cash",
          "Credit card",
          "Cash",
          "Cash",
          "Ewallet",
          "Ewallet",
          "Credit card",
          "Credit card",
          "Cash",
          "Ewallet",
          "Credit card",
          "Credit card",
          "Credit card",
          "Cash",
          "Credit card",
          "Cash",
          "Cash",
          "Ewallet",
          "Credit card",
          "Credit card",
          "Ewallet",
          "Credit card",
          "Credit card",
          "Cash",
          "Cash",
          "Cash",
          "Credit card",
          "Ewallet",
          "Ewallet",
          "Credit card",
          "Ewallet",
          "Ewallet",
          "Cash",
          "Cash",
          "Ewallet",
          "Credit card",
          "Credit card",
          "Cash",
          "Credit card",
          "Ewallet",
          "Ewallet",
          "Cash",
          "Credit card",
          "Cash",
          "Ewallet",
          "Cash",
          "Cash",
          "Ewallet",
          "Cash",
          "Credit card",
          "Credit card",
          "Credit card",
          "Cash",
          "Ewallet",
          "Cash",
          "Cash",
          "Cash",
          "Cash",
          "Credit card",
          "Cash",
          "Credit card",
          "Ewallet",
          "Cash",
          "Cash",
          "Ewallet",
          "Cash",
          "Cash",
          "Ewallet",
          "Cash",
          "Cash",
          "Credit card",
          "Credit card",
          "Cash",
          "Credit card",
          "Cash",
          "Ewallet",
          "Cash",
          "Cash",
          "Ewallet",
          "Cash",
          "Cash",
          "Ewallet",
          "Credit card",
          "Cash",
          "Cash",
          "Cash",
          "Cash",
          "Cash",
          "Credit card",
          "Ewallet",
          "Cash",
          "Cash",
          "Ewallet",
          "Cash",
          "Credit card",
          "Ewallet",
          "Cash",
          "Cash",
          "Credit card",
          "Cash",
          "Cash",
          "Credit card",
          "Cash",
          "Credit card",
          "Ewallet",
          "Credit card",
          "Ewallet",
          "Cash",
          "Credit card",
          "Credit card",
          "Credit card",
          "Ewallet",
          "Cash",
          "Ewallet",
          "Cash",
          "Ewallet",
          "Cash",
          "Cash",
          "Cash",
          "Credit card",
          "Credit card",
          "Cash",
          "Credit card",
          "Cash",
          "Cash",
          "Credit card",
          "Credit card",
          "Cash",
          "Ewallet",
          "Cash",
          "Credit card",
          "Cash",
          "Ewallet",
          "Cash",
          "Cash",
          "Cash",
          "Cash",
          "Cash",
          "Cash",
          "Credit card",
          "Cash",
          "Credit card",
          "Ewallet",
          "Cash",
          "Credit card",
          "Ewallet",
          "Credit card",
          "Ewallet",
          "Ewallet",
          "Credit card",
          "Credit card",
          "Cash",
          "Cash",
          "Ewallet",
          "Ewallet",
          "Cash",
          "Cash",
          "Credit card",
          "Ewallet",
          "Credit card",
          "Cash",
          "Cash",
          "Ewallet",
          "Credit card",
          "Ewallet",
          "Ewallet",
          "Ewallet",
          "Cash",
          "Credit card",
          "Cash",
          "Credit card",
          "Credit card",
          "Ewallet",
          "Ewallet",
          "Ewallet",
          "Credit card",
          "Credit card",
          "Cash",
          "Ewallet",
          "Ewallet",
          "Cash",
          "Ewallet",
          "Cash",
          "Ewallet",
          "Ewallet",
          "Ewallet",
          "Credit card",
          "Ewallet",
          "Ewallet",
          "Cash",
          "Ewallet",
          "Cash",
          "Credit card",
          "Credit card",
          "Cash",
          "Cash",
          "Cash",
          "Credit card",
          "Cash",
          "Ewallet",
          "Credit card",
          "Ewallet",
          "Ewallet",
          "Credit card",
          "Credit card",
          "Ewallet",
          "Ewallet",
          "Credit card",
          "Ewallet",
          "Credit card",
          "Cash",
          "Credit card",
          "Credit card",
          "Ewallet",
          "Cash",
          "Credit card",
          "Credit card",
          "Credit card",
          "Credit card",
          "Credit card",
          "Cash",
          "Cash",
          "Ewallet",
          "Ewallet",
          "Cash",
          "Cash",
          "Credit card",
          "Cash",
          "Cash",
          "Credit card",
          "Cash",
          "Credit card",
          "Cash",
          "Cash",
          "Credit card",
          "Credit card",
          "Credit card",
          "Cash",
          "Ewallet",
          "Cash",
          "Ewallet",
          "Cash",
          "Credit card",
          "Cash",
          "Cash",
          "Credit card",
          "Credit card",
          "Ewallet",
          "Ewallet",
          "Ewallet",
          "Cash",
          "Cash",
          "Ewallet",
          "Cash",
          "Credit card",
          "Ewallet",
          "Cash",
          "Ewallet",
          "Cash",
          "Ewallet",
          "Ewallet",
          "Credit card",
          "Ewallet",
          "Credit card",
          "Ewallet",
          "Cash",
          "Cash",
          "Cash",
          "Cash",
          "Cash",
          "Credit card",
          "Ewallet",
          "Ewallet",
          "Cash",
          "Credit card",
          "Ewallet",
          "Cash",
          "Credit card",
          "Cash",
          "Credit card",
          "Credit card",
          "Ewallet",
          "Ewallet",
          "Cash",
          "Credit card",
          "Ewallet",
          "Ewallet",
          "Credit card",
          "Ewallet",
          "Credit card",
          "Credit card",
          "Cash",
          "Credit card",
          "Cash",
          "Credit card",
          "Ewallet",
          "Credit card",
          "Ewallet",
          "Credit card",
          "Cash",
          "Ewallet",
          "Credit card",
          "Ewallet",
          "Ewallet",
          "Ewallet",
          "Ewallet",
          "Credit card",
          "Ewallet",
          "Credit card",
          "Ewallet",
          "Ewallet",
          "Credit card",
          "Credit card",
          "Credit card",
          "Credit card",
          "Ewallet",
          "Ewallet",
          "Credit card",
          "Cash",
          "Cash",
          "Ewallet",
          "Cash",
          "Cash",
          "Credit card",
          "Cash",
          "Credit card",
          "Cash",
          "Ewallet",
          "Ewallet",
          "Ewallet",
          "Cash",
          "Credit card",
          "Ewallet",
          "Ewallet",
          "Cash",
          "Credit card",
          "Credit card",
          "Cash",
          "Credit card",
          "Ewallet",
          "Credit card",
          "Cash",
          "Ewallet",
          "Credit card",
          "Credit card",
          "Ewallet",
          "Cash",
          "Ewallet",
          "Cash",
          "Ewallet",
          "Cash",
          "Cash",
          "Credit card",
          "Credit card",
          "Ewallet",
          "Credit card",
          "Cash",
          "Ewallet",
          "Cash",
          "Cash",
          "Credit card",
          "Ewallet",
          "Cash",
          "Ewallet",
          "Cash",
          "Credit card",
          "Credit card",
          "Ewallet",
          "Cash",
          "Ewallet",
          "Ewallet",
          "Credit card",
          "Ewallet",
          "Ewallet",
          "Cash",
          "Cash",
          "Ewallet",
          "Credit card",
          "Ewallet",
          "Ewallet",
          "Credit card",
          "Cash",
          "Cash",
          "Credit card",
          "Ewallet",
          "Ewallet",
          "Cash",
          "Ewallet",
          "Credit card",
          "Ewallet",
          "Credit card",
          "Cash",
          "Credit card",
          "Credit card",
          "Cash",
          "Cash",
          "Ewallet",
          "Cash",
          "Ewallet",
          "Credit card",
          "Credit card",
          "Ewallet",
          "Credit card",
          "Ewallet",
          "Credit card",
          "Credit card",
          "Credit card",
          "Cash",
          "Cash",
          "Ewallet",
          "Ewallet",
          "Ewallet",
          "Ewallet",
          "Credit card",
          "Ewallet",
          "Ewallet",
          "Cash",
          "Cash",
          "Cash",
          "Cash",
          "Ewallet",
          "Cash",
          "Cash",
          "Ewallet",
          "Credit card",
          "Credit card",
          "Credit card",
          "Ewallet",
          "Cash",
          "Credit card",
          "Cash",
          "Credit card",
          "Credit card",
          "Credit card",
          "Cash",
          "Ewallet",
          "Ewallet",
          "Ewallet",
          "Ewallet",
          "Credit card",
          "Ewallet",
          "Cash",
          "Ewallet",
          "Credit card",
          "Credit card",
          "Cash",
          "Credit card",
          "Cash",
          "Ewallet",
          "Ewallet",
          "Cash",
          "Credit card",
          "Ewallet",
          "Ewallet",
          "Ewallet",
          "Credit card",
          "Credit card",
          "Cash",
          "Cash",
          "Cash",
          "Cash",
          "Ewallet",
          "Cash",
          "Cash",
          "Cash",
          "Cash",
          "Ewallet",
          "Ewallet",
          "Credit card",
          "Ewallet",
          "Ewallet",
          "Credit card",
          "Credit card",
          "Cash",
          "Cash",
          "Cash",
          "Ewallet",
          "Cash",
          "Ewallet",
          "Ewallet",
          "Cash",
          "Ewallet",
          "Ewallet",
          "Ewallet",
          "Ewallet",
          "Credit card",
          "Ewallet",
          "Credit card",
          "Credit card",
          "Credit card",
          "Cash",
          "Cash",
          "Credit card",
          "Cash",
          "Ewallet",
          "Cash",
          "Credit card",
          "Credit card",
          "Ewallet",
          "Cash",
          "Credit card",
          "Ewallet",
          "Ewallet",
          "Ewallet",
          "Ewallet",
          "Credit card",
          "Credit card",
          "Ewallet",
          "Ewallet",
          "Cash",
          "Cash",
          "Ewallet",
          "Ewallet",
          "Ewallet",
          "Credit card",
          "Cash",
          "Credit card",
          "Credit card",
          "Credit card",
          "Cash",
          "Ewallet",
          "Credit card",
          "Ewallet",
          "Ewallet",
          "Ewallet",
          "Credit card",
          "Ewallet",
          "Cash",
          "Ewallet",
          "Ewallet",
          "Credit card",
          "Credit card",
          "Ewallet",
          "Ewallet",
          "Credit card",
          "Ewallet",
          "Credit card",
          "Cash",
          "Cash",
          "Cash",
          "Ewallet",
          "Credit card",
          "Ewallet",
          "Credit card",
          "Cash",
          "Credit card",
          "Credit card",
          "Cash",
          "Cash",
          "Ewallet",
          "Cash",
          "Ewallet",
          "Credit card",
          "Cash",
          "Ewallet",
          "Credit card",
          "Ewallet",
          "Credit card",
          "Credit card",
          "Ewallet",
          "Credit card",
          "Credit card",
          "Credit card",
          "Credit card",
          "Credit card",
          "Ewallet",
          "Cash",
          "Cash",
          "Credit card",
          "Ewallet",
          "Ewallet",
          "Ewallet",
          "Ewallet",
          "Cash",
          "Cash",
          "Cash",
          "Credit card",
          "Cash",
          "Cash",
          "Ewallet",
          "Ewallet",
          "Credit card",
          "Credit card",
          "Cash",
          "Cash",
          "Ewallet",
          "Cash",
          "Ewallet",
          "Credit card",
          "Credit card",
          "Ewallet",
          "Credit card",
          "Cash",
          "Cash",
          "Credit card",
          "Credit card",
          "Credit card",
          "Credit card",
          "Cash",
          "Credit card",
          "Cash",
          "Cash",
          "Cash",
          "Ewallet",
          "Ewallet",
          "Cash",
          "Ewallet",
          "Credit card",
          "Cash",
          "Ewallet",
          "Cash",
          "Cash",
          "Credit card",
          "Credit card",
          "Cash",
          "Credit card",
          "Ewallet",
          "Credit card",
          "Cash",
          "Cash",
          "Cash",
          "Ewallet",
          "Ewallet",
          "Ewallet",
          "Ewallet",
          "Cash",
          "Cash",
          "Cash",
          "Cash",
          "Cash",
          "Ewallet",
          "Ewallet",
          "Credit card",
          "Cash",
          "Cash",
          "Ewallet",
          "Credit card",
          "Ewallet",
          "Credit card",
          "Ewallet",
          "Credit card",
          "Ewallet",
          "Cash",
          "Cash",
          "Credit card",
          "Ewallet",
          "Cash",
          "Cash",
          "Credit card",
          "Ewallet",
          "Ewallet",
          "Credit card",
          "Credit card",
          "Ewallet",
          "Cash",
          "Cash",
          "Ewallet",
          "Ewallet",
          "Ewallet",
          "Ewallet",
          "Cash",
          "Cash",
          "Credit card",
          "Cash",
          "Credit card",
          "Credit card",
          "Ewallet",
          "Cash",
          "Cash",
          "Ewallet",
          "Credit card",
          "Ewallet",
          "Credit card",
          "Cash",
          "Ewallet",
          "Cash",
          "Credit card",
          "Credit card",
          "Ewallet",
          "Credit card",
          "Credit card",
          "Ewallet",
          "Cash",
          "Ewallet",
          "Cash",
          "Cash",
          "Credit card",
          "Cash",
          "Ewallet",
          "Ewallet",
          "Credit card",
          "Cash",
          "Credit card",
          "Credit card",
          "Ewallet",
          "Ewallet",
          "Credit card",
          "Credit card",
          "Credit card",
          "Ewallet",
          "Ewallet",
          "Credit card",
          "Ewallet",
          "Ewallet",
          "Ewallet",
          "Ewallet",
          "Ewallet",
          "Cash",
          "Cash",
          "Ewallet",
          "Ewallet",
          "Cash",
          "Ewallet",
          "Credit card",
          "Cash",
          "Credit card",
          "Credit card",
          "Ewallet",
          "Ewallet",
          "Ewallet",
          "Ewallet",
          "Ewallet",
          "Ewallet",
          "Cash",
          "Cash",
          "Cash",
          "Cash",
          "Cash",
          "Cash",
          "Cash",
          "Cash",
          "Cash",
          "Credit card",
          "Cash",
          "Credit card",
          "Credit card",
          "Ewallet",
          "Credit card",
          "Cash",
          "Credit card",
          "Credit card",
          "Ewallet",
          "Cash",
          "Cash",
          "Cash",
          "Credit card",
          "Cash",
          "Ewallet",
          "Credit card",
          "Credit card",
          "Cash",
          "Cash",
          "Ewallet",
          "Cash",
          "Cash",
          "Ewallet",
          "Ewallet",
          "Credit card",
          "Ewallet",
          "Credit card",
          "Credit card",
          "Ewallet",
          "Ewallet",
          "Ewallet",
          "Ewallet",
          "Ewallet",
          "Ewallet",
          "Cash",
          "Cash",
          "Cash"
         ],
         "xaxis": "x",
         "yaxis": "y"
        }
       ],
       "layout": {
        "barmode": "relative",
        "legend": {
         "tracegroupgap": 0
        },
        "margin": {
         "t": 60
        },
        "template": {
         "data": {
          "bar": [
           {
            "error_x": {
             "color": "#2a3f5f"
            },
            "error_y": {
             "color": "#2a3f5f"
            },
            "marker": {
             "line": {
              "color": "white",
              "width": 0.5
             },
             "pattern": {
              "fillmode": "overlay",
              "size": 10,
              "solidity": 0.2
             }
            },
            "type": "bar"
           }
          ],
          "barpolar": [
           {
            "marker": {
             "line": {
              "color": "white",
              "width": 0.5
             },
             "pattern": {
              "fillmode": "overlay",
              "size": 10,
              "solidity": 0.2
             }
            },
            "type": "barpolar"
           }
          ],
          "carpet": [
           {
            "aaxis": {
             "endlinecolor": "#2a3f5f",
             "gridcolor": "#C8D4E3",
             "linecolor": "#C8D4E3",
             "minorgridcolor": "#C8D4E3",
             "startlinecolor": "#2a3f5f"
            },
            "baxis": {
             "endlinecolor": "#2a3f5f",
             "gridcolor": "#C8D4E3",
             "linecolor": "#C8D4E3",
             "minorgridcolor": "#C8D4E3",
             "startlinecolor": "#2a3f5f"
            },
            "type": "carpet"
           }
          ],
          "choropleth": [
           {
            "colorbar": {
             "outlinewidth": 0,
             "ticks": ""
            },
            "type": "choropleth"
           }
          ],
          "contour": [
           {
            "colorbar": {
             "outlinewidth": 0,
             "ticks": ""
            },
            "colorscale": [
             [
              0,
              "#0d0887"
             ],
             [
              0.1111111111111111,
              "#46039f"
             ],
             [
              0.2222222222222222,
              "#7201a8"
             ],
             [
              0.3333333333333333,
              "#9c179e"
             ],
             [
              0.4444444444444444,
              "#bd3786"
             ],
             [
              0.5555555555555556,
              "#d8576b"
             ],
             [
              0.6666666666666666,
              "#ed7953"
             ],
             [
              0.7777777777777778,
              "#fb9f3a"
             ],
             [
              0.8888888888888888,
              "#fdca26"
             ],
             [
              1,
              "#f0f921"
             ]
            ],
            "type": "contour"
           }
          ],
          "contourcarpet": [
           {
            "colorbar": {
             "outlinewidth": 0,
             "ticks": ""
            },
            "type": "contourcarpet"
           }
          ],
          "heatmap": [
           {
            "colorbar": {
             "outlinewidth": 0,
             "ticks": ""
            },
            "colorscale": [
             [
              0,
              "#0d0887"
             ],
             [
              0.1111111111111111,
              "#46039f"
             ],
             [
              0.2222222222222222,
              "#7201a8"
             ],
             [
              0.3333333333333333,
              "#9c179e"
             ],
             [
              0.4444444444444444,
              "#bd3786"
             ],
             [
              0.5555555555555556,
              "#d8576b"
             ],
             [
              0.6666666666666666,
              "#ed7953"
             ],
             [
              0.7777777777777778,
              "#fb9f3a"
             ],
             [
              0.8888888888888888,
              "#fdca26"
             ],
             [
              1,
              "#f0f921"
             ]
            ],
            "type": "heatmap"
           }
          ],
          "histogram": [
           {
            "marker": {
             "pattern": {
              "fillmode": "overlay",
              "size": 10,
              "solidity": 0.2
             }
            },
            "type": "histogram"
           }
          ],
          "histogram2d": [
           {
            "colorbar": {
             "outlinewidth": 0,
             "ticks": ""
            },
            "colorscale": [
             [
              0,
              "#0d0887"
             ],
             [
              0.1111111111111111,
              "#46039f"
             ],
             [
              0.2222222222222222,
              "#7201a8"
             ],
             [
              0.3333333333333333,
              "#9c179e"
             ],
             [
              0.4444444444444444,
              "#bd3786"
             ],
             [
              0.5555555555555556,
              "#d8576b"
             ],
             [
              0.6666666666666666,
              "#ed7953"
             ],
             [
              0.7777777777777778,
              "#fb9f3a"
             ],
             [
              0.8888888888888888,
              "#fdca26"
             ],
             [
              1,
              "#f0f921"
             ]
            ],
            "type": "histogram2d"
           }
          ],
          "histogram2dcontour": [
           {
            "colorbar": {
             "outlinewidth": 0,
             "ticks": ""
            },
            "colorscale": [
             [
              0,
              "#0d0887"
             ],
             [
              0.1111111111111111,
              "#46039f"
             ],
             [
              0.2222222222222222,
              "#7201a8"
             ],
             [
              0.3333333333333333,
              "#9c179e"
             ],
             [
              0.4444444444444444,
              "#bd3786"
             ],
             [
              0.5555555555555556,
              "#d8576b"
             ],
             [
              0.6666666666666666,
              "#ed7953"
             ],
             [
              0.7777777777777778,
              "#fb9f3a"
             ],
             [
              0.8888888888888888,
              "#fdca26"
             ],
             [
              1,
              "#f0f921"
             ]
            ],
            "type": "histogram2dcontour"
           }
          ],
          "mesh3d": [
           {
            "colorbar": {
             "outlinewidth": 0,
             "ticks": ""
            },
            "type": "mesh3d"
           }
          ],
          "parcoords": [
           {
            "line": {
             "colorbar": {
              "outlinewidth": 0,
              "ticks": ""
             }
            },
            "type": "parcoords"
           }
          ],
          "pie": [
           {
            "automargin": true,
            "type": "pie"
           }
          ],
          "scatter": [
           {
            "fillpattern": {
             "fillmode": "overlay",
             "size": 10,
             "solidity": 0.2
            },
            "type": "scatter"
           }
          ],
          "scatter3d": [
           {
            "line": {
             "colorbar": {
              "outlinewidth": 0,
              "ticks": ""
             }
            },
            "marker": {
             "colorbar": {
              "outlinewidth": 0,
              "ticks": ""
             }
            },
            "type": "scatter3d"
           }
          ],
          "scattercarpet": [
           {
            "marker": {
             "colorbar": {
              "outlinewidth": 0,
              "ticks": ""
             }
            },
            "type": "scattercarpet"
           }
          ],
          "scattergeo": [
           {
            "marker": {
             "colorbar": {
              "outlinewidth": 0,
              "ticks": ""
             }
            },
            "type": "scattergeo"
           }
          ],
          "scattergl": [
           {
            "marker": {
             "colorbar": {
              "outlinewidth": 0,
              "ticks": ""
             }
            },
            "type": "scattergl"
           }
          ],
          "scattermap": [
           {
            "marker": {
             "colorbar": {
              "outlinewidth": 0,
              "ticks": ""
             }
            },
            "type": "scattermap"
           }
          ],
          "scattermapbox": [
           {
            "marker": {
             "colorbar": {
              "outlinewidth": 0,
              "ticks": ""
             }
            },
            "type": "scattermapbox"
           }
          ],
          "scatterpolar": [
           {
            "marker": {
             "colorbar": {
              "outlinewidth": 0,
              "ticks": ""
             }
            },
            "type": "scatterpolar"
           }
          ],
          "scatterpolargl": [
           {
            "marker": {
             "colorbar": {
              "outlinewidth": 0,
              "ticks": ""
             }
            },
            "type": "scatterpolargl"
           }
          ],
          "scatterternary": [
           {
            "marker": {
             "colorbar": {
              "outlinewidth": 0,
              "ticks": ""
             }
            },
            "type": "scatterternary"
           }
          ],
          "surface": [
           {
            "colorbar": {
             "outlinewidth": 0,
             "ticks": ""
            },
            "colorscale": [
             [
              0,
              "#0d0887"
             ],
             [
              0.1111111111111111,
              "#46039f"
             ],
             [
              0.2222222222222222,
              "#7201a8"
             ],
             [
              0.3333333333333333,
              "#9c179e"
             ],
             [
              0.4444444444444444,
              "#bd3786"
             ],
             [
              0.5555555555555556,
              "#d8576b"
             ],
             [
              0.6666666666666666,
              "#ed7953"
             ],
             [
              0.7777777777777778,
              "#fb9f3a"
             ],
             [
              0.8888888888888888,
              "#fdca26"
             ],
             [
              1,
              "#f0f921"
             ]
            ],
            "type": "surface"
           }
          ],
          "table": [
           {
            "cells": {
             "fill": {
              "color": "#EBF0F8"
             },
             "line": {
              "color": "white"
             }
            },
            "header": {
             "fill": {
              "color": "#C8D4E3"
             },
             "line": {
              "color": "white"
             }
            },
            "type": "table"
           }
          ]
         },
         "layout": {
          "annotationdefaults": {
           "arrowcolor": "#2a3f5f",
           "arrowhead": 0,
           "arrowwidth": 1
          },
          "autotypenumbers": "strict",
          "coloraxis": {
           "colorbar": {
            "outlinewidth": 0,
            "ticks": ""
           }
          },
          "colorscale": {
           "diverging": [
            [
             0,
             "#8e0152"
            ],
            [
             0.1,
             "#c51b7d"
            ],
            [
             0.2,
             "#de77ae"
            ],
            [
             0.3,
             "#f1b6da"
            ],
            [
             0.4,
             "#fde0ef"
            ],
            [
             0.5,
             "#f7f7f7"
            ],
            [
             0.6,
             "#e6f5d0"
            ],
            [
             0.7,
             "#b8e186"
            ],
            [
             0.8,
             "#7fbc41"
            ],
            [
             0.9,
             "#4d9221"
            ],
            [
             1,
             "#276419"
            ]
           ],
           "sequential": [
            [
             0,
             "#0d0887"
            ],
            [
             0.1111111111111111,
             "#46039f"
            ],
            [
             0.2222222222222222,
             "#7201a8"
            ],
            [
             0.3333333333333333,
             "#9c179e"
            ],
            [
             0.4444444444444444,
             "#bd3786"
            ],
            [
             0.5555555555555556,
             "#d8576b"
            ],
            [
             0.6666666666666666,
             "#ed7953"
            ],
            [
             0.7777777777777778,
             "#fb9f3a"
            ],
            [
             0.8888888888888888,
             "#fdca26"
            ],
            [
             1,
             "#f0f921"
            ]
           ],
           "sequentialminus": [
            [
             0,
             "#0d0887"
            ],
            [
             0.1111111111111111,
             "#46039f"
            ],
            [
             0.2222222222222222,
             "#7201a8"
            ],
            [
             0.3333333333333333,
             "#9c179e"
            ],
            [
             0.4444444444444444,
             "#bd3786"
            ],
            [
             0.5555555555555556,
             "#d8576b"
            ],
            [
             0.6666666666666666,
             "#ed7953"
            ],
            [
             0.7777777777777778,
             "#fb9f3a"
            ],
            [
             0.8888888888888888,
             "#fdca26"
            ],
            [
             1,
             "#f0f921"
            ]
           ]
          },
          "colorway": [
           "#636efa",
           "#EF553B",
           "#00cc96",
           "#ab63fa",
           "#FFA15A",
           "#19d3f3",
           "#FF6692",
           "#B6E880",
           "#FF97FF",
           "#FECB52"
          ],
          "font": {
           "color": "#2a3f5f"
          },
          "geo": {
           "bgcolor": "white",
           "lakecolor": "white",
           "landcolor": "white",
           "showlakes": true,
           "showland": true,
           "subunitcolor": "#C8D4E3"
          },
          "hoverlabel": {
           "align": "left"
          },
          "hovermode": "closest",
          "mapbox": {
           "style": "light"
          },
          "paper_bgcolor": "white",
          "plot_bgcolor": "white",
          "polar": {
           "angularaxis": {
            "gridcolor": "#EBF0F8",
            "linecolor": "#EBF0F8",
            "ticks": ""
           },
           "bgcolor": "white",
           "radialaxis": {
            "gridcolor": "#EBF0F8",
            "linecolor": "#EBF0F8",
            "ticks": ""
           }
          },
          "scene": {
           "xaxis": {
            "backgroundcolor": "white",
            "gridcolor": "#DFE8F3",
            "gridwidth": 2,
            "linecolor": "#EBF0F8",
            "showbackground": true,
            "ticks": "",
            "zerolinecolor": "#EBF0F8"
           },
           "yaxis": {
            "backgroundcolor": "white",
            "gridcolor": "#DFE8F3",
            "gridwidth": 2,
            "linecolor": "#EBF0F8",
            "showbackground": true,
            "ticks": "",
            "zerolinecolor": "#EBF0F8"
           },
           "zaxis": {
            "backgroundcolor": "white",
            "gridcolor": "#DFE8F3",
            "gridwidth": 2,
            "linecolor": "#EBF0F8",
            "showbackground": true,
            "ticks": "",
            "zerolinecolor": "#EBF0F8"
           }
          },
          "shapedefaults": {
           "line": {
            "color": "#2a3f5f"
           }
          },
          "ternary": {
           "aaxis": {
            "gridcolor": "#DFE8F3",
            "linecolor": "#A2B1C6",
            "ticks": ""
           },
           "baxis": {
            "gridcolor": "#DFE8F3",
            "linecolor": "#A2B1C6",
            "ticks": ""
           },
           "bgcolor": "white",
           "caxis": {
            "gridcolor": "#DFE8F3",
            "linecolor": "#A2B1C6",
            "ticks": ""
           }
          },
          "title": {
           "x": 0.05
          },
          "xaxis": {
           "automargin": true,
           "gridcolor": "#EBF0F8",
           "linecolor": "#EBF0F8",
           "ticks": "",
           "title": {
            "standoff": 15
           },
           "zerolinecolor": "#EBF0F8",
           "zerolinewidth": 2
          },
          "yaxis": {
           "automargin": true,
           "gridcolor": "#EBF0F8",
           "linecolor": "#EBF0F8",
           "ticks": "",
           "title": {
            "standoff": 15
           },
           "zerolinecolor": "#EBF0F8",
           "zerolinewidth": 2
          }
         }
        },
        "xaxis": {
         "anchor": "y",
         "domain": [
          0,
          1
         ],
         "title": {
          "text": "Payment"
         }
        },
        "yaxis": {
         "anchor": "x",
         "domain": [
          0,
          1
         ],
         "title": {
          "text": "count"
         }
        }
       }
      }
     },
     "metadata": {},
     "output_type": "display_data"
    }
   ],
   "source": [
    "for col in cat_col:\n",
    "    fig1=px.histogram(data_frame=df,x=col)\n",
    "    fig1.show()"
   ]
  },
  {
   "cell_type": "code",
   "execution_count": 15,
   "id": "9194f9a8",
   "metadata": {},
   "outputs": [
    {
     "data": {
      "application/vnd.plotly.v1+json": {
       "config": {
        "plotlyServerURL": "https://plot.ly"
       },
       "data": [
        {
         "bingroup": "x",
         "hovertemplate": "Branch=%{x}<br>count=%{y}<extra></extra>",
         "legendgroup": "",
         "marker": {
          "color": "#636efa",
          "pattern": {
           "shape": ""
          }
         },
         "name": "",
         "orientation": "v",
         "showlegend": false,
         "texttemplate": "%{value}",
         "type": "histogram",
         "x": [
          "A",
          "C",
          "A",
          "A",
          "A",
          "C",
          "A",
          "C",
          "A",
          "B",
          "B",
          "B",
          "A",
          "A",
          "A",
          "B",
          "A",
          "A",
          "A",
          "B",
          "C",
          "B",
          "B",
          "A",
          "A",
          "A",
          "B",
          "A",
          "B",
          "A",
          "B",
          "B",
          "B",
          "A",
          "C",
          "C",
          "A",
          "A",
          "C",
          "B",
          "B",
          "C",
          "B",
          "C",
          "C",
          "B",
          "B",
          "B",
          "B",
          "C",
          "C",
          "A",
          "B",
          "C",
          "B",
          "C",
          "A",
          "A",
          "A",
          "C",
          "C",
          "C",
          "B",
          "A",
          "B",
          "A",
          "C",
          "B",
          "A",
          "A",
          "C",
          "C",
          "B",
          "C",
          "A",
          "C",
          "C",
          "A",
          "C",
          "C",
          "C",
          "B",
          "C",
          "C",
          "C",
          "C",
          "C",
          "A",
          "A",
          "B",
          "C",
          "C",
          "A",
          "B",
          "C",
          "A",
          "B",
          "C",
          "A",
          "B",
          "C",
          "C",
          "C",
          "A",
          "B",
          "A",
          "C",
          "A",
          "C",
          "C",
          "B",
          "C",
          "B",
          "A",
          "C",
          "C",
          "B",
          "B",
          "A",
          "B",
          "A",
          "C",
          "B",
          "C",
          "B",
          "A",
          "A",
          "C",
          "C",
          "B",
          "B",
          "A",
          "B",
          "B",
          "C",
          "C",
          "A",
          "A",
          "B",
          "A",
          "C",
          "C",
          "C",
          "C",
          "A",
          "C",
          "A",
          "C",
          "B",
          "A",
          "B",
          "C",
          "A",
          "C",
          "C",
          "A",
          "B",
          "B",
          "B",
          "B",
          "C",
          "A",
          "A",
          "C",
          "B",
          "B",
          "C",
          "A",
          "A",
          "A",
          "A",
          "B",
          "C",
          "B",
          "B",
          "A",
          "A",
          "C",
          "A",
          "C",
          "C",
          "C",
          "A",
          "C",
          "A",
          "B",
          "B",
          "B",
          "A",
          "C",
          "B",
          "B",
          "C",
          "B",
          "A",
          "C",
          "C",
          "A",
          "C",
          "C",
          "C",
          "B",
          "C",
          "B",
          "B",
          "A",
          "C",
          "C",
          "B",
          "B",
          "A",
          "C",
          "B",
          "B",
          "B",
          "A",
          "B",
          "A",
          "B",
          "B",
          "B",
          "B",
          "C",
          "C",
          "A",
          "C",
          "B",
          "C",
          "B",
          "A",
          "B",
          "B",
          "B",
          "B",
          "A",
          "A",
          "C",
          "C",
          "B",
          "A",
          "A",
          "A",
          "C",
          "A",
          "B",
          "A",
          "B",
          "A",
          "A",
          "B",
          "B",
          "C",
          "C",
          "A",
          "A",
          "B",
          "A",
          "A",
          "A",
          "C",
          "A",
          "C",
          "B",
          "A",
          "B",
          "A",
          "C",
          "B",
          "A",
          "A",
          "B",
          "C",
          "A",
          "A",
          "B",
          "B",
          "C",
          "C",
          "C",
          "A",
          "A",
          "C",
          "A",
          "A",
          "A",
          "B",
          "C",
          "C",
          "B",
          "A",
          "B",
          "C",
          "A",
          "A",
          "B",
          "C",
          "C",
          "A",
          "A",
          "C",
          "C",
          "B",
          "C",
          "A",
          "B",
          "A",
          "A",
          "A",
          "A",
          "A",
          "B",
          "C",
          "A",
          "A",
          "C",
          "C",
          "C",
          "C",
          "C",
          "C",
          "C",
          "C",
          "A",
          "A",
          "A",
          "B",
          "A",
          "C",
          "B",
          "A",
          "B",
          "A",
          "A",
          "A",
          "C",
          "A",
          "A",
          "B",
          "C",
          "B",
          "B",
          "B",
          "B",
          "C",
          "A",
          "A",
          "A",
          "C",
          "A",
          "B",
          "C",
          "A",
          "B",
          "B",
          "C",
          "B",
          "C",
          "C",
          "B",
          "B",
          "A",
          "C",
          "C",
          "A",
          "C",
          "C",
          "C",
          "A",
          "C",
          "A",
          "B",
          "B",
          "C",
          "C",
          "A",
          "A",
          "B",
          "C",
          "C",
          "B",
          "A",
          "C",
          "B",
          "C",
          "A",
          "B",
          "C",
          "A",
          "C",
          "B",
          "C",
          "B",
          "A",
          "A",
          "A",
          "A",
          "A",
          "B",
          "B",
          "B",
          "C",
          "C",
          "C",
          "B",
          "C",
          "A",
          "A",
          "B",
          "A",
          "C",
          "B",
          "B",
          "A",
          "A",
          "A",
          "B",
          "C",
          "C",
          "B",
          "A",
          "C",
          "C",
          "C",
          "B",
          "C",
          "B",
          "A",
          "B",
          "B",
          "A",
          "B",
          "C",
          "A",
          "B",
          "B",
          "C",
          "C",
          "A",
          "C",
          "C",
          "C",
          "B",
          "A",
          "C",
          "A",
          "B",
          "C",
          "C",
          "B",
          "B",
          "B",
          "B",
          "A",
          "A",
          "A",
          "B",
          "B",
          "B",
          "C",
          "C",
          "C",
          "B",
          "C",
          "C",
          "A",
          "C",
          "C",
          "B",
          "C",
          "C",
          "C",
          "A",
          "A",
          "B",
          "A",
          "A",
          "A",
          "C",
          "B",
          "A",
          "C",
          "C",
          "A",
          "B",
          "C",
          "B",
          "B",
          "A",
          "C",
          "B",
          "B",
          "A",
          "B",
          "C",
          "B",
          "B",
          "C",
          "C",
          "B",
          "A",
          "B",
          "C",
          "C",
          "B",
          "B",
          "A",
          "B",
          "B",
          "B",
          "C",
          "B",
          "A",
          "A",
          "A",
          "C",
          "C",
          "B",
          "C",
          "A",
          "C",
          "B",
          "C",
          "A",
          "C",
          "A",
          "A",
          "B",
          "B",
          "B",
          "A",
          "A",
          "A",
          "B",
          "C",
          "A",
          "C",
          "B",
          "A",
          "A",
          "C",
          "A",
          "C",
          "B",
          "C",
          "B",
          "B",
          "A",
          "A",
          "B",
          "A",
          "B",
          "B",
          "B",
          "C",
          "A",
          "B",
          "B",
          "C",
          "A",
          "A",
          "B",
          "C",
          "B",
          "A",
          "B",
          "A",
          "C",
          "A",
          "B",
          "C",
          "B",
          "B",
          "A",
          "B",
          "A",
          "B",
          "B",
          "C",
          "A",
          "B",
          "C",
          "A",
          "C",
          "B",
          "B",
          "A",
          "A",
          "A",
          "C",
          "A",
          "C",
          "C",
          "A",
          "A",
          "B",
          "B",
          "A",
          "C",
          "C",
          "A",
          "C",
          "C",
          "C",
          "B",
          "C",
          "B",
          "A",
          "C",
          "A",
          "B",
          "A",
          "C",
          "B",
          "C",
          "A",
          "A",
          "B",
          "C",
          "A",
          "C",
          "A",
          "A",
          "B",
          "B",
          "B",
          "B",
          "A",
          "B",
          "A",
          "A",
          "A",
          "A",
          "A",
          "B",
          "B",
          "B",
          "A",
          "C",
          "B",
          "B",
          "B",
          "C",
          "B",
          "C",
          "C",
          "A",
          "C",
          "B",
          "C",
          "C",
          "B",
          "B",
          "A",
          "B",
          "B",
          "A",
          "C",
          "A",
          "A",
          "A",
          "B",
          "C",
          "B",
          "C",
          "C",
          "A",
          "B",
          "B",
          "C",
          "B",
          "A",
          "B",
          "B",
          "C",
          "A",
          "B",
          "B",
          "A",
          "C",
          "A",
          "B",
          "B",
          "C",
          "A",
          "B",
          "B",
          "B",
          "A",
          "C",
          "A",
          "C",
          "C",
          "A",
          "C",
          "C",
          "A",
          "A",
          "B",
          "A",
          "C",
          "C",
          "B",
          "B",
          "B",
          "B",
          "B",
          "B",
          "C",
          "C",
          "A",
          "A",
          "C",
          "C",
          "C",
          "C",
          "A",
          "A",
          "A",
          "A",
          "B",
          "B",
          "C",
          "B",
          "C",
          "B",
          "C",
          "C",
          "B",
          "C",
          "B",
          "A",
          "A",
          "A",
          "B",
          "B",
          "C",
          "C",
          "C",
          "B",
          "A",
          "C",
          "C",
          "A",
          "A",
          "C",
          "C",
          "B",
          "C",
          "B",
          "C",
          "B",
          "A",
          "A",
          "B",
          "C",
          "A",
          "B",
          "A",
          "A",
          "A",
          "B",
          "B",
          "A",
          "A",
          "A",
          "B",
          "C",
          "B",
          "B",
          "A",
          "B",
          "C",
          "C",
          "C",
          "C",
          "B",
          "C",
          "B",
          "C",
          "B",
          "C",
          "A",
          "A",
          "C",
          "C",
          "A",
          "C",
          "C",
          "C",
          "A",
          "A",
          "C",
          "B",
          "A",
          "A",
          "B",
          "C",
          "A",
          "B",
          "C",
          "B",
          "C",
          "C",
          "A",
          "B",
          "A",
          "A",
          "A",
          "B",
          "C",
          "B",
          "A",
          "C",
          "A",
          "A",
          "B",
          "C",
          "A",
          "B",
          "B",
          "B",
          "A",
          "C",
          "A",
          "B",
          "A",
          "B",
          "A",
          "C",
          "A",
          "A",
          "B",
          "B",
          "A",
          "B",
          "A",
          "A",
          "B",
          "C",
          "C",
          "A",
          "B",
          "A",
          "C",
          "A",
          "A",
          "A",
          "C",
          "C",
          "A",
          "A",
          "A",
          "C",
          "B",
          "A",
          "B",
          "B",
          "A",
          "B",
          "A",
          "C",
          "A",
          "B",
          "B",
          "A",
          "C",
          "B",
          "C",
          "C",
          "A",
          "A",
          "C",
          "B",
          "A",
          "A",
          "C",
          "C",
          "B",
          "A",
          "B",
          "B",
          "C",
          "B",
          "A",
          "A",
          "A",
          "A",
          "A",
          "C",
          "A",
          "C",
          "B",
          "C",
          "B",
          "B",
          "B",
          "C",
          "C",
          "C",
          "A",
          "C",
          "B",
          "A",
          "A",
          "C",
          "C",
          "C",
          "B",
          "A",
          "B",
          "B",
          "C",
          "A",
          "A",
          "A",
          "C",
          "C",
          "A",
          "B",
          "B",
          "C",
          "B",
          "C",
          "C",
          "C",
          "B",
          "B",
          "A",
          "B",
          "B",
          "B",
          "C",
          "A",
          "C",
          "B",
          "C",
          "C",
          "A",
          "A",
          "C",
          "A",
          "C",
          "A",
          "A",
          "A",
          "A",
          "C",
          "B",
          "C",
          "B",
          "B",
          "B",
          "B",
          "C",
          "B",
          "A",
          "C",
          "B",
          "C",
          "A",
          "C",
          "A",
          "A",
          "C",
          "B",
          "B",
          "A",
          "A",
          "A",
          "B",
          "B",
          "B",
          "B",
          "A",
          "C",
          "B",
          "A",
          "B",
          "B",
          "B",
          "C",
          "A",
          "A",
          "C",
          "C",
          "B",
          "B",
          "B",
          "C",
          "B",
          "A",
          "B",
          "A",
          "B",
          "C",
          "C",
          "B",
          "A",
          "A",
          "A"
         ],
         "xaxis": "x",
         "yaxis": "y"
        }
       ],
       "layout": {
        "barmode": "relative",
        "legend": {
         "tracegroupgap": 0
        },
        "margin": {
         "t": 60
        },
        "template": {
         "data": {
          "bar": [
           {
            "error_x": {
             "color": "#2a3f5f"
            },
            "error_y": {
             "color": "#2a3f5f"
            },
            "marker": {
             "line": {
              "color": "white",
              "width": 0.5
             },
             "pattern": {
              "fillmode": "overlay",
              "size": 10,
              "solidity": 0.2
             }
            },
            "type": "bar"
           }
          ],
          "barpolar": [
           {
            "marker": {
             "line": {
              "color": "white",
              "width": 0.5
             },
             "pattern": {
              "fillmode": "overlay",
              "size": 10,
              "solidity": 0.2
             }
            },
            "type": "barpolar"
           }
          ],
          "carpet": [
           {
            "aaxis": {
             "endlinecolor": "#2a3f5f",
             "gridcolor": "#C8D4E3",
             "linecolor": "#C8D4E3",
             "minorgridcolor": "#C8D4E3",
             "startlinecolor": "#2a3f5f"
            },
            "baxis": {
             "endlinecolor": "#2a3f5f",
             "gridcolor": "#C8D4E3",
             "linecolor": "#C8D4E3",
             "minorgridcolor": "#C8D4E3",
             "startlinecolor": "#2a3f5f"
            },
            "type": "carpet"
           }
          ],
          "choropleth": [
           {
            "colorbar": {
             "outlinewidth": 0,
             "ticks": ""
            },
            "type": "choropleth"
           }
          ],
          "contour": [
           {
            "colorbar": {
             "outlinewidth": 0,
             "ticks": ""
            },
            "colorscale": [
             [
              0,
              "#0d0887"
             ],
             [
              0.1111111111111111,
              "#46039f"
             ],
             [
              0.2222222222222222,
              "#7201a8"
             ],
             [
              0.3333333333333333,
              "#9c179e"
             ],
             [
              0.4444444444444444,
              "#bd3786"
             ],
             [
              0.5555555555555556,
              "#d8576b"
             ],
             [
              0.6666666666666666,
              "#ed7953"
             ],
             [
              0.7777777777777778,
              "#fb9f3a"
             ],
             [
              0.8888888888888888,
              "#fdca26"
             ],
             [
              1,
              "#f0f921"
             ]
            ],
            "type": "contour"
           }
          ],
          "contourcarpet": [
           {
            "colorbar": {
             "outlinewidth": 0,
             "ticks": ""
            },
            "type": "contourcarpet"
           }
          ],
          "heatmap": [
           {
            "colorbar": {
             "outlinewidth": 0,
             "ticks": ""
            },
            "colorscale": [
             [
              0,
              "#0d0887"
             ],
             [
              0.1111111111111111,
              "#46039f"
             ],
             [
              0.2222222222222222,
              "#7201a8"
             ],
             [
              0.3333333333333333,
              "#9c179e"
             ],
             [
              0.4444444444444444,
              "#bd3786"
             ],
             [
              0.5555555555555556,
              "#d8576b"
             ],
             [
              0.6666666666666666,
              "#ed7953"
             ],
             [
              0.7777777777777778,
              "#fb9f3a"
             ],
             [
              0.8888888888888888,
              "#fdca26"
             ],
             [
              1,
              "#f0f921"
             ]
            ],
            "type": "heatmap"
           }
          ],
          "histogram": [
           {
            "marker": {
             "pattern": {
              "fillmode": "overlay",
              "size": 10,
              "solidity": 0.2
             }
            },
            "type": "histogram"
           }
          ],
          "histogram2d": [
           {
            "colorbar": {
             "outlinewidth": 0,
             "ticks": ""
            },
            "colorscale": [
             [
              0,
              "#0d0887"
             ],
             [
              0.1111111111111111,
              "#46039f"
             ],
             [
              0.2222222222222222,
              "#7201a8"
             ],
             [
              0.3333333333333333,
              "#9c179e"
             ],
             [
              0.4444444444444444,
              "#bd3786"
             ],
             [
              0.5555555555555556,
              "#d8576b"
             ],
             [
              0.6666666666666666,
              "#ed7953"
             ],
             [
              0.7777777777777778,
              "#fb9f3a"
             ],
             [
              0.8888888888888888,
              "#fdca26"
             ],
             [
              1,
              "#f0f921"
             ]
            ],
            "type": "histogram2d"
           }
          ],
          "histogram2dcontour": [
           {
            "colorbar": {
             "outlinewidth": 0,
             "ticks": ""
            },
            "colorscale": [
             [
              0,
              "#0d0887"
             ],
             [
              0.1111111111111111,
              "#46039f"
             ],
             [
              0.2222222222222222,
              "#7201a8"
             ],
             [
              0.3333333333333333,
              "#9c179e"
             ],
             [
              0.4444444444444444,
              "#bd3786"
             ],
             [
              0.5555555555555556,
              "#d8576b"
             ],
             [
              0.6666666666666666,
              "#ed7953"
             ],
             [
              0.7777777777777778,
              "#fb9f3a"
             ],
             [
              0.8888888888888888,
              "#fdca26"
             ],
             [
              1,
              "#f0f921"
             ]
            ],
            "type": "histogram2dcontour"
           }
          ],
          "mesh3d": [
           {
            "colorbar": {
             "outlinewidth": 0,
             "ticks": ""
            },
            "type": "mesh3d"
           }
          ],
          "parcoords": [
           {
            "line": {
             "colorbar": {
              "outlinewidth": 0,
              "ticks": ""
             }
            },
            "type": "parcoords"
           }
          ],
          "pie": [
           {
            "automargin": true,
            "type": "pie"
           }
          ],
          "scatter": [
           {
            "fillpattern": {
             "fillmode": "overlay",
             "size": 10,
             "solidity": 0.2
            },
            "type": "scatter"
           }
          ],
          "scatter3d": [
           {
            "line": {
             "colorbar": {
              "outlinewidth": 0,
              "ticks": ""
             }
            },
            "marker": {
             "colorbar": {
              "outlinewidth": 0,
              "ticks": ""
             }
            },
            "type": "scatter3d"
           }
          ],
          "scattercarpet": [
           {
            "marker": {
             "colorbar": {
              "outlinewidth": 0,
              "ticks": ""
             }
            },
            "type": "scattercarpet"
           }
          ],
          "scattergeo": [
           {
            "marker": {
             "colorbar": {
              "outlinewidth": 0,
              "ticks": ""
             }
            },
            "type": "scattergeo"
           }
          ],
          "scattergl": [
           {
            "marker": {
             "colorbar": {
              "outlinewidth": 0,
              "ticks": ""
             }
            },
            "type": "scattergl"
           }
          ],
          "scattermap": [
           {
            "marker": {
             "colorbar": {
              "outlinewidth": 0,
              "ticks": ""
             }
            },
            "type": "scattermap"
           }
          ],
          "scattermapbox": [
           {
            "marker": {
             "colorbar": {
              "outlinewidth": 0,
              "ticks": ""
             }
            },
            "type": "scattermapbox"
           }
          ],
          "scatterpolar": [
           {
            "marker": {
             "colorbar": {
              "outlinewidth": 0,
              "ticks": ""
             }
            },
            "type": "scatterpolar"
           }
          ],
          "scatterpolargl": [
           {
            "marker": {
             "colorbar": {
              "outlinewidth": 0,
              "ticks": ""
             }
            },
            "type": "scatterpolargl"
           }
          ],
          "scatterternary": [
           {
            "marker": {
             "colorbar": {
              "outlinewidth": 0,
              "ticks": ""
             }
            },
            "type": "scatterternary"
           }
          ],
          "surface": [
           {
            "colorbar": {
             "outlinewidth": 0,
             "ticks": ""
            },
            "colorscale": [
             [
              0,
              "#0d0887"
             ],
             [
              0.1111111111111111,
              "#46039f"
             ],
             [
              0.2222222222222222,
              "#7201a8"
             ],
             [
              0.3333333333333333,
              "#9c179e"
             ],
             [
              0.4444444444444444,
              "#bd3786"
             ],
             [
              0.5555555555555556,
              "#d8576b"
             ],
             [
              0.6666666666666666,
              "#ed7953"
             ],
             [
              0.7777777777777778,
              "#fb9f3a"
             ],
             [
              0.8888888888888888,
              "#fdca26"
             ],
             [
              1,
              "#f0f921"
             ]
            ],
            "type": "surface"
           }
          ],
          "table": [
           {
            "cells": {
             "fill": {
              "color": "#EBF0F8"
             },
             "line": {
              "color": "white"
             }
            },
            "header": {
             "fill": {
              "color": "#C8D4E3"
             },
             "line": {
              "color": "white"
             }
            },
            "type": "table"
           }
          ]
         },
         "layout": {
          "annotationdefaults": {
           "arrowcolor": "#2a3f5f",
           "arrowhead": 0,
           "arrowwidth": 1
          },
          "autotypenumbers": "strict",
          "coloraxis": {
           "colorbar": {
            "outlinewidth": 0,
            "ticks": ""
           }
          },
          "colorscale": {
           "diverging": [
            [
             0,
             "#8e0152"
            ],
            [
             0.1,
             "#c51b7d"
            ],
            [
             0.2,
             "#de77ae"
            ],
            [
             0.3,
             "#f1b6da"
            ],
            [
             0.4,
             "#fde0ef"
            ],
            [
             0.5,
             "#f7f7f7"
            ],
            [
             0.6,
             "#e6f5d0"
            ],
            [
             0.7,
             "#b8e186"
            ],
            [
             0.8,
             "#7fbc41"
            ],
            [
             0.9,
             "#4d9221"
            ],
            [
             1,
             "#276419"
            ]
           ],
           "sequential": [
            [
             0,
             "#0d0887"
            ],
            [
             0.1111111111111111,
             "#46039f"
            ],
            [
             0.2222222222222222,
             "#7201a8"
            ],
            [
             0.3333333333333333,
             "#9c179e"
            ],
            [
             0.4444444444444444,
             "#bd3786"
            ],
            [
             0.5555555555555556,
             "#d8576b"
            ],
            [
             0.6666666666666666,
             "#ed7953"
            ],
            [
             0.7777777777777778,
             "#fb9f3a"
            ],
            [
             0.8888888888888888,
             "#fdca26"
            ],
            [
             1,
             "#f0f921"
            ]
           ],
           "sequentialminus": [
            [
             0,
             "#0d0887"
            ],
            [
             0.1111111111111111,
             "#46039f"
            ],
            [
             0.2222222222222222,
             "#7201a8"
            ],
            [
             0.3333333333333333,
             "#9c179e"
            ],
            [
             0.4444444444444444,
             "#bd3786"
            ],
            [
             0.5555555555555556,
             "#d8576b"
            ],
            [
             0.6666666666666666,
             "#ed7953"
            ],
            [
             0.7777777777777778,
             "#fb9f3a"
            ],
            [
             0.8888888888888888,
             "#fdca26"
            ],
            [
             1,
             "#f0f921"
            ]
           ]
          },
          "colorway": [
           "#636efa",
           "#EF553B",
           "#00cc96",
           "#ab63fa",
           "#FFA15A",
           "#19d3f3",
           "#FF6692",
           "#B6E880",
           "#FF97FF",
           "#FECB52"
          ],
          "font": {
           "color": "#2a3f5f"
          },
          "geo": {
           "bgcolor": "white",
           "lakecolor": "white",
           "landcolor": "white",
           "showlakes": true,
           "showland": true,
           "subunitcolor": "#C8D4E3"
          },
          "hoverlabel": {
           "align": "left"
          },
          "hovermode": "closest",
          "mapbox": {
           "style": "light"
          },
          "paper_bgcolor": "white",
          "plot_bgcolor": "white",
          "polar": {
           "angularaxis": {
            "gridcolor": "#EBF0F8",
            "linecolor": "#EBF0F8",
            "ticks": ""
           },
           "bgcolor": "white",
           "radialaxis": {
            "gridcolor": "#EBF0F8",
            "linecolor": "#EBF0F8",
            "ticks": ""
           }
          },
          "scene": {
           "xaxis": {
            "backgroundcolor": "white",
            "gridcolor": "#DFE8F3",
            "gridwidth": 2,
            "linecolor": "#EBF0F8",
            "showbackground": true,
            "ticks": "",
            "zerolinecolor": "#EBF0F8"
           },
           "yaxis": {
            "backgroundcolor": "white",
            "gridcolor": "#DFE8F3",
            "gridwidth": 2,
            "linecolor": "#EBF0F8",
            "showbackground": true,
            "ticks": "",
            "zerolinecolor": "#EBF0F8"
           },
           "zaxis": {
            "backgroundcolor": "white",
            "gridcolor": "#DFE8F3",
            "gridwidth": 2,
            "linecolor": "#EBF0F8",
            "showbackground": true,
            "ticks": "",
            "zerolinecolor": "#EBF0F8"
           }
          },
          "shapedefaults": {
           "line": {
            "color": "#2a3f5f"
           }
          },
          "ternary": {
           "aaxis": {
            "gridcolor": "#DFE8F3",
            "linecolor": "#A2B1C6",
            "ticks": ""
           },
           "baxis": {
            "gridcolor": "#DFE8F3",
            "linecolor": "#A2B1C6",
            "ticks": ""
           },
           "bgcolor": "white",
           "caxis": {
            "gridcolor": "#DFE8F3",
            "linecolor": "#A2B1C6",
            "ticks": ""
           }
          },
          "title": {
           "x": 0.05
          },
          "xaxis": {
           "automargin": true,
           "gridcolor": "#EBF0F8",
           "linecolor": "#EBF0F8",
           "ticks": "",
           "title": {
            "standoff": 15
           },
           "zerolinecolor": "#EBF0F8",
           "zerolinewidth": 2
          },
          "yaxis": {
           "automargin": true,
           "gridcolor": "#EBF0F8",
           "linecolor": "#EBF0F8",
           "ticks": "",
           "title": {
            "standoff": 15
           },
           "zerolinecolor": "#EBF0F8",
           "zerolinewidth": 2
          }
         }
        },
        "xaxis": {
         "anchor": "y",
         "domain": [
          0,
          1
         ],
         "title": {
          "text": "Branch"
         }
        },
        "yaxis": {
         "anchor": "x",
         "domain": [
          0,
          1
         ],
         "title": {
          "text": "count"
         }
        }
       }
      }
     },
     "metadata": {},
     "output_type": "display_data"
    }
   ],
   "source": [
    "px.histogram(data_frame=df,x='Branch',text_auto=True)"
   ]
  },
  {
   "cell_type": "code",
   "execution_count": 16,
   "id": "d96478f7",
   "metadata": {},
   "outputs": [
    {
     "data": {
      "application/vnd.plotly.v1+json": {
       "config": {
        "plotlyServerURL": "https://plot.ly"
       },
       "data": [
        {
         "bingroup": "x",
         "hovertemplate": "Gender=%{x}<br>count=%{y}<extra></extra>",
         "legendgroup": "",
         "marker": {
          "color": "#636efa",
          "pattern": {
           "shape": ""
          }
         },
         "name": "",
         "orientation": "v",
         "showlegend": false,
         "texttemplate": "%{value}",
         "type": "histogram",
         "x": [
          "Female",
          "Female",
          "Male",
          "Male",
          "Male",
          "Male",
          "Female",
          "Female",
          "Female",
          "Female",
          "Female",
          "Male",
          "Female",
          "Male",
          "Female",
          "Female",
          "Female",
          "Male",
          "Male",
          "Female",
          "Male",
          "Male",
          "Male",
          "Male",
          "Male",
          "Female",
          "Male",
          "Female",
          "Female",
          "Male",
          "Male",
          "Male",
          "Male",
          "Male",
          "Female",
          "Female",
          "Male",
          "Female",
          "Female",
          "Male",
          "Female",
          "Male",
          "Female",
          "Female",
          "Male",
          "Female",
          "Male",
          "Female",
          "Male",
          "Female",
          "Male",
          "Female",
          "Female",
          "Male",
          "Male",
          "Female",
          "Male",
          "Male",
          "Female",
          "Male",
          "Female",
          "Male",
          "Female",
          "Male",
          "Male",
          "Male",
          "Female",
          "Female",
          "Male",
          "Female",
          "Male",
          "Male",
          "Female",
          "Female",
          "Male",
          "Female",
          "Male",
          "Female",
          "Female",
          "Female",
          "Female",
          "Female",
          "Male",
          "Female",
          "Male",
          "Female",
          "Male",
          "Male",
          "Male",
          "Female",
          "Female",
          "Female",
          "Female",
          "Male",
          "Male",
          "Male",
          "Male",
          "Female",
          "Male",
          "Male",
          "Male",
          "Male",
          "Female",
          "Male",
          "Male",
          "Male",
          "Male",
          "Male",
          "Female",
          "Male",
          "Female",
          "Female",
          "Female",
          "Male",
          "Female",
          "Female",
          "Male",
          "Male",
          "Female",
          "Male",
          "Female",
          "Male",
          "Male",
          "Male",
          "Female",
          "Female",
          "Female",
          "Female",
          "Female",
          "Female",
          "Female",
          "Female",
          "Female",
          "Male",
          "Female",
          "Male",
          "Female",
          "Female",
          "Male",
          "Male",
          "Female",
          "Male",
          "Female",
          "Female",
          "Female",
          "Female",
          "Female",
          "Male",
          "Male",
          "Male",
          "Female",
          "Male",
          "Male",
          "Female",
          "Female",
          "Male",
          "Male",
          "Male",
          "Male",
          "Male",
          "Female",
          "Male",
          "Male",
          "Male",
          "Male",
          "Male",
          "Male",
          "Male",
          "Male",
          "Male",
          "Male",
          "Male",
          "Male",
          "Male",
          "Male",
          "Male",
          "Male",
          "Female",
          "Male",
          "Male",
          "Male",
          "Male",
          "Male",
          "Male",
          "Female",
          "Male",
          "Female",
          "Male",
          "Male",
          "Female",
          "Female",
          "Female",
          "Female",
          "Male",
          "Male",
          "Female",
          "Male",
          "Female",
          "Male",
          "Female",
          "Female",
          "Female",
          "Male",
          "Male",
          "Male",
          "Female",
          "Female",
          "Female",
          "Female",
          "Female",
          "Male",
          "Female",
          "Male",
          "Male",
          "Female",
          "Male",
          "Female",
          "Female",
          "Male",
          "Female",
          "Male",
          "Male",
          "Male",
          "Female",
          "Male",
          "Female",
          "Male",
          "Male",
          "Female",
          "Female",
          "Female",
          "Female",
          "Female",
          "Male",
          "Male",
          "Female",
          "Male",
          "Female",
          "Female",
          "Male",
          "Male",
          "Male",
          "Male",
          "Male",
          "Male",
          "Male",
          "Female",
          "Male",
          "Male",
          "Male",
          "Male",
          "Male",
          "Female",
          "Male",
          "Male",
          "Male",
          "Male",
          "Male",
          "Male",
          "Male",
          "Female",
          "Female",
          "Female",
          "Female",
          "Male",
          "Female",
          "Male",
          "Female",
          "Male",
          "Female",
          "Female",
          "Female",
          "Female",
          "Female",
          "Female",
          "Male",
          "Female",
          "Female",
          "Male",
          "Male",
          "Female",
          "Male",
          "Female",
          "Male",
          "Female",
          "Male",
          "Male",
          "Female",
          "Female",
          "Female",
          "Male",
          "Male",
          "Female",
          "Female",
          "Male",
          "Female",
          "Male",
          "Male",
          "Male",
          "Female",
          "Male",
          "Male",
          "Male",
          "Female",
          "Female",
          "Male",
          "Female",
          "Female",
          "Female",
          "Female",
          "Male",
          "Male",
          "Female",
          "Female",
          "Female",
          "Male",
          "Female",
          "Male",
          "Female",
          "Male",
          "Female",
          "Female",
          "Male",
          "Female",
          "Male",
          "Male",
          "Male",
          "Male",
          "Male",
          "Male",
          "Male",
          "Male",
          "Male",
          "Male",
          "Male",
          "Female",
          "Male",
          "Female",
          "Female",
          "Female",
          "Male",
          "Female",
          "Female",
          "Female",
          "Male",
          "Female",
          "Male",
          "Female",
          "Male",
          "Female",
          "Female",
          "Male",
          "Female",
          "Male",
          "Female",
          "Female",
          "Female",
          "Female",
          "Male",
          "Male",
          "Male",
          "Female",
          "Male",
          "Male",
          "Female",
          "Female",
          "Female",
          "Male",
          "Female",
          "Male",
          "Female",
          "Female",
          "Female",
          "Male",
          "Female",
          "Female",
          "Female",
          "Male",
          "Male",
          "Female",
          "Male",
          "Female",
          "Female",
          "Female",
          "Female",
          "Male",
          "Male",
          "Female",
          "Female",
          "Male",
          "Female",
          "Female",
          "Male",
          "Female",
          "Female",
          "Female",
          "Female",
          "Male",
          "Female",
          "Male",
          "Female",
          "Male",
          "Male",
          "Female",
          "Female",
          "Male",
          "Male",
          "Female",
          "Female",
          "Female",
          "Female",
          "Male",
          "Male",
          "Male",
          "Male",
          "Male",
          "Female",
          "Female",
          "Female",
          "Female",
          "Female",
          "Female",
          "Female",
          "Male",
          "Male",
          "Male",
          "Male",
          "Female",
          "Male",
          "Female",
          "Male",
          "Male",
          "Female",
          "Male",
          "Female",
          "Male",
          "Male",
          "Male",
          "Male",
          "Female",
          "Male",
          "Female",
          "Female",
          "Male",
          "Female",
          "Female",
          "Male",
          "Male",
          "Female",
          "Female",
          "Female",
          "Male",
          "Female",
          "Male",
          "Male",
          "Female",
          "Female",
          "Male",
          "Female",
          "Male",
          "Male",
          "Female",
          "Female",
          "Female",
          "Male",
          "Female",
          "Female",
          "Male",
          "Male",
          "Female",
          "Female",
          "Female",
          "Male",
          "Male",
          "Female",
          "Male",
          "Female",
          "Male",
          "Male",
          "Male",
          "Male",
          "Female",
          "Male",
          "Male",
          "Female",
          "Female",
          "Female",
          "Male",
          "Male",
          "Female",
          "Female",
          "Female",
          "Female",
          "Female",
          "Male",
          "Male",
          "Female",
          "Female",
          "Female",
          "Female",
          "Male",
          "Female",
          "Male",
          "Female",
          "Male",
          "Male",
          "Female",
          "Female",
          "Male",
          "Female",
          "Female",
          "Female",
          "Female",
          "Male",
          "Male",
          "Female",
          "Male",
          "Male",
          "Male",
          "Male",
          "Female",
          "Female",
          "Female",
          "Male",
          "Male",
          "Female",
          "Male",
          "Male",
          "Female",
          "Male",
          "Male",
          "Male",
          "Male",
          "Female",
          "Female",
          "Male",
          "Female",
          "Male",
          "Female",
          "Female",
          "Male",
          "Male",
          "Female",
          "Male",
          "Female",
          "Male",
          "Female",
          "Male",
          "Female",
          "Female",
          "Male",
          "Female",
          "Female",
          "Male",
          "Male",
          "Male",
          "Female",
          "Female",
          "Male",
          "Female",
          "Male",
          "Male",
          "Female",
          "Male",
          "Male",
          "Female",
          "Female",
          "Female",
          "Female",
          "Female",
          "Female",
          "Male",
          "Male",
          "Male",
          "Male",
          "Male",
          "Male",
          "Male",
          "Female",
          "Male",
          "Male",
          "Female",
          "Female",
          "Female",
          "Male",
          "Male",
          "Female",
          "Female",
          "Male",
          "Male",
          "Male",
          "Female",
          "Female",
          "Female",
          "Male",
          "Male",
          "Male",
          "Female",
          "Female",
          "Female",
          "Male",
          "Female",
          "Male",
          "Female",
          "Female",
          "Male",
          "Female",
          "Female",
          "Male",
          "Male",
          "Female",
          "Female",
          "Male",
          "Male",
          "Male",
          "Female",
          "Male",
          "Male",
          "Male",
          "Female",
          "Female",
          "Female",
          "Female",
          "Female",
          "Male",
          "Female",
          "Male",
          "Male",
          "Male",
          "Female",
          "Male",
          "Male",
          "Male",
          "Male",
          "Male",
          "Male",
          "Male",
          "Female",
          "Female",
          "Male",
          "Female",
          "Female",
          "Male",
          "Female",
          "Male",
          "Male",
          "Male",
          "Male",
          "Female",
          "Male",
          "Male",
          "Female",
          "Male",
          "Male",
          "Male",
          "Female",
          "Female",
          "Female",
          "Female",
          "Male",
          "Female",
          "Male",
          "Female",
          "Female",
          "Female",
          "Female",
          "Male",
          "Female",
          "Female",
          "Female",
          "Male",
          "Male",
          "Female",
          "Male",
          "Female",
          "Male",
          "Female",
          "Female",
          "Male",
          "Male",
          "Female",
          "Female",
          "Female",
          "Male",
          "Female",
          "Female",
          "Female",
          "Male",
          "Male",
          "Female",
          "Female",
          "Male",
          "Male",
          "Female",
          "Female",
          "Female",
          "Female",
          "Male",
          "Male",
          "Male",
          "Female",
          "Male",
          "Female",
          "Male",
          "Female",
          "Male",
          "Female",
          "Male",
          "Male",
          "Male",
          "Male",
          "Female",
          "Female",
          "Female",
          "Male",
          "Female",
          "Female",
          "Male",
          "Male",
          "Female",
          "Female",
          "Female",
          "Male",
          "Female",
          "Male",
          "Female",
          "Male",
          "Male",
          "Male",
          "Female",
          "Female",
          "Male",
          "Male",
          "Male",
          "Male",
          "Male",
          "Female",
          "Male",
          "Male",
          "Male",
          "Male",
          "Male",
          "Female",
          "Male",
          "Female",
          "Female",
          "Male",
          "Female",
          "Female",
          "Male",
          "Female",
          "Female",
          "Female",
          "Male",
          "Female",
          "Female",
          "Female",
          "Female",
          "Male",
          "Female",
          "Female",
          "Male",
          "Female",
          "Female",
          "Male",
          "Female",
          "Female",
          "Male",
          "Female",
          "Female",
          "Female",
          "Female",
          "Female",
          "Female",
          "Male",
          "Female",
          "Male",
          "Male",
          "Male",
          "Male",
          "Male",
          "Female",
          "Female",
          "Female",
          "Female",
          "Male",
          "Male",
          "Female",
          "Male",
          "Male",
          "Male",
          "Male",
          "Female",
          "Male",
          "Female",
          "Male",
          "Female",
          "Female",
          "Male",
          "Male",
          "Male",
          "Female",
          "Male",
          "Female",
          "Female",
          "Female",
          "Female",
          "Female",
          "Female",
          "Female",
          "Male",
          "Female",
          "Female",
          "Male",
          "Female",
          "Female",
          "Female",
          "Male",
          "Male",
          "Male",
          "Male",
          "Female",
          "Male",
          "Female",
          "Female",
          "Female",
          "Female",
          "Male",
          "Male",
          "Female",
          "Male",
          "Male",
          "Female",
          "Male",
          "Female",
          "Male",
          "Male",
          "Male",
          "Male",
          "Female",
          "Male",
          "Male",
          "Female",
          "Female",
          "Male",
          "Male",
          "Male",
          "Female",
          "Female",
          "Female",
          "Male",
          "Female",
          "Male",
          "Female",
          "Female",
          "Female",
          "Male",
          "Female",
          "Male",
          "Female",
          "Female",
          "Male",
          "Female",
          "Female",
          "Female",
          "Male",
          "Male",
          "Female",
          "Male",
          "Male",
          "Male",
          "Male",
          "Female",
          "Male",
          "Male",
          "Male",
          "Male",
          "Male",
          "Female",
          "Female",
          "Female",
          "Female",
          "Male",
          "Female",
          "Female",
          "Male",
          "Male",
          "Female",
          "Female",
          "Male",
          "Female",
          "Female",
          "Female",
          "Male",
          "Male",
          "Male",
          "Male",
          "Female",
          "Male",
          "Male",
          "Female",
          "Male",
          "Female",
          "Male",
          "Female",
          "Female",
          "Male",
          "Female",
          "Female",
          "Female",
          "Female",
          "Female",
          "Female",
          "Male",
          "Female",
          "Female",
          "Male",
          "Female",
          "Male",
          "Female",
          "Female",
          "Female",
          "Female",
          "Female",
          "Female",
          "Female",
          "Male",
          "Female",
          "Female",
          "Male",
          "Male",
          "Female",
          "Female",
          "Male",
          "Female",
          "Male",
          "Female",
          "Female",
          "Female",
          "Female",
          "Male",
          "Male",
          "Female",
          "Male",
          "Male",
          "Female",
          "Male",
          "Male",
          "Male",
          "Female",
          "Male",
          "Female",
          "Female",
          "Female",
          "Male",
          "Female",
          "Male",
          "Male",
          "Female",
          "Female",
          "Male",
          "Male",
          "Female",
          "Male",
          "Male",
          "Female",
          "Female",
          "Male",
          "Female",
          "Female",
          "Female",
          "Male",
          "Male",
          "Male",
          "Male",
          "Male",
          "Female",
          "Male",
          "Female",
          "Female",
          "Male",
          "Male",
          "Female",
          "Male",
          "Male",
          "Female",
          "Female",
          "Male",
          "Male",
          "Male",
          "Female",
          "Female",
          "Male",
          "Male",
          "Female",
          "Male",
          "Female",
          "Male",
          "Male",
          "Female"
         ],
         "xaxis": "x",
         "yaxis": "y"
        }
       ],
       "layout": {
        "barmode": "relative",
        "legend": {
         "tracegroupgap": 0
        },
        "margin": {
         "t": 60
        },
        "template": {
         "data": {
          "bar": [
           {
            "error_x": {
             "color": "#2a3f5f"
            },
            "error_y": {
             "color": "#2a3f5f"
            },
            "marker": {
             "line": {
              "color": "white",
              "width": 0.5
             },
             "pattern": {
              "fillmode": "overlay",
              "size": 10,
              "solidity": 0.2
             }
            },
            "type": "bar"
           }
          ],
          "barpolar": [
           {
            "marker": {
             "line": {
              "color": "white",
              "width": 0.5
             },
             "pattern": {
              "fillmode": "overlay",
              "size": 10,
              "solidity": 0.2
             }
            },
            "type": "barpolar"
           }
          ],
          "carpet": [
           {
            "aaxis": {
             "endlinecolor": "#2a3f5f",
             "gridcolor": "#C8D4E3",
             "linecolor": "#C8D4E3",
             "minorgridcolor": "#C8D4E3",
             "startlinecolor": "#2a3f5f"
            },
            "baxis": {
             "endlinecolor": "#2a3f5f",
             "gridcolor": "#C8D4E3",
             "linecolor": "#C8D4E3",
             "minorgridcolor": "#C8D4E3",
             "startlinecolor": "#2a3f5f"
            },
            "type": "carpet"
           }
          ],
          "choropleth": [
           {
            "colorbar": {
             "outlinewidth": 0,
             "ticks": ""
            },
            "type": "choropleth"
           }
          ],
          "contour": [
           {
            "colorbar": {
             "outlinewidth": 0,
             "ticks": ""
            },
            "colorscale": [
             [
              0,
              "#0d0887"
             ],
             [
              0.1111111111111111,
              "#46039f"
             ],
             [
              0.2222222222222222,
              "#7201a8"
             ],
             [
              0.3333333333333333,
              "#9c179e"
             ],
             [
              0.4444444444444444,
              "#bd3786"
             ],
             [
              0.5555555555555556,
              "#d8576b"
             ],
             [
              0.6666666666666666,
              "#ed7953"
             ],
             [
              0.7777777777777778,
              "#fb9f3a"
             ],
             [
              0.8888888888888888,
              "#fdca26"
             ],
             [
              1,
              "#f0f921"
             ]
            ],
            "type": "contour"
           }
          ],
          "contourcarpet": [
           {
            "colorbar": {
             "outlinewidth": 0,
             "ticks": ""
            },
            "type": "contourcarpet"
           }
          ],
          "heatmap": [
           {
            "colorbar": {
             "outlinewidth": 0,
             "ticks": ""
            },
            "colorscale": [
             [
              0,
              "#0d0887"
             ],
             [
              0.1111111111111111,
              "#46039f"
             ],
             [
              0.2222222222222222,
              "#7201a8"
             ],
             [
              0.3333333333333333,
              "#9c179e"
             ],
             [
              0.4444444444444444,
              "#bd3786"
             ],
             [
              0.5555555555555556,
              "#d8576b"
             ],
             [
              0.6666666666666666,
              "#ed7953"
             ],
             [
              0.7777777777777778,
              "#fb9f3a"
             ],
             [
              0.8888888888888888,
              "#fdca26"
             ],
             [
              1,
              "#f0f921"
             ]
            ],
            "type": "heatmap"
           }
          ],
          "histogram": [
           {
            "marker": {
             "pattern": {
              "fillmode": "overlay",
              "size": 10,
              "solidity": 0.2
             }
            },
            "type": "histogram"
           }
          ],
          "histogram2d": [
           {
            "colorbar": {
             "outlinewidth": 0,
             "ticks": ""
            },
            "colorscale": [
             [
              0,
              "#0d0887"
             ],
             [
              0.1111111111111111,
              "#46039f"
             ],
             [
              0.2222222222222222,
              "#7201a8"
             ],
             [
              0.3333333333333333,
              "#9c179e"
             ],
             [
              0.4444444444444444,
              "#bd3786"
             ],
             [
              0.5555555555555556,
              "#d8576b"
             ],
             [
              0.6666666666666666,
              "#ed7953"
             ],
             [
              0.7777777777777778,
              "#fb9f3a"
             ],
             [
              0.8888888888888888,
              "#fdca26"
             ],
             [
              1,
              "#f0f921"
             ]
            ],
            "type": "histogram2d"
           }
          ],
          "histogram2dcontour": [
           {
            "colorbar": {
             "outlinewidth": 0,
             "ticks": ""
            },
            "colorscale": [
             [
              0,
              "#0d0887"
             ],
             [
              0.1111111111111111,
              "#46039f"
             ],
             [
              0.2222222222222222,
              "#7201a8"
             ],
             [
              0.3333333333333333,
              "#9c179e"
             ],
             [
              0.4444444444444444,
              "#bd3786"
             ],
             [
              0.5555555555555556,
              "#d8576b"
             ],
             [
              0.6666666666666666,
              "#ed7953"
             ],
             [
              0.7777777777777778,
              "#fb9f3a"
             ],
             [
              0.8888888888888888,
              "#fdca26"
             ],
             [
              1,
              "#f0f921"
             ]
            ],
            "type": "histogram2dcontour"
           }
          ],
          "mesh3d": [
           {
            "colorbar": {
             "outlinewidth": 0,
             "ticks": ""
            },
            "type": "mesh3d"
           }
          ],
          "parcoords": [
           {
            "line": {
             "colorbar": {
              "outlinewidth": 0,
              "ticks": ""
             }
            },
            "type": "parcoords"
           }
          ],
          "pie": [
           {
            "automargin": true,
            "type": "pie"
           }
          ],
          "scatter": [
           {
            "fillpattern": {
             "fillmode": "overlay",
             "size": 10,
             "solidity": 0.2
            },
            "type": "scatter"
           }
          ],
          "scatter3d": [
           {
            "line": {
             "colorbar": {
              "outlinewidth": 0,
              "ticks": ""
             }
            },
            "marker": {
             "colorbar": {
              "outlinewidth": 0,
              "ticks": ""
             }
            },
            "type": "scatter3d"
           }
          ],
          "scattercarpet": [
           {
            "marker": {
             "colorbar": {
              "outlinewidth": 0,
              "ticks": ""
             }
            },
            "type": "scattercarpet"
           }
          ],
          "scattergeo": [
           {
            "marker": {
             "colorbar": {
              "outlinewidth": 0,
              "ticks": ""
             }
            },
            "type": "scattergeo"
           }
          ],
          "scattergl": [
           {
            "marker": {
             "colorbar": {
              "outlinewidth": 0,
              "ticks": ""
             }
            },
            "type": "scattergl"
           }
          ],
          "scattermap": [
           {
            "marker": {
             "colorbar": {
              "outlinewidth": 0,
              "ticks": ""
             }
            },
            "type": "scattermap"
           }
          ],
          "scattermapbox": [
           {
            "marker": {
             "colorbar": {
              "outlinewidth": 0,
              "ticks": ""
             }
            },
            "type": "scattermapbox"
           }
          ],
          "scatterpolar": [
           {
            "marker": {
             "colorbar": {
              "outlinewidth": 0,
              "ticks": ""
             }
            },
            "type": "scatterpolar"
           }
          ],
          "scatterpolargl": [
           {
            "marker": {
             "colorbar": {
              "outlinewidth": 0,
              "ticks": ""
             }
            },
            "type": "scatterpolargl"
           }
          ],
          "scatterternary": [
           {
            "marker": {
             "colorbar": {
              "outlinewidth": 0,
              "ticks": ""
             }
            },
            "type": "scatterternary"
           }
          ],
          "surface": [
           {
            "colorbar": {
             "outlinewidth": 0,
             "ticks": ""
            },
            "colorscale": [
             [
              0,
              "#0d0887"
             ],
             [
              0.1111111111111111,
              "#46039f"
             ],
             [
              0.2222222222222222,
              "#7201a8"
             ],
             [
              0.3333333333333333,
              "#9c179e"
             ],
             [
              0.4444444444444444,
              "#bd3786"
             ],
             [
              0.5555555555555556,
              "#d8576b"
             ],
             [
              0.6666666666666666,
              "#ed7953"
             ],
             [
              0.7777777777777778,
              "#fb9f3a"
             ],
             [
              0.8888888888888888,
              "#fdca26"
             ],
             [
              1,
              "#f0f921"
             ]
            ],
            "type": "surface"
           }
          ],
          "table": [
           {
            "cells": {
             "fill": {
              "color": "#EBF0F8"
             },
             "line": {
              "color": "white"
             }
            },
            "header": {
             "fill": {
              "color": "#C8D4E3"
             },
             "line": {
              "color": "white"
             }
            },
            "type": "table"
           }
          ]
         },
         "layout": {
          "annotationdefaults": {
           "arrowcolor": "#2a3f5f",
           "arrowhead": 0,
           "arrowwidth": 1
          },
          "autotypenumbers": "strict",
          "coloraxis": {
           "colorbar": {
            "outlinewidth": 0,
            "ticks": ""
           }
          },
          "colorscale": {
           "diverging": [
            [
             0,
             "#8e0152"
            ],
            [
             0.1,
             "#c51b7d"
            ],
            [
             0.2,
             "#de77ae"
            ],
            [
             0.3,
             "#f1b6da"
            ],
            [
             0.4,
             "#fde0ef"
            ],
            [
             0.5,
             "#f7f7f7"
            ],
            [
             0.6,
             "#e6f5d0"
            ],
            [
             0.7,
             "#b8e186"
            ],
            [
             0.8,
             "#7fbc41"
            ],
            [
             0.9,
             "#4d9221"
            ],
            [
             1,
             "#276419"
            ]
           ],
           "sequential": [
            [
             0,
             "#0d0887"
            ],
            [
             0.1111111111111111,
             "#46039f"
            ],
            [
             0.2222222222222222,
             "#7201a8"
            ],
            [
             0.3333333333333333,
             "#9c179e"
            ],
            [
             0.4444444444444444,
             "#bd3786"
            ],
            [
             0.5555555555555556,
             "#d8576b"
            ],
            [
             0.6666666666666666,
             "#ed7953"
            ],
            [
             0.7777777777777778,
             "#fb9f3a"
            ],
            [
             0.8888888888888888,
             "#fdca26"
            ],
            [
             1,
             "#f0f921"
            ]
           ],
           "sequentialminus": [
            [
             0,
             "#0d0887"
            ],
            [
             0.1111111111111111,
             "#46039f"
            ],
            [
             0.2222222222222222,
             "#7201a8"
            ],
            [
             0.3333333333333333,
             "#9c179e"
            ],
            [
             0.4444444444444444,
             "#bd3786"
            ],
            [
             0.5555555555555556,
             "#d8576b"
            ],
            [
             0.6666666666666666,
             "#ed7953"
            ],
            [
             0.7777777777777778,
             "#fb9f3a"
            ],
            [
             0.8888888888888888,
             "#fdca26"
            ],
            [
             1,
             "#f0f921"
            ]
           ]
          },
          "colorway": [
           "#636efa",
           "#EF553B",
           "#00cc96",
           "#ab63fa",
           "#FFA15A",
           "#19d3f3",
           "#FF6692",
           "#B6E880",
           "#FF97FF",
           "#FECB52"
          ],
          "font": {
           "color": "#2a3f5f"
          },
          "geo": {
           "bgcolor": "white",
           "lakecolor": "white",
           "landcolor": "white",
           "showlakes": true,
           "showland": true,
           "subunitcolor": "#C8D4E3"
          },
          "hoverlabel": {
           "align": "left"
          },
          "hovermode": "closest",
          "mapbox": {
           "style": "light"
          },
          "paper_bgcolor": "white",
          "plot_bgcolor": "white",
          "polar": {
           "angularaxis": {
            "gridcolor": "#EBF0F8",
            "linecolor": "#EBF0F8",
            "ticks": ""
           },
           "bgcolor": "white",
           "radialaxis": {
            "gridcolor": "#EBF0F8",
            "linecolor": "#EBF0F8",
            "ticks": ""
           }
          },
          "scene": {
           "xaxis": {
            "backgroundcolor": "white",
            "gridcolor": "#DFE8F3",
            "gridwidth": 2,
            "linecolor": "#EBF0F8",
            "showbackground": true,
            "ticks": "",
            "zerolinecolor": "#EBF0F8"
           },
           "yaxis": {
            "backgroundcolor": "white",
            "gridcolor": "#DFE8F3",
            "gridwidth": 2,
            "linecolor": "#EBF0F8",
            "showbackground": true,
            "ticks": "",
            "zerolinecolor": "#EBF0F8"
           },
           "zaxis": {
            "backgroundcolor": "white",
            "gridcolor": "#DFE8F3",
            "gridwidth": 2,
            "linecolor": "#EBF0F8",
            "showbackground": true,
            "ticks": "",
            "zerolinecolor": "#EBF0F8"
           }
          },
          "shapedefaults": {
           "line": {
            "color": "#2a3f5f"
           }
          },
          "ternary": {
           "aaxis": {
            "gridcolor": "#DFE8F3",
            "linecolor": "#A2B1C6",
            "ticks": ""
           },
           "baxis": {
            "gridcolor": "#DFE8F3",
            "linecolor": "#A2B1C6",
            "ticks": ""
           },
           "bgcolor": "white",
           "caxis": {
            "gridcolor": "#DFE8F3",
            "linecolor": "#A2B1C6",
            "ticks": ""
           }
          },
          "title": {
           "x": 0.05
          },
          "xaxis": {
           "automargin": true,
           "gridcolor": "#EBF0F8",
           "linecolor": "#EBF0F8",
           "ticks": "",
           "title": {
            "standoff": 15
           },
           "zerolinecolor": "#EBF0F8",
           "zerolinewidth": 2
          },
          "yaxis": {
           "automargin": true,
           "gridcolor": "#EBF0F8",
           "linecolor": "#EBF0F8",
           "ticks": "",
           "title": {
            "standoff": 15
           },
           "zerolinecolor": "#EBF0F8",
           "zerolinewidth": 2
          }
         }
        },
        "xaxis": {
         "anchor": "y",
         "domain": [
          0,
          1
         ],
         "title": {
          "text": "Gender"
         }
        },
        "yaxis": {
         "anchor": "x",
         "domain": [
          0,
          1
         ],
         "title": {
          "text": "count"
         }
        }
       }
      }
     },
     "metadata": {},
     "output_type": "display_data"
    }
   ],
   "source": [
    "px.histogram(data_frame=df,x='Gender',text_auto=True)"
   ]
  },
  {
   "cell_type": "code",
   "execution_count": 17,
   "id": "5283758b",
   "metadata": {},
   "outputs": [
    {
     "data": {
      "application/vnd.plotly.v1+json": {
       "config": {
        "plotlyServerURL": "https://plot.ly"
       },
       "data": [
        {
         "alignmentgroup": "True",
         "hovertemplate": "Rating=%{x}<extra></extra>",
         "legendgroup": "",
         "marker": {
          "color": "#636efa"
         },
         "name": "",
         "notched": false,
         "offsetgroup": "",
         "orientation": "h",
         "showlegend": false,
         "type": "box",
         "x": {
          "bdata": "MzMzMzMzIkAzMzMzMzMjQJqZmZmZmR1AzczMzMzMIEAzMzMzMzMVQGZmZmZmZhBAMzMzMzMzF0AAAAAAAAAgQM3MzMzMzBxAmpmZmZmZF0AAAAAAAAASQDMzMzMzMxtAZmZmZmZmHEBmZmZmZmYgQM3MzMzMzBZAAAAAAAAAEkBmZmZmZmYSQJqZmZmZmRtAMzMzMzMzIUCamZmZmZkRQDMzMzMzMxNAZmZmZmZmFECamZmZmZkRQM3MzMzMzCNAAAAAAAAAGEAAAAAAAAAhQM3MzMzMzBpAzczMzMzMHkAzMzMzMzMjQJqZmZmZmR1AMzMzMzMzE0AAAAAAAAASQGZmZmZmZhRAZmZmZmZmFEAAAAAAAAAeQDMzMzMzMxtAAAAAAAAAHEDNzMzMzMwSQGZmZmZmZh5AzczMzMzMHkCamZmZmZkfQDMzMzMzMxlAZmZmZmZmFkBmZmZmZmYeQM3MzMzMzBxAAAAAAAAAI0DNzMzMzMwgQGZmZmZmZhBAMzMzMzMzIECamZmZmZkfQAAAAAAAACNAAAAAAAAAIUAAAAAAAAAaQGZmZmZmZhhAAAAAAAAAGkBmZmZmZmYgQDMzMzMzMxdAZmZmZmZmGkCamZmZmZkVQJqZmZmZmSJAAAAAAAAAJEAAAAAAAAAcQAAAAAAAACRAMzMzMzMzIUBmZmZmZmYeQDMzMzMzMxdAzczMzMzMGkDNzMzMzMwjQJqZmZmZmRlAMzMzMzMzEUAzMzMzMzMjQJqZmZmZmRdAAAAAAAAAEEBmZmZmZmYhQM3MzMzMzCJAmpmZmZmZFUAzMzMzMzMhQM3MzMzMzBZAZmZmZmZmGkAAAAAAAAAYQAAAAAAAABZAmpmZmZmZGUBmZmZmZmYaQJqZmZmZmSBAZmZmZmZmGkAAAAAAAAAQQM3MzMzMzCNAMzMzMzMzHUDNzMzMzMwWQGZmZmZmZhhAZmZmZmZmHEBmZmZmZmYgQGZmZmZmZhRAMzMzMzMzIUBmZmZmZmYaQM3MzMzMzBxAZmZmZmZmFEBmZmZmZmYQQJqZmZmZmSJAmpmZmZmZHUBmZmZmZmYQQM3MzMzMzBxAmpmZmZmZE0DNzMzMzMwjQAAAAAAAACBAMzMzMzMzHUCamZmZmZkfQJqZmZmZmR1AzczMzMzMEEBmZmZmZmYiQGZmZmZmZhJAMzMzMzMzH0DNzMzMzMwgQDMzMzMzMxFAAAAAAAAAI0BmZmZmZmYcQDMzMzMzMxVAzczMzMzMFEAAAAAAAAAYQGZmZmZmZhBAzczMzMzMFEAAAAAAAAAaQM3MzMzMzBBAZmZmZmZmEkAzMzMzMzMdQAAAAAAAABJAAAAAAAAAIkCamZmZmZkXQAAAAAAAACFAzczMzMzMHEAAAAAAAAAeQJqZmZmZmSBAmpmZmZmZHUCamZmZmZkhQDMzMzMzMxVAzczMzMzMGECamZmZmZkhQJqZmZmZmSNAZmZmZmZmIEBmZmZmZmYiQJqZmZmZmRVAMzMzMzMzIEAzMzMzMzMiQM3MzMzMzCBAAAAAAAAAIEAAAAAAAAAjQGZmZmZmZiJAZmZmZmZmFkDNzMzMzMwYQJqZmZmZmRNAMzMzMzMzE0AzMzMzMzMdQJqZmZmZmR1AzczMzMzMI0CamZmZmZkiQAAAAAAAACJAZmZmZmZmGEBmZmZmZmYjQAAAAAAAABhAAAAAAAAAJECamZmZmZkgQAAAAAAAABhAAAAAAAAAHEAAAAAAAAAaQJqZmZmZmRdAZmZmZmZmFkAzMzMzMzMTQGZmZmZmZiFAAAAAAAAAGkAAAAAAAAAhQAAAAAAAABZAzczMzMzMIkAzMzMzMzMZQJqZmZmZmSNAZmZmZmZmIUCamZmZmZkhQDMzMzMzMyNAMzMzMzMzE0CamZmZmZkRQM3MzMzMzCNAzczMzMzMFkDNzMzMzMweQAAAAAAAACBAzczMzMzMFkDNzMzMzMwaQAAAAAAAACBAAAAAAAAAHkAAAAAAAAAcQM3MzMzMzCNAmpmZmZmZF0DNzMzMzMwcQGZmZmZmZhJAZmZmZmZmIkDNzMzMzMwWQM3MzMzMzCNAAAAAAAAAFECamZmZmZkTQGZmZmZmZhhAZmZmZmZmIEAAAAAAAAAWQDMzMzMzMxtAZmZmZmZmGkCamZmZmZkjQGZmZmZmZiFAmpmZmZmZFUCamZmZmZkfQGZmZmZmZiNAMzMzMzMzH0BmZmZmZmYUQAAAAAAAABpAmpmZmZmZF0CamZmZmZkhQJqZmZmZmRNAmpmZmZmZEUAAAAAAAAAaQJqZmZmZmSBAAAAAAAAAIUAAAAAAAAAWQGZmZmZmZiFAmpmZmZmZH0BmZmZmZmYYQJqZmZmZmRVAzczMzMzMIkBmZmZmZmYgQM3MzMzMzBhAZmZmZmZmI0AAAAAAAAAQQGZmZmZmZiNAMzMzMzMzFUCamZmZmZkdQAAAAAAAABpAZmZmZmZmIUAAAAAAAAAgQM3MzMzMzBpAAAAAAAAAGkBmZmZmZmYQQJqZmZmZmRNAMzMzMzMzIUAzMzMzMzMRQJqZmZmZmRNAZmZmZmZmFkAzMzMzMzMXQAAAAAAAABhAzczMzMzMEECamZmZmZkgQM3MzMzMzBZAMzMzMzMzE0AzMzMzMzMbQJqZmZmZmSFAzczMzMzMEECamZmZmZkZQM3MzMzMzCBAzczMzMzMHEDNzMzMzMwUQM3MzMzMzCFAAAAAAAAAIkBmZmZmZmYjQGZmZmZmZiFAAAAAAAAAGkCamZmZmZkbQM3MzMzMzBhAZmZmZmZmFkDNzMzMzMwWQM3MzMzMzBBAmpmZmZmZH0BmZmZmZmYhQJqZmZmZmRtAAAAAAAAAI0CamZmZmZkRQAAAAAAAABxAMzMzMzMzGUBmZmZmZmYjQJqZmZmZmSFAZmZmZmZmFECamZmZmZkfQM3MzMzMzBhAZmZmZmZmHECamZmZmZkZQM3MzMzMzBZAMzMzMzMzI0CamZmZmZkZQJqZmZmZmR9AAAAAAAAAGkAAAAAAAAAhQDMzMzMzMyJAZmZmZmZmHkCamZmZmZkbQAAAAAAAACNAzczMzMzMFEDNzMzMzMwQQAAAAAAAABxAAAAAAAAAGEDNzMzMzMwSQGZmZmZmZhxAmpmZmZmZF0AAAAAAAAAeQJqZmZmZmRlAMzMzMzMzF0AAAAAAAAASQM3MzMzMzB5AzczMzMzMGkDNzMzMzMwSQJqZmZmZmRFAzczMzMzMEkAzMzMzMzMhQDMzMzMzMxFAMzMzMzMzI0BmZmZmZmYQQM3MzMzMzBJAMzMzMzMzH0AAAAAAAAAWQGZmZmZmZiNAmpmZmZmZEUAAAAAAAAAUQJqZmZmZmRFAzczMzMzMFEAzMzMzMzMdQJqZmZmZmRNAMzMzMzMzIEDNzMzMzMwgQAAAAAAAABZAzczMzMzMIECamZmZmZkjQM3MzMzMzBpAzczMzMzMIkCamZmZmZkZQJqZmZmZmRVAMzMzMzMzIUAAAAAAAAAQQGZmZmZmZh5AMzMzMzMzG0AzMzMzMzMiQAAAAAAAABZAmpmZmZmZH0AAAAAAAAAhQDMzMzMzMyJAAAAAAAAAHkDNzMzMzMwUQAAAAAAAACNAzczMzMzMIUAzMzMzMzMfQM3MzMzMzCFAzczMzMzMHkCamZmZmZkiQM3MzMzMzBhAZmZmZmZmHkAzMzMzMzMdQM3MzMzMzBJAZmZmZmZmFEAzMzMzMzMTQGZmZmZmZhpAAAAAAAAAFkAAAAAAAAAhQDMzMzMzMxNAzczMzMzMIEAzMzMzMzMfQJqZmZmZmSJAzczMzMzMFEAAAAAAAAAaQGZmZmZmZhZAmpmZmZmZHUAzMzMzMzMiQAAAAAAAACBAzczMzMzMHEBmZmZmZmYcQDMzMzMzMyJAZmZmZmZmFkAAAAAAAAAYQJqZmZmZmRVAMzMzMzMzH0DNzMzMzMwjQJqZmZmZmRNAzczMzMzMFEDNzMzMzMwhQDMzMzMzMyJAAAAAAAAAHEAzMzMzMzMjQGZmZmZmZiFAzczMzMzMIkAAAAAAAAAQQAAAAAAAAB5AzczMzMzMEEDNzMzMzMwjQM3MzMzMzBBAzczMzMzMI0AzMzMzMzMXQAAAAAAAABhAAAAAAAAAJEAAAAAAAAAjQGZmZmZmZhpAMzMzMzMzIEBmZmZmZmYjQM3MzMzMzBxAzczMzMzMGEAzMzMzMzMdQDMzMzMzMxFAZmZmZmZmEkAzMzMzMzMXQJqZmZmZmSBAAAAAAAAAIEDNzMzMzMwiQM3MzMzMzBhAmpmZmZmZI0AzMzMzMzMjQJqZmZmZmRNAAAAAAAAAIEAzMzMzMzMfQGZmZmZmZhBAAAAAAAAAFkCamZmZmZkVQGZmZmZmZhRAmpmZmZmZG0AzMzMzMzMfQGZmZmZmZhpAZmZmZmZmIkAzMzMzMzMfQGZmZmZmZiFAZmZmZmZmIkCamZmZmZkgQGZmZmZmZiBAAAAAAAAAHkCamZmZmZkjQGZmZmZmZiFAzczMzMzMGkAAAAAAAAAUQAAAAAAAABxAzczMzMzMIUAAAAAAAAAgQJqZmZmZmRtAMzMzMzMzHUCamZmZmZkbQM3MzMzMzBZAmpmZmZmZGUAzMzMzMzMjQDMzMzMzMxtAAAAAAAAAIkAzMzMzMzMjQM3MzMzMzB5AAAAAAAAAHEAAAAAAAAAaQDMzMzMzMyBAMzMzMzMzEUAAAAAAAAAaQAAAAAAAACNAZmZmZmZmI0AAAAAAAAAjQM3MzMzMzCFAAAAAAAAAGkAzMzMzMzMVQDMzMzMzMyNAzczMzMzMGkBmZmZmZmYeQDMzMzMzMxNAAAAAAAAAFkDNzMzMzMwSQJqZmZmZmRtAAAAAAAAAEkDNzMzMzMwYQGZmZmZmZh5AmpmZmZmZH0AAAAAAAAASQGZmZmZmZiFAZmZmZmZmGECamZmZmZkZQDMzMzMzMyJAZmZmZmZmHEDNzMzMzMweQAAAAAAAABJAzczMzMzMHEDNzMzMzMwgQJqZmZmZmRVAZmZmZmZmI0AAAAAAAAAWQGZmZmZmZhJAZmZmZmZmGkAzMzMzMzMZQM3MzMzMzBBAmpmZmZmZEUDNzMzMzMwaQM3MzMzMzBpAzczMzMzMIEDNzMzMzMwYQAAAAAAAABRAAAAAAAAAGEAAAAAAAAAcQGZmZmZmZhpAMzMzMzMzHUCamZmZmZkgQDMzMzMzMxFAmpmZmZmZI0BmZmZmZmYgQM3MzMzMzBxAZmZmZmZmIUDNzMzMzMwgQGZmZmZmZhxAAAAAAAAAFkAAAAAAAAAhQM3MzMzMzBhAzczMzMzMIUAzMzMzMzMjQJqZmZmZmRVAMzMzMzMzIkAAAAAAAAAiQDMzMzMzMxlAAAAAAAAAI0CamZmZmZkjQM3MzMzMzBpAzczMzMzMHkAAAAAAAAAcQGZmZmZmZhRAzczMzMzMGEBmZmZmZmYYQJqZmZmZmSJAZmZmZmZmHkBmZmZmZmYgQAAAAAAAACFAmpmZmZmZI0BmZmZmZmYhQGZmZmZmZiNAMzMzMzMzEUDNzMzMzMweQDMzMzMzMx1AmpmZmZmZF0AAAAAAAAAUQAAAAAAAACBAZmZmZmZmHEAAAAAAAAAiQM3MzMzMzBpAZmZmZmZmGECamZmZmZkiQAAAAAAAABxAzczMzMzMHEBmZmZmZmYgQM3MzMzMzCBAzczMzMzMGECamZmZmZkdQAAAAAAAABRAmpmZmZmZG0CamZmZmZkTQGZmZmZmZhRAMzMzMzMzIkBmZmZmZmYcQAAAAAAAABRAAAAAAAAAFkBmZmZmZmYiQJqZmZmZmRNAzczMzMzMIUAAAAAAAAAYQM3MzMzMzBBAMzMzMzMzHUAAAAAAAAAaQM3MzMzMzCFAZmZmZmZmI0AzMzMzMzMhQJqZmZmZmRtAzczMzMzMHkAAAAAAAAAjQAAAAAAAABJAZmZmZmZmFkBmZmZmZmYgQDMzMzMzMx1AmpmZmZmZEUDNzMzMzMwWQAAAAAAAABRAAAAAAAAAIkAzMzMzMzMZQM3MzMzMzCJAzczMzMzMHkAAAAAAAAAWQGZmZmZmZhBAZmZmZmZmHkAzMzMzMzMhQJqZmZmZmSBAMzMzMzMzIEAzMzMzMzMhQDMzMzMzMxlAMzMzMzMzF0DNzMzMzMwYQM3MzMzMzB5AMzMzMzMzIEAzMzMzMzMdQM3MzMzMzCBAAAAAAAAAIEAAAAAAAAAjQAAAAAAAABxAmpmZmZmZI0BmZmZmZmYiQM3MzMzMzB5AMzMzMzMzFUCamZmZmZkRQDMzMzMzMxFAzczMzMzMIkCamZmZmZkjQDMzMzMzMxNAMzMzMzMzFUBmZmZmZmYhQAAAAAAAACNAMzMzMzMzFUBmZmZmZmYiQDMzMzMzMyNAmpmZmZmZGUAAAAAAAAASQJqZmZmZmRtAMzMzMzMzH0AAAAAAAAASQDMzMzMzMyFAzczMzMzMFECamZmZmZkZQM3MzMzMzBRAzczMzMzMIUDNzMzMzMwYQM3MzMzMzBpAzczMzMzMHEAAAAAAAAAiQM3MzMzMzBBAzczMzMzMEECamZmZmZkbQJqZmZmZmRFAAAAAAAAAEEAAAAAAAAAhQGZmZmZmZiJAmpmZmZmZI0CamZmZmZkTQJqZmZmZmRFAMzMzMzMzG0AzMzMzMzMiQGZmZmZmZiFAAAAAAAAAFEAAAAAAAAAeQGZmZmZmZiBAzczMzMzMGkCamZmZmZkVQAAAAAAAABxAzczMzMzMEkAAAAAAAAAUQAAAAAAAABRAAAAAAAAAGEAzMzMzMzMZQAAAAAAAACFAAAAAAAAAHkCamZmZmZkZQM3MzMzMzBJAAAAAAAAAGEAAAAAAAAAQQAAAAAAAABZAZmZmZmZmIUCamZmZmZkdQGZmZmZmZhZAMzMzMzMzGUBmZmZmZmYcQDMzMzMzMx9AzczMzMzMI0AzMzMzMzMdQGZmZmZmZhRAzczMzMzMIkAzMzMzMzMXQAAAAAAAACBAmpmZmZmZH0CamZmZmZkXQJqZmZmZmRNAmpmZmZmZIkCamZmZmZkfQJqZmZmZmRdAzczMzMzMI0DNzMzMzMweQGZmZmZmZh5AzczMzMzMHkCamZmZmZkZQJqZmZmZmRFAZmZmZmZmEECamZmZmZkRQAAAAAAAABZAAAAAAAAAEECamZmZmZkiQDMzMzMzMxNAZmZmZmZmEkAzMzMzMzMdQAAAAAAAABhAMzMzMzMzIEDNzMzMzMwiQAAAAAAAABpAAAAAAAAAHEBmZmZmZmYcQGZmZmZmZhpAmpmZmZmZE0CamZmZmZkZQAAAAAAAACBAMzMzMzMzEUBmZmZmZmYYQAAAAAAAAB5AzczMzMzMGkDNzMzMzMwUQJqZmZmZmSFAAAAAAAAAI0BmZmZmZmYeQGZmZmZmZhpAmpmZmZmZG0AzMzMzMzMRQDMzMzMzMx9AAAAAAAAAIEAzMzMzMzMjQDMzMzMzMxFAAAAAAAAAFEBmZmZmZmYiQDMzMzMzMxlAzczMzMzMIUBmZmZmZmYeQDMzMzMzMxNAMzMzMzMzIkBmZmZmZmYYQDMzMzMzMyJAmpmZmZmZIEDNzMzMzMwcQAAAAAAAABhAAAAAAAAAIUBmZmZmZmYaQAAAAAAAABJAMzMzMzMzIEDNzMzMzMwcQGZmZmZmZhhAZmZmZmZmHEBmZmZmZmYUQJqZmZmZmR9AmpmZmZmZHUCamZmZmZkdQGZmZmZmZhpAmpmZmZmZF0DNzMzMzMwhQDMzMzMzMxtAmpmZmZmZIkCamZmZmZkRQDMzMzMzMxNAAAAAAAAAI0DNzMzMzMwhQJqZmZmZmRlAAAAAAAAAGEAzMzMzMzMgQAAAAAAAACJAAAAAAAAAGECamZmZmZkjQAAAAAAAACFAmpmZmZmZIUCamZmZmZkhQAAAAAAAACNAZmZmZmZmFkAzMzMzMzMhQM3MzMzMzBRAMzMzMzMzF0AAAAAAAAAgQAAAAAAAACJAZmZmZmZmEEAzMzMzMzMhQAAAAAAAABxAzczMzMzMIECamZmZmZkdQM3MzMzMzBhAmpmZmZmZE0AAAAAAAAASQGZmZmZmZhZAAAAAAAAAIEBmZmZmZmYWQM3MzMzMzBBAzczMzMzMI0BmZmZmZmYeQGZmZmZmZhpAzczMzMzMEkCamZmZmZkjQDMzMzMzMxlAmpmZmZmZH0DNzMzMzMweQAAAAAAAABJAAAAAAAAAIEDNzMzMzMwWQDMzMzMzMxlAAAAAAAAAGEAAAAAAAAAgQM3MzMzMzBBAMzMzMzMzI0BmZmZmZmYYQGZmZmZmZhZAmpmZmZmZIEAzMzMzMzMfQGZmZmZmZhBAmpmZmZmZIUBmZmZmZmYQQAAAAAAAACJAAAAAAAAAFkCamZmZmZkiQGZmZmZmZhZAZmZmZmZmI0AAAAAAAAAQQGZmZmZmZiJAmpmZmZmZE0CamZmZmZkiQGZmZmZmZhpAMzMzMzMzEUAAAAAAAAAWQDMzMzMzMyBAmpmZmZmZI0DNzMzMzMwiQJqZmZmZmR9AZmZmZmZmFECamZmZmZkbQAAAAAAAACBAAAAAAAAAIEDNzMzMzMwQQAAAAAAAACFAAAAAAAAAIkAzMzMzMzMhQAAAAAAAABhAzczMzMzMGEAAAAAAAAAUQAAAAAAAABpAAAAAAAAAGEAAAAAAAAAUQAAAAAAAABRAZmZmZmZmIkAzMzMzMzMjQM3MzMzMzCBAAAAAAAAAGEDNzMzMzMwaQGZmZmZmZhBAmpmZmZmZF0BmZmZmZmYhQAAAAAAAABJAZmZmZmZmGkDNzMzMzMweQAAAAAAAACFAzczMzMzMFEAzMzMzMzMRQGZmZmZmZh5AAAAAAAAAI0BmZmZmZmYQQGZmZmZmZiJAmpmZmZmZFUAzMzMzMzMXQGZmZmZmZhZAZmZmZmZmFEAzMzMzMzMXQAAAAAAAABRAmpmZmZmZH0AAAAAAAAAYQAAAAAAAABRAzczMzMzMIUCamZmZmZkXQJqZmZmZmRdAZmZmZmZmI0AzMzMzMzMhQAAAAAAAABBAzczMzMzMEEBmZmZmZmYiQGZmZmZmZiJAAAAAAAAAFEAAAAAAAAAkQJqZmZmZmSFAzczMzMzMEEAzMzMzMzMZQGZmZmZmZiBAZmZmZmZmFEAAAAAAAAAUQAAAAAAAABxAMzMzMzMzH0AzMzMzMzMRQAAAAAAAABxAZmZmZmZmGkAzMzMzMzMdQAAAAAAAABpAmpmZmZmZE0AzMzMzMzMRQJqZmZmZmSJAZmZmZmZmHEAzMzMzMzMjQM3MzMzMzBhAzczMzMzMI0CamZmZmZkXQDMzMzMzMxlAAAAAAAAAEEBmZmZmZmYYQAAAAAAAABJAMzMzMzMzIUAAAAAAAAAYQAAAAAAAACNAzczMzMzMI0AAAAAAAAAeQGZmZmZmZh5AAAAAAAAAFEDNzMzMzMwaQAAAAAAAACNAMzMzMzMzG0BmZmZmZmYWQM3MzMzMzBxAMzMzMzMzIEAzMzMzMzMhQM3MzMzMzCJAzczMzMzMIUDNzMzMzMwQQAAAAAAAABRAmpmZmZmZIUAzMzMzMzMVQGZmZmZmZhJAAAAAAAAAHkBmZmZmZmYUQM3MzMzMzBBAMzMzMzMzIEAAAAAAAAAYQJqZmZmZmR9AmpmZmZmZIUBmZmZmZmYaQM3MzMzMzBhAzczMzMzMEEAzMzMzMzMdQDMzMzMzMyFAMzMzMzMzG0BmZmZmZmYeQDMzMzMzMxdAZmZmZmZmEECamZmZmZkiQDMzMzMzMxtAZmZmZmZmIUAzMzMzMzMZQGZmZmZmZhRAAAAAAAAAHEDNzMzMzMwUQGZmZmZmZhpAAAAAAAAAGkAAAAAAAAAiQM3MzMzMzBRAMzMzMzMzG0BmZmZmZmYeQM3MzMzMzBxAZmZmZmZmHEAAAAAAAAAjQGZmZmZmZhRAZmZmZmZmHkCamZmZmZkjQGZmZmZmZhRAAAAAAAAAHkCamZmZmZkdQM3MzMzMzBBAmpmZmZmZF0CamZmZmZkbQGZmZmZmZhpAzczMzMzMFkAzMzMzMzMVQM3MzMzMzBBAMzMzMzMzHUAzMzMzMzMVQM3MzMzMzBJAmpmZmZmZH0DNzMzMzMwhQJqZmZmZmSJAzczMzMzMEkBmZmZmZmYhQGZmZmZmZh5AzczMzMzMFkAzMzMzMzMbQJqZmZmZmRVAZmZmZmZmHEAzMzMzMzMfQM3MzMzMzCBAmpmZmZmZI0CamZmZmZkjQJqZmZmZmR1AzczMzMzMGkCamZmZmZkZQDMzMzMzMxdAzczMzMzMHECamZmZmZkiQAAAAAAAACNAAAAAAAAAIkAAAAAAAAAiQM3MzMzMzBpAAAAAAAAAFkCamZmZmZkVQGZmZmZmZiBAAAAAAAAAHEAAAAAAAAAhQJqZmZmZmRNAZmZmZmZmFEAAAAAAAAAaQJqZmZmZmSNAzczMzMzMIECamZmZmZkdQGZmZmZmZhhAAAAAAAAAGEAAAAAAAAAhQDMzMzMzMxFAzczMzMzMGEAzMzMzMzMRQM3MzMzMzCBAAAAAAAAAEkAAAAAAAAAYQJqZmZmZmSFAZmZmZmZmGkCamZmZmZkXQM3MzMzMzBhAmpmZmZmZEUDNzMzMzMweQGZmZmZmZhBAZmZmZmZmGkA=",
          "dtype": "f8"
         },
         "x0": " ",
         "xaxis": "x",
         "y0": " ",
         "yaxis": "y"
        }
       ],
       "layout": {
        "boxmode": "group",
        "legend": {
         "tracegroupgap": 0
        },
        "margin": {
         "t": 60
        },
        "template": {
         "data": {
          "bar": [
           {
            "error_x": {
             "color": "#2a3f5f"
            },
            "error_y": {
             "color": "#2a3f5f"
            },
            "marker": {
             "line": {
              "color": "white",
              "width": 0.5
             },
             "pattern": {
              "fillmode": "overlay",
              "size": 10,
              "solidity": 0.2
             }
            },
            "type": "bar"
           }
          ],
          "barpolar": [
           {
            "marker": {
             "line": {
              "color": "white",
              "width": 0.5
             },
             "pattern": {
              "fillmode": "overlay",
              "size": 10,
              "solidity": 0.2
             }
            },
            "type": "barpolar"
           }
          ],
          "carpet": [
           {
            "aaxis": {
             "endlinecolor": "#2a3f5f",
             "gridcolor": "#C8D4E3",
             "linecolor": "#C8D4E3",
             "minorgridcolor": "#C8D4E3",
             "startlinecolor": "#2a3f5f"
            },
            "baxis": {
             "endlinecolor": "#2a3f5f",
             "gridcolor": "#C8D4E3",
             "linecolor": "#C8D4E3",
             "minorgridcolor": "#C8D4E3",
             "startlinecolor": "#2a3f5f"
            },
            "type": "carpet"
           }
          ],
          "choropleth": [
           {
            "colorbar": {
             "outlinewidth": 0,
             "ticks": ""
            },
            "type": "choropleth"
           }
          ],
          "contour": [
           {
            "colorbar": {
             "outlinewidth": 0,
             "ticks": ""
            },
            "colorscale": [
             [
              0,
              "#0d0887"
             ],
             [
              0.1111111111111111,
              "#46039f"
             ],
             [
              0.2222222222222222,
              "#7201a8"
             ],
             [
              0.3333333333333333,
              "#9c179e"
             ],
             [
              0.4444444444444444,
              "#bd3786"
             ],
             [
              0.5555555555555556,
              "#d8576b"
             ],
             [
              0.6666666666666666,
              "#ed7953"
             ],
             [
              0.7777777777777778,
              "#fb9f3a"
             ],
             [
              0.8888888888888888,
              "#fdca26"
             ],
             [
              1,
              "#f0f921"
             ]
            ],
            "type": "contour"
           }
          ],
          "contourcarpet": [
           {
            "colorbar": {
             "outlinewidth": 0,
             "ticks": ""
            },
            "type": "contourcarpet"
           }
          ],
          "heatmap": [
           {
            "colorbar": {
             "outlinewidth": 0,
             "ticks": ""
            },
            "colorscale": [
             [
              0,
              "#0d0887"
             ],
             [
              0.1111111111111111,
              "#46039f"
             ],
             [
              0.2222222222222222,
              "#7201a8"
             ],
             [
              0.3333333333333333,
              "#9c179e"
             ],
             [
              0.4444444444444444,
              "#bd3786"
             ],
             [
              0.5555555555555556,
              "#d8576b"
             ],
             [
              0.6666666666666666,
              "#ed7953"
             ],
             [
              0.7777777777777778,
              "#fb9f3a"
             ],
             [
              0.8888888888888888,
              "#fdca26"
             ],
             [
              1,
              "#f0f921"
             ]
            ],
            "type": "heatmap"
           }
          ],
          "histogram": [
           {
            "marker": {
             "pattern": {
              "fillmode": "overlay",
              "size": 10,
              "solidity": 0.2
             }
            },
            "type": "histogram"
           }
          ],
          "histogram2d": [
           {
            "colorbar": {
             "outlinewidth": 0,
             "ticks": ""
            },
            "colorscale": [
             [
              0,
              "#0d0887"
             ],
             [
              0.1111111111111111,
              "#46039f"
             ],
             [
              0.2222222222222222,
              "#7201a8"
             ],
             [
              0.3333333333333333,
              "#9c179e"
             ],
             [
              0.4444444444444444,
              "#bd3786"
             ],
             [
              0.5555555555555556,
              "#d8576b"
             ],
             [
              0.6666666666666666,
              "#ed7953"
             ],
             [
              0.7777777777777778,
              "#fb9f3a"
             ],
             [
              0.8888888888888888,
              "#fdca26"
             ],
             [
              1,
              "#f0f921"
             ]
            ],
            "type": "histogram2d"
           }
          ],
          "histogram2dcontour": [
           {
            "colorbar": {
             "outlinewidth": 0,
             "ticks": ""
            },
            "colorscale": [
             [
              0,
              "#0d0887"
             ],
             [
              0.1111111111111111,
              "#46039f"
             ],
             [
              0.2222222222222222,
              "#7201a8"
             ],
             [
              0.3333333333333333,
              "#9c179e"
             ],
             [
              0.4444444444444444,
              "#bd3786"
             ],
             [
              0.5555555555555556,
              "#d8576b"
             ],
             [
              0.6666666666666666,
              "#ed7953"
             ],
             [
              0.7777777777777778,
              "#fb9f3a"
             ],
             [
              0.8888888888888888,
              "#fdca26"
             ],
             [
              1,
              "#f0f921"
             ]
            ],
            "type": "histogram2dcontour"
           }
          ],
          "mesh3d": [
           {
            "colorbar": {
             "outlinewidth": 0,
             "ticks": ""
            },
            "type": "mesh3d"
           }
          ],
          "parcoords": [
           {
            "line": {
             "colorbar": {
              "outlinewidth": 0,
              "ticks": ""
             }
            },
            "type": "parcoords"
           }
          ],
          "pie": [
           {
            "automargin": true,
            "type": "pie"
           }
          ],
          "scatter": [
           {
            "fillpattern": {
             "fillmode": "overlay",
             "size": 10,
             "solidity": 0.2
            },
            "type": "scatter"
           }
          ],
          "scatter3d": [
           {
            "line": {
             "colorbar": {
              "outlinewidth": 0,
              "ticks": ""
             }
            },
            "marker": {
             "colorbar": {
              "outlinewidth": 0,
              "ticks": ""
             }
            },
            "type": "scatter3d"
           }
          ],
          "scattercarpet": [
           {
            "marker": {
             "colorbar": {
              "outlinewidth": 0,
              "ticks": ""
             }
            },
            "type": "scattercarpet"
           }
          ],
          "scattergeo": [
           {
            "marker": {
             "colorbar": {
              "outlinewidth": 0,
              "ticks": ""
             }
            },
            "type": "scattergeo"
           }
          ],
          "scattergl": [
           {
            "marker": {
             "colorbar": {
              "outlinewidth": 0,
              "ticks": ""
             }
            },
            "type": "scattergl"
           }
          ],
          "scattermap": [
           {
            "marker": {
             "colorbar": {
              "outlinewidth": 0,
              "ticks": ""
             }
            },
            "type": "scattermap"
           }
          ],
          "scattermapbox": [
           {
            "marker": {
             "colorbar": {
              "outlinewidth": 0,
              "ticks": ""
             }
            },
            "type": "scattermapbox"
           }
          ],
          "scatterpolar": [
           {
            "marker": {
             "colorbar": {
              "outlinewidth": 0,
              "ticks": ""
             }
            },
            "type": "scatterpolar"
           }
          ],
          "scatterpolargl": [
           {
            "marker": {
             "colorbar": {
              "outlinewidth": 0,
              "ticks": ""
             }
            },
            "type": "scatterpolargl"
           }
          ],
          "scatterternary": [
           {
            "marker": {
             "colorbar": {
              "outlinewidth": 0,
              "ticks": ""
             }
            },
            "type": "scatterternary"
           }
          ],
          "surface": [
           {
            "colorbar": {
             "outlinewidth": 0,
             "ticks": ""
            },
            "colorscale": [
             [
              0,
              "#0d0887"
             ],
             [
              0.1111111111111111,
              "#46039f"
             ],
             [
              0.2222222222222222,
              "#7201a8"
             ],
             [
              0.3333333333333333,
              "#9c179e"
             ],
             [
              0.4444444444444444,
              "#bd3786"
             ],
             [
              0.5555555555555556,
              "#d8576b"
             ],
             [
              0.6666666666666666,
              "#ed7953"
             ],
             [
              0.7777777777777778,
              "#fb9f3a"
             ],
             [
              0.8888888888888888,
              "#fdca26"
             ],
             [
              1,
              "#f0f921"
             ]
            ],
            "type": "surface"
           }
          ],
          "table": [
           {
            "cells": {
             "fill": {
              "color": "#EBF0F8"
             },
             "line": {
              "color": "white"
             }
            },
            "header": {
             "fill": {
              "color": "#C8D4E3"
             },
             "line": {
              "color": "white"
             }
            },
            "type": "table"
           }
          ]
         },
         "layout": {
          "annotationdefaults": {
           "arrowcolor": "#2a3f5f",
           "arrowhead": 0,
           "arrowwidth": 1
          },
          "autotypenumbers": "strict",
          "coloraxis": {
           "colorbar": {
            "outlinewidth": 0,
            "ticks": ""
           }
          },
          "colorscale": {
           "diverging": [
            [
             0,
             "#8e0152"
            ],
            [
             0.1,
             "#c51b7d"
            ],
            [
             0.2,
             "#de77ae"
            ],
            [
             0.3,
             "#f1b6da"
            ],
            [
             0.4,
             "#fde0ef"
            ],
            [
             0.5,
             "#f7f7f7"
            ],
            [
             0.6,
             "#e6f5d0"
            ],
            [
             0.7,
             "#b8e186"
            ],
            [
             0.8,
             "#7fbc41"
            ],
            [
             0.9,
             "#4d9221"
            ],
            [
             1,
             "#276419"
            ]
           ],
           "sequential": [
            [
             0,
             "#0d0887"
            ],
            [
             0.1111111111111111,
             "#46039f"
            ],
            [
             0.2222222222222222,
             "#7201a8"
            ],
            [
             0.3333333333333333,
             "#9c179e"
            ],
            [
             0.4444444444444444,
             "#bd3786"
            ],
            [
             0.5555555555555556,
             "#d8576b"
            ],
            [
             0.6666666666666666,
             "#ed7953"
            ],
            [
             0.7777777777777778,
             "#fb9f3a"
            ],
            [
             0.8888888888888888,
             "#fdca26"
            ],
            [
             1,
             "#f0f921"
            ]
           ],
           "sequentialminus": [
            [
             0,
             "#0d0887"
            ],
            [
             0.1111111111111111,
             "#46039f"
            ],
            [
             0.2222222222222222,
             "#7201a8"
            ],
            [
             0.3333333333333333,
             "#9c179e"
            ],
            [
             0.4444444444444444,
             "#bd3786"
            ],
            [
             0.5555555555555556,
             "#d8576b"
            ],
            [
             0.6666666666666666,
             "#ed7953"
            ],
            [
             0.7777777777777778,
             "#fb9f3a"
            ],
            [
             0.8888888888888888,
             "#fdca26"
            ],
            [
             1,
             "#f0f921"
            ]
           ]
          },
          "colorway": [
           "#636efa",
           "#EF553B",
           "#00cc96",
           "#ab63fa",
           "#FFA15A",
           "#19d3f3",
           "#FF6692",
           "#B6E880",
           "#FF97FF",
           "#FECB52"
          ],
          "font": {
           "color": "#2a3f5f"
          },
          "geo": {
           "bgcolor": "white",
           "lakecolor": "white",
           "landcolor": "white",
           "showlakes": true,
           "showland": true,
           "subunitcolor": "#C8D4E3"
          },
          "hoverlabel": {
           "align": "left"
          },
          "hovermode": "closest",
          "mapbox": {
           "style": "light"
          },
          "paper_bgcolor": "white",
          "plot_bgcolor": "white",
          "polar": {
           "angularaxis": {
            "gridcolor": "#EBF0F8",
            "linecolor": "#EBF0F8",
            "ticks": ""
           },
           "bgcolor": "white",
           "radialaxis": {
            "gridcolor": "#EBF0F8",
            "linecolor": "#EBF0F8",
            "ticks": ""
           }
          },
          "scene": {
           "xaxis": {
            "backgroundcolor": "white",
            "gridcolor": "#DFE8F3",
            "gridwidth": 2,
            "linecolor": "#EBF0F8",
            "showbackground": true,
            "ticks": "",
            "zerolinecolor": "#EBF0F8"
           },
           "yaxis": {
            "backgroundcolor": "white",
            "gridcolor": "#DFE8F3",
            "gridwidth": 2,
            "linecolor": "#EBF0F8",
            "showbackground": true,
            "ticks": "",
            "zerolinecolor": "#EBF0F8"
           },
           "zaxis": {
            "backgroundcolor": "white",
            "gridcolor": "#DFE8F3",
            "gridwidth": 2,
            "linecolor": "#EBF0F8",
            "showbackground": true,
            "ticks": "",
            "zerolinecolor": "#EBF0F8"
           }
          },
          "shapedefaults": {
           "line": {
            "color": "#2a3f5f"
           }
          },
          "ternary": {
           "aaxis": {
            "gridcolor": "#DFE8F3",
            "linecolor": "#A2B1C6",
            "ticks": ""
           },
           "baxis": {
            "gridcolor": "#DFE8F3",
            "linecolor": "#A2B1C6",
            "ticks": ""
           },
           "bgcolor": "white",
           "caxis": {
            "gridcolor": "#DFE8F3",
            "linecolor": "#A2B1C6",
            "ticks": ""
           }
          },
          "title": {
           "x": 0.05
          },
          "xaxis": {
           "automargin": true,
           "gridcolor": "#EBF0F8",
           "linecolor": "#EBF0F8",
           "ticks": "",
           "title": {
            "standoff": 15
           },
           "zerolinecolor": "#EBF0F8",
           "zerolinewidth": 2
          },
          "yaxis": {
           "automargin": true,
           "gridcolor": "#EBF0F8",
           "linecolor": "#EBF0F8",
           "ticks": "",
           "title": {
            "standoff": 15
           },
           "zerolinecolor": "#EBF0F8",
           "zerolinewidth": 2
          }
         }
        },
        "xaxis": {
         "anchor": "y",
         "domain": [
          0,
          1
         ],
         "title": {
          "text": "Rating"
         }
        },
        "yaxis": {
         "anchor": "x",
         "domain": [
          0,
          1
         ]
        }
       }
      }
     },
     "metadata": {},
     "output_type": "display_data"
    }
   ],
   "source": [
    "px.box(data_frame=df,x='Rating')"
   ]
  },
  {
   "cell_type": "code",
   "execution_count": 18,
   "id": "64b5f924",
   "metadata": {},
   "outputs": [],
   "source": [
    "corr=df.corr(numeric_only=True).__round__(2)"
   ]
  },
  {
   "cell_type": "code",
   "execution_count": 19,
   "id": "05ea7ebf",
   "metadata": {},
   "outputs": [
    {
     "data": {
      "application/vnd.plotly.v1+json": {
       "config": {
        "plotlyServerURL": "https://plot.ly"
       },
       "data": [
        {
         "coloraxis": "coloraxis",
         "hovertemplate": "x: %{x}<br>y: %{y}<br>color: %{z}<extra></extra>",
         "name": "0",
         "texttemplate": "%{z}",
         "type": "heatmap",
         "x": [
          "Unit price",
          "Quantity",
          "Tax 5%",
          "Total",
          "cogs",
          "gross income",
          "Rating"
         ],
         "xaxis": "x",
         "y": [
          "Unit price",
          "Quantity",
          "Tax 5%",
          "Total",
          "cogs",
          "gross income",
          "Rating"
         ],
         "yaxis": "y",
         "z": {
          "bdata": "AAAAAAAA8D97FK5H4XqEPylcj8L1KOQ/KVyPwvUo5D8pXI/C9SjkPylcj8L1KOQ/exSuR+F6hL97FK5H4XqEPwAAAAAAAPA/uB6F61G45j+4HoXrUbjmP7gehetRuOY/uB6F61G45j97FK5H4XqUvylcj8L1KOQ/uB6F61G45j8AAAAAAADwPwAAAAAAAPA/AAAAAAAA8D8AAAAAAADwP3sUrkfheqS/KVyPwvUo5D+4HoXrUbjmPwAAAAAAAPA/AAAAAAAA8D8AAAAAAADwPwAAAAAAAPA/exSuR+F6pL8pXI/C9SjkP7gehetRuOY/AAAAAAAA8D8AAAAAAADwPwAAAAAAAPA/AAAAAAAA8D97FK5H4Xqkvylcj8L1KOQ/uB6F61G45j8AAAAAAADwPwAAAAAAAPA/AAAAAAAA8D8AAAAAAADwP3sUrkfheqS/exSuR+F6hL97FK5H4XqUv3sUrkfheqS/exSuR+F6pL97FK5H4Xqkv3sUrkfheqS/AAAAAAAA8D8=",
          "dtype": "f8",
          "shape": "7, 7"
         }
        }
       ],
       "layout": {
        "coloraxis": {
         "colorscale": [
          [
           0,
           "#0d0887"
          ],
          [
           0.1111111111111111,
           "#46039f"
          ],
          [
           0.2222222222222222,
           "#7201a8"
          ],
          [
           0.3333333333333333,
           "#9c179e"
          ],
          [
           0.4444444444444444,
           "#bd3786"
          ],
          [
           0.5555555555555556,
           "#d8576b"
          ],
          [
           0.6666666666666666,
           "#ed7953"
          ],
          [
           0.7777777777777778,
           "#fb9f3a"
          ],
          [
           0.8888888888888888,
           "#fdca26"
          ],
          [
           1,
           "#f0f921"
          ]
         ]
        },
        "margin": {
         "t": 60
        },
        "template": {
         "data": {
          "bar": [
           {
            "error_x": {
             "color": "#2a3f5f"
            },
            "error_y": {
             "color": "#2a3f5f"
            },
            "marker": {
             "line": {
              "color": "white",
              "width": 0.5
             },
             "pattern": {
              "fillmode": "overlay",
              "size": 10,
              "solidity": 0.2
             }
            },
            "type": "bar"
           }
          ],
          "barpolar": [
           {
            "marker": {
             "line": {
              "color": "white",
              "width": 0.5
             },
             "pattern": {
              "fillmode": "overlay",
              "size": 10,
              "solidity": 0.2
             }
            },
            "type": "barpolar"
           }
          ],
          "carpet": [
           {
            "aaxis": {
             "endlinecolor": "#2a3f5f",
             "gridcolor": "#C8D4E3",
             "linecolor": "#C8D4E3",
             "minorgridcolor": "#C8D4E3",
             "startlinecolor": "#2a3f5f"
            },
            "baxis": {
             "endlinecolor": "#2a3f5f",
             "gridcolor": "#C8D4E3",
             "linecolor": "#C8D4E3",
             "minorgridcolor": "#C8D4E3",
             "startlinecolor": "#2a3f5f"
            },
            "type": "carpet"
           }
          ],
          "choropleth": [
           {
            "colorbar": {
             "outlinewidth": 0,
             "ticks": ""
            },
            "type": "choropleth"
           }
          ],
          "contour": [
           {
            "colorbar": {
             "outlinewidth": 0,
             "ticks": ""
            },
            "colorscale": [
             [
              0,
              "#0d0887"
             ],
             [
              0.1111111111111111,
              "#46039f"
             ],
             [
              0.2222222222222222,
              "#7201a8"
             ],
             [
              0.3333333333333333,
              "#9c179e"
             ],
             [
              0.4444444444444444,
              "#bd3786"
             ],
             [
              0.5555555555555556,
              "#d8576b"
             ],
             [
              0.6666666666666666,
              "#ed7953"
             ],
             [
              0.7777777777777778,
              "#fb9f3a"
             ],
             [
              0.8888888888888888,
              "#fdca26"
             ],
             [
              1,
              "#f0f921"
             ]
            ],
            "type": "contour"
           }
          ],
          "contourcarpet": [
           {
            "colorbar": {
             "outlinewidth": 0,
             "ticks": ""
            },
            "type": "contourcarpet"
           }
          ],
          "heatmap": [
           {
            "colorbar": {
             "outlinewidth": 0,
             "ticks": ""
            },
            "colorscale": [
             [
              0,
              "#0d0887"
             ],
             [
              0.1111111111111111,
              "#46039f"
             ],
             [
              0.2222222222222222,
              "#7201a8"
             ],
             [
              0.3333333333333333,
              "#9c179e"
             ],
             [
              0.4444444444444444,
              "#bd3786"
             ],
             [
              0.5555555555555556,
              "#d8576b"
             ],
             [
              0.6666666666666666,
              "#ed7953"
             ],
             [
              0.7777777777777778,
              "#fb9f3a"
             ],
             [
              0.8888888888888888,
              "#fdca26"
             ],
             [
              1,
              "#f0f921"
             ]
            ],
            "type": "heatmap"
           }
          ],
          "histogram": [
           {
            "marker": {
             "pattern": {
              "fillmode": "overlay",
              "size": 10,
              "solidity": 0.2
             }
            },
            "type": "histogram"
           }
          ],
          "histogram2d": [
           {
            "colorbar": {
             "outlinewidth": 0,
             "ticks": ""
            },
            "colorscale": [
             [
              0,
              "#0d0887"
             ],
             [
              0.1111111111111111,
              "#46039f"
             ],
             [
              0.2222222222222222,
              "#7201a8"
             ],
             [
              0.3333333333333333,
              "#9c179e"
             ],
             [
              0.4444444444444444,
              "#bd3786"
             ],
             [
              0.5555555555555556,
              "#d8576b"
             ],
             [
              0.6666666666666666,
              "#ed7953"
             ],
             [
              0.7777777777777778,
              "#fb9f3a"
             ],
             [
              0.8888888888888888,
              "#fdca26"
             ],
             [
              1,
              "#f0f921"
             ]
            ],
            "type": "histogram2d"
           }
          ],
          "histogram2dcontour": [
           {
            "colorbar": {
             "outlinewidth": 0,
             "ticks": ""
            },
            "colorscale": [
             [
              0,
              "#0d0887"
             ],
             [
              0.1111111111111111,
              "#46039f"
             ],
             [
              0.2222222222222222,
              "#7201a8"
             ],
             [
              0.3333333333333333,
              "#9c179e"
             ],
             [
              0.4444444444444444,
              "#bd3786"
             ],
             [
              0.5555555555555556,
              "#d8576b"
             ],
             [
              0.6666666666666666,
              "#ed7953"
             ],
             [
              0.7777777777777778,
              "#fb9f3a"
             ],
             [
              0.8888888888888888,
              "#fdca26"
             ],
             [
              1,
              "#f0f921"
             ]
            ],
            "type": "histogram2dcontour"
           }
          ],
          "mesh3d": [
           {
            "colorbar": {
             "outlinewidth": 0,
             "ticks": ""
            },
            "type": "mesh3d"
           }
          ],
          "parcoords": [
           {
            "line": {
             "colorbar": {
              "outlinewidth": 0,
              "ticks": ""
             }
            },
            "type": "parcoords"
           }
          ],
          "pie": [
           {
            "automargin": true,
            "type": "pie"
           }
          ],
          "scatter": [
           {
            "fillpattern": {
             "fillmode": "overlay",
             "size": 10,
             "solidity": 0.2
            },
            "type": "scatter"
           }
          ],
          "scatter3d": [
           {
            "line": {
             "colorbar": {
              "outlinewidth": 0,
              "ticks": ""
             }
            },
            "marker": {
             "colorbar": {
              "outlinewidth": 0,
              "ticks": ""
             }
            },
            "type": "scatter3d"
           }
          ],
          "scattercarpet": [
           {
            "marker": {
             "colorbar": {
              "outlinewidth": 0,
              "ticks": ""
             }
            },
            "type": "scattercarpet"
           }
          ],
          "scattergeo": [
           {
            "marker": {
             "colorbar": {
              "outlinewidth": 0,
              "ticks": ""
             }
            },
            "type": "scattergeo"
           }
          ],
          "scattergl": [
           {
            "marker": {
             "colorbar": {
              "outlinewidth": 0,
              "ticks": ""
             }
            },
            "type": "scattergl"
           }
          ],
          "scattermap": [
           {
            "marker": {
             "colorbar": {
              "outlinewidth": 0,
              "ticks": ""
             }
            },
            "type": "scattermap"
           }
          ],
          "scattermapbox": [
           {
            "marker": {
             "colorbar": {
              "outlinewidth": 0,
              "ticks": ""
             }
            },
            "type": "scattermapbox"
           }
          ],
          "scatterpolar": [
           {
            "marker": {
             "colorbar": {
              "outlinewidth": 0,
              "ticks": ""
             }
            },
            "type": "scatterpolar"
           }
          ],
          "scatterpolargl": [
           {
            "marker": {
             "colorbar": {
              "outlinewidth": 0,
              "ticks": ""
             }
            },
            "type": "scatterpolargl"
           }
          ],
          "scatterternary": [
           {
            "marker": {
             "colorbar": {
              "outlinewidth": 0,
              "ticks": ""
             }
            },
            "type": "scatterternary"
           }
          ],
          "surface": [
           {
            "colorbar": {
             "outlinewidth": 0,
             "ticks": ""
            },
            "colorscale": [
             [
              0,
              "#0d0887"
             ],
             [
              0.1111111111111111,
              "#46039f"
             ],
             [
              0.2222222222222222,
              "#7201a8"
             ],
             [
              0.3333333333333333,
              "#9c179e"
             ],
             [
              0.4444444444444444,
              "#bd3786"
             ],
             [
              0.5555555555555556,
              "#d8576b"
             ],
             [
              0.6666666666666666,
              "#ed7953"
             ],
             [
              0.7777777777777778,
              "#fb9f3a"
             ],
             [
              0.8888888888888888,
              "#fdca26"
             ],
             [
              1,
              "#f0f921"
             ]
            ],
            "type": "surface"
           }
          ],
          "table": [
           {
            "cells": {
             "fill": {
              "color": "#EBF0F8"
             },
             "line": {
              "color": "white"
             }
            },
            "header": {
             "fill": {
              "color": "#C8D4E3"
             },
             "line": {
              "color": "white"
             }
            },
            "type": "table"
           }
          ]
         },
         "layout": {
          "annotationdefaults": {
           "arrowcolor": "#2a3f5f",
           "arrowhead": 0,
           "arrowwidth": 1
          },
          "autotypenumbers": "strict",
          "coloraxis": {
           "colorbar": {
            "outlinewidth": 0,
            "ticks": ""
           }
          },
          "colorscale": {
           "diverging": [
            [
             0,
             "#8e0152"
            ],
            [
             0.1,
             "#c51b7d"
            ],
            [
             0.2,
             "#de77ae"
            ],
            [
             0.3,
             "#f1b6da"
            ],
            [
             0.4,
             "#fde0ef"
            ],
            [
             0.5,
             "#f7f7f7"
            ],
            [
             0.6,
             "#e6f5d0"
            ],
            [
             0.7,
             "#b8e186"
            ],
            [
             0.8,
             "#7fbc41"
            ],
            [
             0.9,
             "#4d9221"
            ],
            [
             1,
             "#276419"
            ]
           ],
           "sequential": [
            [
             0,
             "#0d0887"
            ],
            [
             0.1111111111111111,
             "#46039f"
            ],
            [
             0.2222222222222222,
             "#7201a8"
            ],
            [
             0.3333333333333333,
             "#9c179e"
            ],
            [
             0.4444444444444444,
             "#bd3786"
            ],
            [
             0.5555555555555556,
             "#d8576b"
            ],
            [
             0.6666666666666666,
             "#ed7953"
            ],
            [
             0.7777777777777778,
             "#fb9f3a"
            ],
            [
             0.8888888888888888,
             "#fdca26"
            ],
            [
             1,
             "#f0f921"
            ]
           ],
           "sequentialminus": [
            [
             0,
             "#0d0887"
            ],
            [
             0.1111111111111111,
             "#46039f"
            ],
            [
             0.2222222222222222,
             "#7201a8"
            ],
            [
             0.3333333333333333,
             "#9c179e"
            ],
            [
             0.4444444444444444,
             "#bd3786"
            ],
            [
             0.5555555555555556,
             "#d8576b"
            ],
            [
             0.6666666666666666,
             "#ed7953"
            ],
            [
             0.7777777777777778,
             "#fb9f3a"
            ],
            [
             0.8888888888888888,
             "#fdca26"
            ],
            [
             1,
             "#f0f921"
            ]
           ]
          },
          "colorway": [
           "#636efa",
           "#EF553B",
           "#00cc96",
           "#ab63fa",
           "#FFA15A",
           "#19d3f3",
           "#FF6692",
           "#B6E880",
           "#FF97FF",
           "#FECB52"
          ],
          "font": {
           "color": "#2a3f5f"
          },
          "geo": {
           "bgcolor": "white",
           "lakecolor": "white",
           "landcolor": "white",
           "showlakes": true,
           "showland": true,
           "subunitcolor": "#C8D4E3"
          },
          "hoverlabel": {
           "align": "left"
          },
          "hovermode": "closest",
          "mapbox": {
           "style": "light"
          },
          "paper_bgcolor": "white",
          "plot_bgcolor": "white",
          "polar": {
           "angularaxis": {
            "gridcolor": "#EBF0F8",
            "linecolor": "#EBF0F8",
            "ticks": ""
           },
           "bgcolor": "white",
           "radialaxis": {
            "gridcolor": "#EBF0F8",
            "linecolor": "#EBF0F8",
            "ticks": ""
           }
          },
          "scene": {
           "xaxis": {
            "backgroundcolor": "white",
            "gridcolor": "#DFE8F3",
            "gridwidth": 2,
            "linecolor": "#EBF0F8",
            "showbackground": true,
            "ticks": "",
            "zerolinecolor": "#EBF0F8"
           },
           "yaxis": {
            "backgroundcolor": "white",
            "gridcolor": "#DFE8F3",
            "gridwidth": 2,
            "linecolor": "#EBF0F8",
            "showbackground": true,
            "ticks": "",
            "zerolinecolor": "#EBF0F8"
           },
           "zaxis": {
            "backgroundcolor": "white",
            "gridcolor": "#DFE8F3",
            "gridwidth": 2,
            "linecolor": "#EBF0F8",
            "showbackground": true,
            "ticks": "",
            "zerolinecolor": "#EBF0F8"
           }
          },
          "shapedefaults": {
           "line": {
            "color": "#2a3f5f"
           }
          },
          "ternary": {
           "aaxis": {
            "gridcolor": "#DFE8F3",
            "linecolor": "#A2B1C6",
            "ticks": ""
           },
           "baxis": {
            "gridcolor": "#DFE8F3",
            "linecolor": "#A2B1C6",
            "ticks": ""
           },
           "bgcolor": "white",
           "caxis": {
            "gridcolor": "#DFE8F3",
            "linecolor": "#A2B1C6",
            "ticks": ""
           }
          },
          "title": {
           "x": 0.05
          },
          "xaxis": {
           "automargin": true,
           "gridcolor": "#EBF0F8",
           "linecolor": "#EBF0F8",
           "ticks": "",
           "title": {
            "standoff": 15
           },
           "zerolinecolor": "#EBF0F8",
           "zerolinewidth": 2
          },
          "yaxis": {
           "automargin": true,
           "gridcolor": "#EBF0F8",
           "linecolor": "#EBF0F8",
           "ticks": "",
           "title": {
            "standoff": 15
           },
           "zerolinecolor": "#EBF0F8",
           "zerolinewidth": 2
          }
         }
        },
        "xaxis": {
         "anchor": "y",
         "constrain": "domain",
         "domain": [
          0,
          1
         ],
         "scaleanchor": "y"
        },
        "yaxis": {
         "anchor": "x",
         "autorange": "reversed",
         "constrain": "domain",
         "domain": [
          0,
          1
         ]
        }
       }
      }
     },
     "metadata": {},
     "output_type": "display_data"
    }
   ],
   "source": [
    "px.imshow(corr,text_auto=True)"
   ]
  },
  {
   "cell_type": "code",
   "execution_count": 20,
   "id": "83abca4e",
   "metadata": {},
   "outputs": [
    {
     "data": {
      "text/html": [
       "<div>\n",
       "<style scoped>\n",
       "    .dataframe tbody tr th:only-of-type {\n",
       "        vertical-align: middle;\n",
       "    }\n",
       "\n",
       "    .dataframe tbody tr th {\n",
       "        vertical-align: top;\n",
       "    }\n",
       "\n",
       "    .dataframe thead th {\n",
       "        text-align: right;\n",
       "    }\n",
       "</style>\n",
       "<table border=\"1\" class=\"dataframe\">\n",
       "  <thead>\n",
       "    <tr style=\"text-align: right;\">\n",
       "      <th></th>\n",
       "      <th>Branch</th>\n",
       "      <th>Total</th>\n",
       "    </tr>\n",
       "  </thead>\n",
       "  <tbody>\n",
       "    <tr>\n",
       "      <th>0</th>\n",
       "      <td>A</td>\n",
       "      <td>106200.3705</td>\n",
       "    </tr>\n",
       "    <tr>\n",
       "      <th>1</th>\n",
       "      <td>B</td>\n",
       "      <td>106197.6720</td>\n",
       "    </tr>\n",
       "    <tr>\n",
       "      <th>2</th>\n",
       "      <td>C</td>\n",
       "      <td>110568.7065</td>\n",
       "    </tr>\n",
       "  </tbody>\n",
       "</table>\n",
       "</div>"
      ],
      "text/plain": [
       "  Branch        Total\n",
       "0      A  106200.3705\n",
       "1      B  106197.6720\n",
       "2      C  110568.7065"
      ]
     },
     "execution_count": 20,
     "metadata": {},
     "output_type": "execute_result"
    }
   ],
   "source": [
    "B_t=df.groupby('Branch')['Total'].sum().reset_index()\n",
    "B_t"
   ]
  },
  {
   "cell_type": "code",
   "execution_count": null,
   "id": "4ee14a36",
   "metadata": {},
   "outputs": [
    {
     "data": {
      "application/vnd.plotly.v1+json": {
       "config": {
        "plotlyServerURL": "https://plot.ly"
       },
       "data": [
        {
         "customdata": [
          [
           "A"
          ],
          [
           "B"
          ],
          [
           "C"
          ]
         ],
         "domain": {
          "x": [
           0,
           1
          ],
          "y": [
           0,
           1
          ]
         },
         "hovertemplate": "Branch=%{customdata[0]}<br>Total=%{value}<extra></extra>",
         "labels": [
          "A",
          "B",
          "C"
         ],
         "legendgroup": "",
         "marker": {
          "colors": [
           "#636efa",
           "#EF553B",
           "#00cc96"
          ]
         },
         "name": "",
         "showlegend": true,
         "type": "pie",
         "values": {
          "bdata": "c2iR7YXt+UBvEoPAWu35QKrx0k2L/vpA",
          "dtype": "f8"
         }
        }
       ],
       "layout": {
        "legend": {
         "tracegroupgap": 0
        },
        "template": {
         "data": {
          "bar": [
           {
            "error_x": {
             "color": "#2a3f5f"
            },
            "error_y": {
             "color": "#2a3f5f"
            },
            "marker": {
             "line": {
              "color": "white",
              "width": 0.5
             },
             "pattern": {
              "fillmode": "overlay",
              "size": 10,
              "solidity": 0.2
             }
            },
            "type": "bar"
           }
          ],
          "barpolar": [
           {
            "marker": {
             "line": {
              "color": "white",
              "width": 0.5
             },
             "pattern": {
              "fillmode": "overlay",
              "size": 10,
              "solidity": 0.2
             }
            },
            "type": "barpolar"
           }
          ],
          "carpet": [
           {
            "aaxis": {
             "endlinecolor": "#2a3f5f",
             "gridcolor": "#C8D4E3",
             "linecolor": "#C8D4E3",
             "minorgridcolor": "#C8D4E3",
             "startlinecolor": "#2a3f5f"
            },
            "baxis": {
             "endlinecolor": "#2a3f5f",
             "gridcolor": "#C8D4E3",
             "linecolor": "#C8D4E3",
             "minorgridcolor": "#C8D4E3",
             "startlinecolor": "#2a3f5f"
            },
            "type": "carpet"
           }
          ],
          "choropleth": [
           {
            "colorbar": {
             "outlinewidth": 0,
             "ticks": ""
            },
            "type": "choropleth"
           }
          ],
          "contour": [
           {
            "colorbar": {
             "outlinewidth": 0,
             "ticks": ""
            },
            "colorscale": [
             [
              0,
              "#0d0887"
             ],
             [
              0.1111111111111111,
              "#46039f"
             ],
             [
              0.2222222222222222,
              "#7201a8"
             ],
             [
              0.3333333333333333,
              "#9c179e"
             ],
             [
              0.4444444444444444,
              "#bd3786"
             ],
             [
              0.5555555555555556,
              "#d8576b"
             ],
             [
              0.6666666666666666,
              "#ed7953"
             ],
             [
              0.7777777777777778,
              "#fb9f3a"
             ],
             [
              0.8888888888888888,
              "#fdca26"
             ],
             [
              1,
              "#f0f921"
             ]
            ],
            "type": "contour"
           }
          ],
          "contourcarpet": [
           {
            "colorbar": {
             "outlinewidth": 0,
             "ticks": ""
            },
            "type": "contourcarpet"
           }
          ],
          "heatmap": [
           {
            "colorbar": {
             "outlinewidth": 0,
             "ticks": ""
            },
            "colorscale": [
             [
              0,
              "#0d0887"
             ],
             [
              0.1111111111111111,
              "#46039f"
             ],
             [
              0.2222222222222222,
              "#7201a8"
             ],
             [
              0.3333333333333333,
              "#9c179e"
             ],
             [
              0.4444444444444444,
              "#bd3786"
             ],
             [
              0.5555555555555556,
              "#d8576b"
             ],
             [
              0.6666666666666666,
              "#ed7953"
             ],
             [
              0.7777777777777778,
              "#fb9f3a"
             ],
             [
              0.8888888888888888,
              "#fdca26"
             ],
             [
              1,
              "#f0f921"
             ]
            ],
            "type": "heatmap"
           }
          ],
          "histogram": [
           {
            "marker": {
             "pattern": {
              "fillmode": "overlay",
              "size": 10,
              "solidity": 0.2
             }
            },
            "type": "histogram"
           }
          ],
          "histogram2d": [
           {
            "colorbar": {
             "outlinewidth": 0,
             "ticks": ""
            },
            "colorscale": [
             [
              0,
              "#0d0887"
             ],
             [
              0.1111111111111111,
              "#46039f"
             ],
             [
              0.2222222222222222,
              "#7201a8"
             ],
             [
              0.3333333333333333,
              "#9c179e"
             ],
             [
              0.4444444444444444,
              "#bd3786"
             ],
             [
              0.5555555555555556,
              "#d8576b"
             ],
             [
              0.6666666666666666,
              "#ed7953"
             ],
             [
              0.7777777777777778,
              "#fb9f3a"
             ],
             [
              0.8888888888888888,
              "#fdca26"
             ],
             [
              1,
              "#f0f921"
             ]
            ],
            "type": "histogram2d"
           }
          ],
          "histogram2dcontour": [
           {
            "colorbar": {
             "outlinewidth": 0,
             "ticks": ""
            },
            "colorscale": [
             [
              0,
              "#0d0887"
             ],
             [
              0.1111111111111111,
              "#46039f"
             ],
             [
              0.2222222222222222,
              "#7201a8"
             ],
             [
              0.3333333333333333,
              "#9c179e"
             ],
             [
              0.4444444444444444,
              "#bd3786"
             ],
             [
              0.5555555555555556,
              "#d8576b"
             ],
             [
              0.6666666666666666,
              "#ed7953"
             ],
             [
              0.7777777777777778,
              "#fb9f3a"
             ],
             [
              0.8888888888888888,
              "#fdca26"
             ],
             [
              1,
              "#f0f921"
             ]
            ],
            "type": "histogram2dcontour"
           }
          ],
          "mesh3d": [
           {
            "colorbar": {
             "outlinewidth": 0,
             "ticks": ""
            },
            "type": "mesh3d"
           }
          ],
          "parcoords": [
           {
            "line": {
             "colorbar": {
              "outlinewidth": 0,
              "ticks": ""
             }
            },
            "type": "parcoords"
           }
          ],
          "pie": [
           {
            "automargin": true,
            "type": "pie"
           }
          ],
          "scatter": [
           {
            "fillpattern": {
             "fillmode": "overlay",
             "size": 10,
             "solidity": 0.2
            },
            "type": "scatter"
           }
          ],
          "scatter3d": [
           {
            "line": {
             "colorbar": {
              "outlinewidth": 0,
              "ticks": ""
             }
            },
            "marker": {
             "colorbar": {
              "outlinewidth": 0,
              "ticks": ""
             }
            },
            "type": "scatter3d"
           }
          ],
          "scattercarpet": [
           {
            "marker": {
             "colorbar": {
              "outlinewidth": 0,
              "ticks": ""
             }
            },
            "type": "scattercarpet"
           }
          ],
          "scattergeo": [
           {
            "marker": {
             "colorbar": {
              "outlinewidth": 0,
              "ticks": ""
             }
            },
            "type": "scattergeo"
           }
          ],
          "scattergl": [
           {
            "marker": {
             "colorbar": {
              "outlinewidth": 0,
              "ticks": ""
             }
            },
            "type": "scattergl"
           }
          ],
          "scattermap": [
           {
            "marker": {
             "colorbar": {
              "outlinewidth": 0,
              "ticks": ""
             }
            },
            "type": "scattermap"
           }
          ],
          "scattermapbox": [
           {
            "marker": {
             "colorbar": {
              "outlinewidth": 0,
              "ticks": ""
             }
            },
            "type": "scattermapbox"
           }
          ],
          "scatterpolar": [
           {
            "marker": {
             "colorbar": {
              "outlinewidth": 0,
              "ticks": ""
             }
            },
            "type": "scatterpolar"
           }
          ],
          "scatterpolargl": [
           {
            "marker": {
             "colorbar": {
              "outlinewidth": 0,
              "ticks": ""
             }
            },
            "type": "scatterpolargl"
           }
          ],
          "scatterternary": [
           {
            "marker": {
             "colorbar": {
              "outlinewidth": 0,
              "ticks": ""
             }
            },
            "type": "scatterternary"
           }
          ],
          "surface": [
           {
            "colorbar": {
             "outlinewidth": 0,
             "ticks": ""
            },
            "colorscale": [
             [
              0,
              "#0d0887"
             ],
             [
              0.1111111111111111,
              "#46039f"
             ],
             [
              0.2222222222222222,
              "#7201a8"
             ],
             [
              0.3333333333333333,
              "#9c179e"
             ],
             [
              0.4444444444444444,
              "#bd3786"
             ],
             [
              0.5555555555555556,
              "#d8576b"
             ],
             [
              0.6666666666666666,
              "#ed7953"
             ],
             [
              0.7777777777777778,
              "#fb9f3a"
             ],
             [
              0.8888888888888888,
              "#fdca26"
             ],
             [
              1,
              "#f0f921"
             ]
            ],
            "type": "surface"
           }
          ],
          "table": [
           {
            "cells": {
             "fill": {
              "color": "#EBF0F8"
             },
             "line": {
              "color": "white"
             }
            },
            "header": {
             "fill": {
              "color": "#C8D4E3"
             },
             "line": {
              "color": "white"
             }
            },
            "type": "table"
           }
          ]
         },
         "layout": {
          "annotationdefaults": {
           "arrowcolor": "#2a3f5f",
           "arrowhead": 0,
           "arrowwidth": 1
          },
          "autotypenumbers": "strict",
          "coloraxis": {
           "colorbar": {
            "outlinewidth": 0,
            "ticks": ""
           }
          },
          "colorscale": {
           "diverging": [
            [
             0,
             "#8e0152"
            ],
            [
             0.1,
             "#c51b7d"
            ],
            [
             0.2,
             "#de77ae"
            ],
            [
             0.3,
             "#f1b6da"
            ],
            [
             0.4,
             "#fde0ef"
            ],
            [
             0.5,
             "#f7f7f7"
            ],
            [
             0.6,
             "#e6f5d0"
            ],
            [
             0.7,
             "#b8e186"
            ],
            [
             0.8,
             "#7fbc41"
            ],
            [
             0.9,
             "#4d9221"
            ],
            [
             1,
             "#276419"
            ]
           ],
           "sequential": [
            [
             0,
             "#0d0887"
            ],
            [
             0.1111111111111111,
             "#46039f"
            ],
            [
             0.2222222222222222,
             "#7201a8"
            ],
            [
             0.3333333333333333,
             "#9c179e"
            ],
            [
             0.4444444444444444,
             "#bd3786"
            ],
            [
             0.5555555555555556,
             "#d8576b"
            ],
            [
             0.6666666666666666,
             "#ed7953"
            ],
            [
             0.7777777777777778,
             "#fb9f3a"
            ],
            [
             0.8888888888888888,
             "#fdca26"
            ],
            [
             1,
             "#f0f921"
            ]
           ],
           "sequentialminus": [
            [
             0,
             "#0d0887"
            ],
            [
             0.1111111111111111,
             "#46039f"
            ],
            [
             0.2222222222222222,
             "#7201a8"
            ],
            [
             0.3333333333333333,
             "#9c179e"
            ],
            [
             0.4444444444444444,
             "#bd3786"
            ],
            [
             0.5555555555555556,
             "#d8576b"
            ],
            [
             0.6666666666666666,
             "#ed7953"
            ],
            [
             0.7777777777777778,
             "#fb9f3a"
            ],
            [
             0.8888888888888888,
             "#fdca26"
            ],
            [
             1,
             "#f0f921"
            ]
           ]
          },
          "colorway": [
           "#636efa",
           "#EF553B",
           "#00cc96",
           "#ab63fa",
           "#FFA15A",
           "#19d3f3",
           "#FF6692",
           "#B6E880",
           "#FF97FF",
           "#FECB52"
          ],
          "font": {
           "color": "#2a3f5f"
          },
          "geo": {
           "bgcolor": "white",
           "lakecolor": "white",
           "landcolor": "white",
           "showlakes": true,
           "showland": true,
           "subunitcolor": "#C8D4E3"
          },
          "hoverlabel": {
           "align": "left"
          },
          "hovermode": "closest",
          "mapbox": {
           "style": "light"
          },
          "paper_bgcolor": "white",
          "plot_bgcolor": "white",
          "polar": {
           "angularaxis": {
            "gridcolor": "#EBF0F8",
            "linecolor": "#EBF0F8",
            "ticks": ""
           },
           "bgcolor": "white",
           "radialaxis": {
            "gridcolor": "#EBF0F8",
            "linecolor": "#EBF0F8",
            "ticks": ""
           }
          },
          "scene": {
           "xaxis": {
            "backgroundcolor": "white",
            "gridcolor": "#DFE8F3",
            "gridwidth": 2,
            "linecolor": "#EBF0F8",
            "showbackground": true,
            "ticks": "",
            "zerolinecolor": "#EBF0F8"
           },
           "yaxis": {
            "backgroundcolor": "white",
            "gridcolor": "#DFE8F3",
            "gridwidth": 2,
            "linecolor": "#EBF0F8",
            "showbackground": true,
            "ticks": "",
            "zerolinecolor": "#EBF0F8"
           },
           "zaxis": {
            "backgroundcolor": "white",
            "gridcolor": "#DFE8F3",
            "gridwidth": 2,
            "linecolor": "#EBF0F8",
            "showbackground": true,
            "ticks": "",
            "zerolinecolor": "#EBF0F8"
           }
          },
          "shapedefaults": {
           "line": {
            "color": "#2a3f5f"
           }
          },
          "ternary": {
           "aaxis": {
            "gridcolor": "#DFE8F3",
            "linecolor": "#A2B1C6",
            "ticks": ""
           },
           "baxis": {
            "gridcolor": "#DFE8F3",
            "linecolor": "#A2B1C6",
            "ticks": ""
           },
           "bgcolor": "white",
           "caxis": {
            "gridcolor": "#DFE8F3",
            "linecolor": "#A2B1C6",
            "ticks": ""
           }
          },
          "title": {
           "x": 0.05
          },
          "xaxis": {
           "automargin": true,
           "gridcolor": "#EBF0F8",
           "linecolor": "#EBF0F8",
           "ticks": "",
           "title": {
            "standoff": 15
           },
           "zerolinecolor": "#EBF0F8",
           "zerolinewidth": 2
          },
          "yaxis": {
           "automargin": true,
           "gridcolor": "#EBF0F8",
           "linecolor": "#EBF0F8",
           "ticks": "",
           "title": {
            "standoff": 15
           },
           "zerolinecolor": "#EBF0F8",
           "zerolinewidth": 2
          }
         }
        },
        "title": {
         "text": "total sales per Branch"
        }
       }
      }
     },
     "metadata": {},
     "output_type": "display_data"
    }
   ],
   "source": [
    "px.pie(data_frame=B_t,names='Branch',values='Total',color='Branch',title='total sales per Branch')\n"
   ]
  },
  {
   "cell_type": "code",
   "execution_count": 22,
   "id": "9b0be885",
   "metadata": {},
   "outputs": [],
   "source": [
    "c_t=df.groupby('City')['Total'].sum().reset_index()"
   ]
  },
  {
   "cell_type": "code",
   "execution_count": 23,
   "id": "38ac6c55",
   "metadata": {},
   "outputs": [
    {
     "data": {
      "application/vnd.plotly.v1+json": {
       "config": {
        "plotlyServerURL": "https://plot.ly"
       },
       "data": [
        {
         "hovertemplate": "City=%{x}<br>Total=%{y}<extra></extra>",
         "legendgroup": "",
         "marker": {
          "color": "#636efa",
          "pattern": {
           "shape": ""
          }
         },
         "name": "",
         "orientation": "v",
         "showlegend": false,
         "textposition": "auto",
         "texttemplate": "%{y}",
         "type": "bar",
         "x": [
          "Mandalay",
          "Naypyitaw",
          "Yangon"
         ],
         "xaxis": "x",
         "y": {
          "bdata": "bxKDwFrt+UCq8dJNi/76QHNoke2F7flA",
          "dtype": "f8"
         },
         "yaxis": "y"
        }
       ],
       "layout": {
        "barmode": "relative",
        "legend": {
         "tracegroupgap": 0
        },
        "template": {
         "data": {
          "bar": [
           {
            "error_x": {
             "color": "#2a3f5f"
            },
            "error_y": {
             "color": "#2a3f5f"
            },
            "marker": {
             "line": {
              "color": "white",
              "width": 0.5
             },
             "pattern": {
              "fillmode": "overlay",
              "size": 10,
              "solidity": 0.2
             }
            },
            "type": "bar"
           }
          ],
          "barpolar": [
           {
            "marker": {
             "line": {
              "color": "white",
              "width": 0.5
             },
             "pattern": {
              "fillmode": "overlay",
              "size": 10,
              "solidity": 0.2
             }
            },
            "type": "barpolar"
           }
          ],
          "carpet": [
           {
            "aaxis": {
             "endlinecolor": "#2a3f5f",
             "gridcolor": "#C8D4E3",
             "linecolor": "#C8D4E3",
             "minorgridcolor": "#C8D4E3",
             "startlinecolor": "#2a3f5f"
            },
            "baxis": {
             "endlinecolor": "#2a3f5f",
             "gridcolor": "#C8D4E3",
             "linecolor": "#C8D4E3",
             "minorgridcolor": "#C8D4E3",
             "startlinecolor": "#2a3f5f"
            },
            "type": "carpet"
           }
          ],
          "choropleth": [
           {
            "colorbar": {
             "outlinewidth": 0,
             "ticks": ""
            },
            "type": "choropleth"
           }
          ],
          "contour": [
           {
            "colorbar": {
             "outlinewidth": 0,
             "ticks": ""
            },
            "colorscale": [
             [
              0,
              "#0d0887"
             ],
             [
              0.1111111111111111,
              "#46039f"
             ],
             [
              0.2222222222222222,
              "#7201a8"
             ],
             [
              0.3333333333333333,
              "#9c179e"
             ],
             [
              0.4444444444444444,
              "#bd3786"
             ],
             [
              0.5555555555555556,
              "#d8576b"
             ],
             [
              0.6666666666666666,
              "#ed7953"
             ],
             [
              0.7777777777777778,
              "#fb9f3a"
             ],
             [
              0.8888888888888888,
              "#fdca26"
             ],
             [
              1,
              "#f0f921"
             ]
            ],
            "type": "contour"
           }
          ],
          "contourcarpet": [
           {
            "colorbar": {
             "outlinewidth": 0,
             "ticks": ""
            },
            "type": "contourcarpet"
           }
          ],
          "heatmap": [
           {
            "colorbar": {
             "outlinewidth": 0,
             "ticks": ""
            },
            "colorscale": [
             [
              0,
              "#0d0887"
             ],
             [
              0.1111111111111111,
              "#46039f"
             ],
             [
              0.2222222222222222,
              "#7201a8"
             ],
             [
              0.3333333333333333,
              "#9c179e"
             ],
             [
              0.4444444444444444,
              "#bd3786"
             ],
             [
              0.5555555555555556,
              "#d8576b"
             ],
             [
              0.6666666666666666,
              "#ed7953"
             ],
             [
              0.7777777777777778,
              "#fb9f3a"
             ],
             [
              0.8888888888888888,
              "#fdca26"
             ],
             [
              1,
              "#f0f921"
             ]
            ],
            "type": "heatmap"
           }
          ],
          "histogram": [
           {
            "marker": {
             "pattern": {
              "fillmode": "overlay",
              "size": 10,
              "solidity": 0.2
             }
            },
            "type": "histogram"
           }
          ],
          "histogram2d": [
           {
            "colorbar": {
             "outlinewidth": 0,
             "ticks": ""
            },
            "colorscale": [
             [
              0,
              "#0d0887"
             ],
             [
              0.1111111111111111,
              "#46039f"
             ],
             [
              0.2222222222222222,
              "#7201a8"
             ],
             [
              0.3333333333333333,
              "#9c179e"
             ],
             [
              0.4444444444444444,
              "#bd3786"
             ],
             [
              0.5555555555555556,
              "#d8576b"
             ],
             [
              0.6666666666666666,
              "#ed7953"
             ],
             [
              0.7777777777777778,
              "#fb9f3a"
             ],
             [
              0.8888888888888888,
              "#fdca26"
             ],
             [
              1,
              "#f0f921"
             ]
            ],
            "type": "histogram2d"
           }
          ],
          "histogram2dcontour": [
           {
            "colorbar": {
             "outlinewidth": 0,
             "ticks": ""
            },
            "colorscale": [
             [
              0,
              "#0d0887"
             ],
             [
              0.1111111111111111,
              "#46039f"
             ],
             [
              0.2222222222222222,
              "#7201a8"
             ],
             [
              0.3333333333333333,
              "#9c179e"
             ],
             [
              0.4444444444444444,
              "#bd3786"
             ],
             [
              0.5555555555555556,
              "#d8576b"
             ],
             [
              0.6666666666666666,
              "#ed7953"
             ],
             [
              0.7777777777777778,
              "#fb9f3a"
             ],
             [
              0.8888888888888888,
              "#fdca26"
             ],
             [
              1,
              "#f0f921"
             ]
            ],
            "type": "histogram2dcontour"
           }
          ],
          "mesh3d": [
           {
            "colorbar": {
             "outlinewidth": 0,
             "ticks": ""
            },
            "type": "mesh3d"
           }
          ],
          "parcoords": [
           {
            "line": {
             "colorbar": {
              "outlinewidth": 0,
              "ticks": ""
             }
            },
            "type": "parcoords"
           }
          ],
          "pie": [
           {
            "automargin": true,
            "type": "pie"
           }
          ],
          "scatter": [
           {
            "fillpattern": {
             "fillmode": "overlay",
             "size": 10,
             "solidity": 0.2
            },
            "type": "scatter"
           }
          ],
          "scatter3d": [
           {
            "line": {
             "colorbar": {
              "outlinewidth": 0,
              "ticks": ""
             }
            },
            "marker": {
             "colorbar": {
              "outlinewidth": 0,
              "ticks": ""
             }
            },
            "type": "scatter3d"
           }
          ],
          "scattercarpet": [
           {
            "marker": {
             "colorbar": {
              "outlinewidth": 0,
              "ticks": ""
             }
            },
            "type": "scattercarpet"
           }
          ],
          "scattergeo": [
           {
            "marker": {
             "colorbar": {
              "outlinewidth": 0,
              "ticks": ""
             }
            },
            "type": "scattergeo"
           }
          ],
          "scattergl": [
           {
            "marker": {
             "colorbar": {
              "outlinewidth": 0,
              "ticks": ""
             }
            },
            "type": "scattergl"
           }
          ],
          "scattermap": [
           {
            "marker": {
             "colorbar": {
              "outlinewidth": 0,
              "ticks": ""
             }
            },
            "type": "scattermap"
           }
          ],
          "scattermapbox": [
           {
            "marker": {
             "colorbar": {
              "outlinewidth": 0,
              "ticks": ""
             }
            },
            "type": "scattermapbox"
           }
          ],
          "scatterpolar": [
           {
            "marker": {
             "colorbar": {
              "outlinewidth": 0,
              "ticks": ""
             }
            },
            "type": "scatterpolar"
           }
          ],
          "scatterpolargl": [
           {
            "marker": {
             "colorbar": {
              "outlinewidth": 0,
              "ticks": ""
             }
            },
            "type": "scatterpolargl"
           }
          ],
          "scatterternary": [
           {
            "marker": {
             "colorbar": {
              "outlinewidth": 0,
              "ticks": ""
             }
            },
            "type": "scatterternary"
           }
          ],
          "surface": [
           {
            "colorbar": {
             "outlinewidth": 0,
             "ticks": ""
            },
            "colorscale": [
             [
              0,
              "#0d0887"
             ],
             [
              0.1111111111111111,
              "#46039f"
             ],
             [
              0.2222222222222222,
              "#7201a8"
             ],
             [
              0.3333333333333333,
              "#9c179e"
             ],
             [
              0.4444444444444444,
              "#bd3786"
             ],
             [
              0.5555555555555556,
              "#d8576b"
             ],
             [
              0.6666666666666666,
              "#ed7953"
             ],
             [
              0.7777777777777778,
              "#fb9f3a"
             ],
             [
              0.8888888888888888,
              "#fdca26"
             ],
             [
              1,
              "#f0f921"
             ]
            ],
            "type": "surface"
           }
          ],
          "table": [
           {
            "cells": {
             "fill": {
              "color": "#EBF0F8"
             },
             "line": {
              "color": "white"
             }
            },
            "header": {
             "fill": {
              "color": "#C8D4E3"
             },
             "line": {
              "color": "white"
             }
            },
            "type": "table"
           }
          ]
         },
         "layout": {
          "annotationdefaults": {
           "arrowcolor": "#2a3f5f",
           "arrowhead": 0,
           "arrowwidth": 1
          },
          "autotypenumbers": "strict",
          "coloraxis": {
           "colorbar": {
            "outlinewidth": 0,
            "ticks": ""
           }
          },
          "colorscale": {
           "diverging": [
            [
             0,
             "#8e0152"
            ],
            [
             0.1,
             "#c51b7d"
            ],
            [
             0.2,
             "#de77ae"
            ],
            [
             0.3,
             "#f1b6da"
            ],
            [
             0.4,
             "#fde0ef"
            ],
            [
             0.5,
             "#f7f7f7"
            ],
            [
             0.6,
             "#e6f5d0"
            ],
            [
             0.7,
             "#b8e186"
            ],
            [
             0.8,
             "#7fbc41"
            ],
            [
             0.9,
             "#4d9221"
            ],
            [
             1,
             "#276419"
            ]
           ],
           "sequential": [
            [
             0,
             "#0d0887"
            ],
            [
             0.1111111111111111,
             "#46039f"
            ],
            [
             0.2222222222222222,
             "#7201a8"
            ],
            [
             0.3333333333333333,
             "#9c179e"
            ],
            [
             0.4444444444444444,
             "#bd3786"
            ],
            [
             0.5555555555555556,
             "#d8576b"
            ],
            [
             0.6666666666666666,
             "#ed7953"
            ],
            [
             0.7777777777777778,
             "#fb9f3a"
            ],
            [
             0.8888888888888888,
             "#fdca26"
            ],
            [
             1,
             "#f0f921"
            ]
           ],
           "sequentialminus": [
            [
             0,
             "#0d0887"
            ],
            [
             0.1111111111111111,
             "#46039f"
            ],
            [
             0.2222222222222222,
             "#7201a8"
            ],
            [
             0.3333333333333333,
             "#9c179e"
            ],
            [
             0.4444444444444444,
             "#bd3786"
            ],
            [
             0.5555555555555556,
             "#d8576b"
            ],
            [
             0.6666666666666666,
             "#ed7953"
            ],
            [
             0.7777777777777778,
             "#fb9f3a"
            ],
            [
             0.8888888888888888,
             "#fdca26"
            ],
            [
             1,
             "#f0f921"
            ]
           ]
          },
          "colorway": [
           "#636efa",
           "#EF553B",
           "#00cc96",
           "#ab63fa",
           "#FFA15A",
           "#19d3f3",
           "#FF6692",
           "#B6E880",
           "#FF97FF",
           "#FECB52"
          ],
          "font": {
           "color": "#2a3f5f"
          },
          "geo": {
           "bgcolor": "white",
           "lakecolor": "white",
           "landcolor": "white",
           "showlakes": true,
           "showland": true,
           "subunitcolor": "#C8D4E3"
          },
          "hoverlabel": {
           "align": "left"
          },
          "hovermode": "closest",
          "mapbox": {
           "style": "light"
          },
          "paper_bgcolor": "white",
          "plot_bgcolor": "white",
          "polar": {
           "angularaxis": {
            "gridcolor": "#EBF0F8",
            "linecolor": "#EBF0F8",
            "ticks": ""
           },
           "bgcolor": "white",
           "radialaxis": {
            "gridcolor": "#EBF0F8",
            "linecolor": "#EBF0F8",
            "ticks": ""
           }
          },
          "scene": {
           "xaxis": {
            "backgroundcolor": "white",
            "gridcolor": "#DFE8F3",
            "gridwidth": 2,
            "linecolor": "#EBF0F8",
            "showbackground": true,
            "ticks": "",
            "zerolinecolor": "#EBF0F8"
           },
           "yaxis": {
            "backgroundcolor": "white",
            "gridcolor": "#DFE8F3",
            "gridwidth": 2,
            "linecolor": "#EBF0F8",
            "showbackground": true,
            "ticks": "",
            "zerolinecolor": "#EBF0F8"
           },
           "zaxis": {
            "backgroundcolor": "white",
            "gridcolor": "#DFE8F3",
            "gridwidth": 2,
            "linecolor": "#EBF0F8",
            "showbackground": true,
            "ticks": "",
            "zerolinecolor": "#EBF0F8"
           }
          },
          "shapedefaults": {
           "line": {
            "color": "#2a3f5f"
           }
          },
          "ternary": {
           "aaxis": {
            "gridcolor": "#DFE8F3",
            "linecolor": "#A2B1C6",
            "ticks": ""
           },
           "baxis": {
            "gridcolor": "#DFE8F3",
            "linecolor": "#A2B1C6",
            "ticks": ""
           },
           "bgcolor": "white",
           "caxis": {
            "gridcolor": "#DFE8F3",
            "linecolor": "#A2B1C6",
            "ticks": ""
           }
          },
          "title": {
           "x": 0.05
          },
          "xaxis": {
           "automargin": true,
           "gridcolor": "#EBF0F8",
           "linecolor": "#EBF0F8",
           "ticks": "",
           "title": {
            "standoff": 15
           },
           "zerolinecolor": "#EBF0F8",
           "zerolinewidth": 2
          },
          "yaxis": {
           "automargin": true,
           "gridcolor": "#EBF0F8",
           "linecolor": "#EBF0F8",
           "ticks": "",
           "title": {
            "standoff": 15
           },
           "zerolinecolor": "#EBF0F8",
           "zerolinewidth": 2
          }
         }
        },
        "title": {
         "text": "total sales per city"
        },
        "xaxis": {
         "anchor": "y",
         "domain": [
          0,
          1
         ],
         "title": {
          "text": "City"
         }
        },
        "yaxis": {
         "anchor": "x",
         "domain": [
          0,
          1
         ],
         "title": {
          "text": "Total"
         }
        }
       }
      }
     },
     "metadata": {},
     "output_type": "display_data"
    }
   ],
   "source": [
    "px.bar(data_frame=c_t,x='City',y='Total',text_auto=True,title='total sales per city')"
   ]
  },
  {
   "cell_type": "code",
   "execution_count": 24,
   "id": "765981d9",
   "metadata": {},
   "outputs": [],
   "source": [
    "p_t=df.groupby('Product line')['Total'].sum().reset_index()"
   ]
  },
  {
   "cell_type": "code",
   "execution_count": 25,
   "id": "16e5ec2c",
   "metadata": {},
   "outputs": [
    {
     "data": {
      "application/vnd.plotly.v1+json": {
       "config": {
        "plotlyServerURL": "https://plot.ly"
       },
       "data": [
        {
         "hovertemplate": "Product line=%{x}<br>Total=%{y}<extra></extra>",
         "legendgroup": "",
         "marker": {
          "color": "#636efa",
          "pattern": {
           "shape": ""
          }
         },
         "name": "",
         "orientation": "v",
         "showlegend": false,
         "textposition": "auto",
         "texttemplate": "%{y}",
         "type": "bar",
         "x": [
          "Electronic accessories",
          "Fashion accessories",
          "Food and beverages",
          "Health and beauty",
          "Home and lifestyle",
          "Sports and travel"
         ],
         "xaxis": "x",
         "y": {
          "bdata": "ukkMAjGI6kA9CtejPITqQLpJDAIbautA+FPjpTcF6ECoxks3vUzqQMUgsHJa6upA",
          "dtype": "f8"
         },
         "yaxis": "y"
        }
       ],
       "layout": {
        "barmode": "relative",
        "legend": {
         "tracegroupgap": 0
        },
        "template": {
         "data": {
          "bar": [
           {
            "error_x": {
             "color": "#2a3f5f"
            },
            "error_y": {
             "color": "#2a3f5f"
            },
            "marker": {
             "line": {
              "color": "white",
              "width": 0.5
             },
             "pattern": {
              "fillmode": "overlay",
              "size": 10,
              "solidity": 0.2
             }
            },
            "type": "bar"
           }
          ],
          "barpolar": [
           {
            "marker": {
             "line": {
              "color": "white",
              "width": 0.5
             },
             "pattern": {
              "fillmode": "overlay",
              "size": 10,
              "solidity": 0.2
             }
            },
            "type": "barpolar"
           }
          ],
          "carpet": [
           {
            "aaxis": {
             "endlinecolor": "#2a3f5f",
             "gridcolor": "#C8D4E3",
             "linecolor": "#C8D4E3",
             "minorgridcolor": "#C8D4E3",
             "startlinecolor": "#2a3f5f"
            },
            "baxis": {
             "endlinecolor": "#2a3f5f",
             "gridcolor": "#C8D4E3",
             "linecolor": "#C8D4E3",
             "minorgridcolor": "#C8D4E3",
             "startlinecolor": "#2a3f5f"
            },
            "type": "carpet"
           }
          ],
          "choropleth": [
           {
            "colorbar": {
             "outlinewidth": 0,
             "ticks": ""
            },
            "type": "choropleth"
           }
          ],
          "contour": [
           {
            "colorbar": {
             "outlinewidth": 0,
             "ticks": ""
            },
            "colorscale": [
             [
              0,
              "#0d0887"
             ],
             [
              0.1111111111111111,
              "#46039f"
             ],
             [
              0.2222222222222222,
              "#7201a8"
             ],
             [
              0.3333333333333333,
              "#9c179e"
             ],
             [
              0.4444444444444444,
              "#bd3786"
             ],
             [
              0.5555555555555556,
              "#d8576b"
             ],
             [
              0.6666666666666666,
              "#ed7953"
             ],
             [
              0.7777777777777778,
              "#fb9f3a"
             ],
             [
              0.8888888888888888,
              "#fdca26"
             ],
             [
              1,
              "#f0f921"
             ]
            ],
            "type": "contour"
           }
          ],
          "contourcarpet": [
           {
            "colorbar": {
             "outlinewidth": 0,
             "ticks": ""
            },
            "type": "contourcarpet"
           }
          ],
          "heatmap": [
           {
            "colorbar": {
             "outlinewidth": 0,
             "ticks": ""
            },
            "colorscale": [
             [
              0,
              "#0d0887"
             ],
             [
              0.1111111111111111,
              "#46039f"
             ],
             [
              0.2222222222222222,
              "#7201a8"
             ],
             [
              0.3333333333333333,
              "#9c179e"
             ],
             [
              0.4444444444444444,
              "#bd3786"
             ],
             [
              0.5555555555555556,
              "#d8576b"
             ],
             [
              0.6666666666666666,
              "#ed7953"
             ],
             [
              0.7777777777777778,
              "#fb9f3a"
             ],
             [
              0.8888888888888888,
              "#fdca26"
             ],
             [
              1,
              "#f0f921"
             ]
            ],
            "type": "heatmap"
           }
          ],
          "histogram": [
           {
            "marker": {
             "pattern": {
              "fillmode": "overlay",
              "size": 10,
              "solidity": 0.2
             }
            },
            "type": "histogram"
           }
          ],
          "histogram2d": [
           {
            "colorbar": {
             "outlinewidth": 0,
             "ticks": ""
            },
            "colorscale": [
             [
              0,
              "#0d0887"
             ],
             [
              0.1111111111111111,
              "#46039f"
             ],
             [
              0.2222222222222222,
              "#7201a8"
             ],
             [
              0.3333333333333333,
              "#9c179e"
             ],
             [
              0.4444444444444444,
              "#bd3786"
             ],
             [
              0.5555555555555556,
              "#d8576b"
             ],
             [
              0.6666666666666666,
              "#ed7953"
             ],
             [
              0.7777777777777778,
              "#fb9f3a"
             ],
             [
              0.8888888888888888,
              "#fdca26"
             ],
             [
              1,
              "#f0f921"
             ]
            ],
            "type": "histogram2d"
           }
          ],
          "histogram2dcontour": [
           {
            "colorbar": {
             "outlinewidth": 0,
             "ticks": ""
            },
            "colorscale": [
             [
              0,
              "#0d0887"
             ],
             [
              0.1111111111111111,
              "#46039f"
             ],
             [
              0.2222222222222222,
              "#7201a8"
             ],
             [
              0.3333333333333333,
              "#9c179e"
             ],
             [
              0.4444444444444444,
              "#bd3786"
             ],
             [
              0.5555555555555556,
              "#d8576b"
             ],
             [
              0.6666666666666666,
              "#ed7953"
             ],
             [
              0.7777777777777778,
              "#fb9f3a"
             ],
             [
              0.8888888888888888,
              "#fdca26"
             ],
             [
              1,
              "#f0f921"
             ]
            ],
            "type": "histogram2dcontour"
           }
          ],
          "mesh3d": [
           {
            "colorbar": {
             "outlinewidth": 0,
             "ticks": ""
            },
            "type": "mesh3d"
           }
          ],
          "parcoords": [
           {
            "line": {
             "colorbar": {
              "outlinewidth": 0,
              "ticks": ""
             }
            },
            "type": "parcoords"
           }
          ],
          "pie": [
           {
            "automargin": true,
            "type": "pie"
           }
          ],
          "scatter": [
           {
            "fillpattern": {
             "fillmode": "overlay",
             "size": 10,
             "solidity": 0.2
            },
            "type": "scatter"
           }
          ],
          "scatter3d": [
           {
            "line": {
             "colorbar": {
              "outlinewidth": 0,
              "ticks": ""
             }
            },
            "marker": {
             "colorbar": {
              "outlinewidth": 0,
              "ticks": ""
             }
            },
            "type": "scatter3d"
           }
          ],
          "scattercarpet": [
           {
            "marker": {
             "colorbar": {
              "outlinewidth": 0,
              "ticks": ""
             }
            },
            "type": "scattercarpet"
           }
          ],
          "scattergeo": [
           {
            "marker": {
             "colorbar": {
              "outlinewidth": 0,
              "ticks": ""
             }
            },
            "type": "scattergeo"
           }
          ],
          "scattergl": [
           {
            "marker": {
             "colorbar": {
              "outlinewidth": 0,
              "ticks": ""
             }
            },
            "type": "scattergl"
           }
          ],
          "scattermap": [
           {
            "marker": {
             "colorbar": {
              "outlinewidth": 0,
              "ticks": ""
             }
            },
            "type": "scattermap"
           }
          ],
          "scattermapbox": [
           {
            "marker": {
             "colorbar": {
              "outlinewidth": 0,
              "ticks": ""
             }
            },
            "type": "scattermapbox"
           }
          ],
          "scatterpolar": [
           {
            "marker": {
             "colorbar": {
              "outlinewidth": 0,
              "ticks": ""
             }
            },
            "type": "scatterpolar"
           }
          ],
          "scatterpolargl": [
           {
            "marker": {
             "colorbar": {
              "outlinewidth": 0,
              "ticks": ""
             }
            },
            "type": "scatterpolargl"
           }
          ],
          "scatterternary": [
           {
            "marker": {
             "colorbar": {
              "outlinewidth": 0,
              "ticks": ""
             }
            },
            "type": "scatterternary"
           }
          ],
          "surface": [
           {
            "colorbar": {
             "outlinewidth": 0,
             "ticks": ""
            },
            "colorscale": [
             [
              0,
              "#0d0887"
             ],
             [
              0.1111111111111111,
              "#46039f"
             ],
             [
              0.2222222222222222,
              "#7201a8"
             ],
             [
              0.3333333333333333,
              "#9c179e"
             ],
             [
              0.4444444444444444,
              "#bd3786"
             ],
             [
              0.5555555555555556,
              "#d8576b"
             ],
             [
              0.6666666666666666,
              "#ed7953"
             ],
             [
              0.7777777777777778,
              "#fb9f3a"
             ],
             [
              0.8888888888888888,
              "#fdca26"
             ],
             [
              1,
              "#f0f921"
             ]
            ],
            "type": "surface"
           }
          ],
          "table": [
           {
            "cells": {
             "fill": {
              "color": "#EBF0F8"
             },
             "line": {
              "color": "white"
             }
            },
            "header": {
             "fill": {
              "color": "#C8D4E3"
             },
             "line": {
              "color": "white"
             }
            },
            "type": "table"
           }
          ]
         },
         "layout": {
          "annotationdefaults": {
           "arrowcolor": "#2a3f5f",
           "arrowhead": 0,
           "arrowwidth": 1
          },
          "autotypenumbers": "strict",
          "coloraxis": {
           "colorbar": {
            "outlinewidth": 0,
            "ticks": ""
           }
          },
          "colorscale": {
           "diverging": [
            [
             0,
             "#8e0152"
            ],
            [
             0.1,
             "#c51b7d"
            ],
            [
             0.2,
             "#de77ae"
            ],
            [
             0.3,
             "#f1b6da"
            ],
            [
             0.4,
             "#fde0ef"
            ],
            [
             0.5,
             "#f7f7f7"
            ],
            [
             0.6,
             "#e6f5d0"
            ],
            [
             0.7,
             "#b8e186"
            ],
            [
             0.8,
             "#7fbc41"
            ],
            [
             0.9,
             "#4d9221"
            ],
            [
             1,
             "#276419"
            ]
           ],
           "sequential": [
            [
             0,
             "#0d0887"
            ],
            [
             0.1111111111111111,
             "#46039f"
            ],
            [
             0.2222222222222222,
             "#7201a8"
            ],
            [
             0.3333333333333333,
             "#9c179e"
            ],
            [
             0.4444444444444444,
             "#bd3786"
            ],
            [
             0.5555555555555556,
             "#d8576b"
            ],
            [
             0.6666666666666666,
             "#ed7953"
            ],
            [
             0.7777777777777778,
             "#fb9f3a"
            ],
            [
             0.8888888888888888,
             "#fdca26"
            ],
            [
             1,
             "#f0f921"
            ]
           ],
           "sequentialminus": [
            [
             0,
             "#0d0887"
            ],
            [
             0.1111111111111111,
             "#46039f"
            ],
            [
             0.2222222222222222,
             "#7201a8"
            ],
            [
             0.3333333333333333,
             "#9c179e"
            ],
            [
             0.4444444444444444,
             "#bd3786"
            ],
            [
             0.5555555555555556,
             "#d8576b"
            ],
            [
             0.6666666666666666,
             "#ed7953"
            ],
            [
             0.7777777777777778,
             "#fb9f3a"
            ],
            [
             0.8888888888888888,
             "#fdca26"
            ],
            [
             1,
             "#f0f921"
            ]
           ]
          },
          "colorway": [
           "#636efa",
           "#EF553B",
           "#00cc96",
           "#ab63fa",
           "#FFA15A",
           "#19d3f3",
           "#FF6692",
           "#B6E880",
           "#FF97FF",
           "#FECB52"
          ],
          "font": {
           "color": "#2a3f5f"
          },
          "geo": {
           "bgcolor": "white",
           "lakecolor": "white",
           "landcolor": "white",
           "showlakes": true,
           "showland": true,
           "subunitcolor": "#C8D4E3"
          },
          "hoverlabel": {
           "align": "left"
          },
          "hovermode": "closest",
          "mapbox": {
           "style": "light"
          },
          "paper_bgcolor": "white",
          "plot_bgcolor": "white",
          "polar": {
           "angularaxis": {
            "gridcolor": "#EBF0F8",
            "linecolor": "#EBF0F8",
            "ticks": ""
           },
           "bgcolor": "white",
           "radialaxis": {
            "gridcolor": "#EBF0F8",
            "linecolor": "#EBF0F8",
            "ticks": ""
           }
          },
          "scene": {
           "xaxis": {
            "backgroundcolor": "white",
            "gridcolor": "#DFE8F3",
            "gridwidth": 2,
            "linecolor": "#EBF0F8",
            "showbackground": true,
            "ticks": "",
            "zerolinecolor": "#EBF0F8"
           },
           "yaxis": {
            "backgroundcolor": "white",
            "gridcolor": "#DFE8F3",
            "gridwidth": 2,
            "linecolor": "#EBF0F8",
            "showbackground": true,
            "ticks": "",
            "zerolinecolor": "#EBF0F8"
           },
           "zaxis": {
            "backgroundcolor": "white",
            "gridcolor": "#DFE8F3",
            "gridwidth": 2,
            "linecolor": "#EBF0F8",
            "showbackground": true,
            "ticks": "",
            "zerolinecolor": "#EBF0F8"
           }
          },
          "shapedefaults": {
           "line": {
            "color": "#2a3f5f"
           }
          },
          "ternary": {
           "aaxis": {
            "gridcolor": "#DFE8F3",
            "linecolor": "#A2B1C6",
            "ticks": ""
           },
           "baxis": {
            "gridcolor": "#DFE8F3",
            "linecolor": "#A2B1C6",
            "ticks": ""
           },
           "bgcolor": "white",
           "caxis": {
            "gridcolor": "#DFE8F3",
            "linecolor": "#A2B1C6",
            "ticks": ""
           }
          },
          "title": {
           "x": 0.05
          },
          "xaxis": {
           "automargin": true,
           "gridcolor": "#EBF0F8",
           "linecolor": "#EBF0F8",
           "ticks": "",
           "title": {
            "standoff": 15
           },
           "zerolinecolor": "#EBF0F8",
           "zerolinewidth": 2
          },
          "yaxis": {
           "automargin": true,
           "gridcolor": "#EBF0F8",
           "linecolor": "#EBF0F8",
           "ticks": "",
           "title": {
            "standoff": 15
           },
           "zerolinecolor": "#EBF0F8",
           "zerolinewidth": 2
          }
         }
        },
        "title": {
         "text": "total sales per product line"
        },
        "xaxis": {
         "anchor": "y",
         "domain": [
          0,
          1
         ],
         "title": {
          "text": "Product line"
         }
        },
        "yaxis": {
         "anchor": "x",
         "domain": [
          0,
          1
         ],
         "title": {
          "text": "Total"
         }
        }
       }
      }
     },
     "metadata": {},
     "output_type": "display_data"
    }
   ],
   "source": [
    "px.bar(data_frame=p_t,x='Product line',y='Total',text_auto=True,title='total sales per product line')"
   ]
  },
  {
   "cell_type": "code",
   "execution_count": 62,
   "id": "445c67a1",
   "metadata": {},
   "outputs": [
    {
     "data": {
      "text/html": [
       "<div>\n",
       "<style scoped>\n",
       "    .dataframe tbody tr th:only-of-type {\n",
       "        vertical-align: middle;\n",
       "    }\n",
       "\n",
       "    .dataframe tbody tr th {\n",
       "        vertical-align: top;\n",
       "    }\n",
       "\n",
       "    .dataframe thead th {\n",
       "        text-align: right;\n",
       "    }\n",
       "</style>\n",
       "<table border=\"1\" class=\"dataframe\">\n",
       "  <thead>\n",
       "    <tr style=\"text-align: right;\">\n",
       "      <th></th>\n",
       "      <th>Payment</th>\n",
       "      <th>Total</th>\n",
       "    </tr>\n",
       "  </thead>\n",
       "  <tbody>\n",
       "    <tr>\n",
       "      <th>0</th>\n",
       "      <td>Cash</td>\n",
       "      <td>112206.570</td>\n",
       "    </tr>\n",
       "    <tr>\n",
       "      <th>1</th>\n",
       "      <td>Credit card</td>\n",
       "      <td>100767.072</td>\n",
       "    </tr>\n",
       "    <tr>\n",
       "      <th>2</th>\n",
       "      <td>Ewallet</td>\n",
       "      <td>109993.107</td>\n",
       "    </tr>\n",
       "  </tbody>\n",
       "</table>\n",
       "</div>"
      ],
      "text/plain": [
       "       Payment       Total\n",
       "0         Cash  112206.570\n",
       "1  Credit card  100767.072\n",
       "2      Ewallet  109993.107"
      ]
     },
     "execution_count": 62,
     "metadata": {},
     "output_type": "execute_result"
    }
   ],
   "source": [
    "py_t=df.groupby('Payment')['Total'].sum().reset_index()\n",
    "py_t"
   ]
  },
  {
   "cell_type": "code",
   "execution_count": 64,
   "id": "18b66a67",
   "metadata": {},
   "outputs": [
    {
     "data": {
      "application/vnd.plotly.v1+json": {
       "config": {
        "plotlyServerURL": "https://plot.ly"
       },
       "data": [
        {
         "domain": {
          "x": [
           0,
           1
          ],
          "y": [
           0,
           1
          ]
         },
         "hovertemplate": "Payment=%{label}<br>Total=%{value}<extra></extra>",
         "labels": [
          "Cash",
          "Credit card",
          "Ewallet"
         ],
         "legendgroup": "",
         "name": "",
         "showlegend": true,
         "type": "pie",
         "values": {
          "bdata": "7FG4Hulk+0DVeOkm8Zn4QMuhRbaR2vpA",
          "dtype": "f8"
         }
        }
       ],
       "layout": {
        "legend": {
         "tracegroupgap": 0
        },
        "margin": {
         "t": 60
        },
        "template": {
         "data": {
          "bar": [
           {
            "error_x": {
             "color": "#2a3f5f"
            },
            "error_y": {
             "color": "#2a3f5f"
            },
            "marker": {
             "line": {
              "color": "white",
              "width": 0.5
             },
             "pattern": {
              "fillmode": "overlay",
              "size": 10,
              "solidity": 0.2
             }
            },
            "type": "bar"
           }
          ],
          "barpolar": [
           {
            "marker": {
             "line": {
              "color": "white",
              "width": 0.5
             },
             "pattern": {
              "fillmode": "overlay",
              "size": 10,
              "solidity": 0.2
             }
            },
            "type": "barpolar"
           }
          ],
          "carpet": [
           {
            "aaxis": {
             "endlinecolor": "#2a3f5f",
             "gridcolor": "#C8D4E3",
             "linecolor": "#C8D4E3",
             "minorgridcolor": "#C8D4E3",
             "startlinecolor": "#2a3f5f"
            },
            "baxis": {
             "endlinecolor": "#2a3f5f",
             "gridcolor": "#C8D4E3",
             "linecolor": "#C8D4E3",
             "minorgridcolor": "#C8D4E3",
             "startlinecolor": "#2a3f5f"
            },
            "type": "carpet"
           }
          ],
          "choropleth": [
           {
            "colorbar": {
             "outlinewidth": 0,
             "ticks": ""
            },
            "type": "choropleth"
           }
          ],
          "contour": [
           {
            "colorbar": {
             "outlinewidth": 0,
             "ticks": ""
            },
            "colorscale": [
             [
              0,
              "#0d0887"
             ],
             [
              0.1111111111111111,
              "#46039f"
             ],
             [
              0.2222222222222222,
              "#7201a8"
             ],
             [
              0.3333333333333333,
              "#9c179e"
             ],
             [
              0.4444444444444444,
              "#bd3786"
             ],
             [
              0.5555555555555556,
              "#d8576b"
             ],
             [
              0.6666666666666666,
              "#ed7953"
             ],
             [
              0.7777777777777778,
              "#fb9f3a"
             ],
             [
              0.8888888888888888,
              "#fdca26"
             ],
             [
              1,
              "#f0f921"
             ]
            ],
            "type": "contour"
           }
          ],
          "contourcarpet": [
           {
            "colorbar": {
             "outlinewidth": 0,
             "ticks": ""
            },
            "type": "contourcarpet"
           }
          ],
          "heatmap": [
           {
            "colorbar": {
             "outlinewidth": 0,
             "ticks": ""
            },
            "colorscale": [
             [
              0,
              "#0d0887"
             ],
             [
              0.1111111111111111,
              "#46039f"
             ],
             [
              0.2222222222222222,
              "#7201a8"
             ],
             [
              0.3333333333333333,
              "#9c179e"
             ],
             [
              0.4444444444444444,
              "#bd3786"
             ],
             [
              0.5555555555555556,
              "#d8576b"
             ],
             [
              0.6666666666666666,
              "#ed7953"
             ],
             [
              0.7777777777777778,
              "#fb9f3a"
             ],
             [
              0.8888888888888888,
              "#fdca26"
             ],
             [
              1,
              "#f0f921"
             ]
            ],
            "type": "heatmap"
           }
          ],
          "histogram": [
           {
            "marker": {
             "pattern": {
              "fillmode": "overlay",
              "size": 10,
              "solidity": 0.2
             }
            },
            "type": "histogram"
           }
          ],
          "histogram2d": [
           {
            "colorbar": {
             "outlinewidth": 0,
             "ticks": ""
            },
            "colorscale": [
             [
              0,
              "#0d0887"
             ],
             [
              0.1111111111111111,
              "#46039f"
             ],
             [
              0.2222222222222222,
              "#7201a8"
             ],
             [
              0.3333333333333333,
              "#9c179e"
             ],
             [
              0.4444444444444444,
              "#bd3786"
             ],
             [
              0.5555555555555556,
              "#d8576b"
             ],
             [
              0.6666666666666666,
              "#ed7953"
             ],
             [
              0.7777777777777778,
              "#fb9f3a"
             ],
             [
              0.8888888888888888,
              "#fdca26"
             ],
             [
              1,
              "#f0f921"
             ]
            ],
            "type": "histogram2d"
           }
          ],
          "histogram2dcontour": [
           {
            "colorbar": {
             "outlinewidth": 0,
             "ticks": ""
            },
            "colorscale": [
             [
              0,
              "#0d0887"
             ],
             [
              0.1111111111111111,
              "#46039f"
             ],
             [
              0.2222222222222222,
              "#7201a8"
             ],
             [
              0.3333333333333333,
              "#9c179e"
             ],
             [
              0.4444444444444444,
              "#bd3786"
             ],
             [
              0.5555555555555556,
              "#d8576b"
             ],
             [
              0.6666666666666666,
              "#ed7953"
             ],
             [
              0.7777777777777778,
              "#fb9f3a"
             ],
             [
              0.8888888888888888,
              "#fdca26"
             ],
             [
              1,
              "#f0f921"
             ]
            ],
            "type": "histogram2dcontour"
           }
          ],
          "mesh3d": [
           {
            "colorbar": {
             "outlinewidth": 0,
             "ticks": ""
            },
            "type": "mesh3d"
           }
          ],
          "parcoords": [
           {
            "line": {
             "colorbar": {
              "outlinewidth": 0,
              "ticks": ""
             }
            },
            "type": "parcoords"
           }
          ],
          "pie": [
           {
            "automargin": true,
            "type": "pie"
           }
          ],
          "scatter": [
           {
            "fillpattern": {
             "fillmode": "overlay",
             "size": 10,
             "solidity": 0.2
            },
            "type": "scatter"
           }
          ],
          "scatter3d": [
           {
            "line": {
             "colorbar": {
              "outlinewidth": 0,
              "ticks": ""
             }
            },
            "marker": {
             "colorbar": {
              "outlinewidth": 0,
              "ticks": ""
             }
            },
            "type": "scatter3d"
           }
          ],
          "scattercarpet": [
           {
            "marker": {
             "colorbar": {
              "outlinewidth": 0,
              "ticks": ""
             }
            },
            "type": "scattercarpet"
           }
          ],
          "scattergeo": [
           {
            "marker": {
             "colorbar": {
              "outlinewidth": 0,
              "ticks": ""
             }
            },
            "type": "scattergeo"
           }
          ],
          "scattergl": [
           {
            "marker": {
             "colorbar": {
              "outlinewidth": 0,
              "ticks": ""
             }
            },
            "type": "scattergl"
           }
          ],
          "scattermap": [
           {
            "marker": {
             "colorbar": {
              "outlinewidth": 0,
              "ticks": ""
             }
            },
            "type": "scattermap"
           }
          ],
          "scattermapbox": [
           {
            "marker": {
             "colorbar": {
              "outlinewidth": 0,
              "ticks": ""
             }
            },
            "type": "scattermapbox"
           }
          ],
          "scatterpolar": [
           {
            "marker": {
             "colorbar": {
              "outlinewidth": 0,
              "ticks": ""
             }
            },
            "type": "scatterpolar"
           }
          ],
          "scatterpolargl": [
           {
            "marker": {
             "colorbar": {
              "outlinewidth": 0,
              "ticks": ""
             }
            },
            "type": "scatterpolargl"
           }
          ],
          "scatterternary": [
           {
            "marker": {
             "colorbar": {
              "outlinewidth": 0,
              "ticks": ""
             }
            },
            "type": "scatterternary"
           }
          ],
          "surface": [
           {
            "colorbar": {
             "outlinewidth": 0,
             "ticks": ""
            },
            "colorscale": [
             [
              0,
              "#0d0887"
             ],
             [
              0.1111111111111111,
              "#46039f"
             ],
             [
              0.2222222222222222,
              "#7201a8"
             ],
             [
              0.3333333333333333,
              "#9c179e"
             ],
             [
              0.4444444444444444,
              "#bd3786"
             ],
             [
              0.5555555555555556,
              "#d8576b"
             ],
             [
              0.6666666666666666,
              "#ed7953"
             ],
             [
              0.7777777777777778,
              "#fb9f3a"
             ],
             [
              0.8888888888888888,
              "#fdca26"
             ],
             [
              1,
              "#f0f921"
             ]
            ],
            "type": "surface"
           }
          ],
          "table": [
           {
            "cells": {
             "fill": {
              "color": "#EBF0F8"
             },
             "line": {
              "color": "white"
             }
            },
            "header": {
             "fill": {
              "color": "#C8D4E3"
             },
             "line": {
              "color": "white"
             }
            },
            "type": "table"
           }
          ]
         },
         "layout": {
          "annotationdefaults": {
           "arrowcolor": "#2a3f5f",
           "arrowhead": 0,
           "arrowwidth": 1
          },
          "autotypenumbers": "strict",
          "coloraxis": {
           "colorbar": {
            "outlinewidth": 0,
            "ticks": ""
           }
          },
          "colorscale": {
           "diverging": [
            [
             0,
             "#8e0152"
            ],
            [
             0.1,
             "#c51b7d"
            ],
            [
             0.2,
             "#de77ae"
            ],
            [
             0.3,
             "#f1b6da"
            ],
            [
             0.4,
             "#fde0ef"
            ],
            [
             0.5,
             "#f7f7f7"
            ],
            [
             0.6,
             "#e6f5d0"
            ],
            [
             0.7,
             "#b8e186"
            ],
            [
             0.8,
             "#7fbc41"
            ],
            [
             0.9,
             "#4d9221"
            ],
            [
             1,
             "#276419"
            ]
           ],
           "sequential": [
            [
             0,
             "#0d0887"
            ],
            [
             0.1111111111111111,
             "#46039f"
            ],
            [
             0.2222222222222222,
             "#7201a8"
            ],
            [
             0.3333333333333333,
             "#9c179e"
            ],
            [
             0.4444444444444444,
             "#bd3786"
            ],
            [
             0.5555555555555556,
             "#d8576b"
            ],
            [
             0.6666666666666666,
             "#ed7953"
            ],
            [
             0.7777777777777778,
             "#fb9f3a"
            ],
            [
             0.8888888888888888,
             "#fdca26"
            ],
            [
             1,
             "#f0f921"
            ]
           ],
           "sequentialminus": [
            [
             0,
             "#0d0887"
            ],
            [
             0.1111111111111111,
             "#46039f"
            ],
            [
             0.2222222222222222,
             "#7201a8"
            ],
            [
             0.3333333333333333,
             "#9c179e"
            ],
            [
             0.4444444444444444,
             "#bd3786"
            ],
            [
             0.5555555555555556,
             "#d8576b"
            ],
            [
             0.6666666666666666,
             "#ed7953"
            ],
            [
             0.7777777777777778,
             "#fb9f3a"
            ],
            [
             0.8888888888888888,
             "#fdca26"
            ],
            [
             1,
             "#f0f921"
            ]
           ]
          },
          "colorway": [
           "#636efa",
           "#EF553B",
           "#00cc96",
           "#ab63fa",
           "#FFA15A",
           "#19d3f3",
           "#FF6692",
           "#B6E880",
           "#FF97FF",
           "#FECB52"
          ],
          "font": {
           "color": "#2a3f5f"
          },
          "geo": {
           "bgcolor": "white",
           "lakecolor": "white",
           "landcolor": "white",
           "showlakes": true,
           "showland": true,
           "subunitcolor": "#C8D4E3"
          },
          "hoverlabel": {
           "align": "left"
          },
          "hovermode": "closest",
          "mapbox": {
           "style": "light"
          },
          "paper_bgcolor": "white",
          "plot_bgcolor": "white",
          "polar": {
           "angularaxis": {
            "gridcolor": "#EBF0F8",
            "linecolor": "#EBF0F8",
            "ticks": ""
           },
           "bgcolor": "white",
           "radialaxis": {
            "gridcolor": "#EBF0F8",
            "linecolor": "#EBF0F8",
            "ticks": ""
           }
          },
          "scene": {
           "xaxis": {
            "backgroundcolor": "white",
            "gridcolor": "#DFE8F3",
            "gridwidth": 2,
            "linecolor": "#EBF0F8",
            "showbackground": true,
            "ticks": "",
            "zerolinecolor": "#EBF0F8"
           },
           "yaxis": {
            "backgroundcolor": "white",
            "gridcolor": "#DFE8F3",
            "gridwidth": 2,
            "linecolor": "#EBF0F8",
            "showbackground": true,
            "ticks": "",
            "zerolinecolor": "#EBF0F8"
           },
           "zaxis": {
            "backgroundcolor": "white",
            "gridcolor": "#DFE8F3",
            "gridwidth": 2,
            "linecolor": "#EBF0F8",
            "showbackground": true,
            "ticks": "",
            "zerolinecolor": "#EBF0F8"
           }
          },
          "shapedefaults": {
           "line": {
            "color": "#2a3f5f"
           }
          },
          "ternary": {
           "aaxis": {
            "gridcolor": "#DFE8F3",
            "linecolor": "#A2B1C6",
            "ticks": ""
           },
           "baxis": {
            "gridcolor": "#DFE8F3",
            "linecolor": "#A2B1C6",
            "ticks": ""
           },
           "bgcolor": "white",
           "caxis": {
            "gridcolor": "#DFE8F3",
            "linecolor": "#A2B1C6",
            "ticks": ""
           }
          },
          "title": {
           "x": 0.05
          },
          "xaxis": {
           "automargin": true,
           "gridcolor": "#EBF0F8",
           "linecolor": "#EBF0F8",
           "ticks": "",
           "title": {
            "standoff": 15
           },
           "zerolinecolor": "#EBF0F8",
           "zerolinewidth": 2
          },
          "yaxis": {
           "automargin": true,
           "gridcolor": "#EBF0F8",
           "linecolor": "#EBF0F8",
           "ticks": "",
           "title": {
            "standoff": 15
           },
           "zerolinecolor": "#EBF0F8",
           "zerolinewidth": 2
          }
         }
        }
       }
      }
     },
     "metadata": {},
     "output_type": "display_data"
    }
   ],
   "source": [
    "px.pie(data_frame=py_t,names=('Payment'),values='Total')"
   ]
  },
  {
   "cell_type": "code",
   "execution_count": 71,
   "id": "d449bc1a",
   "metadata": {},
   "outputs": [
    {
     "data": {
      "text/html": [
       "<div>\n",
       "<style scoped>\n",
       "    .dataframe tbody tr th:only-of-type {\n",
       "        vertical-align: middle;\n",
       "    }\n",
       "\n",
       "    .dataframe tbody tr th {\n",
       "        vertical-align: top;\n",
       "    }\n",
       "\n",
       "    .dataframe thead th {\n",
       "        text-align: right;\n",
       "    }\n",
       "</style>\n",
       "<table border=\"1\" class=\"dataframe\">\n",
       "  <thead>\n",
       "    <tr style=\"text-align: right;\">\n",
       "      <th></th>\n",
       "      <th>Product line</th>\n",
       "      <th>cogs</th>\n",
       "    </tr>\n",
       "  </thead>\n",
       "  <tbody>\n",
       "    <tr>\n",
       "      <th>0</th>\n",
       "      <td>Electronic accessories</td>\n",
       "      <td>51750.03</td>\n",
       "    </tr>\n",
       "    <tr>\n",
       "      <th>1</th>\n",
       "      <td>Fashion accessories</td>\n",
       "      <td>51719.90</td>\n",
       "    </tr>\n",
       "    <tr>\n",
       "      <th>2</th>\n",
       "      <td>Food and beverages</td>\n",
       "      <td>53471.28</td>\n",
       "    </tr>\n",
       "    <tr>\n",
       "      <th>3</th>\n",
       "      <td>Health and beauty</td>\n",
       "      <td>46851.18</td>\n",
       "    </tr>\n",
       "    <tr>\n",
       "      <th>4</th>\n",
       "      <td>Home and lifestyle</td>\n",
       "      <td>51297.06</td>\n",
       "    </tr>\n",
       "    <tr>\n",
       "      <th>5</th>\n",
       "      <td>Sports and travel</td>\n",
       "      <td>52497.93</td>\n",
       "    </tr>\n",
       "  </tbody>\n",
       "</table>\n",
       "</div>"
      ],
      "text/plain": [
       "             Product line      cogs\n",
       "0  Electronic accessories  51750.03\n",
       "1     Fashion accessories  51719.90\n",
       "2      Food and beverages  53471.28\n",
       "3       Health and beauty  46851.18\n",
       "4      Home and lifestyle  51297.06\n",
       "5       Sports and travel  52497.93"
      ]
     },
     "execution_count": 71,
     "metadata": {},
     "output_type": "execute_result"
    }
   ],
   "source": [
    "pr_c=df.groupby('Product line')['cogs'].sum().reset_index()\n",
    "pr_c"
   ]
  },
  {
   "cell_type": "code",
   "execution_count": 72,
   "id": "2e415df4",
   "metadata": {},
   "outputs": [
    {
     "data": {
      "application/vnd.plotly.v1+json": {
       "config": {
        "plotlyServerURL": "https://plot.ly"
       },
       "data": [
        {
         "hovertemplate": "Product line=%{x}<br>cogs=%{y}<extra></extra>",
         "legendgroup": "",
         "marker": {
          "color": "#636efa",
          "pattern": {
           "shape": ""
          }
         },
         "name": "",
         "orientation": "v",
         "showlegend": false,
         "textposition": "auto",
         "texttemplate": "%{y}",
         "type": "bar",
         "x": [
          "Electronic accessories",
          "Fashion accessories",
          "Food and beverages",
          "Health and beauty",
          "Home and lifestyle",
          "Sports and travel"
         ],
         "xaxis": "x",
         "y": {
          "bdata": "XI/C9cBE6UDNzMzM/EDpQFyPwvXoG+pAKVyPwmXg5kC4HoXrIQzpQClcj8I9oulA",
          "dtype": "f8"
         },
         "yaxis": "y"
        }
       ],
       "layout": {
        "barmode": "relative",
        "legend": {
         "tracegroupgap": 0
        },
        "template": {
         "data": {
          "bar": [
           {
            "error_x": {
             "color": "#2a3f5f"
            },
            "error_y": {
             "color": "#2a3f5f"
            },
            "marker": {
             "line": {
              "color": "white",
              "width": 0.5
             },
             "pattern": {
              "fillmode": "overlay",
              "size": 10,
              "solidity": 0.2
             }
            },
            "type": "bar"
           }
          ],
          "barpolar": [
           {
            "marker": {
             "line": {
              "color": "white",
              "width": 0.5
             },
             "pattern": {
              "fillmode": "overlay",
              "size": 10,
              "solidity": 0.2
             }
            },
            "type": "barpolar"
           }
          ],
          "carpet": [
           {
            "aaxis": {
             "endlinecolor": "#2a3f5f",
             "gridcolor": "#C8D4E3",
             "linecolor": "#C8D4E3",
             "minorgridcolor": "#C8D4E3",
             "startlinecolor": "#2a3f5f"
            },
            "baxis": {
             "endlinecolor": "#2a3f5f",
             "gridcolor": "#C8D4E3",
             "linecolor": "#C8D4E3",
             "minorgridcolor": "#C8D4E3",
             "startlinecolor": "#2a3f5f"
            },
            "type": "carpet"
           }
          ],
          "choropleth": [
           {
            "colorbar": {
             "outlinewidth": 0,
             "ticks": ""
            },
            "type": "choropleth"
           }
          ],
          "contour": [
           {
            "colorbar": {
             "outlinewidth": 0,
             "ticks": ""
            },
            "colorscale": [
             [
              0,
              "#0d0887"
             ],
             [
              0.1111111111111111,
              "#46039f"
             ],
             [
              0.2222222222222222,
              "#7201a8"
             ],
             [
              0.3333333333333333,
              "#9c179e"
             ],
             [
              0.4444444444444444,
              "#bd3786"
             ],
             [
              0.5555555555555556,
              "#d8576b"
             ],
             [
              0.6666666666666666,
              "#ed7953"
             ],
             [
              0.7777777777777778,
              "#fb9f3a"
             ],
             [
              0.8888888888888888,
              "#fdca26"
             ],
             [
              1,
              "#f0f921"
             ]
            ],
            "type": "contour"
           }
          ],
          "contourcarpet": [
           {
            "colorbar": {
             "outlinewidth": 0,
             "ticks": ""
            },
            "type": "contourcarpet"
           }
          ],
          "heatmap": [
           {
            "colorbar": {
             "outlinewidth": 0,
             "ticks": ""
            },
            "colorscale": [
             [
              0,
              "#0d0887"
             ],
             [
              0.1111111111111111,
              "#46039f"
             ],
             [
              0.2222222222222222,
              "#7201a8"
             ],
             [
              0.3333333333333333,
              "#9c179e"
             ],
             [
              0.4444444444444444,
              "#bd3786"
             ],
             [
              0.5555555555555556,
              "#d8576b"
             ],
             [
              0.6666666666666666,
              "#ed7953"
             ],
             [
              0.7777777777777778,
              "#fb9f3a"
             ],
             [
              0.8888888888888888,
              "#fdca26"
             ],
             [
              1,
              "#f0f921"
             ]
            ],
            "type": "heatmap"
           }
          ],
          "histogram": [
           {
            "marker": {
             "pattern": {
              "fillmode": "overlay",
              "size": 10,
              "solidity": 0.2
             }
            },
            "type": "histogram"
           }
          ],
          "histogram2d": [
           {
            "colorbar": {
             "outlinewidth": 0,
             "ticks": ""
            },
            "colorscale": [
             [
              0,
              "#0d0887"
             ],
             [
              0.1111111111111111,
              "#46039f"
             ],
             [
              0.2222222222222222,
              "#7201a8"
             ],
             [
              0.3333333333333333,
              "#9c179e"
             ],
             [
              0.4444444444444444,
              "#bd3786"
             ],
             [
              0.5555555555555556,
              "#d8576b"
             ],
             [
              0.6666666666666666,
              "#ed7953"
             ],
             [
              0.7777777777777778,
              "#fb9f3a"
             ],
             [
              0.8888888888888888,
              "#fdca26"
             ],
             [
              1,
              "#f0f921"
             ]
            ],
            "type": "histogram2d"
           }
          ],
          "histogram2dcontour": [
           {
            "colorbar": {
             "outlinewidth": 0,
             "ticks": ""
            },
            "colorscale": [
             [
              0,
              "#0d0887"
             ],
             [
              0.1111111111111111,
              "#46039f"
             ],
             [
              0.2222222222222222,
              "#7201a8"
             ],
             [
              0.3333333333333333,
              "#9c179e"
             ],
             [
              0.4444444444444444,
              "#bd3786"
             ],
             [
              0.5555555555555556,
              "#d8576b"
             ],
             [
              0.6666666666666666,
              "#ed7953"
             ],
             [
              0.7777777777777778,
              "#fb9f3a"
             ],
             [
              0.8888888888888888,
              "#fdca26"
             ],
             [
              1,
              "#f0f921"
             ]
            ],
            "type": "histogram2dcontour"
           }
          ],
          "mesh3d": [
           {
            "colorbar": {
             "outlinewidth": 0,
             "ticks": ""
            },
            "type": "mesh3d"
           }
          ],
          "parcoords": [
           {
            "line": {
             "colorbar": {
              "outlinewidth": 0,
              "ticks": ""
             }
            },
            "type": "parcoords"
           }
          ],
          "pie": [
           {
            "automargin": true,
            "type": "pie"
           }
          ],
          "scatter": [
           {
            "fillpattern": {
             "fillmode": "overlay",
             "size": 10,
             "solidity": 0.2
            },
            "type": "scatter"
           }
          ],
          "scatter3d": [
           {
            "line": {
             "colorbar": {
              "outlinewidth": 0,
              "ticks": ""
             }
            },
            "marker": {
             "colorbar": {
              "outlinewidth": 0,
              "ticks": ""
             }
            },
            "type": "scatter3d"
           }
          ],
          "scattercarpet": [
           {
            "marker": {
             "colorbar": {
              "outlinewidth": 0,
              "ticks": ""
             }
            },
            "type": "scattercarpet"
           }
          ],
          "scattergeo": [
           {
            "marker": {
             "colorbar": {
              "outlinewidth": 0,
              "ticks": ""
             }
            },
            "type": "scattergeo"
           }
          ],
          "scattergl": [
           {
            "marker": {
             "colorbar": {
              "outlinewidth": 0,
              "ticks": ""
             }
            },
            "type": "scattergl"
           }
          ],
          "scattermap": [
           {
            "marker": {
             "colorbar": {
              "outlinewidth": 0,
              "ticks": ""
             }
            },
            "type": "scattermap"
           }
          ],
          "scattermapbox": [
           {
            "marker": {
             "colorbar": {
              "outlinewidth": 0,
              "ticks": ""
             }
            },
            "type": "scattermapbox"
           }
          ],
          "scatterpolar": [
           {
            "marker": {
             "colorbar": {
              "outlinewidth": 0,
              "ticks": ""
             }
            },
            "type": "scatterpolar"
           }
          ],
          "scatterpolargl": [
           {
            "marker": {
             "colorbar": {
              "outlinewidth": 0,
              "ticks": ""
             }
            },
            "type": "scatterpolargl"
           }
          ],
          "scatterternary": [
           {
            "marker": {
             "colorbar": {
              "outlinewidth": 0,
              "ticks": ""
             }
            },
            "type": "scatterternary"
           }
          ],
          "surface": [
           {
            "colorbar": {
             "outlinewidth": 0,
             "ticks": ""
            },
            "colorscale": [
             [
              0,
              "#0d0887"
             ],
             [
              0.1111111111111111,
              "#46039f"
             ],
             [
              0.2222222222222222,
              "#7201a8"
             ],
             [
              0.3333333333333333,
              "#9c179e"
             ],
             [
              0.4444444444444444,
              "#bd3786"
             ],
             [
              0.5555555555555556,
              "#d8576b"
             ],
             [
              0.6666666666666666,
              "#ed7953"
             ],
             [
              0.7777777777777778,
              "#fb9f3a"
             ],
             [
              0.8888888888888888,
              "#fdca26"
             ],
             [
              1,
              "#f0f921"
             ]
            ],
            "type": "surface"
           }
          ],
          "table": [
           {
            "cells": {
             "fill": {
              "color": "#EBF0F8"
             },
             "line": {
              "color": "white"
             }
            },
            "header": {
             "fill": {
              "color": "#C8D4E3"
             },
             "line": {
              "color": "white"
             }
            },
            "type": "table"
           }
          ]
         },
         "layout": {
          "annotationdefaults": {
           "arrowcolor": "#2a3f5f",
           "arrowhead": 0,
           "arrowwidth": 1
          },
          "autotypenumbers": "strict",
          "coloraxis": {
           "colorbar": {
            "outlinewidth": 0,
            "ticks": ""
           }
          },
          "colorscale": {
           "diverging": [
            [
             0,
             "#8e0152"
            ],
            [
             0.1,
             "#c51b7d"
            ],
            [
             0.2,
             "#de77ae"
            ],
            [
             0.3,
             "#f1b6da"
            ],
            [
             0.4,
             "#fde0ef"
            ],
            [
             0.5,
             "#f7f7f7"
            ],
            [
             0.6,
             "#e6f5d0"
            ],
            [
             0.7,
             "#b8e186"
            ],
            [
             0.8,
             "#7fbc41"
            ],
            [
             0.9,
             "#4d9221"
            ],
            [
             1,
             "#276419"
            ]
           ],
           "sequential": [
            [
             0,
             "#0d0887"
            ],
            [
             0.1111111111111111,
             "#46039f"
            ],
            [
             0.2222222222222222,
             "#7201a8"
            ],
            [
             0.3333333333333333,
             "#9c179e"
            ],
            [
             0.4444444444444444,
             "#bd3786"
            ],
            [
             0.5555555555555556,
             "#d8576b"
            ],
            [
             0.6666666666666666,
             "#ed7953"
            ],
            [
             0.7777777777777778,
             "#fb9f3a"
            ],
            [
             0.8888888888888888,
             "#fdca26"
            ],
            [
             1,
             "#f0f921"
            ]
           ],
           "sequentialminus": [
            [
             0,
             "#0d0887"
            ],
            [
             0.1111111111111111,
             "#46039f"
            ],
            [
             0.2222222222222222,
             "#7201a8"
            ],
            [
             0.3333333333333333,
             "#9c179e"
            ],
            [
             0.4444444444444444,
             "#bd3786"
            ],
            [
             0.5555555555555556,
             "#d8576b"
            ],
            [
             0.6666666666666666,
             "#ed7953"
            ],
            [
             0.7777777777777778,
             "#fb9f3a"
            ],
            [
             0.8888888888888888,
             "#fdca26"
            ],
            [
             1,
             "#f0f921"
            ]
           ]
          },
          "colorway": [
           "#636efa",
           "#EF553B",
           "#00cc96",
           "#ab63fa",
           "#FFA15A",
           "#19d3f3",
           "#FF6692",
           "#B6E880",
           "#FF97FF",
           "#FECB52"
          ],
          "font": {
           "color": "#2a3f5f"
          },
          "geo": {
           "bgcolor": "white",
           "lakecolor": "white",
           "landcolor": "white",
           "showlakes": true,
           "showland": true,
           "subunitcolor": "#C8D4E3"
          },
          "hoverlabel": {
           "align": "left"
          },
          "hovermode": "closest",
          "mapbox": {
           "style": "light"
          },
          "paper_bgcolor": "white",
          "plot_bgcolor": "white",
          "polar": {
           "angularaxis": {
            "gridcolor": "#EBF0F8",
            "linecolor": "#EBF0F8",
            "ticks": ""
           },
           "bgcolor": "white",
           "radialaxis": {
            "gridcolor": "#EBF0F8",
            "linecolor": "#EBF0F8",
            "ticks": ""
           }
          },
          "scene": {
           "xaxis": {
            "backgroundcolor": "white",
            "gridcolor": "#DFE8F3",
            "gridwidth": 2,
            "linecolor": "#EBF0F8",
            "showbackground": true,
            "ticks": "",
            "zerolinecolor": "#EBF0F8"
           },
           "yaxis": {
            "backgroundcolor": "white",
            "gridcolor": "#DFE8F3",
            "gridwidth": 2,
            "linecolor": "#EBF0F8",
            "showbackground": true,
            "ticks": "",
            "zerolinecolor": "#EBF0F8"
           },
           "zaxis": {
            "backgroundcolor": "white",
            "gridcolor": "#DFE8F3",
            "gridwidth": 2,
            "linecolor": "#EBF0F8",
            "showbackground": true,
            "ticks": "",
            "zerolinecolor": "#EBF0F8"
           }
          },
          "shapedefaults": {
           "line": {
            "color": "#2a3f5f"
           }
          },
          "ternary": {
           "aaxis": {
            "gridcolor": "#DFE8F3",
            "linecolor": "#A2B1C6",
            "ticks": ""
           },
           "baxis": {
            "gridcolor": "#DFE8F3",
            "linecolor": "#A2B1C6",
            "ticks": ""
           },
           "bgcolor": "white",
           "caxis": {
            "gridcolor": "#DFE8F3",
            "linecolor": "#A2B1C6",
            "ticks": ""
           }
          },
          "title": {
           "x": 0.05
          },
          "xaxis": {
           "automargin": true,
           "gridcolor": "#EBF0F8",
           "linecolor": "#EBF0F8",
           "ticks": "",
           "title": {
            "standoff": 15
           },
           "zerolinecolor": "#EBF0F8",
           "zerolinewidth": 2
          },
          "yaxis": {
           "automargin": true,
           "gridcolor": "#EBF0F8",
           "linecolor": "#EBF0F8",
           "ticks": "",
           "title": {
            "standoff": 15
           },
           "zerolinecolor": "#EBF0F8",
           "zerolinewidth": 2
          }
         }
        },
        "title": {
         "text": "total cost per product line"
        },
        "xaxis": {
         "anchor": "y",
         "domain": [
          0,
          1
         ],
         "title": {
          "text": "Product line"
         }
        },
        "yaxis": {
         "anchor": "x",
         "domain": [
          0,
          1
         ],
         "title": {
          "text": "cogs"
         }
        }
       }
      }
     },
     "metadata": {},
     "output_type": "display_data"
    }
   ],
   "source": [
    "px.bar(data_frame=pr_c,x='Product line',y='cogs',text_auto=True,title='total cost per product line')"
   ]
  },
  {
   "cell_type": "code",
   "execution_count": 26,
   "id": "c3214e33",
   "metadata": {},
   "outputs": [],
   "source": [
    "p_g=df.groupby(['Product line','Branch'])['gross income'].sum().reset_index()"
   ]
  },
  {
   "cell_type": "code",
   "execution_count": 27,
   "id": "68a49544",
   "metadata": {},
   "outputs": [
    {
     "data": {
      "application/vnd.plotly.v1+json": {
       "config": {
        "plotlyServerURL": "https://plot.ly"
       },
       "data": [
        {
         "alignmentgroup": "True",
         "hovertemplate": "Product line=Electronic accessories<br>Branch=%{x}<br>gross income=%{y}<extra></extra>",
         "legendgroup": "Electronic accessories",
         "marker": {
          "color": "#636efa",
          "pattern": {
           "shape": ""
          }
         },
         "name": "Electronic accessories",
         "offsetgroup": "Electronic accessories",
         "orientation": "v",
         "showlegend": true,
         "textposition": "auto",
         "texttemplate": "%{y}",
         "type": "bar",
         "x": [
          "A",
          "B",
          "C"
         ],
         "xaxis": "x",
         "y": {
          "bdata": "nMQgsPJBi0BANV66yV+JQLKd76dGOoxA",
          "dtype": "f8"
         },
         "yaxis": "y"
        },
        {
         "alignmentgroup": "True",
         "hovertemplate": "Product line=Fashion accessories<br>Branch=%{x}<br>gross income=%{y}<extra></extra>",
         "legendgroup": "Fashion accessories",
         "marker": {
          "color": "#EF553B",
          "pattern": {
           "shape": ""
          }
         },
         "name": "Fashion accessories",
         "offsetgroup": "Fashion accessories",
         "orientation": "v",
         "showlegend": true,
         "textposition": "auto",
         "texttemplate": "%{y}",
         "type": "bar",
         "x": [
          "A",
          "B",
          "C"
         ],
         "xaxis": "x",
         "y": {
          "bdata": "xSCwcuhNiEDVeOkmsWyIQEjhehSuCpBA",
          "dtype": "f8"
         },
         "yaxis": "y"
        },
        {
         "alignmentgroup": "True",
         "hovertemplate": "Product line=Food and beverages<br>Branch=%{x}<br>gross income=%{y}<extra></extra>",
         "legendgroup": "Food and beverages",
         "marker": {
          "color": "#00cc96",
          "pattern": {
           "shape": ""
          }
         },
         "name": "Food and beverages",
         "offsetgroup": "Food and beverages",
         "orientation": "v",
         "showlegend": true,
         "textposition": "auto",
         "texttemplate": "%{y}",
         "type": "bar",
         "x": [
          "A",
          "B",
          "C"
         ],
         "xaxis": "x",
         "y": {
          "bdata": "6Pup8VKKiUDP91PjJaSGQOtRuB4Fr5FA",
          "dtype": "f8"
         },
         "yaxis": "y"
        },
        {
         "alignmentgroup": "True",
         "hovertemplate": "Product line=Health and beauty<br>Branch=%{x}<br>gross income=%{y}<extra></extra>",
         "legendgroup": "Health and beauty",
         "marker": {
          "color": "#ab63fa",
          "pattern": {
           "shape": ""
          }
         },
         "name": "Health and beauty",
         "offsetgroup": "Health and beauty",
         "orientation": "v",
         "showlegend": true,
         "textposition": "auto",
         "texttemplate": "%{y}",
         "type": "bar",
         "x": [
          "A",
          "B",
          "C"
         ],
         "xaxis": "x",
         "y": {
          "bdata": "oBov3SS/gkBI4XoUrruNQM/3U+OluYhA",
          "dtype": "f8"
         },
         "yaxis": "y"
        },
        {
         "alignmentgroup": "True",
         "hovertemplate": "Product line=Home and lifestyle<br>Branch=%{x}<br>gross income=%{y}<extra></extra>",
         "legendgroup": "Home and lifestyle",
         "marker": {
          "color": "#FFA15A",
          "pattern": {
           "shape": ""
          }
         },
         "name": "Home and lifestyle",
         "offsetgroup": "Home and lifestyle",
         "orientation": "v",
         "showlegend": true,
         "textposition": "auto",
         "texttemplate": "%{y}",
         "type": "bar",
         "x": [
          "A",
          "B",
          "C"
         ],
         "xaxis": "x",
         "y": {
          "bdata": "1XjpJvGtkEA3iUFgZR2KQAaBlUOLrYRA",
          "dtype": "f8"
         },
         "yaxis": "y"
        },
        {
         "alignmentgroup": "True",
         "hovertemplate": "Product line=Sports and travel<br>Branch=%{x}<br>gross income=%{y}<extra></extra>",
         "legendgroup": "Sports and travel",
         "marker": {
          "color": "#19d3f3",
          "pattern": {
           "shape": ""
          }
         },
         "name": "Sports and travel",
         "offsetgroup": "Sports and travel",
         "orientation": "v",
         "showlegend": true,
         "textposition": "auto",
         "texttemplate": "%{y}",
         "type": "bar",
         "x": [
          "A",
          "B",
          "C"
         ],
         "xaxis": "x",
         "y": {
          "bdata": "f2q8dBPUjEBkO99Pjb6NQAaBlUOLdIdA",
          "dtype": "f8"
         },
         "yaxis": "y"
        }
       ],
       "layout": {
        "barmode": "group",
        "legend": {
         "title": {
          "text": "Product line"
         },
         "tracegroupgap": 0
        },
        "template": {
         "data": {
          "bar": [
           {
            "error_x": {
             "color": "#2a3f5f"
            },
            "error_y": {
             "color": "#2a3f5f"
            },
            "marker": {
             "line": {
              "color": "white",
              "width": 0.5
             },
             "pattern": {
              "fillmode": "overlay",
              "size": 10,
              "solidity": 0.2
             }
            },
            "type": "bar"
           }
          ],
          "barpolar": [
           {
            "marker": {
             "line": {
              "color": "white",
              "width": 0.5
             },
             "pattern": {
              "fillmode": "overlay",
              "size": 10,
              "solidity": 0.2
             }
            },
            "type": "barpolar"
           }
          ],
          "carpet": [
           {
            "aaxis": {
             "endlinecolor": "#2a3f5f",
             "gridcolor": "#C8D4E3",
             "linecolor": "#C8D4E3",
             "minorgridcolor": "#C8D4E3",
             "startlinecolor": "#2a3f5f"
            },
            "baxis": {
             "endlinecolor": "#2a3f5f",
             "gridcolor": "#C8D4E3",
             "linecolor": "#C8D4E3",
             "minorgridcolor": "#C8D4E3",
             "startlinecolor": "#2a3f5f"
            },
            "type": "carpet"
           }
          ],
          "choropleth": [
           {
            "colorbar": {
             "outlinewidth": 0,
             "ticks": ""
            },
            "type": "choropleth"
           }
          ],
          "contour": [
           {
            "colorbar": {
             "outlinewidth": 0,
             "ticks": ""
            },
            "colorscale": [
             [
              0,
              "#0d0887"
             ],
             [
              0.1111111111111111,
              "#46039f"
             ],
             [
              0.2222222222222222,
              "#7201a8"
             ],
             [
              0.3333333333333333,
              "#9c179e"
             ],
             [
              0.4444444444444444,
              "#bd3786"
             ],
             [
              0.5555555555555556,
              "#d8576b"
             ],
             [
              0.6666666666666666,
              "#ed7953"
             ],
             [
              0.7777777777777778,
              "#fb9f3a"
             ],
             [
              0.8888888888888888,
              "#fdca26"
             ],
             [
              1,
              "#f0f921"
             ]
            ],
            "type": "contour"
           }
          ],
          "contourcarpet": [
           {
            "colorbar": {
             "outlinewidth": 0,
             "ticks": ""
            },
            "type": "contourcarpet"
           }
          ],
          "heatmap": [
           {
            "colorbar": {
             "outlinewidth": 0,
             "ticks": ""
            },
            "colorscale": [
             [
              0,
              "#0d0887"
             ],
             [
              0.1111111111111111,
              "#46039f"
             ],
             [
              0.2222222222222222,
              "#7201a8"
             ],
             [
              0.3333333333333333,
              "#9c179e"
             ],
             [
              0.4444444444444444,
              "#bd3786"
             ],
             [
              0.5555555555555556,
              "#d8576b"
             ],
             [
              0.6666666666666666,
              "#ed7953"
             ],
             [
              0.7777777777777778,
              "#fb9f3a"
             ],
             [
              0.8888888888888888,
              "#fdca26"
             ],
             [
              1,
              "#f0f921"
             ]
            ],
            "type": "heatmap"
           }
          ],
          "histogram": [
           {
            "marker": {
             "pattern": {
              "fillmode": "overlay",
              "size": 10,
              "solidity": 0.2
             }
            },
            "type": "histogram"
           }
          ],
          "histogram2d": [
           {
            "colorbar": {
             "outlinewidth": 0,
             "ticks": ""
            },
            "colorscale": [
             [
              0,
              "#0d0887"
             ],
             [
              0.1111111111111111,
              "#46039f"
             ],
             [
              0.2222222222222222,
              "#7201a8"
             ],
             [
              0.3333333333333333,
              "#9c179e"
             ],
             [
              0.4444444444444444,
              "#bd3786"
             ],
             [
              0.5555555555555556,
              "#d8576b"
             ],
             [
              0.6666666666666666,
              "#ed7953"
             ],
             [
              0.7777777777777778,
              "#fb9f3a"
             ],
             [
              0.8888888888888888,
              "#fdca26"
             ],
             [
              1,
              "#f0f921"
             ]
            ],
            "type": "histogram2d"
           }
          ],
          "histogram2dcontour": [
           {
            "colorbar": {
             "outlinewidth": 0,
             "ticks": ""
            },
            "colorscale": [
             [
              0,
              "#0d0887"
             ],
             [
              0.1111111111111111,
              "#46039f"
             ],
             [
              0.2222222222222222,
              "#7201a8"
             ],
             [
              0.3333333333333333,
              "#9c179e"
             ],
             [
              0.4444444444444444,
              "#bd3786"
             ],
             [
              0.5555555555555556,
              "#d8576b"
             ],
             [
              0.6666666666666666,
              "#ed7953"
             ],
             [
              0.7777777777777778,
              "#fb9f3a"
             ],
             [
              0.8888888888888888,
              "#fdca26"
             ],
             [
              1,
              "#f0f921"
             ]
            ],
            "type": "histogram2dcontour"
           }
          ],
          "mesh3d": [
           {
            "colorbar": {
             "outlinewidth": 0,
             "ticks": ""
            },
            "type": "mesh3d"
           }
          ],
          "parcoords": [
           {
            "line": {
             "colorbar": {
              "outlinewidth": 0,
              "ticks": ""
             }
            },
            "type": "parcoords"
           }
          ],
          "pie": [
           {
            "automargin": true,
            "type": "pie"
           }
          ],
          "scatter": [
           {
            "fillpattern": {
             "fillmode": "overlay",
             "size": 10,
             "solidity": 0.2
            },
            "type": "scatter"
           }
          ],
          "scatter3d": [
           {
            "line": {
             "colorbar": {
              "outlinewidth": 0,
              "ticks": ""
             }
            },
            "marker": {
             "colorbar": {
              "outlinewidth": 0,
              "ticks": ""
             }
            },
            "type": "scatter3d"
           }
          ],
          "scattercarpet": [
           {
            "marker": {
             "colorbar": {
              "outlinewidth": 0,
              "ticks": ""
             }
            },
            "type": "scattercarpet"
           }
          ],
          "scattergeo": [
           {
            "marker": {
             "colorbar": {
              "outlinewidth": 0,
              "ticks": ""
             }
            },
            "type": "scattergeo"
           }
          ],
          "scattergl": [
           {
            "marker": {
             "colorbar": {
              "outlinewidth": 0,
              "ticks": ""
             }
            },
            "type": "scattergl"
           }
          ],
          "scattermap": [
           {
            "marker": {
             "colorbar": {
              "outlinewidth": 0,
              "ticks": ""
             }
            },
            "type": "scattermap"
           }
          ],
          "scattermapbox": [
           {
            "marker": {
             "colorbar": {
              "outlinewidth": 0,
              "ticks": ""
             }
            },
            "type": "scattermapbox"
           }
          ],
          "scatterpolar": [
           {
            "marker": {
             "colorbar": {
              "outlinewidth": 0,
              "ticks": ""
             }
            },
            "type": "scatterpolar"
           }
          ],
          "scatterpolargl": [
           {
            "marker": {
             "colorbar": {
              "outlinewidth": 0,
              "ticks": ""
             }
            },
            "type": "scatterpolargl"
           }
          ],
          "scatterternary": [
           {
            "marker": {
             "colorbar": {
              "outlinewidth": 0,
              "ticks": ""
             }
            },
            "type": "scatterternary"
           }
          ],
          "surface": [
           {
            "colorbar": {
             "outlinewidth": 0,
             "ticks": ""
            },
            "colorscale": [
             [
              0,
              "#0d0887"
             ],
             [
              0.1111111111111111,
              "#46039f"
             ],
             [
              0.2222222222222222,
              "#7201a8"
             ],
             [
              0.3333333333333333,
              "#9c179e"
             ],
             [
              0.4444444444444444,
              "#bd3786"
             ],
             [
              0.5555555555555556,
              "#d8576b"
             ],
             [
              0.6666666666666666,
              "#ed7953"
             ],
             [
              0.7777777777777778,
              "#fb9f3a"
             ],
             [
              0.8888888888888888,
              "#fdca26"
             ],
             [
              1,
              "#f0f921"
             ]
            ],
            "type": "surface"
           }
          ],
          "table": [
           {
            "cells": {
             "fill": {
              "color": "#EBF0F8"
             },
             "line": {
              "color": "white"
             }
            },
            "header": {
             "fill": {
              "color": "#C8D4E3"
             },
             "line": {
              "color": "white"
             }
            },
            "type": "table"
           }
          ]
         },
         "layout": {
          "annotationdefaults": {
           "arrowcolor": "#2a3f5f",
           "arrowhead": 0,
           "arrowwidth": 1
          },
          "autotypenumbers": "strict",
          "coloraxis": {
           "colorbar": {
            "outlinewidth": 0,
            "ticks": ""
           }
          },
          "colorscale": {
           "diverging": [
            [
             0,
             "#8e0152"
            ],
            [
             0.1,
             "#c51b7d"
            ],
            [
             0.2,
             "#de77ae"
            ],
            [
             0.3,
             "#f1b6da"
            ],
            [
             0.4,
             "#fde0ef"
            ],
            [
             0.5,
             "#f7f7f7"
            ],
            [
             0.6,
             "#e6f5d0"
            ],
            [
             0.7,
             "#b8e186"
            ],
            [
             0.8,
             "#7fbc41"
            ],
            [
             0.9,
             "#4d9221"
            ],
            [
             1,
             "#276419"
            ]
           ],
           "sequential": [
            [
             0,
             "#0d0887"
            ],
            [
             0.1111111111111111,
             "#46039f"
            ],
            [
             0.2222222222222222,
             "#7201a8"
            ],
            [
             0.3333333333333333,
             "#9c179e"
            ],
            [
             0.4444444444444444,
             "#bd3786"
            ],
            [
             0.5555555555555556,
             "#d8576b"
            ],
            [
             0.6666666666666666,
             "#ed7953"
            ],
            [
             0.7777777777777778,
             "#fb9f3a"
            ],
            [
             0.8888888888888888,
             "#fdca26"
            ],
            [
             1,
             "#f0f921"
            ]
           ],
           "sequentialminus": [
            [
             0,
             "#0d0887"
            ],
            [
             0.1111111111111111,
             "#46039f"
            ],
            [
             0.2222222222222222,
             "#7201a8"
            ],
            [
             0.3333333333333333,
             "#9c179e"
            ],
            [
             0.4444444444444444,
             "#bd3786"
            ],
            [
             0.5555555555555556,
             "#d8576b"
            ],
            [
             0.6666666666666666,
             "#ed7953"
            ],
            [
             0.7777777777777778,
             "#fb9f3a"
            ],
            [
             0.8888888888888888,
             "#fdca26"
            ],
            [
             1,
             "#f0f921"
            ]
           ]
          },
          "colorway": [
           "#636efa",
           "#EF553B",
           "#00cc96",
           "#ab63fa",
           "#FFA15A",
           "#19d3f3",
           "#FF6692",
           "#B6E880",
           "#FF97FF",
           "#FECB52"
          ],
          "font": {
           "color": "#2a3f5f"
          },
          "geo": {
           "bgcolor": "white",
           "lakecolor": "white",
           "landcolor": "white",
           "showlakes": true,
           "showland": true,
           "subunitcolor": "#C8D4E3"
          },
          "hoverlabel": {
           "align": "left"
          },
          "hovermode": "closest",
          "mapbox": {
           "style": "light"
          },
          "paper_bgcolor": "white",
          "plot_bgcolor": "white",
          "polar": {
           "angularaxis": {
            "gridcolor": "#EBF0F8",
            "linecolor": "#EBF0F8",
            "ticks": ""
           },
           "bgcolor": "white",
           "radialaxis": {
            "gridcolor": "#EBF0F8",
            "linecolor": "#EBF0F8",
            "ticks": ""
           }
          },
          "scene": {
           "xaxis": {
            "backgroundcolor": "white",
            "gridcolor": "#DFE8F3",
            "gridwidth": 2,
            "linecolor": "#EBF0F8",
            "showbackground": true,
            "ticks": "",
            "zerolinecolor": "#EBF0F8"
           },
           "yaxis": {
            "backgroundcolor": "white",
            "gridcolor": "#DFE8F3",
            "gridwidth": 2,
            "linecolor": "#EBF0F8",
            "showbackground": true,
            "ticks": "",
            "zerolinecolor": "#EBF0F8"
           },
           "zaxis": {
            "backgroundcolor": "white",
            "gridcolor": "#DFE8F3",
            "gridwidth": 2,
            "linecolor": "#EBF0F8",
            "showbackground": true,
            "ticks": "",
            "zerolinecolor": "#EBF0F8"
           }
          },
          "shapedefaults": {
           "line": {
            "color": "#2a3f5f"
           }
          },
          "ternary": {
           "aaxis": {
            "gridcolor": "#DFE8F3",
            "linecolor": "#A2B1C6",
            "ticks": ""
           },
           "baxis": {
            "gridcolor": "#DFE8F3",
            "linecolor": "#A2B1C6",
            "ticks": ""
           },
           "bgcolor": "white",
           "caxis": {
            "gridcolor": "#DFE8F3",
            "linecolor": "#A2B1C6",
            "ticks": ""
           }
          },
          "title": {
           "x": 0.05
          },
          "xaxis": {
           "automargin": true,
           "gridcolor": "#EBF0F8",
           "linecolor": "#EBF0F8",
           "ticks": "",
           "title": {
            "standoff": 15
           },
           "zerolinecolor": "#EBF0F8",
           "zerolinewidth": 2
          },
          "yaxis": {
           "automargin": true,
           "gridcolor": "#EBF0F8",
           "linecolor": "#EBF0F8",
           "ticks": "",
           "title": {
            "standoff": 15
           },
           "zerolinecolor": "#EBF0F8",
           "zerolinewidth": 2
          }
         }
        },
        "title": {
         "text": "gross income for each Branch per each product line"
        },
        "xaxis": {
         "anchor": "y",
         "domain": [
          0,
          1
         ],
         "title": {
          "text": "Branch"
         }
        },
        "yaxis": {
         "anchor": "x",
         "domain": [
          0,
          1
         ],
         "title": {
          "text": "gross income"
         }
        }
       }
      }
     },
     "metadata": {},
     "output_type": "display_data"
    }
   ],
   "source": [
    "px.bar(data_frame=p_g,x='Branch',y='gross income',color='Product line', barmode= 'group',text_auto=True,title='gross income for each Branch per each product line')"
   ]
  },
  {
   "cell_type": "code",
   "execution_count": 28,
   "id": "bc2f7cd8",
   "metadata": {},
   "outputs": [
    {
     "data": {
      "text/html": [
       "<div>\n",
       "<style scoped>\n",
       "    .dataframe tbody tr th:only-of-type {\n",
       "        vertical-align: middle;\n",
       "    }\n",
       "\n",
       "    .dataframe tbody tr th {\n",
       "        vertical-align: top;\n",
       "    }\n",
       "\n",
       "    .dataframe thead th {\n",
       "        text-align: right;\n",
       "    }\n",
       "</style>\n",
       "<table border=\"1\" class=\"dataframe\">\n",
       "  <thead>\n",
       "    <tr style=\"text-align: right;\">\n",
       "      <th></th>\n",
       "      <th>Date</th>\n",
       "      <th>Total</th>\n",
       "    </tr>\n",
       "  </thead>\n",
       "  <tbody>\n",
       "    <tr>\n",
       "      <th>0</th>\n",
       "      <td>2019-01-01</td>\n",
       "      <td>4745.1810</td>\n",
       "    </tr>\n",
       "    <tr>\n",
       "      <th>1</th>\n",
       "      <td>2019-01-02</td>\n",
       "      <td>1945.5030</td>\n",
       "    </tr>\n",
       "    <tr>\n",
       "      <th>2</th>\n",
       "      <td>2019-01-03</td>\n",
       "      <td>2078.1285</td>\n",
       "    </tr>\n",
       "    <tr>\n",
       "      <th>3</th>\n",
       "      <td>2019-01-04</td>\n",
       "      <td>1623.6885</td>\n",
       "    </tr>\n",
       "    <tr>\n",
       "      <th>4</th>\n",
       "      <td>2019-01-05</td>\n",
       "      <td>3536.6835</td>\n",
       "    </tr>\n",
       "    <tr>\n",
       "      <th>...</th>\n",
       "      <td>...</td>\n",
       "      <td>...</td>\n",
       "    </tr>\n",
       "    <tr>\n",
       "      <th>84</th>\n",
       "      <td>2019-03-26</td>\n",
       "      <td>1962.5130</td>\n",
       "    </tr>\n",
       "    <tr>\n",
       "      <th>85</th>\n",
       "      <td>2019-03-27</td>\n",
       "      <td>2902.8195</td>\n",
       "    </tr>\n",
       "    <tr>\n",
       "      <th>86</th>\n",
       "      <td>2019-03-28</td>\n",
       "      <td>2229.4020</td>\n",
       "    </tr>\n",
       "    <tr>\n",
       "      <th>87</th>\n",
       "      <td>2019-03-29</td>\n",
       "      <td>4023.2430</td>\n",
       "    </tr>\n",
       "    <tr>\n",
       "      <th>88</th>\n",
       "      <td>2019-03-30</td>\n",
       "      <td>4487.0595</td>\n",
       "    </tr>\n",
       "  </tbody>\n",
       "</table>\n",
       "<p>89 rows × 2 columns</p>\n",
       "</div>"
      ],
      "text/plain": [
       "         Date      Total\n",
       "0  2019-01-01  4745.1810\n",
       "1  2019-01-02  1945.5030\n",
       "2  2019-01-03  2078.1285\n",
       "3  2019-01-04  1623.6885\n",
       "4  2019-01-05  3536.6835\n",
       "..        ...        ...\n",
       "84 2019-03-26  1962.5130\n",
       "85 2019-03-27  2902.8195\n",
       "86 2019-03-28  2229.4020\n",
       "87 2019-03-29  4023.2430\n",
       "88 2019-03-30  4487.0595\n",
       "\n",
       "[89 rows x 2 columns]"
      ]
     },
     "execution_count": 28,
     "metadata": {},
     "output_type": "execute_result"
    }
   ],
   "source": [
    "m_t=df.groupby(df.Date)['Total'].sum().reset_index()\n",
    "m_t"
   ]
  },
  {
   "cell_type": "code",
   "execution_count": 29,
   "id": "9014b189",
   "metadata": {},
   "outputs": [
    {
     "data": {
      "application/vnd.plotly.v1+json": {
       "config": {
        "plotlyServerURL": "https://plot.ly"
       },
       "data": [
        {
         "hovertemplate": "Date=%{x}<br>Total=%{y}<extra></extra>",
         "legendgroup": "",
         "line": {
          "color": "#636efa",
          "dash": "solid"
         },
         "marker": {
          "symbol": "circle"
         },
         "mode": "lines",
         "name": "",
         "orientation": "v",
         "showlegend": false,
         "type": "scatter",
         "x": [
          "2019-01-01T00:00:00.000000000",
          "2019-01-02T00:00:00.000000000",
          "2019-01-03T00:00:00.000000000",
          "2019-01-04T00:00:00.000000000",
          "2019-01-05T00:00:00.000000000",
          "2019-01-06T00:00:00.000000000",
          "2019-01-07T00:00:00.000000000",
          "2019-01-08T00:00:00.000000000",
          "2019-01-09T00:00:00.000000000",
          "2019-01-10T00:00:00.000000000",
          "2019-01-11T00:00:00.000000000",
          "2019-01-12T00:00:00.000000000",
          "2019-01-13T00:00:00.000000000",
          "2019-01-14T00:00:00.000000000",
          "2019-01-15T00:00:00.000000000",
          "2019-01-16T00:00:00.000000000",
          "2019-01-17T00:00:00.000000000",
          "2019-01-18T00:00:00.000000000",
          "2019-01-19T00:00:00.000000000",
          "2019-01-20T00:00:00.000000000",
          "2019-01-21T00:00:00.000000000",
          "2019-01-22T00:00:00.000000000",
          "2019-01-23T00:00:00.000000000",
          "2019-01-24T00:00:00.000000000",
          "2019-01-25T00:00:00.000000000",
          "2019-01-26T00:00:00.000000000",
          "2019-01-27T00:00:00.000000000",
          "2019-01-28T00:00:00.000000000",
          "2019-01-29T00:00:00.000000000",
          "2019-01-30T00:00:00.000000000",
          "2019-01-31T00:00:00.000000000",
          "2019-02-01T00:00:00.000000000",
          "2019-02-02T00:00:00.000000000",
          "2019-02-03T00:00:00.000000000",
          "2019-02-04T00:00:00.000000000",
          "2019-02-05T00:00:00.000000000",
          "2019-02-06T00:00:00.000000000",
          "2019-02-07T00:00:00.000000000",
          "2019-02-08T00:00:00.000000000",
          "2019-02-09T00:00:00.000000000",
          "2019-02-10T00:00:00.000000000",
          "2019-02-11T00:00:00.000000000",
          "2019-02-12T00:00:00.000000000",
          "2019-02-13T00:00:00.000000000",
          "2019-02-14T00:00:00.000000000",
          "2019-02-15T00:00:00.000000000",
          "2019-02-16T00:00:00.000000000",
          "2019-02-17T00:00:00.000000000",
          "2019-02-18T00:00:00.000000000",
          "2019-02-19T00:00:00.000000000",
          "2019-02-20T00:00:00.000000000",
          "2019-02-21T00:00:00.000000000",
          "2019-02-22T00:00:00.000000000",
          "2019-02-23T00:00:00.000000000",
          "2019-02-24T00:00:00.000000000",
          "2019-02-25T00:00:00.000000000",
          "2019-02-26T00:00:00.000000000",
          "2019-02-27T00:00:00.000000000",
          "2019-02-28T00:00:00.000000000",
          "2019-03-01T00:00:00.000000000",
          "2019-03-02T00:00:00.000000000",
          "2019-03-03T00:00:00.000000000",
          "2019-03-04T00:00:00.000000000",
          "2019-03-05T00:00:00.000000000",
          "2019-03-06T00:00:00.000000000",
          "2019-03-07T00:00:00.000000000",
          "2019-03-08T00:00:00.000000000",
          "2019-03-09T00:00:00.000000000",
          "2019-03-10T00:00:00.000000000",
          "2019-03-11T00:00:00.000000000",
          "2019-03-12T00:00:00.000000000",
          "2019-03-13T00:00:00.000000000",
          "2019-03-14T00:00:00.000000000",
          "2019-03-15T00:00:00.000000000",
          "2019-03-16T00:00:00.000000000",
          "2019-03-17T00:00:00.000000000",
          "2019-03-18T00:00:00.000000000",
          "2019-03-19T00:00:00.000000000",
          "2019-03-20T00:00:00.000000000",
          "2019-03-21T00:00:00.000000000",
          "2019-03-22T00:00:00.000000000",
          "2019-03-23T00:00:00.000000000",
          "2019-03-24T00:00:00.000000000",
          "2019-03-25T00:00:00.000000000",
          "2019-03-26T00:00:00.000000000",
          "2019-03-27T00:00:00.000000000",
          "2019-03-28T00:00:00.000000000",
          "2019-03-29T00:00:00.000000000",
          "2019-03-30T00:00:00.000000000"
         ],
         "xaxis": "x",
         "y": {
          "bdata": "kxgEVi6JskCOl24SA2aeQBKDwMpBPKBAL90kBsFemUCiRbbzXaGrQFyPwvVoPKxAcmiR7XwkpkBSuB6Fu620QFpkO9+vmqdAzvdT4+XRq0DNzMzM7IWgQH9qvHTDQLRAxSCwcmgmo0D3U+OlO/2uQPYoXI9COLdARrbz/RTBsED1KFyPgo2oQFCNl27yuKVA9P3UeLkys0DO91Pj5Y6sQOj7qfEysKJAFtnO9xOjmkAAAAAAMGq3QHJoke0MGrVAokW2811cskAzMzMzg2mxQIPAyqHlG7JAGi/dJLaHs0DHSzeJIXmrQBov3SSG/KNAd76fGn9wtECcxCCwEhmjQJzEILDyLLBACtejcO1btUDufD81/g6jQKrx0k1CrqdAtvP91NiypkDP91PjNTy8QNNNYhCo3LNAi2zn+8mPqUBSuB6FC4qoQEoMAisnvrFAfT81Xvptp0BmZmZm5jGNQCuHFtkuLKNAAiuHFsmuukAQWDm0iI+jQF66SQySs7RA7nw/NR5gl0A5tMh2HoSwQN0kBoHVJKVAYhBYOfTGlUDRItv5nhSjQLByaJEtR6JA6SYxCOxEpUDb+X5qPMeyQGIQWDlU0KJAJQaBlXPjtkCoxks3CWKgQKwcWmS7lKRA7Xw/NU6guUDb+X5qLPWyQC/dJAbhbK5AiUFg5eBWuEAhsHJoMSmoQBBYObQIeZZAs53vp8ZqqEDqJjEIDDK9QClcj8J1tqhAL90kBoEip0B9PzVeGrusQFg5tMg2H6BAqvHSTaIuvECuR+F61PymQARWDi3ypKhALbKd7yfhnkDdJAaBVTOUQAisHFpkbLZACKwcWjRStUBaZDvfD1adQJ7vp8ZL1qhA3SQGgRX+r0BkO99P7SqrQCuHFtnuwaFAZTvfTw2qnkAlBoGVo62mQPyp8dLNaqFA2/l+anxur0AdWmQ7D4exQA==",
          "dtype": "f8"
         },
         "yaxis": "y"
        }
       ],
       "layout": {
        "legend": {
         "tracegroupgap": 0
        },
        "template": {
         "data": {
          "bar": [
           {
            "error_x": {
             "color": "#2a3f5f"
            },
            "error_y": {
             "color": "#2a3f5f"
            },
            "marker": {
             "line": {
              "color": "white",
              "width": 0.5
             },
             "pattern": {
              "fillmode": "overlay",
              "size": 10,
              "solidity": 0.2
             }
            },
            "type": "bar"
           }
          ],
          "barpolar": [
           {
            "marker": {
             "line": {
              "color": "white",
              "width": 0.5
             },
             "pattern": {
              "fillmode": "overlay",
              "size": 10,
              "solidity": 0.2
             }
            },
            "type": "barpolar"
           }
          ],
          "carpet": [
           {
            "aaxis": {
             "endlinecolor": "#2a3f5f",
             "gridcolor": "#C8D4E3",
             "linecolor": "#C8D4E3",
             "minorgridcolor": "#C8D4E3",
             "startlinecolor": "#2a3f5f"
            },
            "baxis": {
             "endlinecolor": "#2a3f5f",
             "gridcolor": "#C8D4E3",
             "linecolor": "#C8D4E3",
             "minorgridcolor": "#C8D4E3",
             "startlinecolor": "#2a3f5f"
            },
            "type": "carpet"
           }
          ],
          "choropleth": [
           {
            "colorbar": {
             "outlinewidth": 0,
             "ticks": ""
            },
            "type": "choropleth"
           }
          ],
          "contour": [
           {
            "colorbar": {
             "outlinewidth": 0,
             "ticks": ""
            },
            "colorscale": [
             [
              0,
              "#0d0887"
             ],
             [
              0.1111111111111111,
              "#46039f"
             ],
             [
              0.2222222222222222,
              "#7201a8"
             ],
             [
              0.3333333333333333,
              "#9c179e"
             ],
             [
              0.4444444444444444,
              "#bd3786"
             ],
             [
              0.5555555555555556,
              "#d8576b"
             ],
             [
              0.6666666666666666,
              "#ed7953"
             ],
             [
              0.7777777777777778,
              "#fb9f3a"
             ],
             [
              0.8888888888888888,
              "#fdca26"
             ],
             [
              1,
              "#f0f921"
             ]
            ],
            "type": "contour"
           }
          ],
          "contourcarpet": [
           {
            "colorbar": {
             "outlinewidth": 0,
             "ticks": ""
            },
            "type": "contourcarpet"
           }
          ],
          "heatmap": [
           {
            "colorbar": {
             "outlinewidth": 0,
             "ticks": ""
            },
            "colorscale": [
             [
              0,
              "#0d0887"
             ],
             [
              0.1111111111111111,
              "#46039f"
             ],
             [
              0.2222222222222222,
              "#7201a8"
             ],
             [
              0.3333333333333333,
              "#9c179e"
             ],
             [
              0.4444444444444444,
              "#bd3786"
             ],
             [
              0.5555555555555556,
              "#d8576b"
             ],
             [
              0.6666666666666666,
              "#ed7953"
             ],
             [
              0.7777777777777778,
              "#fb9f3a"
             ],
             [
              0.8888888888888888,
              "#fdca26"
             ],
             [
              1,
              "#f0f921"
             ]
            ],
            "type": "heatmap"
           }
          ],
          "histogram": [
           {
            "marker": {
             "pattern": {
              "fillmode": "overlay",
              "size": 10,
              "solidity": 0.2
             }
            },
            "type": "histogram"
           }
          ],
          "histogram2d": [
           {
            "colorbar": {
             "outlinewidth": 0,
             "ticks": ""
            },
            "colorscale": [
             [
              0,
              "#0d0887"
             ],
             [
              0.1111111111111111,
              "#46039f"
             ],
             [
              0.2222222222222222,
              "#7201a8"
             ],
             [
              0.3333333333333333,
              "#9c179e"
             ],
             [
              0.4444444444444444,
              "#bd3786"
             ],
             [
              0.5555555555555556,
              "#d8576b"
             ],
             [
              0.6666666666666666,
              "#ed7953"
             ],
             [
              0.7777777777777778,
              "#fb9f3a"
             ],
             [
              0.8888888888888888,
              "#fdca26"
             ],
             [
              1,
              "#f0f921"
             ]
            ],
            "type": "histogram2d"
           }
          ],
          "histogram2dcontour": [
           {
            "colorbar": {
             "outlinewidth": 0,
             "ticks": ""
            },
            "colorscale": [
             [
              0,
              "#0d0887"
             ],
             [
              0.1111111111111111,
              "#46039f"
             ],
             [
              0.2222222222222222,
              "#7201a8"
             ],
             [
              0.3333333333333333,
              "#9c179e"
             ],
             [
              0.4444444444444444,
              "#bd3786"
             ],
             [
              0.5555555555555556,
              "#d8576b"
             ],
             [
              0.6666666666666666,
              "#ed7953"
             ],
             [
              0.7777777777777778,
              "#fb9f3a"
             ],
             [
              0.8888888888888888,
              "#fdca26"
             ],
             [
              1,
              "#f0f921"
             ]
            ],
            "type": "histogram2dcontour"
           }
          ],
          "mesh3d": [
           {
            "colorbar": {
             "outlinewidth": 0,
             "ticks": ""
            },
            "type": "mesh3d"
           }
          ],
          "parcoords": [
           {
            "line": {
             "colorbar": {
              "outlinewidth": 0,
              "ticks": ""
             }
            },
            "type": "parcoords"
           }
          ],
          "pie": [
           {
            "automargin": true,
            "type": "pie"
           }
          ],
          "scatter": [
           {
            "fillpattern": {
             "fillmode": "overlay",
             "size": 10,
             "solidity": 0.2
            },
            "type": "scatter"
           }
          ],
          "scatter3d": [
           {
            "line": {
             "colorbar": {
              "outlinewidth": 0,
              "ticks": ""
             }
            },
            "marker": {
             "colorbar": {
              "outlinewidth": 0,
              "ticks": ""
             }
            },
            "type": "scatter3d"
           }
          ],
          "scattercarpet": [
           {
            "marker": {
             "colorbar": {
              "outlinewidth": 0,
              "ticks": ""
             }
            },
            "type": "scattercarpet"
           }
          ],
          "scattergeo": [
           {
            "marker": {
             "colorbar": {
              "outlinewidth": 0,
              "ticks": ""
             }
            },
            "type": "scattergeo"
           }
          ],
          "scattergl": [
           {
            "marker": {
             "colorbar": {
              "outlinewidth": 0,
              "ticks": ""
             }
            },
            "type": "scattergl"
           }
          ],
          "scattermap": [
           {
            "marker": {
             "colorbar": {
              "outlinewidth": 0,
              "ticks": ""
             }
            },
            "type": "scattermap"
           }
          ],
          "scattermapbox": [
           {
            "marker": {
             "colorbar": {
              "outlinewidth": 0,
              "ticks": ""
             }
            },
            "type": "scattermapbox"
           }
          ],
          "scatterpolar": [
           {
            "marker": {
             "colorbar": {
              "outlinewidth": 0,
              "ticks": ""
             }
            },
            "type": "scatterpolar"
           }
          ],
          "scatterpolargl": [
           {
            "marker": {
             "colorbar": {
              "outlinewidth": 0,
              "ticks": ""
             }
            },
            "type": "scatterpolargl"
           }
          ],
          "scatterternary": [
           {
            "marker": {
             "colorbar": {
              "outlinewidth": 0,
              "ticks": ""
             }
            },
            "type": "scatterternary"
           }
          ],
          "surface": [
           {
            "colorbar": {
             "outlinewidth": 0,
             "ticks": ""
            },
            "colorscale": [
             [
              0,
              "#0d0887"
             ],
             [
              0.1111111111111111,
              "#46039f"
             ],
             [
              0.2222222222222222,
              "#7201a8"
             ],
             [
              0.3333333333333333,
              "#9c179e"
             ],
             [
              0.4444444444444444,
              "#bd3786"
             ],
             [
              0.5555555555555556,
              "#d8576b"
             ],
             [
              0.6666666666666666,
              "#ed7953"
             ],
             [
              0.7777777777777778,
              "#fb9f3a"
             ],
             [
              0.8888888888888888,
              "#fdca26"
             ],
             [
              1,
              "#f0f921"
             ]
            ],
            "type": "surface"
           }
          ],
          "table": [
           {
            "cells": {
             "fill": {
              "color": "#EBF0F8"
             },
             "line": {
              "color": "white"
             }
            },
            "header": {
             "fill": {
              "color": "#C8D4E3"
             },
             "line": {
              "color": "white"
             }
            },
            "type": "table"
           }
          ]
         },
         "layout": {
          "annotationdefaults": {
           "arrowcolor": "#2a3f5f",
           "arrowhead": 0,
           "arrowwidth": 1
          },
          "autotypenumbers": "strict",
          "coloraxis": {
           "colorbar": {
            "outlinewidth": 0,
            "ticks": ""
           }
          },
          "colorscale": {
           "diverging": [
            [
             0,
             "#8e0152"
            ],
            [
             0.1,
             "#c51b7d"
            ],
            [
             0.2,
             "#de77ae"
            ],
            [
             0.3,
             "#f1b6da"
            ],
            [
             0.4,
             "#fde0ef"
            ],
            [
             0.5,
             "#f7f7f7"
            ],
            [
             0.6,
             "#e6f5d0"
            ],
            [
             0.7,
             "#b8e186"
            ],
            [
             0.8,
             "#7fbc41"
            ],
            [
             0.9,
             "#4d9221"
            ],
            [
             1,
             "#276419"
            ]
           ],
           "sequential": [
            [
             0,
             "#0d0887"
            ],
            [
             0.1111111111111111,
             "#46039f"
            ],
            [
             0.2222222222222222,
             "#7201a8"
            ],
            [
             0.3333333333333333,
             "#9c179e"
            ],
            [
             0.4444444444444444,
             "#bd3786"
            ],
            [
             0.5555555555555556,
             "#d8576b"
            ],
            [
             0.6666666666666666,
             "#ed7953"
            ],
            [
             0.7777777777777778,
             "#fb9f3a"
            ],
            [
             0.8888888888888888,
             "#fdca26"
            ],
            [
             1,
             "#f0f921"
            ]
           ],
           "sequentialminus": [
            [
             0,
             "#0d0887"
            ],
            [
             0.1111111111111111,
             "#46039f"
            ],
            [
             0.2222222222222222,
             "#7201a8"
            ],
            [
             0.3333333333333333,
             "#9c179e"
            ],
            [
             0.4444444444444444,
             "#bd3786"
            ],
            [
             0.5555555555555556,
             "#d8576b"
            ],
            [
             0.6666666666666666,
             "#ed7953"
            ],
            [
             0.7777777777777778,
             "#fb9f3a"
            ],
            [
             0.8888888888888888,
             "#fdca26"
            ],
            [
             1,
             "#f0f921"
            ]
           ]
          },
          "colorway": [
           "#636efa",
           "#EF553B",
           "#00cc96",
           "#ab63fa",
           "#FFA15A",
           "#19d3f3",
           "#FF6692",
           "#B6E880",
           "#FF97FF",
           "#FECB52"
          ],
          "font": {
           "color": "#2a3f5f"
          },
          "geo": {
           "bgcolor": "white",
           "lakecolor": "white",
           "landcolor": "white",
           "showlakes": true,
           "showland": true,
           "subunitcolor": "#C8D4E3"
          },
          "hoverlabel": {
           "align": "left"
          },
          "hovermode": "closest",
          "mapbox": {
           "style": "light"
          },
          "paper_bgcolor": "white",
          "plot_bgcolor": "white",
          "polar": {
           "angularaxis": {
            "gridcolor": "#EBF0F8",
            "linecolor": "#EBF0F8",
            "ticks": ""
           },
           "bgcolor": "white",
           "radialaxis": {
            "gridcolor": "#EBF0F8",
            "linecolor": "#EBF0F8",
            "ticks": ""
           }
          },
          "scene": {
           "xaxis": {
            "backgroundcolor": "white",
            "gridcolor": "#DFE8F3",
            "gridwidth": 2,
            "linecolor": "#EBF0F8",
            "showbackground": true,
            "ticks": "",
            "zerolinecolor": "#EBF0F8"
           },
           "yaxis": {
            "backgroundcolor": "white",
            "gridcolor": "#DFE8F3",
            "gridwidth": 2,
            "linecolor": "#EBF0F8",
            "showbackground": true,
            "ticks": "",
            "zerolinecolor": "#EBF0F8"
           },
           "zaxis": {
            "backgroundcolor": "white",
            "gridcolor": "#DFE8F3",
            "gridwidth": 2,
            "linecolor": "#EBF0F8",
            "showbackground": true,
            "ticks": "",
            "zerolinecolor": "#EBF0F8"
           }
          },
          "shapedefaults": {
           "line": {
            "color": "#2a3f5f"
           }
          },
          "ternary": {
           "aaxis": {
            "gridcolor": "#DFE8F3",
            "linecolor": "#A2B1C6",
            "ticks": ""
           },
           "baxis": {
            "gridcolor": "#DFE8F3",
            "linecolor": "#A2B1C6",
            "ticks": ""
           },
           "bgcolor": "white",
           "caxis": {
            "gridcolor": "#DFE8F3",
            "linecolor": "#A2B1C6",
            "ticks": ""
           }
          },
          "title": {
           "x": 0.05
          },
          "xaxis": {
           "automargin": true,
           "gridcolor": "#EBF0F8",
           "linecolor": "#EBF0F8",
           "ticks": "",
           "title": {
            "standoff": 15
           },
           "zerolinecolor": "#EBF0F8",
           "zerolinewidth": 2
          },
          "yaxis": {
           "automargin": true,
           "gridcolor": "#EBF0F8",
           "linecolor": "#EBF0F8",
           "ticks": "",
           "title": {
            "standoff": 15
           },
           "zerolinecolor": "#EBF0F8",
           "zerolinewidth": 2
          }
         }
        },
        "title": {
         "text": "history of total sales"
        },
        "xaxis": {
         "anchor": "y",
         "domain": [
          0,
          1
         ],
         "title": {
          "text": "Date"
         }
        },
        "yaxis": {
         "anchor": "x",
         "domain": [
          0,
          1
         ],
         "title": {
          "text": "Total"
         }
        }
       }
      }
     },
     "metadata": {},
     "output_type": "display_data"
    }
   ],
   "source": [
    "px.line(data_frame=m_t,x='Date',y='Total',title='history of total sales')"
   ]
  },
  {
   "cell_type": "code",
   "execution_count": 30,
   "id": "3c9b6d22",
   "metadata": {},
   "outputs": [
    {
     "data": {
      "text/html": [
       "<div>\n",
       "<style scoped>\n",
       "    .dataframe tbody tr th:only-of-type {\n",
       "        vertical-align: middle;\n",
       "    }\n",
       "\n",
       "    .dataframe tbody tr th {\n",
       "        vertical-align: top;\n",
       "    }\n",
       "\n",
       "    .dataframe thead th {\n",
       "        text-align: right;\n",
       "    }\n",
       "</style>\n",
       "<table border=\"1\" class=\"dataframe\">\n",
       "  <thead>\n",
       "    <tr style=\"text-align: right;\">\n",
       "      <th></th>\n",
       "      <th>Customer type</th>\n",
       "      <th>Gender</th>\n",
       "      <th>Total</th>\n",
       "    </tr>\n",
       "  </thead>\n",
       "  <tbody>\n",
       "    <tr>\n",
       "      <th>0</th>\n",
       "      <td>Member</td>\n",
       "      <td>Female</td>\n",
       "      <td>88146.9435</td>\n",
       "    </tr>\n",
       "    <tr>\n",
       "      <th>1</th>\n",
       "      <td>Member</td>\n",
       "      <td>Male</td>\n",
       "      <td>76076.5005</td>\n",
       "    </tr>\n",
       "    <tr>\n",
       "      <th>2</th>\n",
       "      <td>Normal</td>\n",
       "      <td>Female</td>\n",
       "      <td>79735.9815</td>\n",
       "    </tr>\n",
       "    <tr>\n",
       "      <th>3</th>\n",
       "      <td>Normal</td>\n",
       "      <td>Male</td>\n",
       "      <td>79007.3235</td>\n",
       "    </tr>\n",
       "  </tbody>\n",
       "</table>\n",
       "</div>"
      ],
      "text/plain": [
       "  Customer type  Gender       Total\n",
       "0        Member  Female  88146.9435\n",
       "1        Member    Male  76076.5005\n",
       "2        Normal  Female  79735.9815\n",
       "3        Normal    Male  79007.3235"
      ]
     },
     "execution_count": 30,
     "metadata": {},
     "output_type": "execute_result"
    }
   ],
   "source": [
    "c_g_t=df.groupby(['Customer type','Gender'])['Total'].sum().reset_index()\n",
    "c_g_t"
   ]
  },
  {
   "cell_type": "code",
   "execution_count": 31,
   "id": "21f67a21",
   "metadata": {},
   "outputs": [
    {
     "data": {
      "application/vnd.plotly.v1+json": {
       "config": {
        "plotlyServerURL": "https://plot.ly"
       },
       "data": [
        {
         "alignmentgroup": "True",
         "hovertemplate": "Gender=Female<br>Customer type=%{x}<br>Total=%{y}<extra></extra>",
         "legendgroup": "Female",
         "marker": {
          "color": "#636efa",
          "pattern": {
           "shape": ""
          }
         },
         "name": "Female",
         "offsetgroup": "Female",
         "orientation": "v",
         "showlegend": true,
         "textposition": "auto",
         "texttemplate": "%{y}",
         "type": "bar",
         "x": [
          "Member",
          "Normal"
         ],
         "xaxis": "x",
         "y": {
          "bdata": "vHSTGC+F9UAQWDm0f3fzQA==",
          "dtype": "f8"
         },
         "yaxis": "y"
        },
        {
         "alignmentgroup": "True",
         "hovertemplate": "Gender=Male<br>Customer type=%{x}<br>Total=%{y}<extra></extra>",
         "legendgroup": "Male",
         "marker": {
          "color": "#EF553B",
          "pattern": {
           "shape": ""
          }
         },
         "name": "Male",
         "offsetgroup": "Male",
         "orientation": "v",
         "showlegend": true,
         "textposition": "auto",
         "texttemplate": "%{y}",
         "type": "bar",
         "x": [
          "Member",
          "Normal"
         ],
         "xaxis": "x",
         "y": {
          "bdata": "ukkMAsiS8kAEVg4t9UnzQA==",
          "dtype": "f8"
         },
         "yaxis": "y"
        }
       ],
       "layout": {
        "barmode": "group",
        "legend": {
         "title": {
          "text": "Gender"
         },
         "tracegroupgap": 0
        },
        "template": {
         "data": {
          "bar": [
           {
            "error_x": {
             "color": "#2a3f5f"
            },
            "error_y": {
             "color": "#2a3f5f"
            },
            "marker": {
             "line": {
              "color": "white",
              "width": 0.5
             },
             "pattern": {
              "fillmode": "overlay",
              "size": 10,
              "solidity": 0.2
             }
            },
            "type": "bar"
           }
          ],
          "barpolar": [
           {
            "marker": {
             "line": {
              "color": "white",
              "width": 0.5
             },
             "pattern": {
              "fillmode": "overlay",
              "size": 10,
              "solidity": 0.2
             }
            },
            "type": "barpolar"
           }
          ],
          "carpet": [
           {
            "aaxis": {
             "endlinecolor": "#2a3f5f",
             "gridcolor": "#C8D4E3",
             "linecolor": "#C8D4E3",
             "minorgridcolor": "#C8D4E3",
             "startlinecolor": "#2a3f5f"
            },
            "baxis": {
             "endlinecolor": "#2a3f5f",
             "gridcolor": "#C8D4E3",
             "linecolor": "#C8D4E3",
             "minorgridcolor": "#C8D4E3",
             "startlinecolor": "#2a3f5f"
            },
            "type": "carpet"
           }
          ],
          "choropleth": [
           {
            "colorbar": {
             "outlinewidth": 0,
             "ticks": ""
            },
            "type": "choropleth"
           }
          ],
          "contour": [
           {
            "colorbar": {
             "outlinewidth": 0,
             "ticks": ""
            },
            "colorscale": [
             [
              0,
              "#0d0887"
             ],
             [
              0.1111111111111111,
              "#46039f"
             ],
             [
              0.2222222222222222,
              "#7201a8"
             ],
             [
              0.3333333333333333,
              "#9c179e"
             ],
             [
              0.4444444444444444,
              "#bd3786"
             ],
             [
              0.5555555555555556,
              "#d8576b"
             ],
             [
              0.6666666666666666,
              "#ed7953"
             ],
             [
              0.7777777777777778,
              "#fb9f3a"
             ],
             [
              0.8888888888888888,
              "#fdca26"
             ],
             [
              1,
              "#f0f921"
             ]
            ],
            "type": "contour"
           }
          ],
          "contourcarpet": [
           {
            "colorbar": {
             "outlinewidth": 0,
             "ticks": ""
            },
            "type": "contourcarpet"
           }
          ],
          "heatmap": [
           {
            "colorbar": {
             "outlinewidth": 0,
             "ticks": ""
            },
            "colorscale": [
             [
              0,
              "#0d0887"
             ],
             [
              0.1111111111111111,
              "#46039f"
             ],
             [
              0.2222222222222222,
              "#7201a8"
             ],
             [
              0.3333333333333333,
              "#9c179e"
             ],
             [
              0.4444444444444444,
              "#bd3786"
             ],
             [
              0.5555555555555556,
              "#d8576b"
             ],
             [
              0.6666666666666666,
              "#ed7953"
             ],
             [
              0.7777777777777778,
              "#fb9f3a"
             ],
             [
              0.8888888888888888,
              "#fdca26"
             ],
             [
              1,
              "#f0f921"
             ]
            ],
            "type": "heatmap"
           }
          ],
          "histogram": [
           {
            "marker": {
             "pattern": {
              "fillmode": "overlay",
              "size": 10,
              "solidity": 0.2
             }
            },
            "type": "histogram"
           }
          ],
          "histogram2d": [
           {
            "colorbar": {
             "outlinewidth": 0,
             "ticks": ""
            },
            "colorscale": [
             [
              0,
              "#0d0887"
             ],
             [
              0.1111111111111111,
              "#46039f"
             ],
             [
              0.2222222222222222,
              "#7201a8"
             ],
             [
              0.3333333333333333,
              "#9c179e"
             ],
             [
              0.4444444444444444,
              "#bd3786"
             ],
             [
              0.5555555555555556,
              "#d8576b"
             ],
             [
              0.6666666666666666,
              "#ed7953"
             ],
             [
              0.7777777777777778,
              "#fb9f3a"
             ],
             [
              0.8888888888888888,
              "#fdca26"
             ],
             [
              1,
              "#f0f921"
             ]
            ],
            "type": "histogram2d"
           }
          ],
          "histogram2dcontour": [
           {
            "colorbar": {
             "outlinewidth": 0,
             "ticks": ""
            },
            "colorscale": [
             [
              0,
              "#0d0887"
             ],
             [
              0.1111111111111111,
              "#46039f"
             ],
             [
              0.2222222222222222,
              "#7201a8"
             ],
             [
              0.3333333333333333,
              "#9c179e"
             ],
             [
              0.4444444444444444,
              "#bd3786"
             ],
             [
              0.5555555555555556,
              "#d8576b"
             ],
             [
              0.6666666666666666,
              "#ed7953"
             ],
             [
              0.7777777777777778,
              "#fb9f3a"
             ],
             [
              0.8888888888888888,
              "#fdca26"
             ],
             [
              1,
              "#f0f921"
             ]
            ],
            "type": "histogram2dcontour"
           }
          ],
          "mesh3d": [
           {
            "colorbar": {
             "outlinewidth": 0,
             "ticks": ""
            },
            "type": "mesh3d"
           }
          ],
          "parcoords": [
           {
            "line": {
             "colorbar": {
              "outlinewidth": 0,
              "ticks": ""
             }
            },
            "type": "parcoords"
           }
          ],
          "pie": [
           {
            "automargin": true,
            "type": "pie"
           }
          ],
          "scatter": [
           {
            "fillpattern": {
             "fillmode": "overlay",
             "size": 10,
             "solidity": 0.2
            },
            "type": "scatter"
           }
          ],
          "scatter3d": [
           {
            "line": {
             "colorbar": {
              "outlinewidth": 0,
              "ticks": ""
             }
            },
            "marker": {
             "colorbar": {
              "outlinewidth": 0,
              "ticks": ""
             }
            },
            "type": "scatter3d"
           }
          ],
          "scattercarpet": [
           {
            "marker": {
             "colorbar": {
              "outlinewidth": 0,
              "ticks": ""
             }
            },
            "type": "scattercarpet"
           }
          ],
          "scattergeo": [
           {
            "marker": {
             "colorbar": {
              "outlinewidth": 0,
              "ticks": ""
             }
            },
            "type": "scattergeo"
           }
          ],
          "scattergl": [
           {
            "marker": {
             "colorbar": {
              "outlinewidth": 0,
              "ticks": ""
             }
            },
            "type": "scattergl"
           }
          ],
          "scattermap": [
           {
            "marker": {
             "colorbar": {
              "outlinewidth": 0,
              "ticks": ""
             }
            },
            "type": "scattermap"
           }
          ],
          "scattermapbox": [
           {
            "marker": {
             "colorbar": {
              "outlinewidth": 0,
              "ticks": ""
             }
            },
            "type": "scattermapbox"
           }
          ],
          "scatterpolar": [
           {
            "marker": {
             "colorbar": {
              "outlinewidth": 0,
              "ticks": ""
             }
            },
            "type": "scatterpolar"
           }
          ],
          "scatterpolargl": [
           {
            "marker": {
             "colorbar": {
              "outlinewidth": 0,
              "ticks": ""
             }
            },
            "type": "scatterpolargl"
           }
          ],
          "scatterternary": [
           {
            "marker": {
             "colorbar": {
              "outlinewidth": 0,
              "ticks": ""
             }
            },
            "type": "scatterternary"
           }
          ],
          "surface": [
           {
            "colorbar": {
             "outlinewidth": 0,
             "ticks": ""
            },
            "colorscale": [
             [
              0,
              "#0d0887"
             ],
             [
              0.1111111111111111,
              "#46039f"
             ],
             [
              0.2222222222222222,
              "#7201a8"
             ],
             [
              0.3333333333333333,
              "#9c179e"
             ],
             [
              0.4444444444444444,
              "#bd3786"
             ],
             [
              0.5555555555555556,
              "#d8576b"
             ],
             [
              0.6666666666666666,
              "#ed7953"
             ],
             [
              0.7777777777777778,
              "#fb9f3a"
             ],
             [
              0.8888888888888888,
              "#fdca26"
             ],
             [
              1,
              "#f0f921"
             ]
            ],
            "type": "surface"
           }
          ],
          "table": [
           {
            "cells": {
             "fill": {
              "color": "#EBF0F8"
             },
             "line": {
              "color": "white"
             }
            },
            "header": {
             "fill": {
              "color": "#C8D4E3"
             },
             "line": {
              "color": "white"
             }
            },
            "type": "table"
           }
          ]
         },
         "layout": {
          "annotationdefaults": {
           "arrowcolor": "#2a3f5f",
           "arrowhead": 0,
           "arrowwidth": 1
          },
          "autotypenumbers": "strict",
          "coloraxis": {
           "colorbar": {
            "outlinewidth": 0,
            "ticks": ""
           }
          },
          "colorscale": {
           "diverging": [
            [
             0,
             "#8e0152"
            ],
            [
             0.1,
             "#c51b7d"
            ],
            [
             0.2,
             "#de77ae"
            ],
            [
             0.3,
             "#f1b6da"
            ],
            [
             0.4,
             "#fde0ef"
            ],
            [
             0.5,
             "#f7f7f7"
            ],
            [
             0.6,
             "#e6f5d0"
            ],
            [
             0.7,
             "#b8e186"
            ],
            [
             0.8,
             "#7fbc41"
            ],
            [
             0.9,
             "#4d9221"
            ],
            [
             1,
             "#276419"
            ]
           ],
           "sequential": [
            [
             0,
             "#0d0887"
            ],
            [
             0.1111111111111111,
             "#46039f"
            ],
            [
             0.2222222222222222,
             "#7201a8"
            ],
            [
             0.3333333333333333,
             "#9c179e"
            ],
            [
             0.4444444444444444,
             "#bd3786"
            ],
            [
             0.5555555555555556,
             "#d8576b"
            ],
            [
             0.6666666666666666,
             "#ed7953"
            ],
            [
             0.7777777777777778,
             "#fb9f3a"
            ],
            [
             0.8888888888888888,
             "#fdca26"
            ],
            [
             1,
             "#f0f921"
            ]
           ],
           "sequentialminus": [
            [
             0,
             "#0d0887"
            ],
            [
             0.1111111111111111,
             "#46039f"
            ],
            [
             0.2222222222222222,
             "#7201a8"
            ],
            [
             0.3333333333333333,
             "#9c179e"
            ],
            [
             0.4444444444444444,
             "#bd3786"
            ],
            [
             0.5555555555555556,
             "#d8576b"
            ],
            [
             0.6666666666666666,
             "#ed7953"
            ],
            [
             0.7777777777777778,
             "#fb9f3a"
            ],
            [
             0.8888888888888888,
             "#fdca26"
            ],
            [
             1,
             "#f0f921"
            ]
           ]
          },
          "colorway": [
           "#636efa",
           "#EF553B",
           "#00cc96",
           "#ab63fa",
           "#FFA15A",
           "#19d3f3",
           "#FF6692",
           "#B6E880",
           "#FF97FF",
           "#FECB52"
          ],
          "font": {
           "color": "#2a3f5f"
          },
          "geo": {
           "bgcolor": "white",
           "lakecolor": "white",
           "landcolor": "white",
           "showlakes": true,
           "showland": true,
           "subunitcolor": "#C8D4E3"
          },
          "hoverlabel": {
           "align": "left"
          },
          "hovermode": "closest",
          "mapbox": {
           "style": "light"
          },
          "paper_bgcolor": "white",
          "plot_bgcolor": "white",
          "polar": {
           "angularaxis": {
            "gridcolor": "#EBF0F8",
            "linecolor": "#EBF0F8",
            "ticks": ""
           },
           "bgcolor": "white",
           "radialaxis": {
            "gridcolor": "#EBF0F8",
            "linecolor": "#EBF0F8",
            "ticks": ""
           }
          },
          "scene": {
           "xaxis": {
            "backgroundcolor": "white",
            "gridcolor": "#DFE8F3",
            "gridwidth": 2,
            "linecolor": "#EBF0F8",
            "showbackground": true,
            "ticks": "",
            "zerolinecolor": "#EBF0F8"
           },
           "yaxis": {
            "backgroundcolor": "white",
            "gridcolor": "#DFE8F3",
            "gridwidth": 2,
            "linecolor": "#EBF0F8",
            "showbackground": true,
            "ticks": "",
            "zerolinecolor": "#EBF0F8"
           },
           "zaxis": {
            "backgroundcolor": "white",
            "gridcolor": "#DFE8F3",
            "gridwidth": 2,
            "linecolor": "#EBF0F8",
            "showbackground": true,
            "ticks": "",
            "zerolinecolor": "#EBF0F8"
           }
          },
          "shapedefaults": {
           "line": {
            "color": "#2a3f5f"
           }
          },
          "ternary": {
           "aaxis": {
            "gridcolor": "#DFE8F3",
            "linecolor": "#A2B1C6",
            "ticks": ""
           },
           "baxis": {
            "gridcolor": "#DFE8F3",
            "linecolor": "#A2B1C6",
            "ticks": ""
           },
           "bgcolor": "white",
           "caxis": {
            "gridcolor": "#DFE8F3",
            "linecolor": "#A2B1C6",
            "ticks": ""
           }
          },
          "title": {
           "x": 0.05
          },
          "xaxis": {
           "automargin": true,
           "gridcolor": "#EBF0F8",
           "linecolor": "#EBF0F8",
           "ticks": "",
           "title": {
            "standoff": 15
           },
           "zerolinecolor": "#EBF0F8",
           "zerolinewidth": 2
          },
          "yaxis": {
           "automargin": true,
           "gridcolor": "#EBF0F8",
           "linecolor": "#EBF0F8",
           "ticks": "",
           "title": {
            "standoff": 15
           },
           "zerolinecolor": "#EBF0F8",
           "zerolinewidth": 2
          }
         }
        },
        "title": {
         "text": "total sales for each customer type and gender"
        },
        "xaxis": {
         "anchor": "y",
         "domain": [
          0,
          1
         ],
         "title": {
          "text": "Customer type"
         }
        },
        "yaxis": {
         "anchor": "x",
         "domain": [
          0,
          1
         ],
         "title": {
          "text": "Total"
         }
        }
       }
      }
     },
     "metadata": {},
     "output_type": "display_data"
    }
   ],
   "source": [
    "px.bar(data_frame=c_g_t,x='Customer type',y='Total',color='Gender',barmode='group',text_auto=True,title='total sales for each customer type and gender')"
   ]
  },
  {
   "cell_type": "code",
   "execution_count": 87,
   "id": "faca5110",
   "metadata": {},
   "outputs": [
    {
     "data": {
      "text/html": [
       "<div>\n",
       "<style scoped>\n",
       "    .dataframe tbody tr th:only-of-type {\n",
       "        vertical-align: middle;\n",
       "    }\n",
       "\n",
       "    .dataframe tbody tr th {\n",
       "        vertical-align: top;\n",
       "    }\n",
       "\n",
       "    .dataframe thead th {\n",
       "        text-align: right;\n",
       "    }\n",
       "</style>\n",
       "<table border=\"1\" class=\"dataframe\">\n",
       "  <thead>\n",
       "    <tr style=\"text-align: right;\">\n",
       "      <th></th>\n",
       "      <th>Product line</th>\n",
       "      <th>Branch</th>\n",
       "      <th>Rating</th>\n",
       "    </tr>\n",
       "  </thead>\n",
       "  <tbody>\n",
       "    <tr>\n",
       "      <th>0</th>\n",
       "      <td>Electronic accessories</td>\n",
       "      <td>A</td>\n",
       "      <td>6.91</td>\n",
       "    </tr>\n",
       "    <tr>\n",
       "      <th>1</th>\n",
       "      <td>Electronic accessories</td>\n",
       "      <td>B</td>\n",
       "      <td>7.12</td>\n",
       "    </tr>\n",
       "    <tr>\n",
       "      <th>2</th>\n",
       "      <td>Electronic accessories</td>\n",
       "      <td>C</td>\n",
       "      <td>6.75</td>\n",
       "    </tr>\n",
       "    <tr>\n",
       "      <th>3</th>\n",
       "      <td>Fashion accessories</td>\n",
       "      <td>A</td>\n",
       "      <td>6.88</td>\n",
       "    </tr>\n",
       "    <tr>\n",
       "      <th>4</th>\n",
       "      <td>Fashion accessories</td>\n",
       "      <td>B</td>\n",
       "      <td>6.72</td>\n",
       "    </tr>\n",
       "    <tr>\n",
       "      <th>5</th>\n",
       "      <td>Fashion accessories</td>\n",
       "      <td>C</td>\n",
       "      <td>7.44</td>\n",
       "    </tr>\n",
       "    <tr>\n",
       "      <th>6</th>\n",
       "      <td>Food and beverages</td>\n",
       "      <td>A</td>\n",
       "      <td>7.25</td>\n",
       "    </tr>\n",
       "    <tr>\n",
       "      <th>7</th>\n",
       "      <td>Food and beverages</td>\n",
       "      <td>B</td>\n",
       "      <td>6.99</td>\n",
       "    </tr>\n",
       "    <tr>\n",
       "      <th>8</th>\n",
       "      <td>Food and beverages</td>\n",
       "      <td>C</td>\n",
       "      <td>7.08</td>\n",
       "    </tr>\n",
       "    <tr>\n",
       "      <th>9</th>\n",
       "      <td>Health and beauty</td>\n",
       "      <td>A</td>\n",
       "      <td>6.90</td>\n",
       "    </tr>\n",
       "    <tr>\n",
       "      <th>10</th>\n",
       "      <td>Health and beauty</td>\n",
       "      <td>B</td>\n",
       "      <td>7.10</td>\n",
       "    </tr>\n",
       "    <tr>\n",
       "      <th>11</th>\n",
       "      <td>Health and beauty</td>\n",
       "      <td>C</td>\n",
       "      <td>7.00</td>\n",
       "    </tr>\n",
       "    <tr>\n",
       "      <th>12</th>\n",
       "      <td>Home and lifestyle</td>\n",
       "      <td>A</td>\n",
       "      <td>6.93</td>\n",
       "    </tr>\n",
       "    <tr>\n",
       "      <th>13</th>\n",
       "      <td>Home and lifestyle</td>\n",
       "      <td>B</td>\n",
       "      <td>6.52</td>\n",
       "    </tr>\n",
       "    <tr>\n",
       "      <th>14</th>\n",
       "      <td>Home and lifestyle</td>\n",
       "      <td>C</td>\n",
       "      <td>7.06</td>\n",
       "    </tr>\n",
       "    <tr>\n",
       "      <th>15</th>\n",
       "      <td>Sports and travel</td>\n",
       "      <td>A</td>\n",
       "      <td>7.26</td>\n",
       "    </tr>\n",
       "    <tr>\n",
       "      <th>16</th>\n",
       "      <td>Sports and travel</td>\n",
       "      <td>B</td>\n",
       "      <td>6.51</td>\n",
       "    </tr>\n",
       "    <tr>\n",
       "      <th>17</th>\n",
       "      <td>Sports and travel</td>\n",
       "      <td>C</td>\n",
       "      <td>7.03</td>\n",
       "    </tr>\n",
       "  </tbody>\n",
       "</table>\n",
       "</div>"
      ],
      "text/plain": [
       "              Product line Branch  Rating\n",
       "0   Electronic accessories      A    6.91\n",
       "1   Electronic accessories      B    7.12\n",
       "2   Electronic accessories      C    6.75\n",
       "3      Fashion accessories      A    6.88\n",
       "4      Fashion accessories      B    6.72\n",
       "5      Fashion accessories      C    7.44\n",
       "6       Food and beverages      A    7.25\n",
       "7       Food and beverages      B    6.99\n",
       "8       Food and beverages      C    7.08\n",
       "9        Health and beauty      A    6.90\n",
       "10       Health and beauty      B    7.10\n",
       "11       Health and beauty      C    7.00\n",
       "12      Home and lifestyle      A    6.93\n",
       "13      Home and lifestyle      B    6.52\n",
       "14      Home and lifestyle      C    7.06\n",
       "15       Sports and travel      A    7.26\n",
       "16       Sports and travel      B    6.51\n",
       "17       Sports and travel      C    7.03"
      ]
     },
     "execution_count": 87,
     "metadata": {},
     "output_type": "execute_result"
    }
   ],
   "source": [
    "P_B_r=df.groupby(['Product line','Branch'])['Rating'].mean().reset_index().__round__(2)\n",
    "P_B_r"
   ]
  },
  {
   "cell_type": "code",
   "execution_count": 88,
   "id": "ec8b91d1",
   "metadata": {},
   "outputs": [
    {
     "data": {
      "application/vnd.plotly.v1+json": {
       "config": {
        "plotlyServerURL": "https://plot.ly"
       },
       "data": [
        {
         "alignmentgroup": "True",
         "hovertemplate": "Branch=A<br>Product line=%{x}<br>Rating=%{y}<extra></extra>",
         "legendgroup": "A",
         "marker": {
          "color": "#636efa",
          "pattern": {
           "shape": ""
          }
         },
         "name": "A",
         "offsetgroup": "A",
         "orientation": "v",
         "showlegend": true,
         "textposition": "auto",
         "texttemplate": "%{y}",
         "type": "bar",
         "x": [
          "Electronic accessories",
          "Fashion accessories",
          "Food and beverages",
          "Health and beauty",
          "Home and lifestyle",
          "Sports and travel"
         ],
         "xaxis": "x",
         "y": {
          "bdata": "pHA9CtejG0CF61G4HoUbQAAAAAAAAB1AmpmZmZmZG0C4HoXrUbgbQArXo3A9Ch1A",
          "dtype": "f8"
         },
         "yaxis": "y"
        },
        {
         "alignmentgroup": "True",
         "hovertemplate": "Branch=B<br>Product line=%{x}<br>Rating=%{y}<extra></extra>",
         "legendgroup": "B",
         "marker": {
          "color": "#EF553B",
          "pattern": {
           "shape": ""
          }
         },
         "name": "B",
         "offsetgroup": "B",
         "orientation": "v",
         "showlegend": true,
         "textposition": "auto",
         "texttemplate": "%{y}",
         "type": "bar",
         "x": [
          "Electronic accessories",
          "Fashion accessories",
          "Food and beverages",
          "Health and beauty",
          "Home and lifestyle",
          "Sports and travel"
         ],
         "xaxis": "x",
         "y": {
          "bdata": "exSuR+F6HEDhehSuR+EaQPYoXI/C9RtAZmZmZmZmHEAUrkfhehQaQArXo3A9ChpA",
          "dtype": "f8"
         },
         "yaxis": "y"
        },
        {
         "alignmentgroup": "True",
         "hovertemplate": "Branch=C<br>Product line=%{x}<br>Rating=%{y}<extra></extra>",
         "legendgroup": "C",
         "marker": {
          "color": "#00cc96",
          "pattern": {
           "shape": ""
          }
         },
         "name": "C",
         "offsetgroup": "C",
         "orientation": "v",
         "showlegend": true,
         "textposition": "auto",
         "texttemplate": "%{y}",
         "type": "bar",
         "x": [
          "Electronic accessories",
          "Fashion accessories",
          "Food and beverages",
          "Health and beauty",
          "Home and lifestyle",
          "Sports and travel"
         ],
         "xaxis": "x",
         "y": {
          "bdata": "AAAAAAAAG0DD9Shcj8IdQFK4HoXrURxAAAAAAAAAHEA9CtejcD0cQB+F61G4HhxA",
          "dtype": "f8"
         },
         "yaxis": "y"
        }
       ],
       "layout": {
        "barmode": "group",
        "legend": {
         "title": {
          "text": "Branch"
         },
         "tracegroupgap": 0
        },
        "margin": {
         "t": 60
        },
        "template": {
         "data": {
          "bar": [
           {
            "error_x": {
             "color": "#2a3f5f"
            },
            "error_y": {
             "color": "#2a3f5f"
            },
            "marker": {
             "line": {
              "color": "white",
              "width": 0.5
             },
             "pattern": {
              "fillmode": "overlay",
              "size": 10,
              "solidity": 0.2
             }
            },
            "type": "bar"
           }
          ],
          "barpolar": [
           {
            "marker": {
             "line": {
              "color": "white",
              "width": 0.5
             },
             "pattern": {
              "fillmode": "overlay",
              "size": 10,
              "solidity": 0.2
             }
            },
            "type": "barpolar"
           }
          ],
          "carpet": [
           {
            "aaxis": {
             "endlinecolor": "#2a3f5f",
             "gridcolor": "#C8D4E3",
             "linecolor": "#C8D4E3",
             "minorgridcolor": "#C8D4E3",
             "startlinecolor": "#2a3f5f"
            },
            "baxis": {
             "endlinecolor": "#2a3f5f",
             "gridcolor": "#C8D4E3",
             "linecolor": "#C8D4E3",
             "minorgridcolor": "#C8D4E3",
             "startlinecolor": "#2a3f5f"
            },
            "type": "carpet"
           }
          ],
          "choropleth": [
           {
            "colorbar": {
             "outlinewidth": 0,
             "ticks": ""
            },
            "type": "choropleth"
           }
          ],
          "contour": [
           {
            "colorbar": {
             "outlinewidth": 0,
             "ticks": ""
            },
            "colorscale": [
             [
              0,
              "#0d0887"
             ],
             [
              0.1111111111111111,
              "#46039f"
             ],
             [
              0.2222222222222222,
              "#7201a8"
             ],
             [
              0.3333333333333333,
              "#9c179e"
             ],
             [
              0.4444444444444444,
              "#bd3786"
             ],
             [
              0.5555555555555556,
              "#d8576b"
             ],
             [
              0.6666666666666666,
              "#ed7953"
             ],
             [
              0.7777777777777778,
              "#fb9f3a"
             ],
             [
              0.8888888888888888,
              "#fdca26"
             ],
             [
              1,
              "#f0f921"
             ]
            ],
            "type": "contour"
           }
          ],
          "contourcarpet": [
           {
            "colorbar": {
             "outlinewidth": 0,
             "ticks": ""
            },
            "type": "contourcarpet"
           }
          ],
          "heatmap": [
           {
            "colorbar": {
             "outlinewidth": 0,
             "ticks": ""
            },
            "colorscale": [
             [
              0,
              "#0d0887"
             ],
             [
              0.1111111111111111,
              "#46039f"
             ],
             [
              0.2222222222222222,
              "#7201a8"
             ],
             [
              0.3333333333333333,
              "#9c179e"
             ],
             [
              0.4444444444444444,
              "#bd3786"
             ],
             [
              0.5555555555555556,
              "#d8576b"
             ],
             [
              0.6666666666666666,
              "#ed7953"
             ],
             [
              0.7777777777777778,
              "#fb9f3a"
             ],
             [
              0.8888888888888888,
              "#fdca26"
             ],
             [
              1,
              "#f0f921"
             ]
            ],
            "type": "heatmap"
           }
          ],
          "histogram": [
           {
            "marker": {
             "pattern": {
              "fillmode": "overlay",
              "size": 10,
              "solidity": 0.2
             }
            },
            "type": "histogram"
           }
          ],
          "histogram2d": [
           {
            "colorbar": {
             "outlinewidth": 0,
             "ticks": ""
            },
            "colorscale": [
             [
              0,
              "#0d0887"
             ],
             [
              0.1111111111111111,
              "#46039f"
             ],
             [
              0.2222222222222222,
              "#7201a8"
             ],
             [
              0.3333333333333333,
              "#9c179e"
             ],
             [
              0.4444444444444444,
              "#bd3786"
             ],
             [
              0.5555555555555556,
              "#d8576b"
             ],
             [
              0.6666666666666666,
              "#ed7953"
             ],
             [
              0.7777777777777778,
              "#fb9f3a"
             ],
             [
              0.8888888888888888,
              "#fdca26"
             ],
             [
              1,
              "#f0f921"
             ]
            ],
            "type": "histogram2d"
           }
          ],
          "histogram2dcontour": [
           {
            "colorbar": {
             "outlinewidth": 0,
             "ticks": ""
            },
            "colorscale": [
             [
              0,
              "#0d0887"
             ],
             [
              0.1111111111111111,
              "#46039f"
             ],
             [
              0.2222222222222222,
              "#7201a8"
             ],
             [
              0.3333333333333333,
              "#9c179e"
             ],
             [
              0.4444444444444444,
              "#bd3786"
             ],
             [
              0.5555555555555556,
              "#d8576b"
             ],
             [
              0.6666666666666666,
              "#ed7953"
             ],
             [
              0.7777777777777778,
              "#fb9f3a"
             ],
             [
              0.8888888888888888,
              "#fdca26"
             ],
             [
              1,
              "#f0f921"
             ]
            ],
            "type": "histogram2dcontour"
           }
          ],
          "mesh3d": [
           {
            "colorbar": {
             "outlinewidth": 0,
             "ticks": ""
            },
            "type": "mesh3d"
           }
          ],
          "parcoords": [
           {
            "line": {
             "colorbar": {
              "outlinewidth": 0,
              "ticks": ""
             }
            },
            "type": "parcoords"
           }
          ],
          "pie": [
           {
            "automargin": true,
            "type": "pie"
           }
          ],
          "scatter": [
           {
            "fillpattern": {
             "fillmode": "overlay",
             "size": 10,
             "solidity": 0.2
            },
            "type": "scatter"
           }
          ],
          "scatter3d": [
           {
            "line": {
             "colorbar": {
              "outlinewidth": 0,
              "ticks": ""
             }
            },
            "marker": {
             "colorbar": {
              "outlinewidth": 0,
              "ticks": ""
             }
            },
            "type": "scatter3d"
           }
          ],
          "scattercarpet": [
           {
            "marker": {
             "colorbar": {
              "outlinewidth": 0,
              "ticks": ""
             }
            },
            "type": "scattercarpet"
           }
          ],
          "scattergeo": [
           {
            "marker": {
             "colorbar": {
              "outlinewidth": 0,
              "ticks": ""
             }
            },
            "type": "scattergeo"
           }
          ],
          "scattergl": [
           {
            "marker": {
             "colorbar": {
              "outlinewidth": 0,
              "ticks": ""
             }
            },
            "type": "scattergl"
           }
          ],
          "scattermap": [
           {
            "marker": {
             "colorbar": {
              "outlinewidth": 0,
              "ticks": ""
             }
            },
            "type": "scattermap"
           }
          ],
          "scattermapbox": [
           {
            "marker": {
             "colorbar": {
              "outlinewidth": 0,
              "ticks": ""
             }
            },
            "type": "scattermapbox"
           }
          ],
          "scatterpolar": [
           {
            "marker": {
             "colorbar": {
              "outlinewidth": 0,
              "ticks": ""
             }
            },
            "type": "scatterpolar"
           }
          ],
          "scatterpolargl": [
           {
            "marker": {
             "colorbar": {
              "outlinewidth": 0,
              "ticks": ""
             }
            },
            "type": "scatterpolargl"
           }
          ],
          "scatterternary": [
           {
            "marker": {
             "colorbar": {
              "outlinewidth": 0,
              "ticks": ""
             }
            },
            "type": "scatterternary"
           }
          ],
          "surface": [
           {
            "colorbar": {
             "outlinewidth": 0,
             "ticks": ""
            },
            "colorscale": [
             [
              0,
              "#0d0887"
             ],
             [
              0.1111111111111111,
              "#46039f"
             ],
             [
              0.2222222222222222,
              "#7201a8"
             ],
             [
              0.3333333333333333,
              "#9c179e"
             ],
             [
              0.4444444444444444,
              "#bd3786"
             ],
             [
              0.5555555555555556,
              "#d8576b"
             ],
             [
              0.6666666666666666,
              "#ed7953"
             ],
             [
              0.7777777777777778,
              "#fb9f3a"
             ],
             [
              0.8888888888888888,
              "#fdca26"
             ],
             [
              1,
              "#f0f921"
             ]
            ],
            "type": "surface"
           }
          ],
          "table": [
           {
            "cells": {
             "fill": {
              "color": "#EBF0F8"
             },
             "line": {
              "color": "white"
             }
            },
            "header": {
             "fill": {
              "color": "#C8D4E3"
             },
             "line": {
              "color": "white"
             }
            },
            "type": "table"
           }
          ]
         },
         "layout": {
          "annotationdefaults": {
           "arrowcolor": "#2a3f5f",
           "arrowhead": 0,
           "arrowwidth": 1
          },
          "autotypenumbers": "strict",
          "coloraxis": {
           "colorbar": {
            "outlinewidth": 0,
            "ticks": ""
           }
          },
          "colorscale": {
           "diverging": [
            [
             0,
             "#8e0152"
            ],
            [
             0.1,
             "#c51b7d"
            ],
            [
             0.2,
             "#de77ae"
            ],
            [
             0.3,
             "#f1b6da"
            ],
            [
             0.4,
             "#fde0ef"
            ],
            [
             0.5,
             "#f7f7f7"
            ],
            [
             0.6,
             "#e6f5d0"
            ],
            [
             0.7,
             "#b8e186"
            ],
            [
             0.8,
             "#7fbc41"
            ],
            [
             0.9,
             "#4d9221"
            ],
            [
             1,
             "#276419"
            ]
           ],
           "sequential": [
            [
             0,
             "#0d0887"
            ],
            [
             0.1111111111111111,
             "#46039f"
            ],
            [
             0.2222222222222222,
             "#7201a8"
            ],
            [
             0.3333333333333333,
             "#9c179e"
            ],
            [
             0.4444444444444444,
             "#bd3786"
            ],
            [
             0.5555555555555556,
             "#d8576b"
            ],
            [
             0.6666666666666666,
             "#ed7953"
            ],
            [
             0.7777777777777778,
             "#fb9f3a"
            ],
            [
             0.8888888888888888,
             "#fdca26"
            ],
            [
             1,
             "#f0f921"
            ]
           ],
           "sequentialminus": [
            [
             0,
             "#0d0887"
            ],
            [
             0.1111111111111111,
             "#46039f"
            ],
            [
             0.2222222222222222,
             "#7201a8"
            ],
            [
             0.3333333333333333,
             "#9c179e"
            ],
            [
             0.4444444444444444,
             "#bd3786"
            ],
            [
             0.5555555555555556,
             "#d8576b"
            ],
            [
             0.6666666666666666,
             "#ed7953"
            ],
            [
             0.7777777777777778,
             "#fb9f3a"
            ],
            [
             0.8888888888888888,
             "#fdca26"
            ],
            [
             1,
             "#f0f921"
            ]
           ]
          },
          "colorway": [
           "#636efa",
           "#EF553B",
           "#00cc96",
           "#ab63fa",
           "#FFA15A",
           "#19d3f3",
           "#FF6692",
           "#B6E880",
           "#FF97FF",
           "#FECB52"
          ],
          "font": {
           "color": "#2a3f5f"
          },
          "geo": {
           "bgcolor": "white",
           "lakecolor": "white",
           "landcolor": "white",
           "showlakes": true,
           "showland": true,
           "subunitcolor": "#C8D4E3"
          },
          "hoverlabel": {
           "align": "left"
          },
          "hovermode": "closest",
          "mapbox": {
           "style": "light"
          },
          "paper_bgcolor": "white",
          "plot_bgcolor": "white",
          "polar": {
           "angularaxis": {
            "gridcolor": "#EBF0F8",
            "linecolor": "#EBF0F8",
            "ticks": ""
           },
           "bgcolor": "white",
           "radialaxis": {
            "gridcolor": "#EBF0F8",
            "linecolor": "#EBF0F8",
            "ticks": ""
           }
          },
          "scene": {
           "xaxis": {
            "backgroundcolor": "white",
            "gridcolor": "#DFE8F3",
            "gridwidth": 2,
            "linecolor": "#EBF0F8",
            "showbackground": true,
            "ticks": "",
            "zerolinecolor": "#EBF0F8"
           },
           "yaxis": {
            "backgroundcolor": "white",
            "gridcolor": "#DFE8F3",
            "gridwidth": 2,
            "linecolor": "#EBF0F8",
            "showbackground": true,
            "ticks": "",
            "zerolinecolor": "#EBF0F8"
           },
           "zaxis": {
            "backgroundcolor": "white",
            "gridcolor": "#DFE8F3",
            "gridwidth": 2,
            "linecolor": "#EBF0F8",
            "showbackground": true,
            "ticks": "",
            "zerolinecolor": "#EBF0F8"
           }
          },
          "shapedefaults": {
           "line": {
            "color": "#2a3f5f"
           }
          },
          "ternary": {
           "aaxis": {
            "gridcolor": "#DFE8F3",
            "linecolor": "#A2B1C6",
            "ticks": ""
           },
           "baxis": {
            "gridcolor": "#DFE8F3",
            "linecolor": "#A2B1C6",
            "ticks": ""
           },
           "bgcolor": "white",
           "caxis": {
            "gridcolor": "#DFE8F3",
            "linecolor": "#A2B1C6",
            "ticks": ""
           }
          },
          "title": {
           "x": 0.05
          },
          "xaxis": {
           "automargin": true,
           "gridcolor": "#EBF0F8",
           "linecolor": "#EBF0F8",
           "ticks": "",
           "title": {
            "standoff": 15
           },
           "zerolinecolor": "#EBF0F8",
           "zerolinewidth": 2
          },
          "yaxis": {
           "automargin": true,
           "gridcolor": "#EBF0F8",
           "linecolor": "#EBF0F8",
           "ticks": "",
           "title": {
            "standoff": 15
           },
           "zerolinecolor": "#EBF0F8",
           "zerolinewidth": 2
          }
         }
        },
        "xaxis": {
         "anchor": "y",
         "domain": [
          0,
          1
         ],
         "title": {
          "text": "Product line"
         }
        },
        "yaxis": {
         "anchor": "x",
         "domain": [
          0,
          1
         ],
         "title": {
          "text": "Rating"
         }
        }
       }
      }
     },
     "metadata": {},
     "output_type": "display_data"
    }
   ],
   "source": [
    "px.bar(data_frame=P_B_r,x='Product line',y='Rating',color='Branch',barmode='group',text_auto=True)"
   ]
  },
  {
   "cell_type": "code",
   "execution_count": 32,
   "id": "e5dde124",
   "metadata": {},
   "outputs": [
    {
     "data": {
      "text/html": [
       "<div>\n",
       "<style scoped>\n",
       "    .dataframe tbody tr th:only-of-type {\n",
       "        vertical-align: middle;\n",
       "    }\n",
       "\n",
       "    .dataframe tbody tr th {\n",
       "        vertical-align: top;\n",
       "    }\n",
       "\n",
       "    .dataframe thead th {\n",
       "        text-align: right;\n",
       "    }\n",
       "</style>\n",
       "<table border=\"1\" class=\"dataframe\">\n",
       "  <thead>\n",
       "    <tr style=\"text-align: right;\">\n",
       "      <th></th>\n",
       "      <th>Branch</th>\n",
       "      <th>City</th>\n",
       "      <th>Customer type</th>\n",
       "      <th>Gender</th>\n",
       "      <th>Product line</th>\n",
       "      <th>Unit price</th>\n",
       "      <th>Quantity</th>\n",
       "      <th>Tax 5%</th>\n",
       "      <th>Total</th>\n",
       "      <th>Date</th>\n",
       "      <th>Time</th>\n",
       "      <th>Payment</th>\n",
       "      <th>cogs</th>\n",
       "      <th>gross income</th>\n",
       "      <th>Rating</th>\n",
       "    </tr>\n",
       "  </thead>\n",
       "  <tbody>\n",
       "    <tr>\n",
       "      <th>0</th>\n",
       "      <td>A</td>\n",
       "      <td>Yangon</td>\n",
       "      <td>Member</td>\n",
       "      <td>Female</td>\n",
       "      <td>Health and beauty</td>\n",
       "      <td>74.69</td>\n",
       "      <td>7</td>\n",
       "      <td>26.1415</td>\n",
       "      <td>548.9715</td>\n",
       "      <td>2019-01-05</td>\n",
       "      <td>13:08</td>\n",
       "      <td>Ewallet</td>\n",
       "      <td>522.83</td>\n",
       "      <td>26.1415</td>\n",
       "      <td>9.1</td>\n",
       "    </tr>\n",
       "    <tr>\n",
       "      <th>1</th>\n",
       "      <td>C</td>\n",
       "      <td>Naypyitaw</td>\n",
       "      <td>Normal</td>\n",
       "      <td>Female</td>\n",
       "      <td>Electronic accessories</td>\n",
       "      <td>15.28</td>\n",
       "      <td>5</td>\n",
       "      <td>3.8200</td>\n",
       "      <td>80.2200</td>\n",
       "      <td>2019-03-08</td>\n",
       "      <td>10:29</td>\n",
       "      <td>Cash</td>\n",
       "      <td>76.40</td>\n",
       "      <td>3.8200</td>\n",
       "      <td>9.6</td>\n",
       "    </tr>\n",
       "    <tr>\n",
       "      <th>2</th>\n",
       "      <td>A</td>\n",
       "      <td>Yangon</td>\n",
       "      <td>Normal</td>\n",
       "      <td>Male</td>\n",
       "      <td>Home and lifestyle</td>\n",
       "      <td>46.33</td>\n",
       "      <td>7</td>\n",
       "      <td>16.2155</td>\n",
       "      <td>340.5255</td>\n",
       "      <td>2019-03-03</td>\n",
       "      <td>13:23</td>\n",
       "      <td>Credit card</td>\n",
       "      <td>324.31</td>\n",
       "      <td>16.2155</td>\n",
       "      <td>7.4</td>\n",
       "    </tr>\n",
       "    <tr>\n",
       "      <th>3</th>\n",
       "      <td>A</td>\n",
       "      <td>Yangon</td>\n",
       "      <td>Member</td>\n",
       "      <td>Male</td>\n",
       "      <td>Health and beauty</td>\n",
       "      <td>58.22</td>\n",
       "      <td>8</td>\n",
       "      <td>23.2880</td>\n",
       "      <td>489.0480</td>\n",
       "      <td>2019-01-27</td>\n",
       "      <td>20:33</td>\n",
       "      <td>Ewallet</td>\n",
       "      <td>465.76</td>\n",
       "      <td>23.2880</td>\n",
       "      <td>8.4</td>\n",
       "    </tr>\n",
       "    <tr>\n",
       "      <th>4</th>\n",
       "      <td>A</td>\n",
       "      <td>Yangon</td>\n",
       "      <td>Normal</td>\n",
       "      <td>Male</td>\n",
       "      <td>Sports and travel</td>\n",
       "      <td>86.31</td>\n",
       "      <td>7</td>\n",
       "      <td>30.2085</td>\n",
       "      <td>634.3785</td>\n",
       "      <td>2019-02-08</td>\n",
       "      <td>10:37</td>\n",
       "      <td>Ewallet</td>\n",
       "      <td>604.17</td>\n",
       "      <td>30.2085</td>\n",
       "      <td>5.3</td>\n",
       "    </tr>\n",
       "  </tbody>\n",
       "</table>\n",
       "</div>"
      ],
      "text/plain": [
       "  Branch       City Customer type  Gender            Product line  Unit price  \\\n",
       "0      A     Yangon        Member  Female       Health and beauty       74.69   \n",
       "1      C  Naypyitaw        Normal  Female  Electronic accessories       15.28   \n",
       "2      A     Yangon        Normal    Male      Home and lifestyle       46.33   \n",
       "3      A     Yangon        Member    Male       Health and beauty       58.22   \n",
       "4      A     Yangon        Normal    Male       Sports and travel       86.31   \n",
       "\n",
       "   Quantity   Tax 5%     Total       Date   Time      Payment    cogs  \\\n",
       "0         7  26.1415  548.9715 2019-01-05  13:08      Ewallet  522.83   \n",
       "1         5   3.8200   80.2200 2019-03-08  10:29         Cash   76.40   \n",
       "2         7  16.2155  340.5255 2019-03-03  13:23  Credit card  324.31   \n",
       "3         8  23.2880  489.0480 2019-01-27  20:33      Ewallet  465.76   \n",
       "4         7  30.2085  634.3785 2019-02-08  10:37      Ewallet  604.17   \n",
       "\n",
       "   gross income  Rating  \n",
       "0       26.1415     9.1  \n",
       "1        3.8200     9.6  \n",
       "2       16.2155     7.4  \n",
       "3       23.2880     8.4  \n",
       "4       30.2085     5.3  "
      ]
     },
     "execution_count": 32,
     "metadata": {},
     "output_type": "execute_result"
    }
   ],
   "source": [
    "df.head()"
   ]
  },
  {
   "cell_type": "code",
   "execution_count": 33,
   "id": "975e14d6",
   "metadata": {},
   "outputs": [],
   "source": [
    "df.to_csv('df_new')"
   ]
  },
  {
   "cell_type": "code",
   "execution_count": 50,
   "id": "4a811be3",
   "metadata": {},
   "outputs": [],
   "source": [
    "import streamlit as st"
   ]
  },
  {
   "cell_type": "code",
   "execution_count": 96,
   "id": "6f38d421",
   "metadata": {},
   "outputs": [
    {
     "name": "stdout",
     "output_type": "stream",
     "text": [
      "Overwriting sales.py\n"
     ]
    }
   ],
   "source": [
    "%%writefile sales.py\n",
    "import streamlit as st\n",
    "import pandas as pd\n",
    "import plotly.express as px\n",
    "df=pd.read_csv('df_new',index_col=0)\n",
    "st.sidebar.header('sidebar for sales analysis')\n",
    "select=st.sidebar.selectbox('select',['univariate','Bivariate','multivariate'])\n",
    "st.sidebar.subheader(\"Filter Options\")\n",
    "cities = st.sidebar.multiselect(\"Filter by City\", df[\"City\"].unique(), default=df[\"City\"].unique())\n",
    "df['Date'] = pd.to_datetime(df['Date'])\n",
    "min_date = df['Date'].min()\n",
    "max_date = df['Date'].max()\n",
    "date_range = st.sidebar.date_input(\"Select Date Range\", [min_date, max_date])\n",
    "df = df[(df[\"City\"].isin(cities)) & (df[\"Date\"] >= pd.to_datetime(date_range[0])) & (df[\"Date\"] <= pd.to_datetime(date_range[1]))]\n",
    "st.dataframe(df.head())\n",
    "\n",
    "if select=='univariate':\n",
    "    col=st.selectbox('select',df.columns)\n",
    "    chart=st.selectbox('select',['histogram','pie','box'])\n",
    "    if chart=='histogram':\n",
    "        st.plotly_chart(px.histogram(data_frame= df, x= col, title= col,text_auto=True))\n",
    "    elif chart=='pie':\n",
    "        st.plotly_chart(px.pie(data_frame= df, names= col, title= col))\n",
    "    elif chart=='box':\n",
    "        st.plotly_chart(px.box(data_frame= df, x= col, title= col))\n",
    "        \n",
    "elif select=='Bivariate': \n",
    "    corr=df.corr(numeric_only=True).__round__(2)\n",
    "    st.plotly_chart(px.imshow(corr,text_auto=True))  \n",
    "    c_t=df.groupby('City')['Total'].sum().reset_index()\n",
    "    st.plotly_chart(px.bar(data_frame=c_t,x='City',y='Total',text_auto=True,title='total sales per city'))\n",
    "    p_t=df.groupby('Product line')['Total'].sum().reset_index()\n",
    "    pr_c=df.groupby('Product line')['cogs'].sum().reset_index()\n",
    "    st.plotly_chart(px.bar(data_frame=pr_c,x='Product line',y='cogs',text_auto=True,title='total cost per product line'))\n",
    "    st.plotly_chart(px.bar(data_frame=p_t,x='Product line',y='Total',text_auto=True,title='total sales per product line'))\n",
    "    B_t=df.groupby('Branch')['Total'].sum().reset_index()\n",
    "    st.plotly_chart(px.pie(data_frame=B_t,names='Branch',values='Total',color='Branch',title='total sales per Branch'))\n",
    "    m_t=df.groupby(df.Date)['Total'].sum().reset_index()\n",
    "    st.plotly_chart(px.line(data_frame=m_t,x='Date',y='Total',title='history of total sales'))\n",
    "    st.plotly_chart(px.histogram(data_frame= df, x='Tax 5%' ,y='Quantity',text_auto=True))\n",
    "    st.plotly_chart(px.histogram(data_frame= df, x='Customer type' ,y='Quantity',text_auto=True))\n",
    "    py_t=df.groupby('Payment')['Total'].sum().reset_index()\n",
    "    st.plotly_chart(px.pie(data_frame=py_t,names=('Payment'),values='Total',title='total sales for each payment method'))\n",
    "    \n",
    "else :\n",
    "    \n",
    "    p_g=df.groupby(['Product line','Branch'])['gross income'].sum().reset_index()\n",
    "    st.plotly_chart(px.bar(data_frame=p_g,x='Branch',y='gross income',color='Product line', barmode= 'group',text_auto=True,title='gross income for each Branch per each product line'))\n",
    "    c_g_t=df.groupby(['Customer type','Gender'])['Total'].sum().reset_index()\n",
    "    st.plotly_chart(px.bar(data_frame=c_g_t,x='Customer type',y='Total',color='Gender',barmode='group',text_auto=True,title='total sales for each customer type and gender'))\n",
    "    P_B_r=df.groupby(['Product line','Branch'])['Rating'].mean().reset_index().__round__(2)\n",
    "    st.plotly_chart(px.bar(data_frame=P_B_r,x='Product line',y='Rating',color='Branch',barmode='group',text_auto=True))\n",
    "    "
   ]
  },
  {
   "cell_type": "code",
   "execution_count": 76,
   "id": "b4ef3c16",
   "metadata": {},
   "outputs": [
    {
     "name": "stdout",
     "output_type": "stream",
     "text": [
      "^C\n"
     ]
    }
   ],
   "source": [
    "! streamlit run sales.py"
   ]
  },
  {
   "cell_type": "code",
   "execution_count": null,
   "id": "5596792e",
   "metadata": {},
   "outputs": [
    {
     "name": "stdout",
     "output_type": "stream",
     "text": [
      "Collecting pipreqs\n",
      "  Downloading pipreqs-0.5.0-py3-none-any.whl.metadata (7.9 kB)\n",
      "Collecting docopt==0.6.2 (from pipreqs)\n",
      "  Downloading docopt-0.6.2.tar.gz (25 kB)\n",
      "  Preparing metadata (setup.py): started\n",
      "  Preparing metadata (setup.py): finished with status 'done'\n",
      "Collecting ipython==8.12.3 (from pipreqs)\n",
      "  Downloading ipython-8.12.3-py3-none-any.whl.metadata (5.7 kB)\n",
      "Collecting nbconvert<8.0.0,>=7.11.0 (from pipreqs)\n",
      "  Using cached nbconvert-7.16.6-py3-none-any.whl.metadata (8.5 kB)\n",
      "Collecting yarg==0.1.9 (from pipreqs)\n",
      "  Downloading yarg-0.1.9-py2.py3-none-any.whl.metadata (4.6 kB)\n",
      "Collecting backcall (from ipython==8.12.3->pipreqs)\n",
      "  Downloading backcall-0.2.0-py2.py3-none-any.whl.metadata (2.0 kB)\n",
      "Requirement already satisfied: decorator in c:\\users\\ahmed\\appdata\\roaming\\python\\python310\\site-packages (from ipython==8.12.3->pipreqs) (5.1.1)\n",
      "Requirement already satisfied: jedi>=0.16 in c:\\users\\ahmed\\appdata\\roaming\\python\\python310\\site-packages (from ipython==8.12.3->pipreqs) (0.19.1)\n",
      "Requirement already satisfied: matplotlib-inline in c:\\users\\ahmed\\appdata\\roaming\\python\\python310\\site-packages (from ipython==8.12.3->pipreqs) (0.1.7)\n",
      "Collecting pickleshare (from ipython==8.12.3->pipreqs)\n",
      "  Downloading pickleshare-0.7.5-py2.py3-none-any.whl.metadata (1.5 kB)\n",
      "Requirement already satisfied: prompt-toolkit!=3.0.37,<3.1.0,>=3.0.30 in c:\\users\\ahmed\\appdata\\roaming\\python\\python310\\site-packages (from ipython==8.12.3->pipreqs) (3.0.47)\n",
      "Requirement already satisfied: pygments>=2.4.0 in c:\\users\\ahmed\\appdata\\roaming\\python\\python310\\site-packages (from ipython==8.12.3->pipreqs) (2.18.0)\n",
      "Requirement already satisfied: stack-data in c:\\users\\ahmed\\appdata\\roaming\\python\\python310\\site-packages (from ipython==8.12.3->pipreqs) (0.6.3)\n",
      "Requirement already satisfied: traitlets>=5 in c:\\users\\ahmed\\appdata\\roaming\\python\\python310\\site-packages (from ipython==8.12.3->pipreqs) (5.14.3)\n",
      "Requirement already satisfied: colorama in c:\\users\\ahmed\\appdata\\roaming\\python\\python310\\site-packages (from ipython==8.12.3->pipreqs) (0.4.6)\n",
      "Requirement already satisfied: requests in c:\\users\\ahmed\\anaconda3\\envs\\ml_env\\lib\\site-packages (from yarg==0.1.9->pipreqs) (2.32.3)\n",
      "Collecting beautifulsoup4 (from nbconvert<8.0.0,>=7.11.0->pipreqs)\n",
      "  Using cached beautifulsoup4-4.13.4-py3-none-any.whl.metadata (3.8 kB)\n",
      "Requirement already satisfied: bleach!=5.0.0 in c:\\users\\ahmed\\anaconda3\\envs\\ml_env\\lib\\site-packages (from bleach[css]!=5.0.0->nbconvert<8.0.0,>=7.11.0->pipreqs) (6.2.0)\n",
      "Collecting defusedxml (from nbconvert<8.0.0,>=7.11.0->pipreqs)\n",
      "  Using cached defusedxml-0.7.1-py2.py3-none-any.whl.metadata (32 kB)\n",
      "Requirement already satisfied: jinja2>=3.0 in c:\\users\\ahmed\\anaconda3\\envs\\ml_env\\lib\\site-packages (from nbconvert<8.0.0,>=7.11.0->pipreqs) (3.1.6)\n",
      "Requirement already satisfied: jupyter-core>=4.7 in c:\\users\\ahmed\\appdata\\roaming\\python\\python310\\site-packages (from nbconvert<8.0.0,>=7.11.0->pipreqs) (5.7.2)\n",
      "Collecting jupyterlab-pygments (from nbconvert<8.0.0,>=7.11.0->pipreqs)\n",
      "  Using cached jupyterlab_pygments-0.3.0-py3-none-any.whl.metadata (4.4 kB)\n",
      "Requirement already satisfied: markupsafe>=2.0 in c:\\users\\ahmed\\anaconda3\\envs\\ml_env\\lib\\site-packages (from nbconvert<8.0.0,>=7.11.0->pipreqs) (3.0.2)\n",
      "Collecting mistune<4,>=2.0.3 (from nbconvert<8.0.0,>=7.11.0->pipreqs)\n",
      "  Using cached mistune-3.1.3-py3-none-any.whl.metadata (1.8 kB)\n",
      "Collecting nbclient>=0.5.0 (from nbconvert<8.0.0,>=7.11.0->pipreqs)\n",
      "  Using cached nbclient-0.10.2-py3-none-any.whl.metadata (8.3 kB)\n",
      "Requirement already satisfied: nbformat>=5.7 in c:\\users\\ahmed\\anaconda3\\envs\\ml_env\\lib\\site-packages (from nbconvert<8.0.0,>=7.11.0->pipreqs) (5.10.4)\n",
      "Requirement already satisfied: packaging in c:\\users\\ahmed\\appdata\\roaming\\python\\python310\\site-packages (from nbconvert<8.0.0,>=7.11.0->pipreqs) (24.1)\n",
      "Collecting pandocfilters>=1.4.1 (from nbconvert<8.0.0,>=7.11.0->pipreqs)\n",
      "  Using cached pandocfilters-1.5.1-py2.py3-none-any.whl.metadata (9.0 kB)\n",
      "Requirement already satisfied: webencodings in c:\\users\\ahmed\\anaconda3\\envs\\ml_env\\lib\\site-packages (from bleach!=5.0.0->bleach[css]!=5.0.0->nbconvert<8.0.0,>=7.11.0->pipreqs) (0.5.1)\n",
      "Collecting tinycss2<1.5,>=1.1.0 (from bleach[css]!=5.0.0->nbconvert<8.0.0,>=7.11.0->pipreqs)\n",
      "  Using cached tinycss2-1.4.0-py3-none-any.whl.metadata (3.0 kB)\n",
      "Requirement already satisfied: parso<0.9.0,>=0.8.3 in c:\\users\\ahmed\\appdata\\roaming\\python\\python310\\site-packages (from jedi>=0.16->ipython==8.12.3->pipreqs) (0.8.4)\n",
      "Requirement already satisfied: platformdirs>=2.5 in c:\\users\\ahmed\\appdata\\roaming\\python\\python310\\site-packages (from jupyter-core>=4.7->nbconvert<8.0.0,>=7.11.0->pipreqs) (4.2.2)\n",
      "Requirement already satisfied: pywin32>=300 in c:\\users\\ahmed\\appdata\\roaming\\python\\python310\\site-packages (from jupyter-core>=4.7->nbconvert<8.0.0,>=7.11.0->pipreqs) (306)\n",
      "Requirement already satisfied: typing-extensions in c:\\users\\ahmed\\appdata\\roaming\\python\\python310\\site-packages (from mistune<4,>=2.0.3->nbconvert<8.0.0,>=7.11.0->pipreqs) (4.11.0)\n",
      "Requirement already satisfied: jupyter-client>=6.1.12 in c:\\users\\ahmed\\appdata\\roaming\\python\\python310\\site-packages (from nbclient>=0.5.0->nbconvert<8.0.0,>=7.11.0->pipreqs) (8.6.2)\n",
      "Requirement already satisfied: fastjsonschema>=2.15 in c:\\users\\ahmed\\anaconda3\\envs\\ml_env\\lib\\site-packages (from nbformat>=5.7->nbconvert<8.0.0,>=7.11.0->pipreqs) (2.21.1)\n",
      "Requirement already satisfied: jsonschema>=2.6 in c:\\users\\ahmed\\anaconda3\\envs\\ml_env\\lib\\site-packages (from nbformat>=5.7->nbconvert<8.0.0,>=7.11.0->pipreqs) (4.23.0)\n",
      "Requirement already satisfied: wcwidth in c:\\users\\ahmed\\appdata\\roaming\\python\\python310\\site-packages (from prompt-toolkit!=3.0.37,<3.1.0,>=3.0.30->ipython==8.12.3->pipreqs) (0.2.13)\n",
      "Collecting soupsieve>1.2 (from beautifulsoup4->nbconvert<8.0.0,>=7.11.0->pipreqs)\n",
      "  Downloading soupsieve-2.7-py3-none-any.whl.metadata (4.6 kB)\n",
      "Requirement already satisfied: charset-normalizer<4,>=2 in c:\\users\\ahmed\\anaconda3\\envs\\ml_env\\lib\\site-packages (from requests->yarg==0.1.9->pipreqs) (3.4.1)\n",
      "Requirement already satisfied: idna<4,>=2.5 in c:\\users\\ahmed\\anaconda3\\envs\\ml_env\\lib\\site-packages (from requests->yarg==0.1.9->pipreqs) (3.10)\n",
      "Requirement already satisfied: urllib3<3,>=1.21.1 in c:\\users\\ahmed\\anaconda3\\envs\\ml_env\\lib\\site-packages (from requests->yarg==0.1.9->pipreqs) (2.4.0)\n",
      "Requirement already satisfied: certifi>=2017.4.17 in c:\\users\\ahmed\\anaconda3\\envs\\ml_env\\lib\\site-packages (from requests->yarg==0.1.9->pipreqs) (2025.1.31)\n",
      "Requirement already satisfied: executing>=1.2.0 in c:\\users\\ahmed\\appdata\\roaming\\python\\python310\\site-packages (from stack-data->ipython==8.12.3->pipreqs) (2.0.1)\n",
      "Requirement already satisfied: asttokens>=2.1.0 in c:\\users\\ahmed\\appdata\\roaming\\python\\python310\\site-packages (from stack-data->ipython==8.12.3->pipreqs) (2.4.1)\n",
      "Requirement already satisfied: pure-eval in c:\\users\\ahmed\\appdata\\roaming\\python\\python310\\site-packages (from stack-data->ipython==8.12.3->pipreqs) (0.2.2)\n",
      "Requirement already satisfied: six>=1.12.0 in c:\\users\\ahmed\\appdata\\roaming\\python\\python310\\site-packages (from asttokens>=2.1.0->stack-data->ipython==8.12.3->pipreqs) (1.16.0)\n",
      "Requirement already satisfied: attrs>=22.2.0 in c:\\users\\ahmed\\anaconda3\\envs\\ml_env\\lib\\site-packages (from jsonschema>=2.6->nbformat>=5.7->nbconvert<8.0.0,>=7.11.0->pipreqs) (25.3.0)\n",
      "Requirement already satisfied: jsonschema-specifications>=2023.03.6 in c:\\users\\ahmed\\anaconda3\\envs\\ml_env\\lib\\site-packages (from jsonschema>=2.6->nbformat>=5.7->nbconvert<8.0.0,>=7.11.0->pipreqs) (2024.10.1)\n",
      "Requirement already satisfied: referencing>=0.28.4 in c:\\users\\ahmed\\anaconda3\\envs\\ml_env\\lib\\site-packages (from jsonschema>=2.6->nbformat>=5.7->nbconvert<8.0.0,>=7.11.0->pipreqs) (0.36.2)\n",
      "Requirement already satisfied: rpds-py>=0.7.1 in c:\\users\\ahmed\\anaconda3\\envs\\ml_env\\lib\\site-packages (from jsonschema>=2.6->nbformat>=5.7->nbconvert<8.0.0,>=7.11.0->pipreqs) (0.24.0)\n",
      "Requirement already satisfied: python-dateutil>=2.8.2 in c:\\users\\ahmed\\appdata\\roaming\\python\\python310\\site-packages (from jupyter-client>=6.1.12->nbclient>=0.5.0->nbconvert<8.0.0,>=7.11.0->pipreqs) (2.9.0.post0)\n",
      "Requirement already satisfied: pyzmq>=23.0 in c:\\users\\ahmed\\appdata\\roaming\\python\\python310\\site-packages (from jupyter-client>=6.1.12->nbclient>=0.5.0->nbconvert<8.0.0,>=7.11.0->pipreqs) (26.0.3)\n",
      "Requirement already satisfied: tornado>=6.2 in c:\\users\\ahmed\\appdata\\roaming\\python\\python310\\site-packages (from jupyter-client>=6.1.12->nbclient>=0.5.0->nbconvert<8.0.0,>=7.11.0->pipreqs) (6.4)\n",
      "Downloading pipreqs-0.5.0-py3-none-any.whl (33 kB)\n",
      "Downloading ipython-8.12.3-py3-none-any.whl (798 kB)\n",
      "   ---------------------------------------- 0.0/798.3 kB ? eta -:--:--\n",
      "   ---------------------------------------- 0.0/798.3 kB ? eta -:--:--\n",
      "   ---------------------------------------- 0.0/798.3 kB ? eta -:--:--\n",
      "   ---------------------------------------- 0.0/798.3 kB ? eta -:--:--\n",
      "   ---------------------------------------- 0.0/798.3 kB ? eta -:--:--\n",
      "   ---------------------------------------- 0.0/798.3 kB ? eta -:--:--\n",
      "   ---------------------------------------- 0.0/798.3 kB ? eta -:--:--\n",
      "   ---------------------------------------- 0.0/798.3 kB ? eta -:--:--\n",
      "   ---------------------------------------- 0.0/798.3 kB ? eta -:--:--\n",
      "   ---------------------------------------- 0.0/798.3 kB ? eta -:--:--\n",
      "   ---------------------------------------- 0.0/798.3 kB ? eta -:--:--\n",
      "   ---------------------------------------- 0.0/798.3 kB ? eta -:--:--\n",
      "   ---------------------------------------- 0.0/798.3 kB ? eta -:--:--\n",
      "   ---------------------------------------- 0.0/798.3 kB ? eta -:--:--\n",
      "   ---------------------------------------- 0.0/798.3 kB ? eta -:--:--\n",
      "   ------------- -------------------------- 262.1/798.3 kB ? eta -:--:--\n",
      "   ------------- -------------------------- 262.1/798.3 kB ? eta -:--:--\n",
      "   ------------- -------------------------- 262.1/798.3 kB ? eta -:--:--\n",
      "   ------------- -------------------------- 262.1/798.3 kB ? eta -:--:--\n",
      "   ------------- -------------------------- 262.1/798.3 kB ? eta -:--:--\n",
      "   ------------- -------------------------- 262.1/798.3 kB ? eta -:--:--\n",
      "   ------------- -------------------------- 262.1/798.3 kB ? eta -:--:--\n",
      "   ------------- -------------------------- 262.1/798.3 kB ? eta -:--:--\n",
      "   ------------------------ ------------- 524.3/798.3 kB 172.9 kB/s eta 0:00:02\n",
      "   ------------------------ ------------- 524.3/798.3 kB 172.9 kB/s eta 0:00:02\n",
      "   ------------------------ ------------- 524.3/798.3 kB 172.9 kB/s eta 0:00:02\n",
      "   ------------------------ ------------- 524.3/798.3 kB 172.9 kB/s eta 0:00:02\n",
      "   -------------------------------------- 798.3/798.3 kB 215.8 kB/s eta 0:00:00\n",
      "Downloading yarg-0.1.9-py2.py3-none-any.whl (19 kB)\n",
      "Using cached nbconvert-7.16.6-py3-none-any.whl (258 kB)\n",
      "Using cached mistune-3.1.3-py3-none-any.whl (53 kB)\n",
      "Using cached nbclient-0.10.2-py3-none-any.whl (25 kB)\n",
      "Using cached pandocfilters-1.5.1-py2.py3-none-any.whl (8.7 kB)\n",
      "Downloading backcall-0.2.0-py2.py3-none-any.whl (11 kB)\n",
      "Using cached beautifulsoup4-4.13.4-py3-none-any.whl (187 kB)\n",
      "Using cached defusedxml-0.7.1-py2.py3-none-any.whl (25 kB)\n",
      "Using cached jupyterlab_pygments-0.3.0-py3-none-any.whl (15 kB)\n",
      "Downloading pickleshare-0.7.5-py2.py3-none-any.whl (6.9 kB)\n",
      "Downloading soupsieve-2.7-py3-none-any.whl (36 kB)\n",
      "Downloading tinycss2-1.4.0-py3-none-any.whl (26 kB)\n",
      "Building wheels for collected packages: docopt\n",
      "  Building wheel for docopt (setup.py): started\n",
      "  Building wheel for docopt (setup.py): finished with status 'done'\n",
      "  Created wheel for docopt: filename=docopt-0.6.2-py2.py3-none-any.whl size=13822 sha256=34b970cfd2e2223d1e74a55ff051935a79e64b1df25a1d6795c6e5835de93b81\n",
      "  Stored in directory: c:\\users\\ahmed\\appdata\\local\\pip\\cache\\wheels\\fc\\ab\\d4\\5da2067ac95b36618c629a5f93f809425700506f72c9732fac\n",
      "Successfully built docopt\n",
      "Installing collected packages: pickleshare, docopt, backcall, tinycss2, soupsieve, pandocfilters, mistune, jupyterlab-pygments, defusedxml, yarg, beautifulsoup4, ipython, nbclient, nbconvert, pipreqs\n",
      "  Attempting uninstall: ipython\n",
      "    Found existing installation: ipython 8.27.0\n",
      "    Uninstalling ipython-8.27.0:\n",
      "      Successfully uninstalled ipython-8.27.0\n",
      "Successfully installed backcall-0.2.0 beautifulsoup4-4.13.4 defusedxml-0.7.1 docopt-0.6.2 ipython-8.12.3 jupyterlab-pygments-0.3.0 mistune-3.1.3 nbclient-0.10.2 nbconvert-7.16.6 pandocfilters-1.5.1 pickleshare-0.7.5 pipreqs-0.5.0 soupsieve-2.7 tinycss2-1.4.0 yarg-0.1.9\n"
     ]
    }
   ],
   "source": [
    "#! pip install pipreqs"
   ]
  },
  {
   "cell_type": "code",
   "execution_count": 99,
   "id": "c6e5831e",
   "metadata": {},
   "outputs": [
    {
     "name": "stderr",
     "output_type": "stream",
     "text": [
      "INFO: Not scanning for jupyter notebooks.\n",
      "WARNING: Import named \"pandas\" not found locally. Trying to resolve it at the PyPI server.\n",
      "WARNING: Import named \"pandas\" was resolved to \"pandas:2.2.3\" package (https://pypi.org/project/pandas/).\n",
      "Please, verify manually the final list of requirements.txt to avoid possible dependency confusions.\n",
      "INFO: Successfully saved requirements file in ./requirements.txt\n"
     ]
    }
   ],
   "source": [
    "! pipreqs ./"
   ]
  },
  {
   "cell_type": "code",
   "execution_count": null,
   "id": "1cf1328b",
   "metadata": {},
   "outputs": [],
   "source": []
  }
 ],
 "metadata": {
  "kernelspec": {
   "display_name": "Python 3",
   "language": "python",
   "name": "python3"
  },
  "language_info": {
   "codemirror_mode": {
    "name": "ipython",
    "version": 3
   },
   "file_extension": ".py",
   "mimetype": "text/x-python",
   "name": "python",
   "nbconvert_exporter": "python",
   "pygments_lexer": "ipython3",
   "version": "3.10.16"
  }
 },
 "nbformat": 4,
 "nbformat_minor": 5
}
